{
 "cells": [
  {
   "cell_type": "code",
   "execution_count": null,
   "id": "26774a42",
   "metadata": {
    "execution": {
     "iopub.execute_input": "2021-12-12T09:55:27.094604Z",
     "iopub.status.busy": "2021-12-12T09:55:27.092288Z",
     "iopub.status.idle": "2021-12-12T09:55:34.300954Z",
     "shell.execute_reply": "2021-12-12T09:55:34.300262Z",
     "shell.execute_reply.started": "2021-12-10T12:05:41.897746Z"
    },
    "papermill": {
     "duration": 7.296747,
     "end_time": "2021-12-12T09:55:34.301138",
     "exception": false,
     "start_time": "2021-12-12T09:55:27.004391",
     "status": "completed"
    },
    "tags": []
   },
   "outputs": [],
   "source": [
    "#Importing the python libraries \n",
    "import numpy as np \n",
    "import pandas as pd \n",
    "import matplotlib.pyplot as plt \n",
    "import tensorflow as tf \n",
    "import sklearn as sk \n",
    "import os \n",
    "import cv2\n",
    "import albumentations as A\n",
    "from PIL import Image \n",
    "from tensorflow import keras \n",
    "from sklearn.model_selection import train_test_split\n",
    "from sklearn.metrics import confusion_matrix \n",
    "\n",
    "#Setting the training and testing paths to extract the files \n",
    "training_path = \"/kaggle/input/sp-society-camera-model-identification/train/train/\"\n",
    "testing_path = \"/kaggle/input/sp-society-camera-model-identification/test/test/\"\n",
    "_,training_classes,_=next(os.walk(training_path))\n",
    "#print(training_classes)\n"
   ]
  },
  {
   "cell_type": "code",
   "execution_count": null,
   "id": "42bf11ad",
   "metadata": {
    "execution": {
     "iopub.execute_input": "2021-12-12T09:55:34.371137Z",
     "iopub.status.busy": "2021-12-12T09:55:34.370357Z",
     "iopub.status.idle": "2021-12-12T09:55:34.374536Z",
     "shell.execute_reply": "2021-12-12T09:55:34.373904Z",
     "shell.execute_reply.started": "2021-12-10T12:05:47.774013Z"
    },
    "papermill": {
     "duration": 0.040763,
     "end_time": "2021-12-12T09:55:34.374680",
     "exception": false,
     "start_time": "2021-12-12T09:55:34.333917",
     "status": "completed"
    },
    "tags": []
   },
   "outputs": [],
   "source": [
    "#Setting the hyperparameters for the deep learning model\n",
    "batch_size = 8\n",
    "epochs = 15\n",
    "learning_rate = 1e-4"
   ]
  },
  {
   "cell_type": "code",
   "execution_count": null,
   "id": "e56741ff",
   "metadata": {
    "execution": {
     "iopub.execute_input": "2021-12-12T09:55:34.437375Z",
     "iopub.status.busy": "2021-12-12T09:55:34.436722Z",
     "iopub.status.idle": "2021-12-12T09:55:37.440680Z",
     "shell.execute_reply": "2021-12-12T09:55:37.439249Z",
     "shell.execute_reply.started": "2021-12-10T12:05:47.779504Z"
    },
    "papermill": {
     "duration": 3.036506,
     "end_time": "2021-12-12T09:55:37.440905",
     "exception": false,
     "start_time": "2021-12-12T09:55:34.404399",
     "status": "completed"
    },
    "tags": []
   },
   "outputs": [],
   "source": [
    "#testing_files \n",
    "_,_,testing_files = next(os.walk(testing_path))\n"
   ]
  },
  {
   "cell_type": "code",
   "execution_count": null,
   "id": "be9ef771",
   "metadata": {
    "execution": {
     "iopub.execute_input": "2021-12-12T09:55:37.509459Z",
     "iopub.status.busy": "2021-12-12T09:55:37.508729Z",
     "iopub.status.idle": "2021-12-12T09:55:38.362081Z",
     "shell.execute_reply": "2021-12-12T09:55:38.361095Z",
     "shell.execute_reply.started": "2021-12-10T12:05:50.574331Z"
    },
    "papermill": {
     "duration": 0.8904,
     "end_time": "2021-12-12T09:55:38.362321",
     "exception": false,
     "start_time": "2021-12-12T09:55:37.471921",
     "status": "completed"
    },
    "tags": []
   },
   "outputs": [],
   "source": [
    "#Creating the training dataset by iterating over the directory \n",
    "#Appending the training paths to the list and extracting the classes from the directory\n",
    "training_paths = [] \n",
    "labels = [] \n",
    "for i in training_classes:\n",
    "    _,_,filenames = next(os.walk(training_path+i))\n",
    "    for j in filenames:\n",
    "        training_paths.append(training_path+i+'/'+j)\n",
    "        labels.append(i)"
   ]
  },
  {
   "cell_type": "code",
   "execution_count": null,
   "id": "c15d2bfc",
   "metadata": {
    "execution": {
     "iopub.execute_input": "2021-12-12T09:55:38.477528Z",
     "iopub.status.busy": "2021-12-12T09:55:38.476285Z",
     "iopub.status.idle": "2021-12-12T09:55:38.479698Z",
     "shell.execute_reply": "2021-12-12T09:55:38.480433Z",
     "shell.execute_reply.started": "2021-12-10T12:05:51.437326Z"
    },
    "papermill": {
     "duration": 0.063783,
     "end_time": "2021-12-12T09:55:38.480675",
     "exception": false,
     "start_time": "2021-12-12T09:55:38.416892",
     "status": "completed"
    },
    "tags": []
   },
   "outputs": [],
   "source": [
    "#Ensure that the training size and the class labels are the same\n",
    "assert len(training_paths)==len(labels)"
   ]
  },
  {
   "cell_type": "code",
   "execution_count": null,
   "id": "1df23462",
   "metadata": {
    "execution": {
     "iopub.execute_input": "2021-12-12T09:55:38.570114Z",
     "iopub.status.busy": "2021-12-12T09:55:38.568986Z",
     "iopub.status.idle": "2021-12-12T09:55:38.571756Z",
     "shell.execute_reply": "2021-12-12T09:55:38.572243Z",
     "shell.execute_reply.started": "2021-12-10T12:05:51.445396Z"
    },
    "papermill": {
     "duration": 0.037673,
     "end_time": "2021-12-12T09:55:38.572418",
     "exception": false,
     "start_time": "2021-12-12T09:55:38.534745",
     "status": "completed"
    },
    "tags": []
   },
   "outputs": [],
   "source": [
    "#Setting the random seed to 33 for reproducible results\n",
    "seed = 33"
   ]
  },
  {
   "cell_type": "code",
   "execution_count": null,
   "id": "f926d0d0",
   "metadata": {
    "execution": {
     "iopub.execute_input": "2021-12-12T09:55:38.635918Z",
     "iopub.status.busy": "2021-12-12T09:55:38.634866Z",
     "iopub.status.idle": "2021-12-12T09:55:38.660134Z",
     "shell.execute_reply": "2021-12-12T09:55:38.659641Z",
     "shell.execute_reply.started": "2021-12-10T12:05:51.454005Z"
    },
    "papermill": {
     "duration": 0.058021,
     "end_time": "2021-12-12T09:55:38.660265",
     "exception": false,
     "start_time": "2021-12-12T09:55:38.602244",
     "status": "completed"
    },
    "tags": []
   },
   "outputs": [],
   "source": [
    "#Moving the training paths to an pandas DataFrame for easy indexing and one-hot encoding the class labels\n",
    "training_data = pd.DataFrame(training_paths,columns=['Training Image Path'])\n",
    "classes = pd.DataFrame(labels)\n",
    "classes = pd.get_dummies(classes)\n",
    "classes.columns=np.unique(labels)# One Hot Encode the class variables"
   ]
  },
  {
   "cell_type": "code",
   "execution_count": null,
   "id": "846cae20",
   "metadata": {
    "execution": {
     "iopub.execute_input": "2021-12-12T09:55:38.727784Z",
     "iopub.status.busy": "2021-12-12T09:55:38.726623Z",
     "iopub.status.idle": "2021-12-12T09:55:38.739899Z",
     "shell.execute_reply": "2021-12-12T09:55:38.740451Z",
     "shell.execute_reply.started": "2021-12-10T12:05:51.481932Z"
    },
    "papermill": {
     "duration": 0.050821,
     "end_time": "2021-12-12T09:55:38.740652",
     "exception": false,
     "start_time": "2021-12-12T09:55:38.689831",
     "status": "completed"
    },
    "tags": []
   },
   "outputs": [],
   "source": [
    "#print the training data\n",
    "training_data"
   ]
  },
  {
   "cell_type": "code",
   "execution_count": null,
   "id": "1b0cbfb9",
   "metadata": {
    "execution": {
     "iopub.execute_input": "2021-12-12T09:55:38.807038Z",
     "iopub.status.busy": "2021-12-12T09:55:38.805861Z",
     "iopub.status.idle": "2021-12-12T09:55:38.818707Z",
     "shell.execute_reply": "2021-12-12T09:55:38.819215Z",
     "shell.execute_reply.started": "2021-12-10T12:05:51.501389Z"
    },
    "papermill": {
     "duration": 0.047337,
     "end_time": "2021-12-12T09:55:38.819366",
     "exception": false,
     "start_time": "2021-12-12T09:55:38.772029",
     "status": "completed"
    },
    "tags": []
   },
   "outputs": [],
   "source": [
    "#printing the one-hot encoded class variable\n",
    "classes.head()"
   ]
  },
  {
   "cell_type": "code",
   "execution_count": null,
   "id": "30649f26",
   "metadata": {
    "execution": {
     "iopub.execute_input": "2021-12-12T09:55:38.889027Z",
     "iopub.status.busy": "2021-12-12T09:55:38.888063Z",
     "iopub.status.idle": "2021-12-12T09:55:38.891709Z",
     "shell.execute_reply": "2021-12-12T09:55:38.891045Z",
     "shell.execute_reply.started": "2021-12-10T12:05:51.518265Z"
    },
    "papermill": {
     "duration": 0.04092,
     "end_time": "2021-12-12T09:55:38.891883",
     "exception": false,
     "start_time": "2021-12-12T09:55:38.850963",
     "status": "completed"
    },
    "tags": []
   },
   "outputs": [],
   "source": [
    "#Creating the class dictionary for converting the one-hot encoded variables\n",
    "classes_dict = {'0':'HTC-1-M7',\n",
    "                '1':'LG-Nexus-5x',\n",
    "                '2':'Motorola-Droid-Maxx',\n",
    "                '3':'Motorola-Nexus-6',\n",
    "                '4':'Motorola-X',\n",
    "                '5':'Samsung-Galaxy-Note3',\n",
    "                '6':'Samsung-Galaxy-S4',\n",
    "                '7':'Sony-NEX-7',\n",
    "                '8':'iPhone-4s',\n",
    "                '9':'iPhone-6'}"
   ]
  },
  {
   "cell_type": "code",
   "execution_count": null,
   "id": "4b13ad10",
   "metadata": {
    "execution": {
     "iopub.execute_input": "2021-12-12T09:55:38.964830Z",
     "iopub.status.busy": "2021-12-12T09:55:38.963696Z",
     "iopub.status.idle": "2021-12-12T09:55:38.973105Z",
     "shell.execute_reply": "2021-12-12T09:55:38.973633Z",
     "shell.execute_reply.started": "2021-12-10T12:05:51.524766Z"
    },
    "papermill": {
     "duration": 0.049458,
     "end_time": "2021-12-12T09:55:38.973802",
     "exception": false,
     "start_time": "2021-12-12T09:55:38.924344",
     "status": "completed"
    },
    "tags": []
   },
   "outputs": [],
   "source": [
    "#Creating the testing DataFrame for easy indexing\n",
    "testing_data = pd.DataFrame(testing_files,columns=['Testing Image Path'])\n",
    "testing_data"
   ]
  },
  {
   "cell_type": "code",
   "execution_count": null,
   "id": "885b1808",
   "metadata": {
    "execution": {
     "iopub.execute_input": "2021-12-12T09:55:39.043070Z",
     "iopub.status.busy": "2021-12-12T09:55:39.041987Z",
     "iopub.status.idle": "2021-12-12T09:55:39.048343Z",
     "shell.execute_reply": "2021-12-12T09:55:39.047787Z",
     "shell.execute_reply.started": "2021-12-10T12:05:51.539601Z"
    },
    "papermill": {
     "duration": 0.041972,
     "end_time": "2021-12-12T09:55:39.048512",
     "exception": false,
     "start_time": "2021-12-12T09:55:39.006540",
     "status": "completed"
    },
    "tags": []
   },
   "outputs": [],
   "source": [
    "#Reading images form the disk to memory and converting from BGR to RGB\n",
    "def read_img(path):\n",
    "    temp = cv2.imread(path)\n",
    "    temp = cv2.cvtColor(temp, cv2.COLOR_BGR2RGB)\n",
    "    return np.array(temp)"
   ]
  },
  {
   "cell_type": "code",
   "execution_count": null,
   "id": "952ea751",
   "metadata": {
    "execution": {
     "iopub.execute_input": "2021-12-12T09:55:39.122002Z",
     "iopub.status.busy": "2021-12-12T09:55:39.121130Z",
     "iopub.status.idle": "2021-12-12T09:55:39.128406Z",
     "shell.execute_reply": "2021-12-12T09:55:39.128990Z",
     "shell.execute_reply.started": "2021-12-10T12:15:57.159904Z"
    },
    "papermill": {
     "duration": 0.04692,
     "end_time": "2021-12-12T09:55:39.129150",
     "exception": false,
     "start_time": "2021-12-12T09:55:39.082230",
     "status": "completed"
    },
    "tags": []
   },
   "outputs": [],
   "source": [
    "#Defining the training and testing augmentations\n",
    "length = 256\n",
    "training_transforms = A.Compose([A.RandomCrop(height=length,width=length),\n",
    "                                A.RandomGamma(gamma_limit=(80,120),p=0.9),\n",
    "                                A.JpegCompression(quality_lower=70,quality_upper=90,p=0.9),\n",
    "                                A.GridDistortion(interpolation=cv2.INTER_CUBIC)])\n",
    "    \n",
    "\n",
    "                                \n",
    "testing_augmentation = A.Compose([\n",
    "                                  A.CenterCrop(height=length,width=length)])"
   ]
  },
  {
   "cell_type": "code",
   "execution_count": null,
   "id": "51b53d50",
   "metadata": {
    "execution": {
     "iopub.execute_input": "2021-12-12T09:55:39.206646Z",
     "iopub.status.busy": "2021-12-12T09:55:39.195681Z",
     "iopub.status.idle": "2021-12-12T09:55:40.184966Z",
     "shell.execute_reply": "2021-12-12T09:55:40.185558Z",
     "shell.execute_reply.started": "2021-12-10T12:25:03.678005Z"
    },
    "papermill": {
     "duration": 1.024898,
     "end_time": "2021-12-12T09:55:40.185771",
     "exception": false,
     "start_time": "2021-12-12T09:55:39.160873",
     "status": "completed"
    },
    "tags": []
   },
   "outputs": [],
   "source": [
    "#Creating a custom keras dataset that creates mini-batch arrays to feed to the neural network\n",
    "#The function returns three images at once since there are 3 inputs inside the neural network\n",
    "class Dataset(keras.utils.Sequence):\n",
    "    def __init__(self,x,y,batch_size,augmentations,test):\n",
    "        self.x = x\n",
    "        self.y = y\n",
    "        self.batch_size = batch_size\n",
    "        self.augmentations = augmentations \n",
    "        self.test = test \n",
    "    def __len__(self):\n",
    "        return int(len(self.x)/self.batch_size)\n",
    "    def __getitem__(self,index):\n",
    "        batched_x = self.x.iloc[index*self.batch_size:(index+1)*self.batch_size].to_numpy()\n",
    "        if(self.test):\n",
    "            images = [(self.augmentations(image=read_img(i))['image']) for i in batched_x]\n",
    "            \n",
    "        else:\n",
    "            batched_y = self.y.iloc[index*self.batch_size : (index+1)*self.batch_size,:]\n",
    "            images_1 = [(self.augmentations(image=read_img(i[0]))['image']) for i in batched_x]\n",
    "            images_2 = [(self.augmentations(image=read_img(i[0]))['image']) for i in batched_x]\n",
    "            images_3 = [(self.augmentations(image=read_img(i[0]))['image']) for i in batched_x]\n",
    "        return [np.array(images),np.array(images),np.array(images)] if self.test else ([np.array(images_1),np.array(images_2),np.array(images_3)],[np.array(batched_y.values),np.array(batched_y.values),np.array(batched_y.values)])"
   ]
  },
  {
   "cell_type": "code",
   "execution_count": null,
   "id": "729d154c",
   "metadata": {
    "execution": {
     "iopub.execute_input": "2021-12-12T09:55:40.258063Z",
     "iopub.status.busy": "2021-12-12T09:55:40.256960Z",
     "iopub.status.idle": "2021-12-12T09:55:40.260306Z",
     "shell.execute_reply": "2021-12-12T09:55:40.259691Z",
     "shell.execute_reply.started": "2021-12-10T12:15:57.185221Z"
    },
    "papermill": {
     "duration": 0.04096,
     "end_time": "2021-12-12T09:55:40.260467",
     "exception": false,
     "start_time": "2021-12-12T09:55:40.219507",
     "status": "completed"
    },
    "tags": []
   },
   "outputs": [],
   "source": [
    "#Creating a dummy datast to test the functionality\n",
    "dummy_dataset = Dataset(training_data,classes,batch_size=batch_size,augmentations=training_transforms,test=False)"
   ]
  },
  {
   "cell_type": "code",
   "execution_count": null,
   "id": "af5f5905",
   "metadata": {
    "execution": {
     "iopub.execute_input": "2021-12-12T09:55:40.331868Z",
     "iopub.status.busy": "2021-12-12T09:55:40.331060Z",
     "iopub.status.idle": "2021-12-12T09:55:45.990029Z",
     "shell.execute_reply": "2021-12-12T09:55:45.990640Z",
     "shell.execute_reply.started": "2021-12-10T12:15:57.196402Z"
    },
    "papermill": {
     "duration": 5.698455,
     "end_time": "2021-12-12T09:55:45.990898",
     "exception": false,
     "start_time": "2021-12-12T09:55:40.292443",
     "status": "completed"
    },
    "tags": []
   },
   "outputs": [],
   "source": [
    "#Calling the dummy dataset to check the functionality \n",
    "(a,b)=dummy_dataset.__getitem__(6)\n",
    "print(a[0][0])\n",
    "#print(a.shape)\n",
    "print(b)\n",
    "#print(b.shape)\n",
    "#print(type(b))\n",
    "plt.imshow(a[0][0])\n",
    "\n",
    "losses  = keras.losses.CategoricalCrossentropy(label_smoothing=0.1)"
   ]
  },
  {
   "cell_type": "code",
   "execution_count": null,
   "id": "874f75f2",
   "metadata": {
    "execution": {
     "iopub.execute_input": "2021-12-12T09:55:46.081928Z",
     "iopub.status.busy": "2021-12-12T09:55:46.080914Z",
     "iopub.status.idle": "2021-12-12T09:55:56.230283Z",
     "shell.execute_reply": "2021-12-12T09:55:56.229738Z",
     "shell.execute_reply.started": "2021-12-10T12:16:01.468614Z"
    },
    "papermill": {
     "duration": 10.201911,
     "end_time": "2021-12-12T09:55:56.230473",
     "exception": false,
     "start_time": "2021-12-12T09:55:46.028562",
     "status": "completed"
    },
    "tags": []
   },
   "outputs": [],
   "source": [
    "#Creating an ensemble learning model where the pre-trained model is kept outside and each input calls the pretrained model\n",
    "#for feature extraction\n",
    "\n",
    "\n",
    "base_model = tf.keras.applications.EfficientNetB4(weights='imagenet', include_top=False, input_shape=[length, length, 3])\n",
    "base_model.trainable = False\n",
    "\n",
    "def frozen_model():\n",
    "    inputs  = keras.layers.Input(shape=(length,length,3))\n",
    "    x = keras.applications.efficientnet.preprocess_input(inputs)\n",
    "    x = base_model(x, training=False)\n",
    "    x = keras.layers.BatchNormalization()(x)\n",
    "    output = keras.layers.GlobalAveragePooling2D()(x)\n",
    "    return keras.Model(inputs=inputs,outputs=output)\n",
    "def keras_model(length,input_size,output_classes):\n",
    "        p=0.3\n",
    "       \n",
    "        input1 =keras.layers.Input(shape=(length,length,3))\n",
    "        input2 = keras.layers.Input(shape=(length,length,3))\n",
    "        input3 = keras.layers.Input(shape=(length,length,3))\n",
    "        frozen_model_1 = frozen_model()\n",
    "        \n",
    "        gl0 = frozen_model_1(input1)\n",
    "        x = keras.layers.Dense(1024,activation='relu')(gl0)\n",
    "        x = keras.layers.Dense(256,activation='relu')(x)\n",
    "        x = keras.layers.Dense(64,activation='relu')(x)\n",
    "        output0 = keras.layers.Dense(10, activation='softmax')(x)\n",
    "        gl1 = frozen_model_1(input2)\n",
    "        x1 = keras.layers.Dense(1024,activation='relu')(gl1)\n",
    "        x1 = keras.layers.Dense(256,activation='relu')(x1)\n",
    "        x1 = keras.layers.Dense(64,activation='relu')(x1)\n",
    "        output1 = keras.layers.Dense(10, activation='softmax')(x1)\n",
    "        gl2 = frozen_model_1(input3)\n",
    "        x2 = keras.layers.Dense(1024,activation='relu')(gl2)\n",
    "        x2 = keras.layers.Dense(256,activation='relu')(x2)\n",
    "        x2 = keras.layers.Dense(64,activation='relu')(x2)\n",
    "        output2 = keras.layers.Dense(10, activation='softmax')(x2)\n",
    "        model =keras.Model(inputs=[input1,input2,input3], outputs=[output0,output1,output2])\n",
    "\n",
    "        model.compile(optimizer=tf.keras.optimizers.Adam(lr=learning_rate), loss=[losses,losses,losses], metrics=['accuracy'])\n",
    "\n",
    "        model.summary() \n",
    "        return model"
   ]
  },
  {
   "cell_type": "code",
   "execution_count": null,
   "id": "e89be704",
   "metadata": {
    "execution": {
     "iopub.execute_input": "2021-12-12T09:55:56.324020Z",
     "iopub.status.busy": "2021-12-12T09:55:56.322992Z",
     "iopub.status.idle": "2021-12-12T09:56:02.790516Z",
     "shell.execute_reply": "2021-12-12T09:56:02.791325Z",
     "shell.execute_reply.started": "2021-12-10T12:16:04.591221Z"
    },
    "papermill": {
     "duration": 6.520398,
     "end_time": "2021-12-12T09:56:02.791688",
     "exception": false,
     "start_time": "2021-12-12T09:55:56.271290",
     "status": "completed"
    },
    "tags": []
   },
   "outputs": [],
   "source": [
    "#Instantiating the keras model\n",
    "training_model = keras_model(length,length*length*3,10)"
   ]
  },
  {
   "cell_type": "code",
   "execution_count": null,
   "id": "80cd06a7",
   "metadata": {
    "execution": {
     "iopub.execute_input": "2021-12-12T09:56:02.903434Z",
     "iopub.status.busy": "2021-12-12T09:56:02.890568Z",
     "iopub.status.idle": "2021-12-12T09:56:02.932809Z",
     "shell.execute_reply": "2021-12-12T09:56:02.932103Z",
     "shell.execute_reply.started": "2021-12-10T12:17:01.56834Z"
    },
    "papermill": {
     "duration": 0.097119,
     "end_time": "2021-12-12T09:56:02.932965",
     "exception": false,
     "start_time": "2021-12-12T09:56:02.835846",
     "status": "completed"
    },
    "tags": []
   },
   "outputs": [],
   "source": [
    "training_model.summary()"
   ]
  },
  {
   "cell_type": "code",
   "execution_count": null,
   "id": "6cbdc046",
   "metadata": {
    "execution": {
     "iopub.execute_input": "2021-12-12T09:56:03.032965Z",
     "iopub.status.busy": "2021-12-12T09:56:03.030760Z",
     "iopub.status.idle": "2021-12-12T09:56:03.037447Z",
     "shell.execute_reply": "2021-12-12T09:56:03.036873Z",
     "shell.execute_reply.started": "2021-12-10T12:17:01.605004Z"
    },
    "papermill": {
     "duration": 0.060885,
     "end_time": "2021-12-12T09:56:03.037614",
     "exception": false,
     "start_time": "2021-12-12T09:56:02.976729",
     "status": "completed"
    },
    "tags": []
   },
   "outputs": [],
   "source": [
    "# Splitting the training dataset into a training and validation dataset with the validation split  = 0.1 and setting the Shuffle=True\n",
    "xtrain,xval,ytrain,yval = train_test_split(training_data,classes,test_size=0.1,shuffle=True,random_state=seed)"
   ]
  },
  {
   "cell_type": "code",
   "execution_count": null,
   "id": "72312893",
   "metadata": {
    "execution": {
     "iopub.execute_input": "2021-12-12T09:56:03.132874Z",
     "iopub.status.busy": "2021-12-12T09:56:03.131883Z",
     "iopub.status.idle": "2021-12-12T09:56:03.137021Z",
     "shell.execute_reply": "2021-12-12T09:56:03.136469Z",
     "shell.execute_reply.started": "2021-12-10T12:17:01.6145Z"
    },
    "papermill": {
     "duration": 0.055324,
     "end_time": "2021-12-12T09:56:03.137187",
     "exception": false,
     "start_time": "2021-12-12T09:56:03.081863",
     "status": "completed"
    },
    "tags": []
   },
   "outputs": [],
   "source": [
    "#Printing the size of each array to check that the sizes match\n",
    "print(len(xtrain),len(xval))\n",
    "print(len(ytrain),len(yval))"
   ]
  },
  {
   "cell_type": "code",
   "execution_count": null,
   "id": "6a281f9b",
   "metadata": {
    "execution": {
     "iopub.execute_input": "2021-12-12T09:56:03.233461Z",
     "iopub.status.busy": "2021-12-12T09:56:03.232546Z",
     "iopub.status.idle": "2021-12-12T09:56:03.236443Z",
     "shell.execute_reply": "2021-12-12T09:56:03.237327Z",
     "shell.execute_reply.started": "2021-12-10T12:17:01.637946Z"
    },
    "papermill": {
     "duration": 0.055939,
     "end_time": "2021-12-12T09:56:03.237615",
     "exception": false,
     "start_time": "2021-12-12T09:56:03.181676",
     "status": "completed"
    },
    "tags": []
   },
   "outputs": [],
   "source": [
    "#Pushing the arrays into a custom keras dataset to feed to the neural networ\n",
    "training_dataset = Dataset(xtrain,ytrain,batch_size=batch_size,augmentations=training_transforms,test=False)\n",
    "validation_dataset = Dataset(xval,yval,batch_size=1,augmentations=training_transforms,test=False)\n",
    "\n",
    "print(len(training_dataset))\n",
    "print(len(validation_dataset))"
   ]
  },
  {
   "cell_type": "code",
   "execution_count": null,
   "id": "6ca38d5e",
   "metadata": {
    "execution": {
     "iopub.execute_input": "2021-12-12T09:56:03.336601Z",
     "iopub.status.busy": "2021-12-12T09:56:03.335613Z",
     "iopub.status.idle": "2021-12-12T09:56:03.339009Z",
     "shell.execute_reply": "2021-12-12T09:56:03.338462Z",
     "shell.execute_reply.started": "2021-12-10T12:17:01.646214Z"
    },
    "papermill": {
     "duration": 0.055154,
     "end_time": "2021-12-12T09:56:03.339151",
     "exception": false,
     "start_time": "2021-12-12T09:56:03.283997",
     "status": "completed"
    },
    "tags": []
   },
   "outputs": [],
   "source": [
    "#Creating a list of callbacks to add to the training model \n",
    "\n",
    "model_file = \"output/base_model_weights.hd5\" # defining the output path to save the model file\n",
    "\n",
    "checkpoint = tf.keras.callbacks.ModelCheckpoint(model_file, monitor=\"val_accuracy\", save_best_only=True, mode='max') # Save the model which has the best validation acc\n",
    "\n",
    "reduce_lr = tf.keras.callbacks.ReduceLROnPlateau(monitor=\"val_accuracy\", factor=0.9, patience=2, min_lr=1e-6, mode=\"max\", verbose=True) # reduce Lr if the validation acc does not increase\n",
    "\n",
    "early_stopping = tf.keras.callbacks.EarlyStopping(monitor=\"val_accuracy\", patience=5, mode=\"max\", verbose=True) # Stop the training if the val acc does not improve\n",
    "\n",
    "callbacks_list = [checkpoint, reduce_lr, early_stopping] # Call all of the instantiated callbacks into one variable\n"
   ]
  },
  {
   "cell_type": "code",
   "execution_count": null,
   "id": "73174518",
   "metadata": {
    "execution": {
     "iopub.execute_input": "2021-12-12T09:56:03.438722Z",
     "iopub.status.busy": "2021-12-12T09:56:03.437707Z",
     "iopub.status.idle": "2021-12-12T18:17:41.771651Z",
     "shell.execute_reply": "2021-12-12T18:17:41.772489Z",
     "shell.execute_reply.started": "2021-12-10T12:17:01.656575Z"
    },
    "papermill": {
     "duration": 30098.391598,
     "end_time": "2021-12-12T18:17:41.775457",
     "exception": false,
     "start_time": "2021-12-12T09:56:03.383859",
     "status": "completed"
    },
    "tags": []
   },
   "outputs": [],
   "source": [
    "#training the model \n",
    "training_model.fit(training_dataset,validation_data=validation_dataset,epochs=epochs,batch_size=batch_size,callbacks=callbacks_list,verbose=1)\n"
   ]
  },
  {
   "cell_type": "code",
   "execution_count": null,
   "id": "de46fd06",
   "metadata": {
    "execution": {
     "iopub.execute_input": "2021-12-12T18:17:45.034704Z",
     "iopub.status.busy": "2021-12-12T18:17:45.033943Z",
     "iopub.status.idle": "2021-12-12T18:17:45.104023Z",
     "shell.execute_reply": "2021-12-12T18:17:45.103532Z",
     "shell.execute_reply.started": "2021-12-10T12:20:50.328738Z"
    },
    "papermill": {
     "duration": 1.719892,
     "end_time": "2021-12-12T18:17:45.104164",
     "exception": false,
     "start_time": "2021-12-12T18:17:43.384272",
     "status": "completed"
    },
    "tags": []
   },
   "outputs": [],
   "source": [
    "#Reading the submission file from the directory \n",
    "sample_submission = pd.read_csv('/kaggle/input/sp-society-camera-model-identification/sample_submission.csv')\n",
    "sample_submission.head() #Printing the top few rows from the submission file"
   ]
  },
  {
   "cell_type": "code",
   "execution_count": null,
   "id": "6d8d6f11",
   "metadata": {
    "execution": {
     "iopub.execute_input": "2021-12-12T18:17:49.469158Z",
     "iopub.status.busy": "2021-12-12T18:17:49.468220Z",
     "iopub.status.idle": "2021-12-12T18:17:49.472455Z",
     "shell.execute_reply": "2021-12-12T18:17:49.473148Z",
     "shell.execute_reply.started": "2021-12-10T12:25:15.056753Z"
    },
    "papermill": {
     "duration": 2.70904,
     "end_time": "2021-12-12T18:17:49.473322",
     "exception": false,
     "start_time": "2021-12-12T18:17:46.764282",
     "status": "completed"
    },
    "tags": []
   },
   "outputs": [],
   "source": [
    "#Creating the testing dataset\n",
    "x_test = testing_path+sample_submission['fname']\n",
    "print(x_test[0])\n",
    "\n",
    "x_test = Dataset(x_test,x_test,test=True,batch_size=1,augmentations=testing_augmentation)"
   ]
  },
  {
   "cell_type": "code",
   "execution_count": null,
   "id": "14035918",
   "metadata": {
    "execution": {
     "iopub.execute_input": "2021-12-12T18:17:52.683476Z",
     "iopub.status.busy": "2021-12-12T18:17:52.682783Z",
     "iopub.status.idle": "2021-12-12T18:21:23.531301Z",
     "shell.execute_reply": "2021-12-12T18:21:23.532422Z",
     "shell.execute_reply.started": "2021-12-10T12:20:55.457322Z"
    },
    "papermill": {
     "duration": 212.475324,
     "end_time": "2021-12-12T18:21:23.532687",
     "exception": false,
     "start_time": "2021-12-12T18:17:51.057363",
     "status": "completed"
    },
    "tags": []
   },
   "outputs": [],
   "source": [
    "#generating predictions for the validation dataset\n",
    "val_predicted = training_model.predict(validation_dataset,verbose=1)"
   ]
  },
  {
   "cell_type": "code",
   "execution_count": null,
   "id": "eaba635a",
   "metadata": {
    "execution": {
     "iopub.execute_input": "2021-12-12T18:21:27.206429Z",
     "iopub.status.busy": "2021-12-12T18:21:27.205230Z",
     "iopub.status.idle": "2021-12-12T18:25:39.573924Z",
     "shell.execute_reply": "2021-12-12T18:25:39.573257Z",
     "shell.execute_reply.started": "2021-12-10T12:25:22.898393Z"
    },
    "papermill": {
     "duration": 254.312123,
     "end_time": "2021-12-12T18:25:39.574089",
     "exception": false,
     "start_time": "2021-12-12T18:21:25.261966",
     "status": "completed"
    },
    "tags": []
   },
   "outputs": [],
   "source": [
    "# generating predictions for the testing dataset\n",
    "predicted = training_model.predict(x_test,verbose=1)\n",
    "\n",
    "print(predicted)"
   ]
  },
  {
   "cell_type": "code",
   "execution_count": null,
   "id": "cbfbb8b4",
   "metadata": {
    "execution": {
     "iopub.execute_input": "2021-12-12T18:25:45.188932Z",
     "iopub.status.busy": "2021-12-12T18:25:45.188194Z",
     "iopub.status.idle": "2021-12-12T18:25:45.192557Z",
     "shell.execute_reply": "2021-12-12T18:25:45.192003Z",
     "shell.execute_reply.started": "2021-12-10T12:30:24.601217Z"
    },
    "papermill": {
     "duration": 2.682444,
     "end_time": "2021-12-12T18:25:45.192695",
     "exception": false,
     "start_time": "2021-12-12T18:25:42.510251",
     "status": "completed"
    },
    "tags": []
   },
   "outputs": [],
   "source": [
    "# Creating functions to convert one-hot encoded values to labels and majority voting\n",
    "def convert_predictions_to_labels(labels):\n",
    "    temp = []\n",
    "    for item in labels.argmax(axis=1):\n",
    "        temp.append(classes_dict[str(item)])\n",
    "    return temp\n",
    "\n",
    "def add_across_axes(array):\n",
    "    prediction1 = array[0]\n",
    "    prediction2 = array[1]\n",
    "    prediction3 = array[2]\n",
    "    prediction = prediction1+prediction2+prediction3\n",
    "    return prediction"
   ]
  },
  {
   "cell_type": "code",
   "execution_count": null,
   "id": "0f512c35",
   "metadata": {
    "execution": {
     "iopub.execute_input": "2021-12-12T18:25:50.279733Z",
     "iopub.status.busy": "2021-12-12T18:25:50.278656Z",
     "iopub.status.idle": "2021-12-12T18:25:50.287708Z",
     "shell.execute_reply": "2021-12-12T18:25:50.287107Z",
     "shell.execute_reply.started": "2021-12-10T12:30:27.290871Z"
    },
    "papermill": {
     "duration": 2.582042,
     "end_time": "2021-12-12T18:25:50.287869",
     "exception": false,
     "start_time": "2021-12-12T18:25:47.705827",
     "status": "completed"
    },
    "tags": []
   },
   "outputs": [],
   "source": [
    "#Calling the functions to add the predictions across the axes before converting the results to labels\n",
    "test_labels_major_voting = add_across_axes(predicted)\n",
    "test_labels = convert_predictions_to_labels(test_labels_major_voting)\n",
    "\n",
    "validation_labels_major_voting = add_across_axes(val_predicted)\n",
    "validation_labels = convert_predictions_to_labels(validation_labels_major_voting)"
   ]
  },
  {
   "cell_type": "code",
   "execution_count": null,
   "id": "64bcb4bd",
   "metadata": {
    "execution": {
     "iopub.execute_input": "2021-12-12T18:25:55.858274Z",
     "iopub.status.busy": "2021-12-12T18:25:55.857611Z",
     "iopub.status.idle": "2021-12-12T18:25:55.863688Z",
     "shell.execute_reply": "2021-12-12T18:25:55.864141Z",
     "shell.execute_reply.started": "2021-12-10T12:30:29.726558Z"
    },
    "papermill": {
     "duration": 2.60663,
     "end_time": "2021-12-12T18:25:55.864311",
     "exception": false,
     "start_time": "2021-12-12T18:25:53.257681",
     "status": "completed"
    },
    "tags": []
   },
   "outputs": [],
   "source": [
    "#filling up the submission file with the test predictions\n",
    "sample_submission['camera'] = test_labels\n",
    "sample_submission.head()"
   ]
  },
  {
   "cell_type": "code",
   "execution_count": null,
   "id": "dbccd9d1",
   "metadata": {
    "execution": {
     "iopub.execute_input": "2021-12-12T18:26:01.349323Z",
     "iopub.status.busy": "2021-12-12T18:26:01.347994Z",
     "iopub.status.idle": "2021-12-12T18:26:01.374786Z",
     "shell.execute_reply": "2021-12-12T18:26:01.376091Z",
     "shell.execute_reply.started": "2021-12-10T12:30:34.301282Z"
    },
    "papermill": {
     "duration": 2.894408,
     "end_time": "2021-12-12T18:26:01.376408",
     "exception": false,
     "start_time": "2021-12-12T18:25:58.482000",
     "status": "completed"
    },
    "tags": []
   },
   "outputs": [],
   "source": [
    "#Submitting the test predictions\n",
    "sample_submission.to_csv(\"submission.csv\", index=False)"
   ]
  },
  {
   "cell_type": "code",
   "execution_count": null,
   "id": "b77bf0e2",
   "metadata": {
    "execution": {
     "iopub.execute_input": "2021-12-12T18:26:07.341732Z",
     "iopub.status.busy": "2021-12-12T18:26:07.339288Z",
     "iopub.status.idle": "2021-12-12T18:26:07.342527Z",
     "shell.execute_reply": "2021-12-12T18:26:07.343080Z",
     "shell.execute_reply.started": "2021-12-10T12:30:36.746575Z"
    },
    "papermill": {
     "duration": 2.706995,
     "end_time": "2021-12-12T18:26:07.343247",
     "exception": false,
     "start_time": "2021-12-12T18:26:04.636252",
     "status": "completed"
    },
    "tags": []
   },
   "outputs": [],
   "source": [
    "#Converting the validation one-hot encoded labels\n",
    "yval=yval.idxmax(axis=1)"
   ]
  },
  {
   "cell_type": "code",
   "execution_count": null,
   "id": "e081dfbf",
   "metadata": {
    "execution": {
     "iopub.execute_input": "2021-12-12T18:26:12.509503Z",
     "iopub.status.busy": "2021-12-12T18:26:12.508493Z",
     "iopub.status.idle": "2021-12-12T18:26:12.520403Z",
     "shell.execute_reply": "2021-12-12T18:26:12.519876Z",
     "shell.execute_reply.started": "2021-12-10T12:32:36.620727Z"
    },
    "papermill": {
     "duration": 2.624107,
     "end_time": "2021-12-12T18:26:12.520546",
     "exception": false,
     "start_time": "2021-12-12T18:26:09.896439",
     "status": "completed"
    },
    "tags": []
   },
   "outputs": [],
   "source": [
    "#printing the confusion matrix\n",
    "con_matrix = confusion_matrix(yval,validation_labels)\n",
    "print(con_matrix)"
   ]
  },
  {
   "cell_type": "markdown",
   "id": "6a8cb5ba",
   "metadata": {
    "papermill": {
     "duration": 2.557458,
     "end_time": "2021-12-12T18:26:18.044441",
     "exception": false,
     "start_time": "2021-12-12T18:26:15.486983",
     "status": "completed"
    },
    "tags": []
   },
   "source": []
  }
 ],
 "metadata": {
  "kernelspec": {
   "display_name": "Python 3",
   "language": "python",
   "name": "python3"
  },
  "language_info": {
   "codemirror_mode": {
    "name": "ipython",
    "version": 3
   },
   "file_extension": ".py",
   "mimetype": "text/x-python",
   "name": "python",
   "nbconvert_exporter": "python",
   "pygments_lexer": "ipython3",
   "version": "3.8.8"
  },
  "papermill": {
   "default_parameters": {},
   "duration": 30666.828393,
   "end_time": "2021-12-12T18:26:23.997777",
   "environment_variables": {},
   "exception": null,
   "input_path": "__notebook__.ipynb",
   "output_path": "__notebook__.ipynb",
   "parameters": {},
   "start_time": "2021-12-12T09:55:17.169384",
   "version": "2.3.3"
  }
 },
 "nbformat": 4,
 "nbformat_minor": 5
}
