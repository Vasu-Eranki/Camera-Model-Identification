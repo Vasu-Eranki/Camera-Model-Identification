{
 "cells": [
  {
   "cell_type": "code",
   "execution_count": 1,
   "id": "f04dc8f8",
   "metadata": {
    "execution": {
     "iopub.execute_input": "2021-12-04T06:03:16.841389Z",
     "iopub.status.busy": "2021-12-04T06:03:16.840496Z",
     "iopub.status.idle": "2021-12-04T06:03:22.731705Z",
     "shell.execute_reply": "2021-12-04T06:03:22.732348Z",
     "shell.execute_reply.started": "2021-12-04T05:18:12.951830Z"
    },
    "papermill": {
     "duration": 5.945549,
     "end_time": "2021-12-04T06:03:22.732711",
     "exception": false,
     "start_time": "2021-12-04T06:03:16.787162",
     "status": "completed"
    },
    "tags": []
   },
   "outputs": [],
   "source": [
    "import numpy as np \n",
    "import pandas as pd \n",
    "import matplotlib.pyplot as plt \n",
    "import tensorflow as tf \n",
    "import sklearn as sk \n",
    "import os \n",
    "import cv2\n",
    "import albumentations as A\n",
    "from PIL import Image \n",
    "from tensorflow import keras \n",
    "from sklearn.model_selection import train_test_split\n",
    "from sklearn.metrics import confusion_matrix \n",
    "\n",
    "training_path = \"/kaggle/input/sp-society-camera-model-identification/train/train/\"\n",
    "testing_path = \"/kaggle/input/sp-society-camera-model-identification/test/test/\"\n",
    "_,training_classes,_=next(os.walk(training_path))\n",
    "#print(training_classes)\n"
   ]
  },
  {
   "cell_type": "code",
   "execution_count": 2,
   "id": "2a2e5e3d",
   "metadata": {
    "execution": {
     "iopub.execute_input": "2021-12-04T06:03:22.818222Z",
     "iopub.status.busy": "2021-12-04T06:03:22.816833Z",
     "iopub.status.idle": "2021-12-04T06:03:22.818966Z",
     "shell.execute_reply": "2021-12-04T06:03:22.817485Z",
     "shell.execute_reply.started": "2021-12-04T05:18:18.765748Z"
    },
    "papermill": {
     "duration": 0.048461,
     "end_time": "2021-12-04T06:03:22.819117",
     "exception": false,
     "start_time": "2021-12-04T06:03:22.770656",
     "status": "completed"
    },
    "tags": []
   },
   "outputs": [],
   "source": [
    "batch_size = 8\n",
    "epochs = 50\n",
    "learning_rate = 1e-4"
   ]
  },
  {
   "cell_type": "code",
   "execution_count": 3,
   "id": "c0369f2b",
   "metadata": {
    "execution": {
     "iopub.execute_input": "2021-12-04T06:03:22.898242Z",
     "iopub.status.busy": "2021-12-04T06:03:22.892436Z",
     "iopub.status.idle": "2021-12-04T06:03:24.695556Z",
     "shell.execute_reply": "2021-12-04T06:03:24.695023Z",
     "shell.execute_reply.started": "2021-12-04T05:18:18.772059Z"
    },
    "papermill": {
     "duration": 1.841023,
     "end_time": "2021-12-04T06:03:24.695734",
     "exception": false,
     "start_time": "2021-12-04T06:03:22.854711",
     "status": "completed"
    },
    "tags": []
   },
   "outputs": [],
   "source": [
    "_,_,testing_files = next(os.walk(testing_path))\n",
    "#testing_files"
   ]
  },
  {
   "cell_type": "code",
   "execution_count": 4,
   "id": "9f259503",
   "metadata": {
    "execution": {
     "iopub.execute_input": "2021-12-04T06:03:24.754633Z",
     "iopub.status.busy": "2021-12-04T06:03:24.754079Z",
     "iopub.status.idle": "2021-12-04T06:03:25.013426Z",
     "shell.execute_reply": "2021-12-04T06:03:25.012978Z",
     "shell.execute_reply.started": "2021-12-04T05:18:19.520797Z"
    },
    "papermill": {
     "duration": 0.289933,
     "end_time": "2021-12-04T06:03:25.013566",
     "exception": false,
     "start_time": "2021-12-04T06:03:24.723633",
     "status": "completed"
    },
    "tags": []
   },
   "outputs": [],
   "source": [
    "training_paths = [] \n",
    "labels = [] \n",
    "for i in training_classes:\n",
    "    _,_,filenames = next(os.walk(training_path+i))\n",
    "    for j in filenames:\n",
    "        training_paths.append(training_path+i+'/'+j)\n",
    "        labels.append(i)"
   ]
  },
  {
   "cell_type": "code",
   "execution_count": 5,
   "id": "80d9b8b6",
   "metadata": {
    "execution": {
     "iopub.execute_input": "2021-12-04T06:03:25.065232Z",
     "iopub.status.busy": "2021-12-04T06:03:25.064497Z",
     "iopub.status.idle": "2021-12-04T06:03:25.066924Z",
     "shell.execute_reply": "2021-12-04T06:03:25.066477Z",
     "shell.execute_reply.started": "2021-12-04T05:18:19.828120Z"
    },
    "papermill": {
     "duration": 0.029495,
     "end_time": "2021-12-04T06:03:25.067030",
     "exception": false,
     "start_time": "2021-12-04T06:03:25.037535",
     "status": "completed"
    },
    "tags": []
   },
   "outputs": [],
   "source": [
    "assert len(training_paths)==len(labels)"
   ]
  },
  {
   "cell_type": "code",
   "execution_count": 6,
   "id": "c3627f15",
   "metadata": {
    "execution": {
     "iopub.execute_input": "2021-12-04T06:03:25.118995Z",
     "iopub.status.busy": "2021-12-04T06:03:25.118209Z",
     "iopub.status.idle": "2021-12-04T06:03:25.122151Z",
     "shell.execute_reply": "2021-12-04T06:03:25.121751Z",
     "shell.execute_reply.started": "2021-12-04T05:18:19.836865Z"
    },
    "papermill": {
     "duration": 0.030351,
     "end_time": "2021-12-04T06:03:25.122253",
     "exception": false,
     "start_time": "2021-12-04T06:03:25.091902",
     "status": "completed"
    },
    "tags": []
   },
   "outputs": [],
   "source": [
    "seed = 33"
   ]
  },
  {
   "cell_type": "code",
   "execution_count": 7,
   "id": "2fab1787",
   "metadata": {
    "execution": {
     "iopub.execute_input": "2021-12-04T06:03:25.181844Z",
     "iopub.status.busy": "2021-12-04T06:03:25.181320Z",
     "iopub.status.idle": "2021-12-04T06:03:25.190410Z",
     "shell.execute_reply": "2021-12-04T06:03:25.190024Z",
     "shell.execute_reply.started": "2021-12-04T05:59:18.365931Z"
    },
    "papermill": {
     "duration": 0.045195,
     "end_time": "2021-12-04T06:03:25.190511",
     "exception": false,
     "start_time": "2021-12-04T06:03:25.145316",
     "status": "completed"
    },
    "tags": []
   },
   "outputs": [],
   "source": [
    "training_data = pd.DataFrame(training_paths,columns=['Training Image Path'])\n",
    "classes = pd.DataFrame(labels)\n",
    "classes = pd.get_dummies(classes)\n",
    "classes.columns=np.unique(labels)# One Hot Encode the class variables"
   ]
  },
  {
   "cell_type": "code",
   "execution_count": 8,
   "id": "16a22294",
   "metadata": {
    "execution": {
     "iopub.execute_input": "2021-12-04T06:03:25.244873Z",
     "iopub.status.busy": "2021-12-04T06:03:25.243576Z",
     "iopub.status.idle": "2021-12-04T06:03:25.258876Z",
     "shell.execute_reply": "2021-12-04T06:03:25.259429Z",
     "shell.execute_reply.started": "2021-12-04T05:18:19.871286Z"
    },
    "papermill": {
     "duration": 0.044823,
     "end_time": "2021-12-04T06:03:25.259558",
     "exception": false,
     "start_time": "2021-12-04T06:03:25.214735",
     "status": "completed"
    },
    "tags": []
   },
   "outputs": [
    {
     "data": {
      "text/html": [
       "<div>\n",
       "<style scoped>\n",
       "    .dataframe tbody tr th:only-of-type {\n",
       "        vertical-align: middle;\n",
       "    }\n",
       "\n",
       "    .dataframe tbody tr th {\n",
       "        vertical-align: top;\n",
       "    }\n",
       "\n",
       "    .dataframe thead th {\n",
       "        text-align: right;\n",
       "    }\n",
       "</style>\n",
       "<table border=\"1\" class=\"dataframe\">\n",
       "  <thead>\n",
       "    <tr style=\"text-align: right;\">\n",
       "      <th></th>\n",
       "      <th>Training Image Path</th>\n",
       "    </tr>\n",
       "  </thead>\n",
       "  <tbody>\n",
       "    <tr>\n",
       "      <th>0</th>\n",
       "      <td>/kaggle/input/sp-society-camera-model-identifi...</td>\n",
       "    </tr>\n",
       "    <tr>\n",
       "      <th>1</th>\n",
       "      <td>/kaggle/input/sp-society-camera-model-identifi...</td>\n",
       "    </tr>\n",
       "    <tr>\n",
       "      <th>2</th>\n",
       "      <td>/kaggle/input/sp-society-camera-model-identifi...</td>\n",
       "    </tr>\n",
       "    <tr>\n",
       "      <th>3</th>\n",
       "      <td>/kaggle/input/sp-society-camera-model-identifi...</td>\n",
       "    </tr>\n",
       "    <tr>\n",
       "      <th>4</th>\n",
       "      <td>/kaggle/input/sp-society-camera-model-identifi...</td>\n",
       "    </tr>\n",
       "    <tr>\n",
       "      <th>...</th>\n",
       "      <td>...</td>\n",
       "    </tr>\n",
       "    <tr>\n",
       "      <th>2745</th>\n",
       "      <td>/kaggle/input/sp-society-camera-model-identifi...</td>\n",
       "    </tr>\n",
       "    <tr>\n",
       "      <th>2746</th>\n",
       "      <td>/kaggle/input/sp-society-camera-model-identifi...</td>\n",
       "    </tr>\n",
       "    <tr>\n",
       "      <th>2747</th>\n",
       "      <td>/kaggle/input/sp-society-camera-model-identifi...</td>\n",
       "    </tr>\n",
       "    <tr>\n",
       "      <th>2748</th>\n",
       "      <td>/kaggle/input/sp-society-camera-model-identifi...</td>\n",
       "    </tr>\n",
       "    <tr>\n",
       "      <th>2749</th>\n",
       "      <td>/kaggle/input/sp-society-camera-model-identifi...</td>\n",
       "    </tr>\n",
       "  </tbody>\n",
       "</table>\n",
       "<p>2750 rows × 1 columns</p>\n",
       "</div>"
      ],
      "text/plain": [
       "                                    Training Image Path\n",
       "0     /kaggle/input/sp-society-camera-model-identifi...\n",
       "1     /kaggle/input/sp-society-camera-model-identifi...\n",
       "2     /kaggle/input/sp-society-camera-model-identifi...\n",
       "3     /kaggle/input/sp-society-camera-model-identifi...\n",
       "4     /kaggle/input/sp-society-camera-model-identifi...\n",
       "...                                                 ...\n",
       "2745  /kaggle/input/sp-society-camera-model-identifi...\n",
       "2746  /kaggle/input/sp-society-camera-model-identifi...\n",
       "2747  /kaggle/input/sp-society-camera-model-identifi...\n",
       "2748  /kaggle/input/sp-society-camera-model-identifi...\n",
       "2749  /kaggle/input/sp-society-camera-model-identifi...\n",
       "\n",
       "[2750 rows x 1 columns]"
      ]
     },
     "execution_count": 8,
     "metadata": {},
     "output_type": "execute_result"
    }
   ],
   "source": [
    "training_data"
   ]
  },
  {
   "cell_type": "code",
   "execution_count": 9,
   "id": "de81714b",
   "metadata": {
    "execution": {
     "iopub.execute_input": "2021-12-04T06:03:25.317249Z",
     "iopub.status.busy": "2021-12-04T06:03:25.316531Z",
     "iopub.status.idle": "2021-12-04T06:03:25.319212Z",
     "shell.execute_reply": "2021-12-04T06:03:25.319606Z",
     "shell.execute_reply.started": "2021-12-04T05:18:19.889928Z"
    },
    "papermill": {
     "duration": 0.035181,
     "end_time": "2021-12-04T06:03:25.319751",
     "exception": false,
     "start_time": "2021-12-04T06:03:25.284570",
     "status": "completed"
    },
    "tags": []
   },
   "outputs": [
    {
     "data": {
      "text/html": [
       "<div>\n",
       "<style scoped>\n",
       "    .dataframe tbody tr th:only-of-type {\n",
       "        vertical-align: middle;\n",
       "    }\n",
       "\n",
       "    .dataframe tbody tr th {\n",
       "        vertical-align: top;\n",
       "    }\n",
       "\n",
       "    .dataframe thead th {\n",
       "        text-align: right;\n",
       "    }\n",
       "</style>\n",
       "<table border=\"1\" class=\"dataframe\">\n",
       "  <thead>\n",
       "    <tr style=\"text-align: right;\">\n",
       "      <th></th>\n",
       "      <th>HTC-1-M7</th>\n",
       "      <th>LG-Nexus-5x</th>\n",
       "      <th>Motorola-Droid-Maxx</th>\n",
       "      <th>Motorola-Nexus-6</th>\n",
       "      <th>Motorola-X</th>\n",
       "      <th>Samsung-Galaxy-Note3</th>\n",
       "      <th>Samsung-Galaxy-S4</th>\n",
       "      <th>Sony-NEX-7</th>\n",
       "      <th>iPhone-4s</th>\n",
       "      <th>iPhone-6</th>\n",
       "    </tr>\n",
       "  </thead>\n",
       "  <tbody>\n",
       "    <tr>\n",
       "      <th>0</th>\n",
       "      <td>0</td>\n",
       "      <td>0</td>\n",
       "      <td>0</td>\n",
       "      <td>0</td>\n",
       "      <td>0</td>\n",
       "      <td>0</td>\n",
       "      <td>1</td>\n",
       "      <td>0</td>\n",
       "      <td>0</td>\n",
       "      <td>0</td>\n",
       "    </tr>\n",
       "    <tr>\n",
       "      <th>1</th>\n",
       "      <td>0</td>\n",
       "      <td>0</td>\n",
       "      <td>0</td>\n",
       "      <td>0</td>\n",
       "      <td>0</td>\n",
       "      <td>0</td>\n",
       "      <td>1</td>\n",
       "      <td>0</td>\n",
       "      <td>0</td>\n",
       "      <td>0</td>\n",
       "    </tr>\n",
       "    <tr>\n",
       "      <th>2</th>\n",
       "      <td>0</td>\n",
       "      <td>0</td>\n",
       "      <td>0</td>\n",
       "      <td>0</td>\n",
       "      <td>0</td>\n",
       "      <td>0</td>\n",
       "      <td>1</td>\n",
       "      <td>0</td>\n",
       "      <td>0</td>\n",
       "      <td>0</td>\n",
       "    </tr>\n",
       "    <tr>\n",
       "      <th>3</th>\n",
       "      <td>0</td>\n",
       "      <td>0</td>\n",
       "      <td>0</td>\n",
       "      <td>0</td>\n",
       "      <td>0</td>\n",
       "      <td>0</td>\n",
       "      <td>1</td>\n",
       "      <td>0</td>\n",
       "      <td>0</td>\n",
       "      <td>0</td>\n",
       "    </tr>\n",
       "    <tr>\n",
       "      <th>4</th>\n",
       "      <td>0</td>\n",
       "      <td>0</td>\n",
       "      <td>0</td>\n",
       "      <td>0</td>\n",
       "      <td>0</td>\n",
       "      <td>0</td>\n",
       "      <td>1</td>\n",
       "      <td>0</td>\n",
       "      <td>0</td>\n",
       "      <td>0</td>\n",
       "    </tr>\n",
       "  </tbody>\n",
       "</table>\n",
       "</div>"
      ],
      "text/plain": [
       "   HTC-1-M7  LG-Nexus-5x  Motorola-Droid-Maxx  Motorola-Nexus-6  Motorola-X  \\\n",
       "0         0            0                    0                 0           0   \n",
       "1         0            0                    0                 0           0   \n",
       "2         0            0                    0                 0           0   \n",
       "3         0            0                    0                 0           0   \n",
       "4         0            0                    0                 0           0   \n",
       "\n",
       "   Samsung-Galaxy-Note3  Samsung-Galaxy-S4  Sony-NEX-7  iPhone-4s  iPhone-6  \n",
       "0                     0                  1           0          0         0  \n",
       "1                     0                  1           0          0         0  \n",
       "2                     0                  1           0          0         0  \n",
       "3                     0                  1           0          0         0  \n",
       "4                     0                  1           0          0         0  "
      ]
     },
     "execution_count": 9,
     "metadata": {},
     "output_type": "execute_result"
    }
   ],
   "source": [
    "classes.head()"
   ]
  },
  {
   "cell_type": "code",
   "execution_count": 10,
   "id": "0865a092",
   "metadata": {
    "execution": {
     "iopub.execute_input": "2021-12-04T06:03:25.371794Z",
     "iopub.status.busy": "2021-12-04T06:03:25.370452Z",
     "iopub.status.idle": "2021-12-04T06:03:25.374139Z",
     "shell.execute_reply": "2021-12-04T06:03:25.373736Z",
     "shell.execute_reply.started": "2021-12-04T05:18:19.903950Z"
    },
    "papermill": {
     "duration": 0.030625,
     "end_time": "2021-12-04T06:03:25.374240",
     "exception": false,
     "start_time": "2021-12-04T06:03:25.343615",
     "status": "completed"
    },
    "tags": []
   },
   "outputs": [],
   "source": [
    "classes_dict = {'0':'HTC-1-M7',\n",
    "                '1':'LG-Nexus-5x',\n",
    "                '2':'Motorola-Droid-Maxx',\n",
    "                '3':'Motorola-Nexus-6',\n",
    "                '4':'Motorola-X',\n",
    "                '5':'Samsung-Galaxy-Note3',\n",
    "                '6':'Samsung-Galaxy-S4',\n",
    "                '7':'Sony-NEX-7',\n",
    "                '8':'iPhone-4s',\n",
    "                '9':'iPhone-6'}"
   ]
  },
  {
   "cell_type": "code",
   "execution_count": 11,
   "id": "bb2ba486",
   "metadata": {
    "execution": {
     "iopub.execute_input": "2021-12-04T06:03:25.430800Z",
     "iopub.status.busy": "2021-12-04T06:03:25.430135Z",
     "iopub.status.idle": "2021-12-04T06:03:25.432653Z",
     "shell.execute_reply": "2021-12-04T06:03:25.433155Z",
     "shell.execute_reply.started": "2021-12-04T05:18:19.910822Z"
    },
    "papermill": {
     "duration": 0.035063,
     "end_time": "2021-12-04T06:03:25.433268",
     "exception": false,
     "start_time": "2021-12-04T06:03:25.398205",
     "status": "completed"
    },
    "tags": []
   },
   "outputs": [
    {
     "data": {
      "text/html": [
       "<div>\n",
       "<style scoped>\n",
       "    .dataframe tbody tr th:only-of-type {\n",
       "        vertical-align: middle;\n",
       "    }\n",
       "\n",
       "    .dataframe tbody tr th {\n",
       "        vertical-align: top;\n",
       "    }\n",
       "\n",
       "    .dataframe thead th {\n",
       "        text-align: right;\n",
       "    }\n",
       "</style>\n",
       "<table border=\"1\" class=\"dataframe\">\n",
       "  <thead>\n",
       "    <tr style=\"text-align: right;\">\n",
       "      <th></th>\n",
       "      <th>Testing Image Path</th>\n",
       "    </tr>\n",
       "  </thead>\n",
       "  <tbody>\n",
       "    <tr>\n",
       "      <th>0</th>\n",
       "      <td>img_b551817_manip.tif</td>\n",
       "    </tr>\n",
       "    <tr>\n",
       "      <th>1</th>\n",
       "      <td>img_90bf577_unalt.tif</td>\n",
       "    </tr>\n",
       "    <tr>\n",
       "      <th>2</th>\n",
       "      <td>img_44c7044_unalt.tif</td>\n",
       "    </tr>\n",
       "    <tr>\n",
       "      <th>3</th>\n",
       "      <td>img_6481076_unalt.tif</td>\n",
       "    </tr>\n",
       "    <tr>\n",
       "      <th>4</th>\n",
       "      <td>img_6f87d1f_manip.tif</td>\n",
       "    </tr>\n",
       "    <tr>\n",
       "      <th>...</th>\n",
       "      <td>...</td>\n",
       "    </tr>\n",
       "    <tr>\n",
       "      <th>2635</th>\n",
       "      <td>img_f5c6b8e_unalt.tif</td>\n",
       "    </tr>\n",
       "    <tr>\n",
       "      <th>2636</th>\n",
       "      <td>img_a9da818_manip.tif</td>\n",
       "    </tr>\n",
       "    <tr>\n",
       "      <th>2637</th>\n",
       "      <td>img_53bbd9f_unalt.tif</td>\n",
       "    </tr>\n",
       "    <tr>\n",
       "      <th>2638</th>\n",
       "      <td>img_db8cb11_unalt.tif</td>\n",
       "    </tr>\n",
       "    <tr>\n",
       "      <th>2639</th>\n",
       "      <td>img_aa16ead_manip.tif</td>\n",
       "    </tr>\n",
       "  </tbody>\n",
       "</table>\n",
       "<p>2640 rows × 1 columns</p>\n",
       "</div>"
      ],
      "text/plain": [
       "         Testing Image Path\n",
       "0     img_b551817_manip.tif\n",
       "1     img_90bf577_unalt.tif\n",
       "2     img_44c7044_unalt.tif\n",
       "3     img_6481076_unalt.tif\n",
       "4     img_6f87d1f_manip.tif\n",
       "...                     ...\n",
       "2635  img_f5c6b8e_unalt.tif\n",
       "2636  img_a9da818_manip.tif\n",
       "2637  img_53bbd9f_unalt.tif\n",
       "2638  img_db8cb11_unalt.tif\n",
       "2639  img_aa16ead_manip.tif\n",
       "\n",
       "[2640 rows x 1 columns]"
      ]
     },
     "execution_count": 11,
     "metadata": {},
     "output_type": "execute_result"
    }
   ],
   "source": [
    "testing_data = pd.DataFrame(testing_files,columns=['Testing Image Path'])\n",
    "testing_data"
   ]
  },
  {
   "cell_type": "code",
   "execution_count": 12,
   "id": "e4c686cc",
   "metadata": {
    "execution": {
     "iopub.execute_input": "2021-12-04T06:03:25.486154Z",
     "iopub.status.busy": "2021-12-04T06:03:25.485462Z",
     "iopub.status.idle": "2021-12-04T06:03:25.487292Z",
     "shell.execute_reply": "2021-12-04T06:03:25.487742Z",
     "shell.execute_reply.started": "2021-12-04T05:18:19.925568Z"
    },
    "papermill": {
     "duration": 0.030374,
     "end_time": "2021-12-04T06:03:25.487857",
     "exception": false,
     "start_time": "2021-12-04T06:03:25.457483",
     "status": "completed"
    },
    "tags": []
   },
   "outputs": [],
   "source": [
    "def read_img(path):\n",
    "    temp = cv2.imread(path)\n",
    "    temp = cv2.cvtColor(temp, cv2.COLOR_BGR2RGB)\n",
    "    return np.array(temp)"
   ]
  },
  {
   "cell_type": "code",
   "execution_count": 13,
   "id": "efe67217",
   "metadata": {
    "execution": {
     "iopub.execute_input": "2021-12-04T06:03:25.542438Z",
     "iopub.status.busy": "2021-12-04T06:03:25.541787Z",
     "iopub.status.idle": "2021-12-04T06:03:25.547318Z",
     "shell.execute_reply": "2021-12-04T06:03:25.547811Z",
     "shell.execute_reply.started": "2021-12-04T05:24:09.443392Z"
    },
    "papermill": {
     "duration": 0.035619,
     "end_time": "2021-12-04T06:03:25.547936",
     "exception": false,
     "start_time": "2021-12-04T06:03:25.512317",
     "status": "completed"
    },
    "tags": []
   },
   "outputs": [
    {
     "name": "stderr",
     "output_type": "stream",
     "text": [
      "/opt/conda/lib/python3.7/site-packages/albumentations/augmentations/transforms.py:967: FutureWarning: This class has been deprecated. Please use ImageCompression\n",
      "  FutureWarning,\n"
     ]
    }
   ],
   "source": [
    "length = 512\n",
    "training_transforms = A.Compose([A.RandomCrop(height=length,width=length),\n",
    "                                A.RandomGamma(gamma_limit=(80,120),p=0.5),\n",
    "                                A.JpegCompression(quality_lower=70,quality_upper=90,p=0.5),\n",
    "                                A.GridDistortion(interpolation=cv2.INTER_CUBIC)])\n",
    "    \n",
    "\n",
    "                                \n",
    "testing_augmentation = A.Compose([\n",
    "                                  A.CenterCrop(height=length,width=length)])"
   ]
  },
  {
   "cell_type": "code",
   "execution_count": 14,
   "id": "14239182",
   "metadata": {
    "execution": {
     "iopub.execute_input": "2021-12-04T06:03:25.606918Z",
     "iopub.status.busy": "2021-12-04T06:03:25.606233Z",
     "iopub.status.idle": "2021-12-04T06:03:26.442873Z",
     "shell.execute_reply": "2021-12-04T06:03:26.442063Z",
     "shell.execute_reply.started": "2021-12-04T05:24:09.452171Z"
    },
    "papermill": {
     "duration": 0.869898,
     "end_time": "2021-12-04T06:03:26.443031",
     "exception": false,
     "start_time": "2021-12-04T06:03:25.573133",
     "status": "completed"
    },
    "tags": []
   },
   "outputs": [],
   "source": [
    "class Dataset(keras.utils.Sequence):\n",
    "    def __init__(self,x,y,batch_size,augmentations,test):\n",
    "        self.x = x\n",
    "        self.y = y\n",
    "        self.batch_size = batch_size\n",
    "        self.augmentations = augmentations \n",
    "        self.test = test \n",
    "    def __len__(self):\n",
    "        return int(len(self.x)/self.batch_size)\n",
    "    def __getitem__(self,index):\n",
    "        batched_x = self.x.iloc[index*self.batch_size:(index+1)*self.batch_size].to_numpy()\n",
    "        if(self.test):\n",
    "            images = [(self.augmentations(image=read_img(i))['image']) for i in batched_x]\n",
    "            \n",
    "        else:\n",
    "            batched_y = self.y.iloc[index*self.batch_size : (index+1)*self.batch_size,:]\n",
    "            images = [(self.augmentations(image=read_img(i[0]))['image']) for i in batched_x]\n",
    "        return np.array(images)if self.test else (np.array(images),batched_y.values)"
   ]
  },
  {
   "cell_type": "code",
   "execution_count": 15,
   "id": "0f8d664e",
   "metadata": {
    "execution": {
     "iopub.execute_input": "2021-12-04T06:03:26.498403Z",
     "iopub.status.busy": "2021-12-04T06:03:26.496838Z",
     "iopub.status.idle": "2021-12-04T06:03:26.499020Z",
     "shell.execute_reply": "2021-12-04T06:03:26.499412Z",
     "shell.execute_reply.started": "2021-12-04T05:24:09.466210Z"
    },
    "papermill": {
     "duration": 0.031264,
     "end_time": "2021-12-04T06:03:26.499544",
     "exception": false,
     "start_time": "2021-12-04T06:03:26.468280",
     "status": "completed"
    },
    "tags": []
   },
   "outputs": [],
   "source": [
    "dummy_dataset = Dataset(training_data,classes,batch_size=batch_size,augmentations=training_transforms,test=False)"
   ]
  },
  {
   "cell_type": "code",
   "execution_count": 16,
   "id": "eecfe788",
   "metadata": {
    "execution": {
     "iopub.execute_input": "2021-12-04T06:03:26.555014Z",
     "iopub.status.busy": "2021-12-04T06:03:26.553960Z",
     "iopub.status.idle": "2021-12-04T06:03:28.446000Z",
     "shell.execute_reply": "2021-12-04T06:03:28.446412Z",
     "shell.execute_reply.started": "2021-12-04T05:24:09.477750Z"
    },
    "papermill": {
     "duration": 1.922422,
     "end_time": "2021-12-04T06:03:28.446575",
     "exception": false,
     "start_time": "2021-12-04T06:03:26.524153",
     "status": "completed"
    },
    "tags": []
   },
   "outputs": [
    {
     "name": "stdout",
     "output_type": "stream",
     "text": [
      "[[[ 77  82 102]\n",
      "  [ 76  83 103]\n",
      "  [ 80  87 107]\n",
      "  ...\n",
      "  [ 18  23  38]\n",
      "  [ 18  23  38]\n",
      "  [ 18  18  22]]\n",
      "\n",
      " [[ 79  83 103]\n",
      "  [ 77  80 101]\n",
      "  [ 78  81 103]\n",
      "  ...\n",
      "  [ 43  50  67]\n",
      "  [ 43  50  67]\n",
      "  [ 19  20  24]]\n",
      "\n",
      " [[ 83  85 105]\n",
      "  [ 78  81 102]\n",
      "  [ 85  87 108]\n",
      "  ...\n",
      "  [119 130 148]\n",
      "  [119 130 148]\n",
      "  [ 20  21  27]]\n",
      "\n",
      " ...\n",
      "\n",
      " [[ 24  21  20]\n",
      "  [ 26  23  22]\n",
      "  [ 27  26  25]\n",
      "  ...\n",
      "  [159 163 157]\n",
      "  [159 163 157]\n",
      "  [ 88  66  74]]\n",
      "\n",
      " [[ 24  21  20]\n",
      "  [ 26  23  22]\n",
      "  [ 27  26  25]\n",
      "  ...\n",
      "  [159 163 157]\n",
      "  [159 163 157]\n",
      "  [ 88  66  74]]\n",
      "\n",
      " [[ 26  23  22]\n",
      "  [ 27  24  23]\n",
      "  [ 28  25  24]\n",
      "  ...\n",
      "  [ 33  24  27]\n",
      "  [ 33  24  27]\n",
      "  [ 32  26  33]]]\n",
      "(8, 512, 512, 3)\n",
      "[[0 0 0 0 0 0 1 0 0 0]\n",
      " [0 0 0 0 0 0 1 0 0 0]\n",
      " [0 0 0 0 0 0 1 0 0 0]\n",
      " [0 0 0 0 0 0 1 0 0 0]\n",
      " [0 0 0 0 0 0 1 0 0 0]\n",
      " [0 0 0 0 0 0 1 0 0 0]\n",
      " [0 0 0 0 0 0 1 0 0 0]\n",
      " [0 0 0 0 0 0 1 0 0 0]]\n",
      "(8, 10)\n"
     ]
    },
    {
     "data": {
      "text/plain": [
       "<matplotlib.image.AxesImage at 0x7f5db41cb950>"
      ]
     },
     "execution_count": 16,
     "metadata": {},
     "output_type": "execute_result"
    },
    {
     "data": {
      "image/png": "[encoded data removed]",
      "text/plain": [
       "<Figure size 432x288 with 1 Axes>"
      ]
     },
     "metadata": {
      "needs_background": "light"
     },
     "output_type": "display_data"
    }
   ],
   "source": [
    "(a,b)=dummy_dataset.__getitem__(5)\n",
    "print(a[0])\n",
    "print(a.shape)\n",
    "print(b)\n",
    "print(b.shape)\n",
    "plt.imshow(a[0])\n",
    "\n"
   ]
  },
  {
   "cell_type": "code",
   "execution_count": 17,
   "id": "5cbf0d58",
   "metadata": {
    "execution": {
     "iopub.execute_input": "2021-12-04T06:03:28.510801Z",
     "iopub.status.busy": "2021-12-04T06:03:28.510094Z",
     "iopub.status.idle": "2021-12-04T06:03:28.512634Z",
     "shell.execute_reply": "2021-12-04T06:03:28.512242Z",
     "shell.execute_reply.started": "2021-12-04T05:24:11.098186Z"
    },
    "papermill": {
     "duration": 0.037943,
     "end_time": "2021-12-04T06:03:28.512771",
     "exception": false,
     "start_time": "2021-12-04T06:03:28.474828",
     "status": "completed"
    },
    "tags": []
   },
   "outputs": [],
   "source": [
    "def keras_model(length,input_size,output_classes):\n",
    "        base_model = tf.keras.applications.EfficientNetB4(weights='imagenet', include_top=False, input_shape=[length, length, 3])\n",
    "        base_model.trainable = True\n",
    "        inputs =tf.keras.layers.Input(shape=(length,length,3))\n",
    "        x = tf.keras.applications.efficientnet.preprocess_input(inputs)\n",
    "        x = base_model(x, training=True)\n",
    "        x = tf.keras.layers.GlobalAveragePooling2D()(x)\n",
    "        x = tf.keras.layers.Dense(32,activation='relu')(x)\n",
    "        outputs = tf.keras.layers.Dense(10, activation='softmax')(x)\n",
    "\n",
    "        model =tf.keras.Model(inputs=inputs, outputs=outputs)\n",
    "\n",
    "        model.compile(optimizer=tf.keras.optimizers.Adam(lr=learning_rate), loss='categorical_crossentropy', metrics=['accuracy'])\n",
    "\n",
    "        model.summary() \n",
    "        return model"
   ]
  },
  {
   "cell_type": "code",
   "execution_count": 18,
   "id": "e58196aa",
   "metadata": {
    "execution": {
     "iopub.execute_input": "2021-12-04T06:03:28.578318Z",
     "iopub.status.busy": "2021-12-04T06:03:28.577554Z",
     "iopub.status.idle": "2021-12-04T06:03:36.244154Z",
     "shell.execute_reply": "2021-12-04T06:03:36.244559Z",
     "shell.execute_reply.started": "2021-12-04T05:24:11.108147Z"
    },
    "papermill": {
     "duration": 7.704341,
     "end_time": "2021-12-04T06:03:36.244722",
     "exception": false,
     "start_time": "2021-12-04T06:03:28.540381",
     "status": "completed"
    },
    "tags": []
   },
   "outputs": [
    {
     "name": "stderr",
     "output_type": "stream",
     "text": [
      "2021-12-04 06:03:28.653998: I tensorflow/stream_executor/cuda/cuda_gpu_executor.cc:937] successful NUMA node read from SysFS had negative value (-1), but there must be at least one NUMA node, so returning NUMA node zero\n",
      "2021-12-04 06:03:28.751190: I tensorflow/stream_executor/cuda/cuda_gpu_executor.cc:937] successful NUMA node read from SysFS had negative value (-1), but there must be at least one NUMA node, so returning NUMA node zero\n",
      "2021-12-04 06:03:28.751976: I tensorflow/stream_executor/cuda/cuda_gpu_executor.cc:937] successful NUMA node read from SysFS had negative value (-1), but there must be at least one NUMA node, so returning NUMA node zero\n",
      "2021-12-04 06:03:28.753649: I tensorflow/core/platform/cpu_feature_guard.cc:142] This TensorFlow binary is optimized with oneAPI Deep Neural Network Library (oneDNN) to use the following CPU instructions in performance-critical operations:  AVX2 AVX512F FMA\n",
      "To enable them in other operations, rebuild TensorFlow with the appropriate compiler flags.\n",
      "2021-12-04 06:03:28.754888: I tensorflow/stream_executor/cuda/cuda_gpu_executor.cc:937] successful NUMA node read from SysFS had negative value (-1), but there must be at least one NUMA node, so returning NUMA node zero\n",
      "2021-12-04 06:03:28.755701: I tensorflow/stream_executor/cuda/cuda_gpu_executor.cc:937] successful NUMA node read from SysFS had negative value (-1), but there must be at least one NUMA node, so returning NUMA node zero\n",
      "2021-12-04 06:03:28.756410: I tensorflow/stream_executor/cuda/cuda_gpu_executor.cc:937] successful NUMA node read from SysFS had negative value (-1), but there must be at least one NUMA node, so returning NUMA node zero\n",
      "2021-12-04 06:03:30.617023: I tensorflow/stream_executor/cuda/cuda_gpu_executor.cc:937] successful NUMA node read from SysFS had negative value (-1), but there must be at least one NUMA node, so returning NUMA node zero\n",
      "2021-12-04 06:03:30.617873: I tensorflow/stream_executor/cuda/cuda_gpu_executor.cc:937] successful NUMA node read from SysFS had negative value (-1), but there must be at least one NUMA node, so returning NUMA node zero\n",
      "2021-12-04 06:03:30.618551: I tensorflow/stream_executor/cuda/cuda_gpu_executor.cc:937] successful NUMA node read from SysFS had negative value (-1), but there must be at least one NUMA node, so returning NUMA node zero\n",
      "2021-12-04 06:03:30.619142: I tensorflow/core/common_runtime/gpu/gpu_device.cc:1510] Created device /job:localhost/replica:0/task:0/device:GPU:0 with 15403 MB memory:  -> device: 0, name: Tesla P100-PCIE-16GB, pci bus id: 0000:00:04.0, compute capability: 6.0\n"
     ]
    },
    {
     "name": "stdout",
     "output_type": "stream",
     "text": [
      "Downloading data from https://storage.googleapis.com/keras-applications/efficientnetb4_notop.h5\n",
      "71688192/71686520 [==============================] - 1s 0us/step\n",
      "71696384/71686520 [==============================] - 1s 0us/step\n",
      "Model: \"model\"\n",
      "_________________________________________________________________\n",
      "Layer (type)                 Output Shape              Param #   \n",
      "=================================================================\n",
      "input_2 (InputLayer)         [(None, 512, 512, 3)]     0         \n",
      "_________________________________________________________________\n",
      "efficientnetb4 (Functional)  (None, 16, 16, 1792)      17673823  \n",
      "_________________________________________________________________\n",
      "global_average_pooling2d (Gl (None, 1792)              0         \n",
      "_________________________________________________________________\n",
      "dense (Dense)                (None, 32)                57376     \n",
      "_________________________________________________________________\n",
      "dense_1 (Dense)              (None, 10)                330       \n",
      "=================================================================\n",
      "Total params: 17,731,529\n",
      "Trainable params: 17,606,322\n",
      "Non-trainable params: 125,207\n",
      "_________________________________________________________________\n"
     ]
    },
    {
     "name": "stderr",
     "output_type": "stream",
     "text": [
      "/opt/conda/lib/python3.7/site-packages/keras/optimizer_v2/optimizer_v2.py:356: UserWarning: The `lr` argument is deprecated, use `learning_rate` instead.\n",
      "  \"The `lr` argument is deprecated, use `learning_rate` instead.\")\n"
     ]
    }
   ],
   "source": [
    "training_model = keras_model(length,length*length*3,10)"
   ]
  },
  {
   "cell_type": "code",
   "execution_count": 19,
   "id": "77a524d7",
   "metadata": {
    "execution": {
     "iopub.execute_input": "2021-12-04T06:03:36.320825Z",
     "iopub.status.busy": "2021-12-04T06:03:36.320041Z",
     "iopub.status.idle": "2021-12-04T06:03:36.344710Z",
     "shell.execute_reply": "2021-12-04T06:03:36.345143Z",
     "shell.execute_reply.started": "2021-12-04T05:24:15.871590Z"
    },
    "papermill": {
     "duration": 0.067516,
     "end_time": "2021-12-04T06:03:36.345275",
     "exception": false,
     "start_time": "2021-12-04T06:03:36.277759",
     "status": "completed"
    },
    "tags": []
   },
   "outputs": [
    {
     "name": "stdout",
     "output_type": "stream",
     "text": [
      "Model: \"model\"\n",
      "_________________________________________________________________\n",
      "Layer (type)                 Output Shape              Param #   \n",
      "=================================================================\n",
      "input_2 (InputLayer)         [(None, 512, 512, 3)]     0         \n",
      "_________________________________________________________________\n",
      "efficientnetb4 (Functional)  (None, 16, 16, 1792)      17673823  \n",
      "_________________________________________________________________\n",
      "global_average_pooling2d (Gl (None, 1792)              0         \n",
      "_________________________________________________________________\n",
      "dense (Dense)                (None, 32)                57376     \n",
      "_________________________________________________________________\n",
      "dense_1 (Dense)              (None, 10)                330       \n",
      "=================================================================\n",
      "Total params: 17,731,529\n",
      "Trainable params: 17,606,322\n",
      "Non-trainable params: 125,207\n",
      "_________________________________________________________________\n"
     ]
    }
   ],
   "source": [
    "training_model.summary()"
   ]
  },
  {
   "cell_type": "code",
   "execution_count": 20,
   "id": "09f1facd",
   "metadata": {
    "execution": {
     "iopub.execute_input": "2021-12-04T06:03:36.419726Z",
     "iopub.status.busy": "2021-12-04T06:03:36.417767Z",
     "iopub.status.idle": "2021-12-04T06:03:36.422368Z",
     "shell.execute_reply": "2021-12-04T06:03:36.422790Z",
     "shell.execute_reply.started": "2021-12-04T05:59:35.435849Z"
    },
    "papermill": {
     "duration": 0.044177,
     "end_time": "2021-12-04T06:03:36.422924",
     "exception": false,
     "start_time": "2021-12-04T06:03:36.378747",
     "status": "completed"
    },
    "tags": []
   },
   "outputs": [],
   "source": [
    "xtrain,xval,ytrain,yval = train_test_split(training_data,classes,test_size=0.1,shuffle=True,random_state=seed)"
   ]
  },
  {
   "cell_type": "code",
   "execution_count": 21,
   "id": "cc2ca129",
   "metadata": {
    "execution": {
     "iopub.execute_input": "2021-12-04T06:03:36.493219Z",
     "iopub.status.busy": "2021-12-04T06:03:36.492534Z",
     "iopub.status.idle": "2021-12-04T06:03:36.495702Z",
     "shell.execute_reply": "2021-12-04T06:03:36.496107Z",
     "shell.execute_reply.started": "2021-12-04T05:24:15.913793Z"
    },
    "papermill": {
     "duration": 0.040717,
     "end_time": "2021-12-04T06:03:36.496233",
     "exception": false,
     "start_time": "2021-12-04T06:03:36.455516",
     "status": "completed"
    },
    "tags": []
   },
   "outputs": [
    {
     "name": "stdout",
     "output_type": "stream",
     "text": [
      "2475 275\n",
      "2475 275\n"
     ]
    }
   ],
   "source": [
    "print(len(xtrain),len(xval))\n",
    "print(len(ytrain),len(yval))"
   ]
  },
  {
   "cell_type": "code",
   "execution_count": 22,
   "id": "d780faeb",
   "metadata": {
    "execution": {
     "iopub.execute_input": "2021-12-04T06:03:36.578767Z",
     "iopub.status.busy": "2021-12-04T06:03:36.576995Z",
     "iopub.status.idle": "2021-12-04T06:03:36.580824Z",
     "shell.execute_reply": "2021-12-04T06:03:36.580336Z",
     "shell.execute_reply.started": "2021-12-04T05:56:15.107439Z"
    },
    "papermill": {
     "duration": 0.051289,
     "end_time": "2021-12-04T06:03:36.580935",
     "exception": false,
     "start_time": "2021-12-04T06:03:36.529646",
     "status": "completed"
    },
    "tags": []
   },
   "outputs": [
    {
     "name": "stdout",
     "output_type": "stream",
     "text": [
      "309\n",
      "275\n"
     ]
    }
   ],
   "source": [
    "training_dataset = Dataset(xtrain,ytrain,batch_size=batch_size,augmentations=training_transforms,test=False)\n",
    "validation_dataset = Dataset(xval,yval,batch_size=1,augmentations=training_transforms,test=False)\n",
    "\n",
    "print(len(training_dataset))\n",
    "print(len(validation_dataset))"
   ]
  },
  {
   "cell_type": "code",
   "execution_count": 23,
   "id": "3567adab",
   "metadata": {
    "execution": {
     "iopub.execute_input": "2021-12-04T06:03:36.654163Z",
     "iopub.status.busy": "2021-12-04T06:03:36.653173Z",
     "iopub.status.idle": "2021-12-04T06:03:36.655142Z",
     "shell.execute_reply": "2021-12-04T06:03:36.655540Z",
     "shell.execute_reply.started": "2021-12-04T05:24:15.930930Z"
    },
    "papermill": {
     "duration": 0.041469,
     "end_time": "2021-12-04T06:03:36.655656",
     "exception": false,
     "start_time": "2021-12-04T06:03:36.614187",
     "status": "completed"
    },
    "tags": []
   },
   "outputs": [],
   "source": [
    "model_file = \"output/base_model_weights.hd5\"\n",
    "\n",
    "checkpoint = tf.keras.callbacks.ModelCheckpoint(model_file, monitor=\"val_accuracy\", save_best_only=True, mode='max')\n",
    "\n",
    "reduce_lr = tf.keras.callbacks.ReduceLROnPlateau(monitor=\"val_accuracy\", factor=0.9, patience=2, min_lr=1e-6, mode=\"max\", verbose=True)\n",
    "\n",
    "early_stopping = tf.keras.callbacks.EarlyStopping(monitor=\"val_accuracy\", patience=5, mode=\"max\", verbose=True)\n",
    "\n",
    "callbacks_list = [checkpoint, reduce_lr, early_stopping]\n"
   ]
  },
  {
   "cell_type": "code",
   "execution_count": 24,
   "id": "9e6f8924",
   "metadata": {
    "execution": {
     "iopub.execute_input": "2021-12-04T06:03:36.731414Z",
     "iopub.status.busy": "2021-12-04T06:03:36.730724Z",
     "iopub.status.idle": "2021-12-04T13:24:51.637773Z",
     "shell.execute_reply": "2021-12-04T13:24:51.637288Z",
     "shell.execute_reply.started": "2021-12-04T05:24:15.939134Z"
    },
    "papermill": {
     "duration": 26474.951279,
     "end_time": "2021-12-04T13:24:51.640684",
     "exception": false,
     "start_time": "2021-12-04T06:03:36.689405",
     "status": "completed"
    },
    "tags": []
   },
   "outputs": [
    {
     "name": "stderr",
     "output_type": "stream",
     "text": [
      "2021-12-04 06:03:38.324277: I tensorflow/compiler/mlir/mlir_graph_optimization_pass.cc:185] None of the MLIR Optimization Passes are enabled (registered 2)\n"
     ]
    },
    {
     "name": "stdout",
     "output_type": "stream",
     "text": [
      "Epoch 1/10\n"
     ]
    },
    {
     "name": "stderr",
     "output_type": "stream",
     "text": [
      "2021-12-04 06:03:56.927659: I tensorflow/stream_executor/cuda/cuda_dnn.cc:369] Loaded cuDNN version 8005\n"
     ]
    },
    {
     "name": "stdout",
     "output_type": "stream",
     "text": [
      "309/309 [==============================] - 706s 2s/step - loss: 1.8990 - accuracy: 0.3434 - val_loss: 2.3365 - val_accuracy: 0.0909\n"
     ]
    },
    {
     "name": "stderr",
     "output_type": "stream",
     "text": [
      "2021-12-04 06:15:49.662908: W tensorflow/python/util/util.cc:348] Sets are not currently considered sequences, but this may change in the future, so consider avoiding using them.\n",
      "/opt/conda/lib/python3.7/site-packages/keras/utils/generic_utils.py:497: CustomMaskWarning: Custom mask layers require a config and must override get_config. When loading, the custom mask layer must be passed to the custom_objects argument.\n",
      "  category=CustomMaskWarning)\n"
     ]
    },
    {
     "name": "stdout",
     "output_type": "stream",
     "text": [
      "Epoch 2/10\n",
      "309/309 [==============================] - 672s 2s/step - loss: 1.1308 - accuracy: 0.6315 - val_loss: 2.3955 - val_accuracy: 0.0909\n",
      "Epoch 3/10\n",
      "309/309 [==============================] - 657s 2s/step - loss: 0.8024 - accuracy: 0.7367 - val_loss: 2.4078 - val_accuracy: 0.0909\n",
      "\n",
      "Epoch 00003: ReduceLROnPlateau reducing learning rate to 8.999999772640876e-05.\n",
      "Epoch 4/10\n",
      "309/309 [==============================] - 654s 2s/step - loss: 0.6328 - accuracy: 0.7937 - val_loss: 2.4275 - val_accuracy: 0.0982\n"
     ]
    },
    {
     "name": "stderr",
     "output_type": "stream",
     "text": [
      "/opt/conda/lib/python3.7/site-packages/keras/utils/generic_utils.py:497: CustomMaskWarning: Custom mask layers require a config and must override get_config. When loading, the custom mask layer must be passed to the custom_objects argument.\n",
      "  category=CustomMaskWarning)\n"
     ]
    },
    {
     "name": "stdout",
     "output_type": "stream",
     "text": [
      "Epoch 5/10\n",
      "309/309 [==============================] - 660s 2s/step - loss: 0.5626 - accuracy: 0.8204 - val_loss: 2.4160 - val_accuracy: 0.0945\n",
      "Epoch 6/10\n",
      "309/309 [==============================] - 666s 2s/step - loss: 0.4936 - accuracy: 0.8443 - val_loss: 2.4999 - val_accuracy: 0.0909\n",
      "\n",
      "Epoch 00006: ReduceLROnPlateau reducing learning rate to 8.100000122794882e-05.\n",
      "Epoch 7/10\n",
      "309/309 [==============================] - 654s 2s/step - loss: 0.4301 - accuracy: 0.8556 - val_loss: 2.5940 - val_accuracy: 0.1018\n"
     ]
    },
    {
     "name": "stderr",
     "output_type": "stream",
     "text": [
      "/opt/conda/lib/python3.7/site-packages/keras/utils/generic_utils.py:497: CustomMaskWarning: Custom mask layers require a config and must override get_config. When loading, the custom mask layer must be passed to the custom_objects argument.\n",
      "  category=CustomMaskWarning)\n"
     ]
    },
    {
     "name": "stdout",
     "output_type": "stream",
     "text": [
      "Epoch 8/10\n",
      "309/309 [==============================] - 669s 2s/step - loss: 0.4082 - accuracy: 0.8706 - val_loss: 2.4722 - val_accuracy: 0.0945\n",
      "Epoch 9/10\n",
      "309/309 [==============================] - 667s 2s/step - loss: 0.3656 - accuracy: 0.8786 - val_loss: 2.5235 - val_accuracy: 0.1055\n"
     ]
    },
    {
     "name": "stderr",
     "output_type": "stream",
     "text": [
      "/opt/conda/lib/python3.7/site-packages/keras/utils/generic_utils.py:497: CustomMaskWarning: Custom mask layers require a config and must override get_config. When loading, the custom mask layer must be passed to the custom_objects argument.\n",
      "  category=CustomMaskWarning)\n"
     ]
    },
    {
     "name": "stdout",
     "output_type": "stream",
     "text": [
      "Epoch 10/10\n",
      "309/309 [==============================] - 673s 2s/step - loss: 0.3521 - accuracy: 0.8867 - val_loss: 2.5795 - val_accuracy: 0.0982\n",
      "Epoch 1/10\n",
      "309/309 [==============================] - 707s 2s/step - loss: 0.3461 - accuracy: 0.8892 - val_loss: 2.5640 - val_accuracy: 0.0873\n",
      "Epoch 2/10\n",
      "309/309 [==============================] - 685s 2s/step - loss: 0.3206 - accuracy: 0.8932 - val_loss: 2.5506 - val_accuracy: 0.1018\n",
      "Epoch 3/10\n",
      "309/309 [==============================] - 675s 2s/step - loss: 0.2966 - accuracy: 0.9045 - val_loss: 2.5675 - val_accuracy: 0.0945\n",
      "Epoch 4/10\n",
      "309/309 [==============================] - 687s 2s/step - loss: 0.2725 - accuracy: 0.9094 - val_loss: 2.5836 - val_accuracy: 0.0800\n",
      "\n",
      "Epoch 00004: ReduceLROnPlateau reducing learning rate to 7.289999848580919e-05.\n",
      "Epoch 5/10\n",
      "309/309 [==============================] - 689s 2s/step - loss: 0.2605 - accuracy: 0.9110 - val_loss: 2.5981 - val_accuracy: 0.0873\n",
      "Epoch 6/10\n",
      "309/309 [==============================] - 679s 2s/step - loss: 0.2364 - accuracy: 0.9219 - val_loss: 2.6797 - val_accuracy: 0.0945\n",
      "\n",
      "Epoch 00006: ReduceLROnPlateau reducing learning rate to 6.56100019114092e-05.\n",
      "Epoch 7/10\n",
      "309/309 [==============================] - 684s 2s/step - loss: 0.2219 - accuracy: 0.9252 - val_loss: 2.6816 - val_accuracy: 0.0945\n",
      "Epoch 00007: early stopping\n",
      "Epoch 1/10\n",
      "309/309 [==============================] - 708s 2s/step - loss: 0.3327 - accuracy: 0.8944 - val_loss: 2.4653 - val_accuracy: 0.1055\n",
      "Epoch 2/10\n",
      "309/309 [==============================] - 687s 2s/step - loss: 0.3247 - accuracy: 0.8968 - val_loss: 2.5599 - val_accuracy: 0.0945\n",
      "Epoch 3/10\n",
      "309/309 [==============================] - 696s 2s/step - loss: 0.3030 - accuracy: 0.8920 - val_loss: 2.5705 - val_accuracy: 0.0982\n",
      "\n",
      "Epoch 00003: ReduceLROnPlateau reducing learning rate to 7.289999848580919e-05.\n",
      "Epoch 4/10\n",
      "309/309 [==============================] - 695s 2s/step - loss: 0.2847 - accuracy: 0.9074 - val_loss: 2.5967 - val_accuracy: 0.1018\n",
      "Epoch 5/10\n",
      "309/309 [==============================] - 703s 2s/step - loss: 0.2558 - accuracy: 0.9175 - val_loss: 2.5624 - val_accuracy: 0.0945\n",
      "\n",
      "Epoch 00005: ReduceLROnPlateau reducing learning rate to 6.56100019114092e-05.\n",
      "Epoch 6/10\n",
      "309/309 [==============================] - 692s 2s/step - loss: 0.2654 - accuracy: 0.9187 - val_loss: 2.5577 - val_accuracy: 0.1055\n",
      "Epoch 00006: early stopping\n",
      "Epoch 1/10\n",
      "309/309 [==============================] - 713s 2s/step - loss: 0.3628 - accuracy: 0.8827 - val_loss: 2.4989 - val_accuracy: 0.0982\n",
      "Epoch 2/10\n",
      "309/309 [==============================] - 684s 2s/step - loss: 0.3024 - accuracy: 0.9110 - val_loss: 2.5112 - val_accuracy: 0.1091\n"
     ]
    },
    {
     "name": "stderr",
     "output_type": "stream",
     "text": [
      "/opt/conda/lib/python3.7/site-packages/keras/utils/generic_utils.py:497: CustomMaskWarning: Custom mask layers require a config and must override get_config. When loading, the custom mask layer must be passed to the custom_objects argument.\n",
      "  category=CustomMaskWarning)\n"
     ]
    },
    {
     "name": "stdout",
     "output_type": "stream",
     "text": [
      "Epoch 3/10\n",
      "309/309 [==============================] - 701s 2s/step - loss: 0.3165 - accuracy: 0.9037 - val_loss: 2.4918 - val_accuracy: 0.1055\n",
      "Epoch 4/10\n",
      "309/309 [==============================] - 707s 2s/step - loss: 0.2963 - accuracy: 0.9021 - val_loss: 2.5369 - val_accuracy: 0.0945\n",
      "\n",
      "Epoch 00004: ReduceLROnPlateau reducing learning rate to 7.289999848580919e-05.\n",
      "Epoch 5/10\n",
      "309/309 [==============================] - 685s 2s/step - loss: 0.2593 - accuracy: 0.9179 - val_loss: 2.5689 - val_accuracy: 0.1018\n",
      "Epoch 6/10\n",
      "309/309 [==============================] - 687s 2s/step - loss: 0.2534 - accuracy: 0.9179 - val_loss: 2.5696 - val_accuracy: 0.1055\n",
      "\n",
      "Epoch 00006: ReduceLROnPlateau reducing learning rate to 6.56100019114092e-05.\n",
      "Epoch 7/10\n",
      "309/309 [==============================] - 701s 2s/step - loss: 0.2291 - accuracy: 0.9239 - val_loss: 2.5821 - val_accuracy: 0.0873\n",
      "Epoch 00007: early stopping\n",
      "Epoch 1/10\n",
      "309/309 [==============================] - 731s 2s/step - loss: 0.2938 - accuracy: 0.9066 - val_loss: 2.5452 - val_accuracy: 0.0909\n",
      "Epoch 2/10\n",
      "309/309 [==============================] - 722s 2s/step - loss: 0.2779 - accuracy: 0.9106 - val_loss: 2.4962 - val_accuracy: 0.1273\n"
     ]
    },
    {
     "name": "stderr",
     "output_type": "stream",
     "text": [
      "/opt/conda/lib/python3.7/site-packages/keras/utils/generic_utils.py:497: CustomMaskWarning: Custom mask layers require a config and must override get_config. When loading, the custom mask layer must be passed to the custom_objects argument.\n",
      "  category=CustomMaskWarning)\n"
     ]
    },
    {
     "name": "stdout",
     "output_type": "stream",
     "text": [
      "Epoch 3/10\n",
      "309/309 [==============================] - 704s 2s/step - loss: 0.2702 - accuracy: 0.9106 - val_loss: 2.5893 - val_accuracy: 0.0873\n",
      "Epoch 4/10\n",
      "309/309 [==============================] - 696s 2s/step - loss: 0.2580 - accuracy: 0.9183 - val_loss: 2.6144 - val_accuracy: 0.0909\n",
      "\n",
      "Epoch 00004: ReduceLROnPlateau reducing learning rate to 7.289999848580919e-05.\n",
      "Epoch 5/10\n",
      "309/309 [==============================] - 712s 2s/step - loss: 0.2346 - accuracy: 0.9235 - val_loss: 2.6794 - val_accuracy: 0.0909\n",
      "Epoch 6/10\n",
      "309/309 [==============================] - 703s 2s/step - loss: 0.2233 - accuracy: 0.9264 - val_loss: 2.5454 - val_accuracy: 0.0909\n",
      "\n",
      "Epoch 00006: ReduceLROnPlateau reducing learning rate to 6.56100019114092e-05.\n",
      "Epoch 7/10\n",
      "309/309 [==============================] - 708s 2s/step - loss: 0.2054 - accuracy: 0.9357 - val_loss: 2.5869 - val_accuracy: 0.1091\n",
      "Epoch 00007: early stopping\n"
     ]
    }
   ],
   "source": [
    "inner_epochs = 10\n",
    "training_model.fit(training_dataset,validation_data=validation_dataset,epochs=inner_epochs,batch_size=batch_size,callbacks=callbacks_list,verbose=1)\n",
    "loops = (epochs-inner_epochs)//inner_epochs\n",
    "for i in range(0,loops):\n",
    "    training_model= keras.models.load_model(model_file)\n",
    "    training_model.fit(training_dataset,validation_data=validation_dataset,epochs=inner_epochs,batch_size=batch_size,callbacks=callbacks_list,verbose=1)"
   ]
  },
  {
   "cell_type": "code",
   "execution_count": 25,
   "id": "1ceb1f1b",
   "metadata": {
    "execution": {
     "iopub.execute_input": "2021-12-04T13:24:57.908179Z",
     "iopub.status.busy": "2021-12-04T13:24:57.907327Z",
     "iopub.status.idle": "2021-12-04T13:24:57.974509Z",
     "shell.execute_reply": "2021-12-04T13:24:57.973832Z",
     "shell.execute_reply.started": "2021-12-04T05:49:57.984427Z"
    },
    "papermill": {
     "duration": 3.338076,
     "end_time": "2021-12-04T13:24:57.974717",
     "exception": false,
     "start_time": "2021-12-04T13:24:54.636641",
     "status": "completed"
    },
    "tags": []
   },
   "outputs": [
    {
     "data": {
      "text/html": [
       "<div>\n",
       "<style scoped>\n",
       "    .dataframe tbody tr th:only-of-type {\n",
       "        vertical-align: middle;\n",
       "    }\n",
       "\n",
       "    .dataframe tbody tr th {\n",
       "        vertical-align: top;\n",
       "    }\n",
       "\n",
       "    .dataframe thead th {\n",
       "        text-align: right;\n",
       "    }\n",
       "</style>\n",
       "<table border=\"1\" class=\"dataframe\">\n",
       "  <thead>\n",
       "    <tr style=\"text-align: right;\">\n",
       "      <th></th>\n",
       "      <th>fname</th>\n",
       "      <th>camera</th>\n",
       "    </tr>\n",
       "  </thead>\n",
       "  <tbody>\n",
       "    <tr>\n",
       "      <th>0</th>\n",
       "      <td>img_0002a04_manip.tif</td>\n",
       "      <td>iPhone-6</td>\n",
       "    </tr>\n",
       "    <tr>\n",
       "      <th>1</th>\n",
       "      <td>img_001e31c_unalt.tif</td>\n",
       "      <td>iPhone-6</td>\n",
       "    </tr>\n",
       "    <tr>\n",
       "      <th>2</th>\n",
       "      <td>img_00275cf_manip.tif</td>\n",
       "      <td>iPhone-6</td>\n",
       "    </tr>\n",
       "    <tr>\n",
       "      <th>3</th>\n",
       "      <td>img_0034113_unalt.tif</td>\n",
       "      <td>iPhone-6</td>\n",
       "    </tr>\n",
       "    <tr>\n",
       "      <th>4</th>\n",
       "      <td>img_00344b7_unalt.tif</td>\n",
       "      <td>iPhone-6</td>\n",
       "    </tr>\n",
       "  </tbody>\n",
       "</table>\n",
       "</div>"
      ],
      "text/plain": [
       "                   fname    camera\n",
       "0  img_0002a04_manip.tif  iPhone-6\n",
       "1  img_001e31c_unalt.tif  iPhone-6\n",
       "2  img_00275cf_manip.tif  iPhone-6\n",
       "3  img_0034113_unalt.tif  iPhone-6\n",
       "4  img_00344b7_unalt.tif  iPhone-6"
      ]
     },
     "execution_count": 25,
     "metadata": {},
     "output_type": "execute_result"
    }
   ],
   "source": [
    "sample_submission = pd.read_csv('/kaggle/input/sp-society-camera-model-identification/sample_submission.csv')\n",
    "sample_submission.head()"
   ]
  },
  {
   "cell_type": "code",
   "execution_count": 26,
   "id": "eb9b64f8",
   "metadata": {
    "execution": {
     "iopub.execute_input": "2021-12-04T13:25:04.425898Z",
     "iopub.status.busy": "2021-12-04T13:25:04.424950Z",
     "iopub.status.idle": "2021-12-04T13:25:04.427874Z",
     "shell.execute_reply": "2021-12-04T13:25:04.428280Z",
     "shell.execute_reply.started": "2021-12-04T05:49:58.016449Z"
    },
    "papermill": {
     "duration": 2.962389,
     "end_time": "2021-12-04T13:25:04.428419",
     "exception": false,
     "start_time": "2021-12-04T13:25:01.466030",
     "status": "completed"
    },
    "tags": []
   },
   "outputs": [
    {
     "name": "stdout",
     "output_type": "stream",
     "text": [
      "/kaggle/input/sp-society-camera-model-identification/test/test/img_0002a04_manip.tif\n"
     ]
    }
   ],
   "source": [
    "x_test = testing_path+sample_submission['fname']\n",
    "#x_test = x_test.to_numpy()\n",
    "print(x_test[0])\n",
    "\n",
    "#training_model.load_model(model_file)\n",
    "x_test = Dataset(x_test,x_test,test=True,batch_size=1,augmentations=testing_augmentation)"
   ]
  },
  {
   "cell_type": "code",
   "execution_count": 27,
   "id": "e01c5d1f",
   "metadata": {
    "execution": {
     "iopub.execute_input": "2021-12-04T13:25:10.710346Z",
     "iopub.status.busy": "2021-12-04T13:25:10.709801Z",
     "iopub.status.idle": "2021-12-04T13:26:15.119682Z",
     "shell.execute_reply": "2021-12-04T13:26:15.120495Z",
     "shell.execute_reply.started": "2021-12-04T05:56:28.315483Z"
    },
    "papermill": {
     "duration": 67.684607,
     "end_time": "2021-12-04T13:26:15.120756",
     "exception": false,
     "start_time": "2021-12-04T13:25:07.436149",
     "status": "completed"
    },
    "tags": []
   },
   "outputs": [],
   "source": [
    "val_predicted = training_model.predict(validation_dataset)"
   ]
  },
  {
   "cell_type": "code",
   "execution_count": 28,
   "id": "7f7fb1ec",
   "metadata": {
    "execution": {
     "iopub.execute_input": "2021-12-04T13:26:21.140032Z",
     "iopub.status.busy": "2021-12-04T13:26:21.137494Z",
     "iopub.status.idle": "2021-12-04T13:28:21.760878Z",
     "shell.execute_reply": "2021-12-04T13:28:21.761346Z",
     "shell.execute_reply.started": "2021-12-04T05:51:24.636523Z"
    },
    "papermill": {
     "duration": 123.553451,
     "end_time": "2021-12-04T13:28:21.761608",
     "exception": false,
     "start_time": "2021-12-04T13:26:18.208157",
     "status": "completed"
    },
    "tags": []
   },
   "outputs": [
    {
     "name": "stdout",
     "output_type": "stream",
     "text": [
      "[[0.11170471 0.1820334  0.05685028 ... 0.01426961 0.05811109 0.18206604]\n",
      " [0.11009254 0.2082085  0.0369486  ... 0.01572856 0.04228985 0.21514419]\n",
      " [0.13033712 0.16534255 0.05691778 ... 0.01826161 0.06474869 0.18175127]\n",
      " ...\n",
      " [0.15044259 0.14285879 0.07288914 ... 0.02046219 0.06916222 0.16346739]\n",
      " [0.11579394 0.15884358 0.07466587 ... 0.02637568 0.05814544 0.16873717]\n",
      " [0.11000973 0.17301326 0.05320366 ... 0.01685981 0.05854643 0.1712973 ]]\n"
     ]
    }
   ],
   "source": [
    "training_model = tf.keras.models.load_model(model_file)\n",
    "predicted = training_model.predict(x_test)\n",
    "\n",
    "print(predicted)"
   ]
  },
  {
   "cell_type": "code",
   "execution_count": 29,
   "id": "047b59ef",
   "metadata": {
    "execution": {
     "iopub.execute_input": "2021-12-04T13:28:28.066784Z",
     "iopub.status.busy": "2021-12-04T13:28:28.065608Z",
     "iopub.status.idle": "2021-12-04T13:28:28.067471Z",
     "shell.execute_reply": "2021-12-04T13:28:28.067927Z",
     "shell.execute_reply.started": "2021-12-04T05:55:31.700815Z"
    },
    "papermill": {
     "duration": 3.346341,
     "end_time": "2021-12-04T13:28:28.068115",
     "exception": false,
     "start_time": "2021-12-04T13:28:24.721774",
     "status": "completed"
    },
    "tags": []
   },
   "outputs": [],
   "source": [
    "\n",
    "def convert_predictions_to_labels(labels):\n",
    "    temp = []\n",
    "    for item in labels.argmax(axis=1):\n",
    "        temp.append(classes_dict[str(item)])\n",
    "    return temp"
   ]
  },
  {
   "cell_type": "code",
   "execution_count": 30,
   "id": "95c202f8",
   "metadata": {
    "execution": {
     "iopub.execute_input": "2021-12-04T13:28:33.983588Z",
     "iopub.status.busy": "2021-12-04T13:28:33.983051Z",
     "iopub.status.idle": "2021-12-04T13:28:33.987038Z",
     "shell.execute_reply": "2021-12-04T13:28:33.986582Z",
     "shell.execute_reply.started": "2021-12-04T05:57:29.507450Z"
    },
    "papermill": {
     "duration": 2.975093,
     "end_time": "2021-12-04T13:28:33.987289",
     "exception": false,
     "start_time": "2021-12-04T13:28:31.012196",
     "status": "completed"
    },
    "tags": []
   },
   "outputs": [],
   "source": [
    "test_labels = convert_predictions_to_labels(predicted)\n",
    "\n",
    "validation_labels = convert_predictions_to_labels(val_predicted)"
   ]
  },
  {
   "cell_type": "code",
   "execution_count": 31,
   "id": "bb0f742a",
   "metadata": {
    "execution": {
     "iopub.execute_input": "2021-12-04T13:28:40.287334Z",
     "iopub.status.busy": "2021-12-04T13:28:40.286522Z",
     "iopub.status.idle": "2021-12-04T13:28:40.289650Z",
     "shell.execute_reply": "2021-12-04T13:28:40.290091Z",
     "shell.execute_reply.started": "2021-12-04T05:55:42.873822Z"
    },
    "papermill": {
     "duration": 3.317614,
     "end_time": "2021-12-04T13:28:40.290241",
     "exception": false,
     "start_time": "2021-12-04T13:28:36.972627",
     "status": "completed"
    },
    "tags": []
   },
   "outputs": [
    {
     "data": {
      "text/html": [
       "<div>\n",
       "<style scoped>\n",
       "    .dataframe tbody tr th:only-of-type {\n",
       "        vertical-align: middle;\n",
       "    }\n",
       "\n",
       "    .dataframe tbody tr th {\n",
       "        vertical-align: top;\n",
       "    }\n",
       "\n",
       "    .dataframe thead th {\n",
       "        text-align: right;\n",
       "    }\n",
       "</style>\n",
       "<table border=\"1\" class=\"dataframe\">\n",
       "  <thead>\n",
       "    <tr style=\"text-align: right;\">\n",
       "      <th></th>\n",
       "      <th>fname</th>\n",
       "      <th>camera</th>\n",
       "    </tr>\n",
       "  </thead>\n",
       "  <tbody>\n",
       "    <tr>\n",
       "      <th>0</th>\n",
       "      <td>img_0002a04_manip.tif</td>\n",
       "      <td>iPhone-6</td>\n",
       "    </tr>\n",
       "    <tr>\n",
       "      <th>1</th>\n",
       "      <td>img_001e31c_unalt.tif</td>\n",
       "      <td>iPhone-6</td>\n",
       "    </tr>\n",
       "    <tr>\n",
       "      <th>2</th>\n",
       "      <td>img_00275cf_manip.tif</td>\n",
       "      <td>iPhone-6</td>\n",
       "    </tr>\n",
       "    <tr>\n",
       "      <th>3</th>\n",
       "      <td>img_0034113_unalt.tif</td>\n",
       "      <td>iPhone-6</td>\n",
       "    </tr>\n",
       "    <tr>\n",
       "      <th>4</th>\n",
       "      <td>img_00344b7_unalt.tif</td>\n",
       "      <td>iPhone-6</td>\n",
       "    </tr>\n",
       "  </tbody>\n",
       "</table>\n",
       "</div>"
      ],
      "text/plain": [
       "                   fname    camera\n",
       "0  img_0002a04_manip.tif  iPhone-6\n",
       "1  img_001e31c_unalt.tif  iPhone-6\n",
       "2  img_00275cf_manip.tif  iPhone-6\n",
       "3  img_0034113_unalt.tif  iPhone-6\n",
       "4  img_00344b7_unalt.tif  iPhone-6"
      ]
     },
     "execution_count": 31,
     "metadata": {},
     "output_type": "execute_result"
    }
   ],
   "source": [
    "sample_submission['camera'] = test_labels\n",
    "sample_submission.head()"
   ]
  },
  {
   "cell_type": "code",
   "execution_count": 32,
   "id": "d92f8cdf",
   "metadata": {
    "execution": {
     "iopub.execute_input": "2021-12-04T13:28:46.251765Z",
     "iopub.status.busy": "2021-12-04T13:28:46.250661Z",
     "iopub.status.idle": "2021-12-04T13:28:46.276029Z",
     "shell.execute_reply": "2021-12-04T13:28:46.277886Z",
     "shell.execute_reply.started": "2021-12-04T05:55:46.696285Z"
    },
    "papermill": {
     "duration": 3.03409,
     "end_time": "2021-12-04T13:28:46.278417",
     "exception": false,
     "start_time": "2021-12-04T13:28:43.244327",
     "status": "completed"
    },
    "tags": []
   },
   "outputs": [],
   "source": [
    "sample_submission.to_csv(\"submission.csv\", index=False)"
   ]
  },
  {
   "cell_type": "code",
   "execution_count": 33,
   "id": "34cb2f41",
   "metadata": {
    "execution": {
     "iopub.execute_input": "2021-12-04T13:28:52.991446Z",
     "iopub.status.busy": "2021-12-04T13:28:52.990928Z",
     "iopub.status.idle": "2021-12-04T13:28:52.994401Z",
     "shell.execute_reply": "2021-12-04T13:28:52.994838Z",
     "shell.execute_reply.started": "2021-12-04T06:00:03.758639Z"
    },
    "papermill": {
     "duration": 3.053952,
     "end_time": "2021-12-04T13:28:52.994986",
     "exception": false,
     "start_time": "2021-12-04T13:28:49.941034",
     "status": "completed"
    },
    "tags": []
   },
   "outputs": [],
   "source": [
    "yval=yval.idxmax(axis=1)"
   ]
  },
  {
   "cell_type": "code",
   "execution_count": 34,
   "id": "4f99eef3",
   "metadata": {
    "execution": {
     "iopub.execute_input": "2021-12-04T13:28:58.965444Z",
     "iopub.status.busy": "2021-12-04T13:28:58.964587Z",
     "iopub.status.idle": "2021-12-04T13:28:58.973885Z",
     "shell.execute_reply": "2021-12-04T13:28:58.973442Z",
     "shell.execute_reply.started": "2021-12-04T06:00:39.655561Z"
    },
    "papermill": {
     "duration": 2.991718,
     "end_time": "2021-12-04T13:28:58.974017",
     "exception": false,
     "start_time": "2021-12-04T13:28:55.982299",
     "status": "completed"
    },
    "tags": []
   },
   "outputs": [
    {
     "name": "stdout",
     "output_type": "stream",
     "text": [
      "[[ 1  3  0  0  1  0  0  0  0 22]\n",
      " [ 1  2  0  0  0  0  0  0  0 20]\n",
      " [ 1  8  0  0  0  1  0  0  0 22]\n",
      " [ 1  6  0  0  1  0  0  0  0 17]\n",
      " [ 0  2  0  0  1  1  0  0  0 26]\n",
      " [ 0  0  0  0  0  0  0  0  0 25]\n",
      " [ 2  4  0  0  0  2  0  0  0 20]\n",
      " [ 1  6  0  0  0  2  0  0  0 19]\n",
      " [ 0  4  0  0  0  0  0  0  0 28]\n",
      " [ 0  5  0  0  0  2  0  0  0 18]]\n"
     ]
    }
   ],
   "source": [
    "con_matrix = confusion_matrix(yval,validation_labels)\n",
    "print(con_matrix)"
   ]
  },
  {
   "cell_type": "code",
   "execution_count": null,
   "id": "a8246c8f",
   "metadata": {
    "papermill": {
     "duration": 2.957218,
     "end_time": "2021-12-04T13:29:05.157810",
     "exception": false,
     "start_time": "2021-12-04T13:29:02.200592",
     "status": "completed"
    },
    "tags": []
   },
   "outputs": [],
   "source": []
  }
 ],
 "metadata": {
  "kernelspec": {
   "display_name": "Python 3",
   "language": "python",
   "name": "python3"
  },
  "language_info": {
   "codemirror_mode": {
    "name": "ipython",
    "version": 3
   },
   "file_extension": ".py",
   "mimetype": "text/x-python",
   "name": "python",
   "nbconvert_exporter": "python",
   "pygments_lexer": "ipython3",
   "version": "3.7.12"
  },
  "papermill": {
   "default_parameters": {},
   "duration": 26762.530536,
   "end_time": "2021-12-04T13:29:11.313408",
   "environment_variables": {},
   "exception": null,
   "input_path": "__notebook__.ipynb",
   "output_path": "__notebook__.ipynb",
   "parameters": {},
   "start_time": "2021-12-04T06:03:08.782872",
   "version": "2.3.3"
  }
 },
 "nbformat": 4,
 "nbformat_minor": 5
}
