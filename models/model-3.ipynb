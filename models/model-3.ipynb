{
 "cells": [
  {
   "cell_type": "code",
   "execution_count": null,
   "metadata": {
    "execution": {
     "iopub.execute_input": "2021-12-04T05:18:12.951931Z",
     "iopub.status.busy": "2021-12-04T05:18:12.951596Z",
     "iopub.status.idle": "2021-12-04T05:18:18.762879Z",
     "shell.execute_reply": "2021-12-04T05:18:18.762164Z",
     "shell.execute_reply.started": "2021-12-04T05:18:12.95183Z"
    }
   },
   "outputs": [],
   "source": [
    "#Importing the python libraries \n",
    "import numpy as np \n",
    "import pandas as pd \n",
    "import matplotlib.pyplot as plt \n",
    "import tensorflow as tf \n",
    "import sklearn as sk \n",
    "import os \n",
    "import cv2\n",
    "import albumentations as A\n",
    "from PIL import Image \n",
    "from tensorflow import keras \n",
    "from sklearn.model_selection import train_test_split\n",
    "from sklearn.metrics import confusion_matrix \n",
    "\n",
    "#Setting the training and testing paths to extract the files \n",
    "training_path = \"/kaggle/input/sp-society-camera-model-identification/train/train/\"\n",
    "testing_path = \"/kaggle/input/sp-society-camera-model-identification/test/test/\"\n",
    "_,training_classes,_=next(os.walk(training_path))\n",
    "#print(training_classes)\n"
   ]
  },
  {
   "cell_type": "code",
   "execution_count": null,
   "metadata": {
    "execution": {
     "iopub.execute_input": "2021-12-04T05:18:18.765786Z",
     "iopub.status.busy": "2021-12-04T05:18:18.765259Z",
     "iopub.status.idle": "2021-12-04T05:18:18.770667Z",
     "shell.execute_reply": "2021-12-04T05:18:18.768769Z",
     "shell.execute_reply.started": "2021-12-04T05:18:18.765748Z"
    }
   },
   "outputs": [],
   "source": [
    "#Setting the hyperparameters for the deep learning model\n",
    "batch_size = 8\n",
    "epochs = 40\n",
    "learning_rate = 1e-4"
   ]
  },
  {
   "cell_type": "code",
   "execution_count": null,
   "metadata": {
    "execution": {
     "iopub.execute_input": "2021-12-04T05:18:18.772092Z",
     "iopub.status.busy": "2021-12-04T05:18:18.771835Z",
     "iopub.status.idle": "2021-12-04T05:18:19.516412Z",
     "shell.execute_reply": "2021-12-04T05:18:19.515462Z",
     "shell.execute_reply.started": "2021-12-04T05:18:18.772059Z"
    }
   },
   "outputs": [],
   "source": [
    "#testing_files \n",
    "_,_,testing_files = next(os.walk(testing_path))\n"
   ]
  },
  {
   "cell_type": "code",
   "execution_count": null,
   "metadata": {
    "execution": {
     "iopub.execute_input": "2021-12-04T05:18:19.520829Z",
     "iopub.status.busy": "2021-12-04T05:18:19.520588Z",
     "iopub.status.idle": "2021-12-04T05:18:19.825386Z",
     "shell.execute_reply": "2021-12-04T05:18:19.824561Z",
     "shell.execute_reply.started": "2021-12-04T05:18:19.520797Z"
    }
   },
   "outputs": [],
   "source": [
    "#Creating the training dataset by iterating over the directory \n",
    "#Appending the training paths to the list and extracting the classes from the directory\n",
    "training_paths = [] \n",
    "labels = [] \n",
    "for i in training_classes:\n",
    "    _,_,filenames = next(os.walk(training_path+i))\n",
    "    for j in filenames:\n",
    "        training_paths.append(training_path+i+'/'+j)\n",
    "        labels.append(i)"
   ]
  },
  {
   "cell_type": "code",
   "execution_count": null,
   "metadata": {
    "execution": {
     "iopub.execute_input": "2021-12-04T05:18:19.828159Z",
     "iopub.status.busy": "2021-12-04T05:18:19.827854Z",
     "iopub.status.idle": "2021-12-04T05:18:19.833666Z",
     "shell.execute_reply": "2021-12-04T05:18:19.832502Z",
     "shell.execute_reply.started": "2021-12-04T05:18:19.82812Z"
    }
   },
   "outputs": [],
   "source": [
    "#Ensure that the training size and the class labels are the same\n",
    "assert len(training_paths)==len(labels)"
   ]
  },
  {
   "cell_type": "code",
   "execution_count": null,
   "metadata": {
    "execution": {
     "iopub.execute_input": "2021-12-04T05:18:19.836919Z",
     "iopub.status.busy": "2021-12-04T05:18:19.836427Z",
     "iopub.status.idle": "2021-12-04T05:18:19.844955Z",
     "shell.execute_reply": "2021-12-04T05:18:19.843825Z",
     "shell.execute_reply.started": "2021-12-04T05:18:19.836865Z"
    }
   },
   "outputs": [],
   "source": [
    "#Setting the random seed to 33 for reproducible results\n",
    "seed = 33"
   ]
  },
  {
   "cell_type": "code",
   "execution_count": null,
   "metadata": {
    "execution": {
     "iopub.execute_input": "2021-12-04T05:59:18.365962Z",
     "iopub.status.busy": "2021-12-04T05:59:18.365688Z",
     "iopub.status.idle": "2021-12-04T05:59:18.379189Z",
     "shell.execute_reply": "2021-12-04T05:59:18.378321Z",
     "shell.execute_reply.started": "2021-12-04T05:59:18.365931Z"
    }
   },
   "outputs": [],
   "source": [
    "#Moving the training paths to an pandas DataFrame for easy indexing and one-hot encoding the class labels\n",
    "training_data = pd.DataFrame(training_paths,columns=['Training Image Path'])\n",
    "classes = pd.DataFrame(labels)\n",
    "classes = pd.get_dummies(classes)\n",
    "classes.columns=np.unique(labels)# One Hot Encode the class variables"
   ]
  },
  {
   "cell_type": "code",
   "execution_count": null,
   "metadata": {
    "execution": {
     "iopub.execute_input": "2021-12-04T05:18:19.871323Z",
     "iopub.status.busy": "2021-12-04T05:18:19.871007Z",
     "iopub.status.idle": "2021-12-04T05:18:19.888496Z",
     "shell.execute_reply": "2021-12-04T05:18:19.887794Z",
     "shell.execute_reply.started": "2021-12-04T05:18:19.871286Z"
    }
   },
   "outputs": [],
   "source": [
    "#print the training data\n",
    "training_data"
   ]
  },
  {
   "cell_type": "code",
   "execution_count": null,
   "metadata": {
    "execution": {
     "iopub.execute_input": "2021-12-04T05:18:19.889962Z",
     "iopub.status.busy": "2021-12-04T05:18:19.889694Z",
     "iopub.status.idle": "2021-12-04T05:18:19.901594Z",
     "shell.execute_reply": "2021-12-04T05:18:19.900791Z",
     "shell.execute_reply.started": "2021-12-04T05:18:19.889928Z"
    }
   },
   "outputs": [],
   "source": [
    "#printing the one-hot encoded class variable\n",
    "classes.head()"
   ]
  },
  {
   "cell_type": "code",
   "execution_count": null,
   "metadata": {
    "execution": {
     "iopub.execute_input": "2021-12-04T05:18:19.903988Z",
     "iopub.status.busy": "2021-12-04T05:18:19.90286Z",
     "iopub.status.idle": "2021-12-04T05:18:19.909229Z",
     "shell.execute_reply": "2021-12-04T05:18:19.908269Z",
     "shell.execute_reply.started": "2021-12-04T05:18:19.90395Z"
    }
   },
   "outputs": [],
   "source": [
    "#Creating the class dictionary for converting the one-hot encoded variables\n",
    "classes_dict = {'0':'HTC-1-M7',\n",
    "                '1':'LG-Nexus-5x',\n",
    "                '2':'Motorola-Droid-Maxx',\n",
    "                '3':'Motorola-Nexus-6',\n",
    "                '4':'Motorola-X',\n",
    "                '5':'Samsung-Galaxy-Note3',\n",
    "                '6':'Samsung-Galaxy-S4',\n",
    "                '7':'Sony-NEX-7',\n",
    "                '8':'iPhone-4s',\n",
    "                '9':'iPhone-6'}"
   ]
  },
  {
   "cell_type": "code",
   "execution_count": null,
   "metadata": {
    "execution": {
     "iopub.execute_input": "2021-12-04T05:18:19.910859Z",
     "iopub.status.busy": "2021-12-04T05:18:19.910465Z",
     "iopub.status.idle": "2021-12-04T05:18:19.924097Z",
     "shell.execute_reply": "2021-12-04T05:18:19.923323Z",
     "shell.execute_reply.started": "2021-12-04T05:18:19.910822Z"
    }
   },
   "outputs": [],
   "source": [
    "#Creating the testing DataFrame for easy indexing\n",
    "testing_data = pd.DataFrame(testing_files,columns=['Testing Image Path'])\n",
    "testing_data"
   ]
  },
  {
   "cell_type": "code",
   "execution_count": null,
   "metadata": {
    "execution": {
     "iopub.execute_input": "2021-12-04T05:18:19.925606Z",
     "iopub.status.busy": "2021-12-04T05:18:19.925351Z",
     "iopub.status.idle": "2021-12-04T05:18:19.932699Z",
     "shell.execute_reply": "2021-12-04T05:18:19.932023Z",
     "shell.execute_reply.started": "2021-12-04T05:18:19.925568Z"
    }
   },
   "outputs": [],
   "source": [
    "#Reading images form the disk to memory and converting from BGR to RGB\n",
    "def read_img(path):\n",
    "    temp = cv2.imread(path)\n",
    "    temp = cv2.cvtColor(temp, cv2.COLOR_BGR2RGB)\n",
    "    return np.array(temp)"
   ]
  },
  {
   "cell_type": "code",
   "execution_count": null,
   "metadata": {
    "execution": {
     "iopub.execute_input": "2021-12-04T05:24:09.443436Z",
     "iopub.status.busy": "2021-12-04T05:24:09.443001Z",
     "iopub.status.idle": "2021-12-04T05:24:09.449833Z",
     "shell.execute_reply": "2021-12-04T05:24:09.448876Z",
     "shell.execute_reply.started": "2021-12-04T05:24:09.443392Z"
    }
   },
   "outputs": [],
   "source": [
    "#Defining the training and testing augmentations\n",
    "length = 512 #Defining the length used for each image \n",
    "training_transforms = A.Compose([A.RandomCrop(height=length,width=length),\n",
    "                                A.RandomGamma(gamma_limit=(80,120),p=0.9),\n",
    "                                A.JpegCompression(quality_lower=70,quality_upper=90,p=0.9),\n",
    "                                A.GridDistortion(interpolation=cv2.INTER_CUBIC)])\n",
    "    \n",
    "\n",
    "                                \n",
    "testing_augmentation = A.Compose([\n",
    "                                  A.CenterCrop(height=length,width=length)])"
   ]
  },
  {
   "cell_type": "code",
   "execution_count": null,
   "metadata": {
    "execution": {
     "iopub.execute_input": "2021-12-04T05:24:09.45223Z",
     "iopub.status.busy": "2021-12-04T05:24:09.451652Z",
     "iopub.status.idle": "2021-12-04T05:24:09.464217Z",
     "shell.execute_reply": "2021-12-04T05:24:09.46321Z",
     "shell.execute_reply.started": "2021-12-04T05:24:09.452171Z"
    }
   },
   "outputs": [],
   "source": [
    "#Creating a custom dataset to read the images in a mini-batch format\n",
    "\n",
    "class Dataset(keras.utils.Sequence):\n",
    "    def __init__(self,x,y,batch_size,augmentations,test):\n",
    "        self.x = x\n",
    "        self.y = y\n",
    "        self.batch_size = batch_size\n",
    "        self.augmentations = augmentations \n",
    "        self.test = test \n",
    "    def __len__(self):\n",
    "        return int(len(self.x)/self.batch_size)\n",
    "    def __getitem__(self,index):\n",
    "        batched_x = self.x.iloc[index*self.batch_size:(index+1)*self.batch_size].to_numpy()\n",
    "        if(self.test):\n",
    "            images = [(self.augmentations(image=read_img(i))['image']) for i in batched_x]\n",
    "            \n",
    "        else:\n",
    "            batched_y = self.y.iloc[index*self.batch_size : (index+1)*self.batch_size,:]\n",
    "            images = [(self.augmentations(image=read_img(i[0]))['image']) for i in batched_x]\n",
    "        return np.array(images)if self.test else (np.array(images),np.array(batched_y.values))"
   ]
  },
  {
   "cell_type": "code",
   "execution_count": null,
   "metadata": {
    "execution": {
     "iopub.execute_input": "2021-12-04T05:24:09.466254Z",
     "iopub.status.busy": "2021-12-04T05:24:09.465727Z",
     "iopub.status.idle": "2021-12-04T05:24:09.474549Z",
     "shell.execute_reply": "2021-12-04T05:24:09.473639Z",
     "shell.execute_reply.started": "2021-12-04T05:24:09.46621Z"
    }
   },
   "outputs": [],
   "source": [
    "#Creating a dummy datast to test the functionality\n",
    "dummy_dataset = Dataset(training_data,classes,batch_size=batch_size,augmentations=training_transforms,test=False)"
   ]
  },
  {
   "cell_type": "code",
   "execution_count": null,
   "metadata": {
    "execution": {
     "iopub.execute_input": "2021-12-04T05:24:09.477963Z",
     "iopub.status.busy": "2021-12-04T05:24:09.477233Z",
     "iopub.status.idle": "2021-12-04T05:24:11.095387Z",
     "shell.execute_reply": "2021-12-04T05:24:11.094706Z",
     "shell.execute_reply.started": "2021-12-04T05:24:09.47775Z"
    }
   },
   "outputs": [],
   "source": [
    "#Calling the dummy dataset to check the functionality \n",
    "(a,b)=dummy_dataset.__getitem__(5)\n",
    "print(a[0])\n",
    "print(a.shape)\n",
    "print(b)\n",
    "print(b.shape)\n",
    "print(type(b))\n",
    "plt.imshow(a[0])\n"
   ]
  },
  {
   "cell_type": "code",
   "execution_count": null,
   "metadata": {
    "execution": {
     "iopub.execute_input": "2021-12-04T05:24:11.098225Z",
     "iopub.status.busy": "2021-12-04T05:24:11.097497Z",
     "iopub.status.idle": "2021-12-04T05:24:11.106903Z",
     "shell.execute_reply": "2021-12-04T05:24:11.106079Z",
     "shell.execute_reply.started": "2021-12-04T05:24:11.098186Z"
    }
   },
   "outputs": [],
   "source": [
    "#Creating the Keras model for training with the EfficientNet Model being instantiated with imagenet weights\n",
    "def keras_model(length,input_size,output_classes):\n",
    "        base_model = tf.keras.applications.EfficientNetB4(weights='imagenet', include_top=False, input_shape=[length, length, 3])\n",
    "        base_model.trainable = True\n",
    "        inputs =tf.keras.layers.Input(shape=(length,length,3))\n",
    "        x = tf.keras.applications.efficientnet.preprocess_input(inputs)\n",
    "        x = base_model(x, training=True)\n",
    "        x = tf.keras.layers.GlobalAveragePooling2D()(x)\n",
    "        x = tf.keras.layers.Dense(32,activation='relu')(x)\n",
    "        outputs = tf.keras.layers.Dense(10, activation='softmax')(x)\n",
    "\n",
    "        model =tf.keras.Model(inputs=inputs, outputs=outputs)\n",
    "\n",
    "        model.compile(optimizer=tf.keras.optimizers.Adam(lr=learning_rate), loss='categorical_crossentropy', metrics=['accuracy'])\n",
    "\n",
    "        model.summary() \n",
    "        return model"
   ]
  },
  {
   "cell_type": "code",
   "execution_count": null,
   "metadata": {
    "execution": {
     "iopub.execute_input": "2021-12-04T05:24:11.108183Z",
     "iopub.status.busy": "2021-12-04T05:24:11.107915Z",
     "iopub.status.idle": "2021-12-04T05:24:15.870311Z",
     "shell.execute_reply": "2021-12-04T05:24:15.869567Z",
     "shell.execute_reply.started": "2021-12-04T05:24:11.108147Z"
    }
   },
   "outputs": [],
   "source": [
    "#Instantiating the keras model\n",
    "training_model = keras_model(length,length*length*3,10)"
   ]
  },
  {
   "cell_type": "code",
   "execution_count": null,
   "metadata": {
    "execution": {
     "iopub.execute_input": "2021-12-04T05:24:15.871637Z",
     "iopub.status.busy": "2021-12-04T05:24:15.871392Z",
     "iopub.status.idle": "2021-12-04T05:24:15.902985Z",
     "shell.execute_reply": "2021-12-04T05:24:15.902182Z",
     "shell.execute_reply.started": "2021-12-04T05:24:15.87159Z"
    }
   },
   "outputs": [],
   "source": [
    "#Printing the summary of training model \n",
    "training_model.summary()"
   ]
  },
  {
   "cell_type": "code",
   "execution_count": null,
   "metadata": {
    "execution": {
     "iopub.execute_input": "2021-12-04T05:59:35.435882Z",
     "iopub.status.busy": "2021-12-04T05:59:35.435601Z",
     "iopub.status.idle": "2021-12-04T05:59:35.446715Z",
     "shell.execute_reply": "2021-12-04T05:59:35.445798Z",
     "shell.execute_reply.started": "2021-12-04T05:59:35.435849Z"
    }
   },
   "outputs": [],
   "source": [
    "# Splitting the training dataset into a training and validation dataset with the validation split  = 0.1 and setting the Shuffle=True\n",
    "xtrain,xval,ytrain,yval = train_test_split(training_data,classes,test_size=0.1,shuffle=True,random_state=seed)"
   ]
  },
  {
   "cell_type": "code",
   "execution_count": null,
   "metadata": {
    "execution": {
     "iopub.execute_input": "2021-12-04T05:24:15.913832Z",
     "iopub.status.busy": "2021-12-04T05:24:15.913381Z",
     "iopub.status.idle": "2021-12-04T05:24:15.920175Z",
     "shell.execute_reply": "2021-12-04T05:24:15.919362Z",
     "shell.execute_reply.started": "2021-12-04T05:24:15.913793Z"
    }
   },
   "outputs": [],
   "source": [
    "#Printing the size of each array to check that the sizes match\n",
    "print(len(xtrain),len(xval))\n",
    "print(len(ytrain),len(yval))"
   ]
  },
  {
   "cell_type": "code",
   "execution_count": null,
   "metadata": {
    "execution": {
     "iopub.execute_input": "2021-12-04T05:56:15.107479Z",
     "iopub.status.busy": "2021-12-04T05:56:15.106937Z",
     "iopub.status.idle": "2021-12-04T05:56:15.113315Z",
     "shell.execute_reply": "2021-12-04T05:56:15.112574Z",
     "shell.execute_reply.started": "2021-12-04T05:56:15.107439Z"
    }
   },
   "outputs": [],
   "source": [
    "#Pushing the arrays into a custom keras dataset to feed to the neural networ\n",
    "training_dataset = Dataset(xtrain,ytrain,batch_size=batch_size,augmentations=training_transforms,test=False)\n",
    "validation_dataset = Dataset(xval,yval,batch_size=1,augmentations=training_transforms,test=False)\n",
    "\n",
    "print(len(training_dataset))\n",
    "print(len(validation_dataset))"
   ]
  },
  {
   "cell_type": "code",
   "execution_count": null,
   "metadata": {
    "execution": {
     "iopub.execute_input": "2021-12-04T05:24:15.930971Z",
     "iopub.status.busy": "2021-12-04T05:24:15.930309Z",
     "iopub.status.idle": "2021-12-04T05:24:15.937747Z",
     "shell.execute_reply": "2021-12-04T05:24:15.937079Z",
     "shell.execute_reply.started": "2021-12-04T05:24:15.93093Z"
    }
   },
   "outputs": [],
   "source": [
    "#Creating a list of callbacks to add to the training model \n",
    "\n",
    "model_file = \"output/base_model_weights.hd5\" # defining the output path to save the model file\n",
    "\n",
    "checkpoint = tf.keras.callbacks.ModelCheckpoint(model_file, monitor=\"val_accuracy\", save_best_only=True, mode='max') # Save the model which has the best validation acc\n",
    "\n",
    "reduce_lr = tf.keras.callbacks.ReduceLROnPlateau(monitor=\"val_accuracy\", factor=0.9, patience=2, min_lr=1e-6, mode=\"max\", verbose=True) # reduce Lr if the validation acc does not increase\n",
    "\n",
    "early_stopping = tf.keras.callbacks.EarlyStopping(monitor=\"val_accuracy\", patience=5, mode=\"max\", verbose=True) # Stop the training if the val acc does not improve\n",
    "\n",
    "callbacks_list = [checkpoint, reduce_lr, early_stopping] # Call all of the instantiated callbacks into one variable\n"
   ]
  },
  {
   "cell_type": "code",
   "execution_count": null,
   "metadata": {
    "execution": {
     "iopub.execute_input": "2021-12-04T05:24:15.939264Z",
     "iopub.status.busy": "2021-12-04T05:24:15.938921Z",
     "iopub.status.idle": "2021-12-04T05:49:50.189471Z",
     "shell.execute_reply": "2021-12-04T05:49:50.186822Z",
     "shell.execute_reply.started": "2021-12-04T05:24:15.939134Z"
    }
   },
   "outputs": [],
   "source": [
    "#Training the model for 10 epochs multiple times, each time the best model is read back for training \n",
    "inner_epochs = 10\n",
    "training_model.fit(training_dataset,validation_data=validation_dataset,epochs=inner_epochs,batch_size=batch_size,callbacks=callbacks_list,verbose=1)\n",
    "loops = (epochs-inner_epochs)//inner_epochs\n",
    "for i in range(0,3):\n",
    "    training_model= keras.models.load_model(model_file)\n",
    "    training_model.fit(training_dataset,validation_data=validation_dataset,epochs=inner_epochs,batch_size=batch_size,callbacks=callbacks_list,verbose=1)\n",
    "\n"
   ]
  },
  {
   "cell_type": "code",
   "execution_count": null,
   "metadata": {
    "execution": {
     "iopub.execute_input": "2021-12-04T05:49:57.984475Z",
     "iopub.status.busy": "2021-12-04T05:49:57.982659Z",
     "iopub.status.idle": "2021-12-04T05:49:58.014769Z",
     "shell.execute_reply": "2021-12-04T05:49:58.01408Z",
     "shell.execute_reply.started": "2021-12-04T05:49:57.984427Z"
    }
   },
   "outputs": [],
   "source": [
    "#Reading the submission file from the directory \n",
    "sample_submission = pd.read_csv('/kaggle/input/sp-society-camera-model-identification/sample_submission.csv')\n",
    "sample_submission.head() #Printing the top few rows from the submission file"
   ]
  },
  {
   "cell_type": "code",
   "execution_count": null,
   "metadata": {
    "execution": {
     "iopub.execute_input": "2021-12-04T05:49:58.016481Z",
     "iopub.status.busy": "2021-12-04T05:49:58.016253Z",
     "iopub.status.idle": "2021-12-04T05:49:58.026421Z",
     "shell.execute_reply": "2021-12-04T05:49:58.025536Z",
     "shell.execute_reply.started": "2021-12-04T05:49:58.016449Z"
    }
   },
   "outputs": [],
   "source": [
    "#Creating a testing dataset with the filepaths from the submission file\n",
    "\n",
    "\n",
    "x_test = testing_path+sample_submission['fname']\n",
    "#x_test = x_test.to_numpy()\n",
    "print(x_test[0])\n",
    "\n",
    "#training_model.load_model(model_file)\n",
    "x_test = Dataset(x_test,x_test,test=True,batch_size=1,augmentations=testing_augmentation)"
   ]
  },
  {
   "cell_type": "code",
   "execution_count": null,
   "metadata": {
    "execution": {
     "iopub.execute_input": "2021-12-04T05:56:28.315522Z",
     "iopub.status.busy": "2021-12-04T05:56:28.314802Z",
     "iopub.status.idle": "2021-12-04T05:57:29.505313Z",
     "shell.execute_reply": "2021-12-04T05:57:29.504286Z",
     "shell.execute_reply.started": "2021-12-04T05:56:28.315483Z"
    }
   },
   "outputs": [],
   "source": [
    "#generating predictions for the validation dataset\n",
    "val_predicted = training_model.predict(validation_dataset)"
   ]
  },
  {
   "cell_type": "code",
   "execution_count": null,
   "metadata": {
    "execution": {
     "iopub.execute_input": "2021-12-04T05:51:24.636559Z",
     "iopub.status.busy": "2021-12-04T05:51:24.636297Z",
     "iopub.status.idle": "2021-12-04T05:53:13.180625Z",
     "shell.execute_reply": "2021-12-04T05:53:13.17992Z",
     "shell.execute_reply.started": "2021-12-04T05:51:24.636523Z"
    }
   },
   "outputs": [],
   "source": [
    "#reading the best file from memory and generating predictions for the testing dataset\n",
    "training_model = tf.keras.models.load_model(model_file)\n",
    "predicted = training_model.predict(x_test)\n",
    "\n",
    "print(predicted)"
   ]
  },
  {
   "cell_type": "code",
   "execution_count": null,
   "metadata": {
    "execution": {
     "iopub.execute_input": "2021-12-04T05:55:31.700847Z",
     "iopub.status.busy": "2021-12-04T05:55:31.700571Z",
     "iopub.status.idle": "2021-12-04T05:55:31.706491Z",
     "shell.execute_reply": "2021-12-04T05:55:31.705782Z",
     "shell.execute_reply.started": "2021-12-04T05:55:31.700815Z"
    }
   },
   "outputs": [],
   "source": [
    "#Creating a function to convert the one-hot encoded item into class labels\n",
    "def convert_predictions_to_labels(labels):\n",
    "    temp = []\n",
    "    for item in labels.argmax(axis=1):\n",
    "        temp.append(classes_dict[str(item)])\n",
    "    return temp"
   ]
  },
  {
   "cell_type": "code",
   "execution_count": null,
   "metadata": {
    "execution": {
     "iopub.execute_input": "2021-12-04T05:57:29.507481Z",
     "iopub.status.busy": "2021-12-04T05:57:29.507253Z",
     "iopub.status.idle": "2021-12-04T05:57:29.516967Z",
     "shell.execute_reply": "2021-12-04T05:57:29.516185Z",
     "shell.execute_reply.started": "2021-12-04T05:57:29.50745Z"
    }
   },
   "outputs": [],
   "source": [
    "#converting the test and validation predictions to their class labels\n",
    "test_labels = convert_predictions_to_labels(predicted)\n",
    "\n",
    "validation_labels = convert_predictions_to_labels(val_predicted)"
   ]
  },
  {
   "cell_type": "code",
   "execution_count": null,
   "metadata": {
    "execution": {
     "iopub.execute_input": "2021-12-04T05:55:42.873854Z",
     "iopub.status.busy": "2021-12-04T05:55:42.873577Z",
     "iopub.status.idle": "2021-12-04T05:55:42.884147Z",
     "shell.execute_reply": "2021-12-04T05:55:42.883471Z",
     "shell.execute_reply.started": "2021-12-04T05:55:42.873822Z"
    }
   },
   "outputs": [],
   "source": [
    "#filling up the submission file with the test predictions\n",
    "sample_submission['camera'] = test_labels\n",
    "sample_submission.head()"
   ]
  },
  {
   "cell_type": "code",
   "execution_count": null,
   "metadata": {
    "execution": {
     "iopub.execute_input": "2021-12-04T05:55:46.696329Z",
     "iopub.status.busy": "2021-12-04T05:55:46.695745Z",
     "iopub.status.idle": "2021-12-04T05:55:46.717213Z",
     "shell.execute_reply": "2021-12-04T05:55:46.716217Z",
     "shell.execute_reply.started": "2021-12-04T05:55:46.696285Z"
    }
   },
   "outputs": [],
   "source": [
    "#Submitting the test predictions\n",
    "sample_submission.to_csv(\"submission.csv\", index=False)"
   ]
  },
  {
   "cell_type": "code",
   "execution_count": null,
   "metadata": {
    "execution": {
     "iopub.execute_input": "2021-12-04T06:00:03.758684Z",
     "iopub.status.busy": "2021-12-04T06:00:03.757836Z",
     "iopub.status.idle": "2021-12-04T06:00:03.764859Z",
     "shell.execute_reply": "2021-12-04T06:00:03.763994Z",
     "shell.execute_reply.started": "2021-12-04T06:00:03.758639Z"
    }
   },
   "outputs": [],
   "source": [
    "#Converting the validation one-hot encoded labels\n",
    "yval=yval.idxmax(axis=1)"
   ]
  },
  {
   "cell_type": "code",
   "execution_count": null,
   "metadata": {
    "execution": {
     "iopub.execute_input": "2021-12-04T06:00:39.655599Z",
     "iopub.status.busy": "2021-12-04T06:00:39.654869Z",
     "iopub.status.idle": "2021-12-04T06:00:39.663328Z",
     "shell.execute_reply": "2021-12-04T06:00:39.662593Z",
     "shell.execute_reply.started": "2021-12-04T06:00:39.655561Z"
    }
   },
   "outputs": [],
   "source": [
    "#printing the confusion matrix\n",
    "con_matrix = confusion_matrix(yval,validation_labels)\n",
    "print(con_matrix)"
   ]
  }
 ],
 "metadata": {
  "kernelspec": {
   "display_name": "Python 3",
   "language": "python",
   "name": "python3"
  },
  "language_info": {
   "codemirror_mode": {
    "name": "ipython",
    "version": 3
   },
   "file_extension": ".py",
   "mimetype": "text/x-python",
   "name": "python",
   "nbconvert_exporter": "python",
   "pygments_lexer": "ipython3",
   "version": "3.8.8"
  }
 },
 "nbformat": 4,
 "nbformat_minor": 4
}
