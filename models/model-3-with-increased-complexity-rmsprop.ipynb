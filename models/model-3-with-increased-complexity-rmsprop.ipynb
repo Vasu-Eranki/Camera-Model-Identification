{
 "cells": [
  {
   "cell_type": "code",
   "execution_count": null,
   "metadata": {
    "execution": {
     "iopub.execute_input": "2021-12-07T08:15:18.272011Z",
     "iopub.status.busy": "2021-12-07T08:15:18.271547Z",
     "iopub.status.idle": "2021-12-07T08:15:24.167411Z",
     "shell.execute_reply": "2021-12-07T08:15:24.166663Z",
     "shell.execute_reply.started": "2021-12-07T08:15:18.271856Z"
    }
   },
   "outputs": [],
   "source": [
    "#Importing the python libraries \n",
    "import numpy as np \n",
    "import pandas as pd \n",
    "import matplotlib.pyplot as plt \n",
    "import tensorflow as tf \n",
    "import sklearn as sk \n",
    "import os \n",
    "import cv2\n",
    "import albumentations as A\n",
    "from PIL import Image \n",
    "from tensorflow import keras \n",
    "from sklearn.model_selection import train_test_split\n",
    "from sklearn.metrics import confusion_matrix \n",
    "\n",
    "#Setting the training and testing paths to extract the files \n",
    "training_path = \"/kaggle/input/sp-society-camera-model-identification/train/train/\"\n",
    "testing_path = \"/kaggle/input/sp-society-camera-model-identification/test/test/\"\n",
    "_,training_classes,_=next(os.walk(training_path))\n",
    "#print(training_classes)\n"
   ]
  },
  {
   "cell_type": "code",
   "execution_count": null,
   "metadata": {
    "execution": {
     "iopub.execute_input": "2021-12-07T08:15:24.169763Z",
     "iopub.status.busy": "2021-12-07T08:15:24.169356Z",
     "iopub.status.idle": "2021-12-07T08:15:24.174585Z",
     "shell.execute_reply": "2021-12-07T08:15:24.173203Z",
     "shell.execute_reply.started": "2021-12-07T08:15:24.169726Z"
    }
   },
   "outputs": [],
   "source": [
    "#Setting the hyperparameters for the deep learning model\n",
    "batch_size = 8\n",
    "epochs = 40\n",
    "learning_rate = 1e-4"
   ]
  },
  {
   "cell_type": "code",
   "execution_count": null,
   "metadata": {
    "execution": {
     "iopub.execute_input": "2021-12-07T08:15:24.181281Z",
     "iopub.status.busy": "2021-12-07T08:15:24.180941Z",
     "iopub.status.idle": "2021-12-07T08:15:24.659049Z",
     "shell.execute_reply": "2021-12-07T08:15:24.658277Z",
     "shell.execute_reply.started": "2021-12-07T08:15:24.181242Z"
    }
   },
   "outputs": [],
   "source": [
    "#testing_files \n",
    "_,_,testing_files = next(os.walk(testing_path))\n"
   ]
  },
  {
   "cell_type": "code",
   "execution_count": null,
   "metadata": {
    "execution": {
     "iopub.execute_input": "2021-12-07T08:15:24.660772Z",
     "iopub.status.busy": "2021-12-07T08:15:24.660522Z",
     "iopub.status.idle": "2021-12-07T08:15:24.805587Z",
     "shell.execute_reply": "2021-12-07T08:15:24.804832Z",
     "shell.execute_reply.started": "2021-12-07T08:15:24.660736Z"
    }
   },
   "outputs": [],
   "source": [
    "#Creating the training dataset by iterating over the directory \n",
    "#Appending the training paths to the list and extracting the classes from the directory\n",
    "training_paths = [] \n",
    "labels = [] \n",
    "for i in training_classes:\n",
    "    _,_,filenames = next(os.walk(training_path+i))\n",
    "    for j in filenames:\n",
    "        training_paths.append(training_path+i+'/'+j)\n",
    "        labels.append(i)"
   ]
  },
  {
   "cell_type": "code",
   "execution_count": null,
   "metadata": {
    "execution": {
     "iopub.execute_input": "2021-12-07T08:15:24.808544Z",
     "iopub.status.busy": "2021-12-07T08:15:24.808072Z",
     "iopub.status.idle": "2021-12-07T08:15:24.813199Z",
     "shell.execute_reply": "2021-12-07T08:15:24.812488Z",
     "shell.execute_reply.started": "2021-12-07T08:15:24.808506Z"
    }
   },
   "outputs": [],
   "source": [
    "#Ensure that the training size and the class labels are the same\n",
    "assert len(training_paths)==len(labels)"
   ]
  },
  {
   "cell_type": "code",
   "execution_count": null,
   "metadata": {
    "execution": {
     "iopub.execute_input": "2021-12-07T08:15:24.815313Z",
     "iopub.status.busy": "2021-12-07T08:15:24.815021Z",
     "iopub.status.idle": "2021-12-07T08:15:24.822667Z",
     "shell.execute_reply": "2021-12-07T08:15:24.821818Z",
     "shell.execute_reply.started": "2021-12-07T08:15:24.815276Z"
    }
   },
   "outputs": [],
   "source": [
    "#Setting the random seed to 33 for reproducible results\n",
    "seed = 33"
   ]
  },
  {
   "cell_type": "code",
   "execution_count": null,
   "metadata": {
    "execution": {
     "iopub.execute_input": "2021-12-07T08:15:24.825092Z",
     "iopub.status.busy": "2021-12-07T08:15:24.82355Z",
     "iopub.status.idle": "2021-12-07T08:15:24.848181Z",
     "shell.execute_reply": "2021-12-07T08:15:24.84747Z",
     "shell.execute_reply.started": "2021-12-07T08:15:24.825055Z"
    }
   },
   "outputs": [],
   "source": [
    "#Moving the training paths to an pandas DataFrame for easy indexing and one-hot encoding the class labels\n",
    "training_data = pd.DataFrame(training_paths,columns=['Training Image Path'])\n",
    "classes = pd.DataFrame(labels)\n",
    "classes = pd.get_dummies(classes)\n",
    "classes.columns=np.unique(labels)# One Hot Encode the class variables"
   ]
  },
  {
   "cell_type": "code",
   "execution_count": null,
   "metadata": {
    "execution": {
     "iopub.execute_input": "2021-12-07T08:15:24.850185Z",
     "iopub.status.busy": "2021-12-07T08:15:24.849672Z",
     "iopub.status.idle": "2021-12-07T08:15:24.866675Z",
     "shell.execute_reply": "2021-12-07T08:15:24.866028Z",
     "shell.execute_reply.started": "2021-12-07T08:15:24.850149Z"
    }
   },
   "outputs": [],
   "source": [
    "#print the training data\n",
    "training_data"
   ]
  },
  {
   "cell_type": "code",
   "execution_count": null,
   "metadata": {
    "execution": {
     "iopub.execute_input": "2021-12-07T08:15:24.86847Z",
     "iopub.status.busy": "2021-12-07T08:15:24.868028Z",
     "iopub.status.idle": "2021-12-07T08:15:24.879755Z",
     "shell.execute_reply": "2021-12-07T08:15:24.87914Z",
     "shell.execute_reply.started": "2021-12-07T08:15:24.868437Z"
    }
   },
   "outputs": [],
   "source": [
    "#printing the one-hot encoded class variable\n",
    "classes.head()"
   ]
  },
  {
   "cell_type": "code",
   "execution_count": null,
   "metadata": {
    "execution": {
     "iopub.execute_input": "2021-12-07T08:15:24.88137Z",
     "iopub.status.busy": "2021-12-07T08:15:24.88082Z",
     "iopub.status.idle": "2021-12-07T08:15:24.886207Z",
     "shell.execute_reply": "2021-12-07T08:15:24.88541Z",
     "shell.execute_reply.started": "2021-12-07T08:15:24.881334Z"
    }
   },
   "outputs": [],
   "source": [
    "#Creating the class dictionary for converting the one-hot encoded variables\n",
    "classes_dict = {'0':'HTC-1-M7',\n",
    "                '1':'LG-Nexus-5x',\n",
    "                '2':'Motorola-Droid-Maxx',\n",
    "                '3':'Motorola-Nexus-6',\n",
    "                '4':'Motorola-X',\n",
    "                '5':'Samsung-Galaxy-Note3',\n",
    "                '6':'Samsung-Galaxy-S4',\n",
    "                '7':'Sony-NEX-7',\n",
    "                '8':'iPhone-4s',\n",
    "                '9':'iPhone-6'}"
   ]
  },
  {
   "cell_type": "code",
   "execution_count": null,
   "metadata": {
    "execution": {
     "iopub.execute_input": "2021-12-07T08:15:24.887949Z",
     "iopub.status.busy": "2021-12-07T08:15:24.887335Z",
     "iopub.status.idle": "2021-12-07T08:15:24.9015Z",
     "shell.execute_reply": "2021-12-07T08:15:24.900856Z",
     "shell.execute_reply.started": "2021-12-07T08:15:24.887909Z"
    }
   },
   "outputs": [],
   "source": [
    "#Creating the testing DataFrame for easy indexing\n",
    "testing_data = pd.DataFrame(testing_files,columns=['Testing Image Path'])\n",
    "testing_data"
   ]
  },
  {
   "cell_type": "code",
   "execution_count": null,
   "metadata": {
    "execution": {
     "iopub.execute_input": "2021-12-07T08:15:24.903322Z",
     "iopub.status.busy": "2021-12-07T08:15:24.90286Z",
     "iopub.status.idle": "2021-12-07T08:15:24.910413Z",
     "shell.execute_reply": "2021-12-07T08:15:24.909679Z",
     "shell.execute_reply.started": "2021-12-07T08:15:24.903287Z"
    }
   },
   "outputs": [],
   "source": [
    "#Reading images form the disk to memory and converting from BGR to RGB\n",
    "def read_img(path):\n",
    "    temp = cv2.imread(path)\n",
    "    temp = cv2.cvtColor(temp, cv2.COLOR_BGR2RGB)\n",
    "    return np.array(temp)"
   ]
  },
  {
   "cell_type": "code",
   "execution_count": null,
   "metadata": {
    "execution": {
     "iopub.execute_input": "2021-12-07T08:15:24.912142Z",
     "iopub.status.busy": "2021-12-07T08:15:24.91172Z",
     "iopub.status.idle": "2021-12-07T08:15:24.922167Z",
     "shell.execute_reply": "2021-12-07T08:15:24.921438Z",
     "shell.execute_reply.started": "2021-12-07T08:15:24.912109Z"
    }
   },
   "outputs": [],
   "source": [
    "#Defining the training and testing augmentations\n",
    "length = 512 #Defining the length used for each image \n",
    "training_transforms = A.Compose([A.RandomCrop(height=length,width=length),\n",
    "                                A.RandomGamma(gamma_limit=(80,120),p=0.9),\n",
    "                                A.JpegCompression(quality_lower=70,quality_upper=90,p=0.9),\n",
    "                                A.GridDistortion(interpolation=cv2.INTER_CUBIC)])\n",
    "    \n",
    "\n",
    "                                \n",
    "testing_augmentation = A.Compose([\n",
    "                                  A.CenterCrop(height=length,width=length)])"
   ]
  },
  {
   "cell_type": "code",
   "execution_count": null,
   "metadata": {
    "execution": {
     "iopub.execute_input": "2021-12-07T08:15:24.92649Z",
     "iopub.status.busy": "2021-12-07T08:15:24.926059Z",
     "iopub.status.idle": "2021-12-07T08:15:25.989758Z",
     "shell.execute_reply": "2021-12-07T08:15:25.989025Z",
     "shell.execute_reply.started": "2021-12-07T08:15:24.926419Z"
    }
   },
   "outputs": [],
   "source": [
    "#Creating a custom dataset to read the images in a mini-batch format\n",
    "\n",
    "class Dataset(keras.utils.Sequence):\n",
    "    def __init__(self,x,y,batch_size,augmentations,test):\n",
    "        self.x = x\n",
    "        self.y = y\n",
    "        self.batch_size = batch_size\n",
    "        self.augmentations = augmentations \n",
    "        self.test = test \n",
    "    def __len__(self):\n",
    "        return int(len(self.x)/self.batch_size)\n",
    "    def __getitem__(self,index):\n",
    "        batched_x = self.x.iloc[index*self.batch_size:(index+1)*self.batch_size].to_numpy()\n",
    "        if(self.test):\n",
    "            images = [(self.augmentations(image=read_img(i))['image']) for i in batched_x]\n",
    "            \n",
    "        else:\n",
    "            batched_y = self.y.iloc[index*self.batch_size : (index+1)*self.batch_size,:]\n",
    "            images = [(self.augmentations(image=read_img(i[0]))['image']) for i in batched_x]\n",
    "        return np.array(images)if self.test else (np.array(images),np.array(batched_y.values))"
   ]
  },
  {
   "cell_type": "code",
   "execution_count": null,
   "metadata": {
    "execution": {
     "iopub.execute_input": "2021-12-07T08:15:25.991876Z",
     "iopub.status.busy": "2021-12-07T08:15:25.990909Z",
     "iopub.status.idle": "2021-12-07T08:15:26.000576Z",
     "shell.execute_reply": "2021-12-07T08:15:25.99802Z",
     "shell.execute_reply.started": "2021-12-07T08:15:25.991832Z"
    }
   },
   "outputs": [],
   "source": [
    "#Creating a dummy datast to test the functionality\n",
    "dummy_dataset = Dataset(training_data,classes,batch_size=batch_size,augmentations=training_transforms,test=False)"
   ]
  },
  {
   "cell_type": "code",
   "execution_count": null,
   "metadata": {
    "execution": {
     "iopub.execute_input": "2021-12-07T08:15:26.002469Z",
     "iopub.status.busy": "2021-12-07T08:15:26.001623Z",
     "iopub.status.idle": "2021-12-07T08:15:27.902888Z",
     "shell.execute_reply": "2021-12-07T08:15:27.902198Z",
     "shell.execute_reply.started": "2021-12-07T08:15:26.002431Z"
    }
   },
   "outputs": [],
   "source": [
    "#Calling the dummy dataset to check the functionality \n",
    "(a,b)=dummy_dataset.__getitem__(5)\n",
    "print(a[0])\n",
    "print(a.shape)\n",
    "print(b)\n",
    "print(b.shape)\n",
    "print(type(b))\n",
    "plt.imshow(a[0])\n",
    "\n",
    "losses  = keras.losses.CategoricalCrossentropy(label_smoothing=0.1)\n",
    "#Instantiating the Categorial Corss Entropy loss function with label smoothing"
   ]
  },
  {
   "cell_type": "code",
   "execution_count": null,
   "metadata": {
    "execution": {
     "iopub.execute_input": "2021-12-07T08:15:27.90407Z",
     "iopub.status.busy": "2021-12-07T08:15:27.903823Z",
     "iopub.status.idle": "2021-12-07T08:15:27.91313Z",
     "shell.execute_reply": "2021-12-07T08:15:27.912489Z",
     "shell.execute_reply.started": "2021-12-07T08:15:27.904035Z"
    }
   },
   "outputs": [],
   "source": [
    "#Creating the Keras model for training with the EfficientNet Model being instantiated with imagenet weights\n",
    "def keras_model(length,input_size,output_classes):\n",
    "        p=0.3\n",
    "        base_model = tf.keras.applications.EfficientNetB4(weights='imagenet', include_top=False, input_shape=[length, length, 3])\n",
    "        base_model.trainable = False\n",
    "        inputs =keras.layers.Input(shape=(length,length,3))\n",
    "        x = keras.applications.efficientnet.preprocess_input(inputs)\n",
    "        x = base_model(x, training=False)\n",
    "        x = keras.layers.BatchNormalization()(x)\n",
    "        x = keras.layers.GlobalAveragePooling2D()(x)\n",
    "        x = keras.layers.Dense(1024,activation='relu')(x)\n",
    "        x = keras.layers.Dense(256,activation='relu')(x)\n",
    "        x = keras.layers.Dense(64,activation='relu')(x)\n",
    "        outputs = keras.layers.Dense(10, activation='softmax')(x)\n",
    "\n",
    "        model =keras.Model(inputs=inputs, outputs=outputs)\n",
    "\n",
    "        model.compile(optimizer=tf.keras.optimizers.RMSprop(lr=learning_rate), loss=losses, metrics=['accuracy'])\n",
    "\n",
    "        model.summary() \n",
    "        return model"
   ]
  },
  {
   "cell_type": "code",
   "execution_count": null,
   "metadata": {
    "execution": {
     "iopub.execute_input": "2021-12-07T08:15:27.914782Z",
     "iopub.status.busy": "2021-12-07T08:15:27.914378Z",
     "iopub.status.idle": "2021-12-07T08:15:36.568012Z",
     "shell.execute_reply": "2021-12-07T08:15:36.56737Z",
     "shell.execute_reply.started": "2021-12-07T08:15:27.914748Z"
    }
   },
   "outputs": [],
   "source": [
    "#Instantiating the keras model\n",
    "training_model = keras_model(length,length*length*3,10)"
   ]
  },
  {
   "cell_type": "code",
   "execution_count": null,
   "metadata": {
    "execution": {
     "iopub.execute_input": "2021-12-07T08:15:36.572247Z",
     "iopub.status.busy": "2021-12-07T08:15:36.571734Z",
     "iopub.status.idle": "2021-12-07T08:15:36.619084Z",
     "shell.execute_reply": "2021-12-07T08:15:36.618427Z",
     "shell.execute_reply.started": "2021-12-07T08:15:36.572207Z"
    }
   },
   "outputs": [],
   "source": [
    "#Printing the summary of training model \n",
    "training_model.summary()"
   ]
  },
  {
   "cell_type": "code",
   "execution_count": null,
   "metadata": {
    "execution": {
     "iopub.execute_input": "2021-12-07T08:15:36.625076Z",
     "iopub.status.busy": "2021-12-07T08:15:36.622803Z",
     "iopub.status.idle": "2021-12-07T08:15:36.634751Z",
     "shell.execute_reply": "2021-12-07T08:15:36.633972Z",
     "shell.execute_reply.started": "2021-12-07T08:15:36.625038Z"
    }
   },
   "outputs": [],
   "source": [
    "# Splitting the training dataset into a training and validation dataset with the validation split  = 0.1 and setting the Shuffle=True\n",
    "xtrain,xval,ytrain,yval = train_test_split(training_data,classes,test_size=0.1,shuffle=True,random_state=seed)"
   ]
  },
  {
   "cell_type": "code",
   "execution_count": null,
   "metadata": {
    "execution": {
     "iopub.execute_input": "2021-12-07T08:15:36.63974Z",
     "iopub.status.busy": "2021-12-07T08:15:36.639152Z",
     "iopub.status.idle": "2021-12-07T08:15:36.649439Z",
     "shell.execute_reply": "2021-12-07T08:15:36.648431Z",
     "shell.execute_reply.started": "2021-12-07T08:15:36.639698Z"
    }
   },
   "outputs": [],
   "source": [
    "#Printing the size of each array to check that the sizes match\n",
    "print(len(xtrain),len(xval))\n",
    "print(len(ytrain),len(yval))"
   ]
  },
  {
   "cell_type": "code",
   "execution_count": null,
   "metadata": {
    "execution": {
     "iopub.execute_input": "2021-12-07T08:15:36.653618Z",
     "iopub.status.busy": "2021-12-07T08:15:36.653069Z",
     "iopub.status.idle": "2021-12-07T08:15:36.661239Z",
     "shell.execute_reply": "2021-12-07T08:15:36.659781Z",
     "shell.execute_reply.started": "2021-12-07T08:15:36.653578Z"
    }
   },
   "outputs": [],
   "source": [
    "#Pushing the arrays into a custom keras dataset to feed to the neural networ\n",
    "training_dataset = Dataset(xtrain,ytrain,batch_size=batch_size,augmentations=training_transforms,test=False)\n",
    "validation_dataset = Dataset(xval,yval,batch_size=1,augmentations=training_transforms,test=False)\n",
    "\n",
    "print(len(training_dataset))\n",
    "print(len(validation_dataset))"
   ]
  },
  {
   "cell_type": "code",
   "execution_count": null,
   "metadata": {
    "execution": {
     "iopub.execute_input": "2021-12-07T08:15:36.663031Z",
     "iopub.status.busy": "2021-12-07T08:15:36.662781Z",
     "iopub.status.idle": "2021-12-07T08:15:36.67018Z",
     "shell.execute_reply": "2021-12-07T08:15:36.669432Z",
     "shell.execute_reply.started": "2021-12-07T08:15:36.662999Z"
    }
   },
   "outputs": [],
   "source": [
    "#Creating a list of callbacks to add to the training model \n",
    "\n",
    "model_file = \"output/base_model_weights.hd5\" # defining the output path to save the model file\n",
    "\n",
    "checkpoint = tf.keras.callbacks.ModelCheckpoint(model_file, monitor=\"val_accuracy\", save_best_only=True, mode='max') # Save the model which has the best validation acc\n",
    "\n",
    "reduce_lr = tf.keras.callbacks.ReduceLROnPlateau(monitor=\"val_accuracy\", factor=0.9, patience=2, min_lr=1e-6, mode=\"max\", verbose=True) # reduce Lr if the validation acc does not increase\n",
    "\n",
    "early_stopping = tf.keras.callbacks.EarlyStopping(monitor=\"val_accuracy\", patience=5, mode=\"max\", verbose=True) # Stop the training if the val acc does not improve\n",
    "\n",
    "callbacks_list = [checkpoint, reduce_lr, early_stopping] # Call all of the instantiated callbacks into one variable\n"
   ]
  },
  {
   "cell_type": "code",
   "execution_count": null,
   "metadata": {
    "execution": {
     "iopub.execute_input": "2021-12-07T08:15:36.671953Z",
     "iopub.status.busy": "2021-12-07T08:15:36.671704Z",
     "iopub.status.idle": "2021-12-07T08:16:51.793183Z",
     "shell.execute_reply": "2021-12-07T08:16:51.792024Z",
     "shell.execute_reply.started": "2021-12-07T08:15:36.671922Z"
    }
   },
   "outputs": [],
   "source": [
    "#Training the model for 10 epochs multiple times, each time the best model is read back for training \n",
    "inner_epochs = 10\n",
    "training_model.fit(training_dataset,validation_data=validation_dataset,epochs=inner_epochs,batch_size=batch_size,callbacks=callbacks_list,verbose=1)\n",
    "loops = (epochs-inner_epochs)//inner_epochs\n",
    "for i in range(0,3):\n",
    "    training_model= keras.models.load_model(model_file)\n",
    "    training_model.fit(training_dataset,validation_data=validation_dataset,epochs=inner_epochs,batch_size=batch_size,callbacks=callbacks_list,verbose=1)\n",
    "\n"
   ]
  },
  {
   "cell_type": "code",
   "execution_count": null,
   "metadata": {
    "execution": {
     "iopub.status.busy": "2021-12-07T08:16:51.794246Z",
     "iopub.status.idle": "2021-12-07T08:16:51.79479Z",
     "shell.execute_reply": "2021-12-07T08:16:51.794588Z",
     "shell.execute_reply.started": "2021-12-07T08:16:51.794565Z"
    }
   },
   "outputs": [],
   "source": [
    "#Reading the submission file from the directory \n",
    "sample_submission = pd.read_csv('/kaggle/input/sp-society-camera-model-identification/sample_submission.csv')\n",
    "sample_submission.head() #Printing the top few rows from the submission file"
   ]
  },
  {
   "cell_type": "code",
   "execution_count": null,
   "metadata": {
    "execution": {
     "iopub.status.busy": "2021-12-07T08:16:51.795736Z",
     "iopub.status.idle": "2021-12-07T08:16:51.796582Z",
     "shell.execute_reply": "2021-12-07T08:16:51.796362Z",
     "shell.execute_reply.started": "2021-12-07T08:16:51.796331Z"
    }
   },
   "outputs": [],
   "source": [
    "#Creating a testing dataset with the filepaths from the submission file\n",
    "\n",
    "\n",
    "x_test = testing_path+sample_submission['fname']\n",
    "#x_test = x_test.to_numpy()\n",
    "print(x_test[0])\n",
    "\n",
    "#training_model.load_model(model_file)\n",
    "x_test = Dataset(x_test,x_test,test=True,batch_size=1,augmentations=testing_augmentation)"
   ]
  },
  {
   "cell_type": "code",
   "execution_count": null,
   "metadata": {
    "execution": {
     "iopub.status.busy": "2021-12-07T08:16:51.797767Z",
     "iopub.status.idle": "2021-12-07T08:16:51.798696Z",
     "shell.execute_reply": "2021-12-07T08:16:51.798473Z",
     "shell.execute_reply.started": "2021-12-07T08:16:51.798447Z"
    }
   },
   "outputs": [],
   "source": [
    "#generating predictions for the validation dataset\n",
    "val_predicted = training_model.predict(validation_dataset)"
   ]
  },
  {
   "cell_type": "code",
   "execution_count": null,
   "metadata": {
    "execution": {
     "iopub.status.busy": "2021-12-07T08:16:51.799896Z",
     "iopub.status.idle": "2021-12-07T08:16:51.800731Z",
     "shell.execute_reply": "2021-12-07T08:16:51.800493Z",
     "shell.execute_reply.started": "2021-12-07T08:16:51.800459Z"
    }
   },
   "outputs": [],
   "source": [
    "#reading the best file from memory and generating predictions for the testing dataset\n",
    "training_model = tf.keras.models.load_model(model_file)\n",
    "predicted = training_model.predict(x_test)\n",
    "\n",
    "print(predicted)"
   ]
  },
  {
   "cell_type": "code",
   "execution_count": null,
   "metadata": {
    "execution": {
     "iopub.status.busy": "2021-12-07T08:16:51.801761Z",
     "iopub.status.idle": "2021-12-07T08:16:51.802516Z",
     "shell.execute_reply": "2021-12-07T08:16:51.802291Z",
     "shell.execute_reply.started": "2021-12-07T08:16:51.802266Z"
    }
   },
   "outputs": [],
   "source": [
    "#Creating a function to convert the one-hot encoded item into class labels\n",
    "def convert_predictions_to_labels(labels):\n",
    "    temp = []\n",
    "    for item in labels.argmax(axis=1):\n",
    "        temp.append(classes_dict[str(item)])\n",
    "    return temp"
   ]
  },
  {
   "cell_type": "code",
   "execution_count": null,
   "metadata": {
    "execution": {
     "iopub.status.busy": "2021-12-07T08:16:51.803569Z",
     "iopub.status.idle": "2021-12-07T08:16:51.804283Z",
     "shell.execute_reply": "2021-12-07T08:16:51.804068Z",
     "shell.execute_reply.started": "2021-12-07T08:16:51.804043Z"
    }
   },
   "outputs": [],
   "source": [
    "#converting the test and validation predictions to their class labels\n",
    "test_labels = convert_predictions_to_labels(predicted)\n",
    "\n",
    "validation_labels = convert_predictions_to_labels(val_predicted)"
   ]
  },
  {
   "cell_type": "code",
   "execution_count": null,
   "metadata": {
    "execution": {
     "iopub.status.busy": "2021-12-07T08:16:51.805433Z",
     "iopub.status.idle": "2021-12-07T08:16:51.806212Z",
     "shell.execute_reply": "2021-12-07T08:16:51.806008Z",
     "shell.execute_reply.started": "2021-12-07T08:16:51.80598Z"
    }
   },
   "outputs": [],
   "source": [
    "#filling up the submission file with the test predictions\n",
    "sample_submission['camera'] = test_labels\n",
    "sample_submission.head()"
   ]
  },
  {
   "cell_type": "code",
   "execution_count": null,
   "metadata": {
    "execution": {
     "iopub.status.busy": "2021-12-07T08:16:51.807284Z",
     "iopub.status.idle": "2021-12-07T08:16:51.807668Z",
     "shell.execute_reply": "2021-12-07T08:16:51.807474Z",
     "shell.execute_reply.started": "2021-12-07T08:16:51.807453Z"
    }
   },
   "outputs": [],
   "source": [
    "#Submitting the test predictions\n",
    "sample_submission.to_csv(\"submission.csv\", index=False)"
   ]
  },
  {
   "cell_type": "code",
   "execution_count": null,
   "metadata": {
    "execution": {
     "iopub.status.busy": "2021-12-07T08:16:51.808775Z",
     "iopub.status.idle": "2021-12-07T08:16:51.809531Z",
     "shell.execute_reply": "2021-12-07T08:16:51.809314Z",
     "shell.execute_reply.started": "2021-12-07T08:16:51.809286Z"
    }
   },
   "outputs": [],
   "source": [
    "#Converting the validation one-hot encoded labels\n",
    "yval=yval.idxmax(axis=1)"
   ]
  },
  {
   "cell_type": "code",
   "execution_count": null,
   "metadata": {
    "execution": {
     "iopub.status.busy": "2021-12-07T08:16:51.810685Z",
     "iopub.status.idle": "2021-12-07T08:16:51.811078Z",
     "shell.execute_reply": "2021-12-07T08:16:51.810871Z",
     "shell.execute_reply.started": "2021-12-07T08:16:51.810849Z"
    }
   },
   "outputs": [],
   "source": [
    "#printing the confusion matrix\n",
    "con_matrix = confusion_matrix(yval,validation_labels)\n",
    "print(con_matrix)"
   ]
  }
 ],
 "metadata": {
  "kernelspec": {
   "display_name": "Python 3",
   "language": "python",
   "name": "python3"
  },
  "language_info": {
   "codemirror_mode": {
    "name": "ipython",
    "version": 3
   },
   "file_extension": ".py",
   "mimetype": "text/x-python",
   "name": "python",
   "nbconvert_exporter": "python",
   "pygments_lexer": "ipython3",
   "version": "3.8.8"
  }
 },
 "nbformat": 4,
 "nbformat_minor": 4
}
