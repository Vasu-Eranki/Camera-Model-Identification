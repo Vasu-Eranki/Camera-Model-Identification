{
 "cells": [
  {
   "cell_type": "code",
   "execution_count": 1,
   "id": "e2e15dec",
   "metadata": {
    "_cell_guid": "b1076dfc-b9ad-4769-8c92-a6c4dae69d19",
    "_uuid": "8f2839f25d086af736a60e9eeb907d3b93b6e0e5",
    "execution": {
     "iopub.execute_input": "2021-11-14T17:40:28.369958Z",
     "iopub.status.busy": "2021-11-14T17:40:28.368127Z",
     "iopub.status.idle": "2021-11-14T17:40:28.380969Z",
     "shell.execute_reply": "2021-11-14T17:40:28.381599Z",
     "shell.execute_reply.started": "2021-11-14T17:21:24.012939Z"
    },
    "papermill": {
     "duration": 0.028946,
     "end_time": "2021-11-14T17:40:28.381913",
     "exception": false,
     "start_time": "2021-11-14T17:40:28.352967",
     "status": "completed"
    },
    "tags": []
   },
   "outputs": [],
   "source": [
    "# This Python 3 environment comes with many helpful analytics libraries installed\n",
    "# It is defined by the kaggle/python Docker image: https://github.com/kaggle/docker-python\n",
    "# For example, here's several helpful packages to load\n",
    "\n",
    "import numpy as np # linear algebra\n",
    "import pandas as pd # data processing, CSV file I/O (e.g. pd.read_csv)\n",
    "import matplotlib.pyplot as plt \n",
    "# Input data files are available in the read-only \"../input/\" directory\n",
    "# For example, running this (by clicking run or pressing Shift+Enter) will list all files under the input directory\n",
    "from PIL import Image \n",
    "import os\n",
    "import numpy as np\n",
    "import matplotlib.image as mpimg\n",
    "# You can write up to 20GB to the current directory (/kaggle/working/) that gets preserved as output when you create a version using \"Save & Run All\" \n",
    "# You can also write temporary files to /kaggle/temp/, but they won't be saved outside of the current session"
   ]
  },
  {
   "cell_type": "markdown",
   "id": "d0f8cfc0",
   "metadata": {
    "papermill": {
     "duration": 0.008187,
     "end_time": "2021-11-14T17:40:28.399038",
     "exception": false,
     "start_time": "2021-11-14T17:40:28.390851",
     "status": "completed"
    },
    "tags": []
   },
   "source": [
    "Finding the number of classes and number of images in each class"
   ]
  },
  {
   "cell_type": "code",
   "execution_count": 2,
   "id": "50017898",
   "metadata": {
    "execution": {
     "iopub.execute_input": "2021-11-14T17:40:28.419606Z",
     "iopub.status.busy": "2021-11-14T17:40:28.418987Z",
     "iopub.status.idle": "2021-11-14T17:40:29.677096Z",
     "shell.execute_reply": "2021-11-14T17:40:29.677589Z",
     "shell.execute_reply.started": "2021-11-14T17:21:24.029961Z"
    },
    "papermill": {
     "duration": 1.270066,
     "end_time": "2021-11-14T17:40:29.677774",
     "exception": false,
     "start_time": "2021-11-14T17:40:28.407708",
     "status": "completed"
    },
    "tags": []
   },
   "outputs": [
    {
     "name": "stdout",
     "output_type": "stream",
     "text": [
      "/kaggle/input/sp-society-camera-model-identification 1\n",
      "/kaggle/input/sp-society-camera-model-identification/test/test 2640\n",
      "/kaggle/input/sp-society-camera-model-identification/train/train/Samsung-Galaxy-S4 275\n",
      "/kaggle/input/sp-society-camera-model-identification/train/train/iPhone-4s 275\n",
      "/kaggle/input/sp-society-camera-model-identification/train/train/iPhone-6 275\n",
      "/kaggle/input/sp-society-camera-model-identification/train/train/Samsung-Galaxy-Note3 275\n",
      "/kaggle/input/sp-society-camera-model-identification/train/train/HTC-1-M7 275\n",
      "/kaggle/input/sp-society-camera-model-identification/train/train/Motorola-Droid-Maxx 275\n",
      "/kaggle/input/sp-society-camera-model-identification/train/train/Sony-NEX-7 275\n",
      "/kaggle/input/sp-society-camera-model-identification/train/train/Motorola-Nexus-6 275\n",
      "/kaggle/input/sp-society-camera-model-identification/train/train/Motorola-X 275\n",
      "/kaggle/input/sp-society-camera-model-identification/train/train/LG-Nexus-5x 275\n"
     ]
    }
   ],
   "source": [
    "for dirname, p, filenames in os.walk('/kaggle/input'):\n",
    "    #for file in filenames:\n",
    "    if(len(filenames)==0):\n",
    "        continue\n",
    "    else:\n",
    "        print(dirname,len(filenames))\n",
    "       "
   ]
  },
  {
   "cell_type": "markdown",
   "id": "bbd3b2a0",
   "metadata": {
    "papermill": {
     "duration": 0.009311,
     "end_time": "2021-11-14T17:40:29.699787",
     "exception": false,
     "start_time": "2021-11-14T17:40:29.690476",
     "status": "completed"
    },
    "tags": []
   },
   "source": [
    "**Finding Image Shape in Training and Testing Dataset**"
   ]
  },
  {
   "cell_type": "code",
   "execution_count": 3,
   "id": "5016714c",
   "metadata": {
    "execution": {
     "iopub.execute_input": "2021-11-14T17:40:29.721471Z",
     "iopub.status.busy": "2021-11-14T17:40:29.720848Z",
     "iopub.status.idle": "2021-11-14T17:40:32.844197Z",
     "shell.execute_reply": "2021-11-14T17:40:32.843604Z",
     "shell.execute_reply.started": "2021-11-14T17:21:24.316560Z"
    },
    "papermill": {
     "duration": 3.135126,
     "end_time": "2021-11-14T17:40:32.844361",
     "exception": false,
     "start_time": "2021-11-14T17:40:29.709235",
     "status": "completed"
    },
    "tags": []
   },
   "outputs": [
    {
     "name": "stdout",
     "output_type": "stream",
     "text": [
      "/kaggle/input/sp-society-camera-model-identification/test/test (512, 512, 3)\n",
      "/kaggle/input/sp-society-camera-model-identification/train/train/Samsung-Galaxy-S4 (2322, 4128, 3)\n",
      "/kaggle/input/sp-society-camera-model-identification/train/train/iPhone-4s (2448, 3264, 3)\n",
      "/kaggle/input/sp-society-camera-model-identification/train/train/iPhone-6 (2448, 3264, 3)\n",
      "/kaggle/input/sp-society-camera-model-identification/train/train/Samsung-Galaxy-Note3 (2322, 4128, 3)\n",
      "/kaggle/input/sp-society-camera-model-identification/train/train/HTC-1-M7 (2688, 1520, 3)\n",
      "/kaggle/input/sp-society-camera-model-identification/train/train/Motorola-Droid-Maxx (2432, 4320, 3)\n",
      "/kaggle/input/sp-society-camera-model-identification/train/train/Sony-NEX-7 (4000, 6000, 3)\n",
      "/kaggle/input/sp-society-camera-model-identification/train/train/Motorola-Nexus-6 (4160, 3120, 3)\n",
      "/kaggle/input/sp-society-camera-model-identification/train/train/Motorola-X (3120, 4160, 3)\n",
      "/kaggle/input/sp-society-camera-model-identification/train/train/LG-Nexus-5x (4032, 3024, 3)\n"
     ]
    }
   ],
   "source": [
    "def find_img_shape(path1,path2):\n",
    "    path = path1+'/'+path2\n",
    "    if(\".tif\" in path or \".jpg\" in path or \".JPG\" in path):\n",
    "        image = Image.open(path)\n",
    "        image = np.asarray(image)\n",
    "        print(path1,image.shape)\n",
    "\n",
    "for dirname, _, filenames in os.walk('/kaggle/input'):\n",
    "    #for file in filenames:\n",
    "    if(len(filenames)==0):\n",
    "        continue\n",
    "    else:\n",
    "        find_img_shape(dirname,filenames[0])\n",
    "        #print(dirname,filenames[0])\n",
    "\n"
   ]
  },
  {
   "cell_type": "markdown",
   "id": "21a87899",
   "metadata": {
    "papermill": {
     "duration": 0.012423,
     "end_time": "2021-11-14T17:40:32.869504",
     "exception": false,
     "start_time": "2021-11-14T17:40:32.857081",
     "status": "completed"
    },
    "tags": []
   },
   "source": [
    "**Saving Training Images Collage**"
   ]
  },
  {
   "cell_type": "code",
   "execution_count": 4,
   "id": "c222efaa",
   "metadata": {
    "execution": {
     "iopub.execute_input": "2021-11-14T17:40:32.898776Z",
     "iopub.status.busy": "2021-11-14T17:40:32.898087Z",
     "iopub.status.idle": "2021-11-14T17:40:36.246269Z",
     "shell.execute_reply": "2021-11-14T17:40:36.245659Z",
     "shell.execute_reply.started": "2021-11-14T17:21:27.247672Z"
    },
    "papermill": {
     "duration": 3.364032,
     "end_time": "2021-11-14T17:40:36.246423",
     "exception": false,
     "start_time": "2021-11-14T17:40:32.882391",
     "status": "completed"
    },
    "tags": []
   },
   "outputs": [],
   "source": [
    "def disp_img(path1,path2):\n",
    "    path = path1+'/'+path2 \n",
    "    if(\".tif\" in path or \".jpg\" in path or \".JPG\" in path):\n",
    "        image = Image.open(path)\n",
    "        image = image.resize((512,512))\n",
    "        #image = np.asarray(image)\n",
    "        image.save('/kaggle/working/'+path2)\n",
    "            \n",
    "\n",
    "for dirname, _, filenames in os.walk('/kaggle/input'):\n",
    "    if(len(filenames)==0):\n",
    "        continue\n",
    "    else:\n",
    "        disp_img(dirname,filenames[0])\n",
    "        #print(filenames[0])\n"
   ]
  },
  {
   "cell_type": "markdown",
   "id": "02fe7dc8",
   "metadata": {
    "papermill": {
     "duration": 0.012252,
     "end_time": "2021-11-14T17:40:36.271437",
     "exception": false,
     "start_time": "2021-11-14T17:40:36.259185",
     "status": "completed"
    },
    "tags": []
   },
   "source": [
    "**Displaying images from each folder**"
   ]
  },
  {
   "cell_type": "code",
   "execution_count": 5,
   "id": "8f24b398",
   "metadata": {
    "execution": {
     "iopub.execute_input": "2021-11-14T17:40:36.311420Z",
     "iopub.status.busy": "2021-11-14T17:40:36.299839Z",
     "iopub.status.idle": "2021-11-14T17:40:36.457778Z",
     "shell.execute_reply": "2021-11-14T17:40:36.456870Z",
     "shell.execute_reply.started": "2021-11-14T17:24:41.498641Z"
    },
    "papermill": {
     "duration": 0.17407,
     "end_time": "2021-11-14T17:40:36.458069",
     "exception": true,
     "start_time": "2021-11-14T17:40:36.283999",
     "status": "failed"
    },
    "tags": []
   },
   "outputs": [
    {
     "name": "stdout",
     "output_type": "stream",
     "text": [
      "['(GalaxyN3)25.jpg', '__notebook__.ipynb', '(iP6)138.jpg', '(Nex7)129.JPG', '(GalaxyS4)18.jpg', 'img_b551817_manip.tif', '(iP4s)34.jpg', '(LG5x)216.jpg', '(HTC-1-M7)149.jpg', '(MotoNex6)39.jpg', '(MotoX)227.jpg', '(MotoMax)170.jpg']\n"
     ]
    },
    {
     "ename": "UnidentifiedImageError",
     "evalue": "cannot identify image file '/kaggle/working/__notebook__.ipynb'",
     "output_type": "error",
     "traceback": [
      "\u001b[0;31m---------------------------------------------------------------------------\u001b[0m",
      "\u001b[0;31mUnidentifiedImageError\u001b[0m                    Traceback (most recent call last)",
      "\u001b[0;32m/tmp/ipykernel_19/2771635266.py\u001b[0m in \u001b[0;36m<module>\u001b[0;34m\u001b[0m\n\u001b[1;32m      9\u001b[0m \u001b[0mprint\u001b[0m\u001b[0;34m(\u001b[0m\u001b[0mx\u001b[0m\u001b[0;34m)\u001b[0m\u001b[0;34m\u001b[0m\u001b[0;34m\u001b[0m\u001b[0m\n\u001b[1;32m     10\u001b[0m row1 = np.hstack(((open_and_convert(path,x[0],rotate=True)),\n\u001b[0;32m---> 11\u001b[0;31m                   \u001b[0;34m(\u001b[0m\u001b[0mopen_and_convert\u001b[0m\u001b[0;34m(\u001b[0m\u001b[0mpath\u001b[0m\u001b[0;34m,\u001b[0m\u001b[0mx\u001b[0m\u001b[0;34m[\u001b[0m\u001b[0;36m1\u001b[0m\u001b[0;34m]\u001b[0m\u001b[0;34m,\u001b[0m\u001b[0mrotate\u001b[0m\u001b[0;34m=\u001b[0m\u001b[0;32mTrue\u001b[0m\u001b[0;34m)\u001b[0m\u001b[0;34m)\u001b[0m\u001b[0;34m,\u001b[0m\u001b[0;34m\u001b[0m\u001b[0;34m\u001b[0m\u001b[0m\n\u001b[0m\u001b[1;32m     12\u001b[0m                   \u001b[0;34m(\u001b[0m\u001b[0mopen_and_convert\u001b[0m\u001b[0;34m(\u001b[0m\u001b[0mpath\u001b[0m\u001b[0;34m,\u001b[0m\u001b[0mx\u001b[0m\u001b[0;34m[\u001b[0m\u001b[0;36m3\u001b[0m\u001b[0;34m]\u001b[0m\u001b[0;34m,\u001b[0m\u001b[0mrotate\u001b[0m\u001b[0;34m=\u001b[0m\u001b[0;32mTrue\u001b[0m\u001b[0;34m)\u001b[0m\u001b[0;34m)\u001b[0m\u001b[0;34m,\u001b[0m\u001b[0;34m\u001b[0m\u001b[0;34m\u001b[0m\u001b[0m\n\u001b[1;32m     13\u001b[0m                   \u001b[0;34m(\u001b[0m\u001b[0mopen_and_convert\u001b[0m\u001b[0;34m(\u001b[0m\u001b[0mpath\u001b[0m\u001b[0;34m,\u001b[0m\u001b[0mx\u001b[0m\u001b[0;34m[\u001b[0m\u001b[0;36m4\u001b[0m\u001b[0;34m]\u001b[0m\u001b[0;34m)\u001b[0m\u001b[0;34m)\u001b[0m\u001b[0;34m,\u001b[0m\u001b[0;34m\u001b[0m\u001b[0;34m\u001b[0m\u001b[0m\n",
      "\u001b[0;32m/tmp/ipykernel_19/2771635266.py\u001b[0m in \u001b[0;36mopen_and_convert\u001b[0;34m(path, image, rotate)\u001b[0m\n\u001b[1;32m      1\u001b[0m \u001b[0;32mdef\u001b[0m \u001b[0mopen_and_convert\u001b[0m\u001b[0;34m(\u001b[0m\u001b[0mpath\u001b[0m\u001b[0;34m,\u001b[0m\u001b[0mimage\u001b[0m\u001b[0;34m,\u001b[0m\u001b[0mrotate\u001b[0m\u001b[0;34m=\u001b[0m\u001b[0;32mFalse\u001b[0m\u001b[0;34m)\u001b[0m\u001b[0;34m:\u001b[0m\u001b[0;34m\u001b[0m\u001b[0;34m\u001b[0m\u001b[0m\n\u001b[1;32m      2\u001b[0m     \u001b[0mimage\u001b[0m \u001b[0;34m=\u001b[0m \u001b[0mpath\u001b[0m\u001b[0;34m+\u001b[0m\u001b[0mimage\u001b[0m\u001b[0;34m\u001b[0m\u001b[0;34m\u001b[0m\u001b[0m\n\u001b[0;32m----> 3\u001b[0;31m     \u001b[0mimage\u001b[0m \u001b[0;34m=\u001b[0m \u001b[0mImage\u001b[0m\u001b[0;34m.\u001b[0m\u001b[0mopen\u001b[0m\u001b[0;34m(\u001b[0m\u001b[0mimage\u001b[0m\u001b[0;34m)\u001b[0m\u001b[0;34m\u001b[0m\u001b[0;34m\u001b[0m\u001b[0m\n\u001b[0m\u001b[1;32m      4\u001b[0m     \u001b[0;32mif\u001b[0m\u001b[0;34m(\u001b[0m\u001b[0mrotate\u001b[0m\u001b[0;34m)\u001b[0m\u001b[0;34m:\u001b[0m\u001b[0;34m\u001b[0m\u001b[0;34m\u001b[0m\u001b[0m\n\u001b[1;32m      5\u001b[0m         \u001b[0mimage\u001b[0m \u001b[0;34m=\u001b[0m \u001b[0mimage\u001b[0m\u001b[0;34m.\u001b[0m\u001b[0mrotate\u001b[0m\u001b[0;34m(\u001b[0m\u001b[0;34m-\u001b[0m\u001b[0;36m90\u001b[0m\u001b[0;34m)\u001b[0m\u001b[0;34m\u001b[0m\u001b[0;34m\u001b[0m\u001b[0m\n",
      "\u001b[0;32m/opt/conda/lib/python3.7/site-packages/PIL/Image.py\u001b[0m in \u001b[0;36mopen\u001b[0;34m(fp, mode, formats)\u001b[0m\n\u001b[1;32m   2966\u001b[0m         \u001b[0mwarnings\u001b[0m\u001b[0;34m.\u001b[0m\u001b[0mwarn\u001b[0m\u001b[0;34m(\u001b[0m\u001b[0mmessage\u001b[0m\u001b[0;34m)\u001b[0m\u001b[0;34m\u001b[0m\u001b[0;34m\u001b[0m\u001b[0m\n\u001b[1;32m   2967\u001b[0m     raise UnidentifiedImageError(\n\u001b[0;32m-> 2968\u001b[0;31m         \u001b[0;34m\"cannot identify image file %r\"\u001b[0m \u001b[0;34m%\u001b[0m \u001b[0;34m(\u001b[0m\u001b[0mfilename\u001b[0m \u001b[0;32mif\u001b[0m \u001b[0mfilename\u001b[0m \u001b[0;32melse\u001b[0m \u001b[0mfp\u001b[0m\u001b[0;34m)\u001b[0m\u001b[0;34m\u001b[0m\u001b[0;34m\u001b[0m\u001b[0m\n\u001b[0m\u001b[1;32m   2969\u001b[0m     )\n\u001b[1;32m   2970\u001b[0m \u001b[0;34m\u001b[0m\u001b[0m\n",
      "\u001b[0;31mUnidentifiedImageError\u001b[0m: cannot identify image file '/kaggle/working/__notebook__.ipynb'"
     ]
    }
   ],
   "source": [
    "def open_and_convert(path,image,rotate=False):\n",
    "    image = path+image\n",
    "    image = Image.open(image)\n",
    "    if(rotate):\n",
    "        image = image.rotate(-90)\n",
    "    return np.asarray(image)\n",
    "path = '/kaggle/working/'\n",
    "x=os.listdir(path)\n",
    "print(x)\n",
    "row1 = np.hstack(((open_and_convert(path,x[0],rotate=True)),\n",
    "                  (open_and_convert(path,x[1],rotate=True)),\n",
    "                  (open_and_convert(path,x[3],rotate=True)),\n",
    "                  (open_and_convert(path,x[4])),\n",
    "                  (open_and_convert(path,x[6]))))\n",
    "row2 = np.hstack(((open_and_convert(path,x[7])),\n",
    "                  (open_and_convert(path,x[8])),\n",
    "                  (open_and_convert(path,x[9])),\n",
    "                  (open_and_convert(path,x[10],True)),\n",
    "                  (open_and_convert(path,x[11]))))\n",
    "training_collage = np.vstack((row1,row2))\n",
    "plt.xlabel('Training Images')\n",
    "plt.xticks([])\n",
    "plt.yticks([])\n",
    "plt.imshow(training_collage)\n",
    "training_collage = Image.fromarray(training_collage)\n",
    "training_collage.save('/kaggle/working/training_collage.jpg')\n"
   ]
  },
  {
   "cell_type": "markdown",
   "id": "94acdde8",
   "metadata": {
    "papermill": {
     "duration": null,
     "end_time": null,
     "exception": null,
     "start_time": null,
     "status": "pending"
    },
    "tags": []
   },
   "source": [
    "**Generating Collage for training set**"
   ]
  },
  {
   "cell_type": "code",
   "execution_count": null,
   "id": "881ae02e",
   "metadata": {
    "execution": {
     "iopub.execute_input": "2021-11-14T17:30:30.140615Z",
     "iopub.status.busy": "2021-11-14T17:30:30.139752Z",
     "iopub.status.idle": "2021-11-14T17:30:30.821772Z",
     "shell.execute_reply": "2021-11-14T17:30:30.821022Z",
     "shell.execute_reply.started": "2021-11-14T17:30:30.140566Z"
    },
    "papermill": {
     "duration": null,
     "end_time": null,
     "exception": null,
     "start_time": null,
     "status": "pending"
    },
    "tags": []
   },
   "outputs": [],
   "source": [
    "test_path = '/kaggle/input/sp-society-camera-model-identification/test/test/'\n",
    "x = os.listdir(test_path)\n",
    "row1 = np.hstack(((open_and_convert(test_path,x[1])),\n",
    "                  (open_and_convert(test_path,x[2])),\n",
    "                  (open_and_convert(test_path,x[3])),\n",
    "                  (open_and_convert(test_path,x[4])),\n",
    "                  (open_and_convert(test_path,x[5]))))\n",
    "row2 = np.hstack(((open_and_convert(test_path,x[7])),\n",
    "                  (open_and_convert(test_path,x[8])),\n",
    "                  (open_and_convert(test_path,x[9])),\n",
    "                  (open_and_convert(test_path,x[10])),\n",
    "                  (open_and_convert(test_path,x[11]))))\n",
    "\n",
    "testing_collage = np.vstack((row1,row2))\n",
    "plt.xlabel('Testing Images')\n",
    "plt.xticks([])\n",
    "plt.yticks([])\n",
    "plt.imshow(testing_collage)\n",
    "testing_collage = Image.fromarray(testing_collage)\n",
    "testing_collage.save(path+'testing_collage.jpg')"
   ]
  }
 ],
 "metadata": {
  "kernelspec": {
   "display_name": "Python 3",
   "language": "python",
   "name": "python3"
  },
  "language_info": {
   "codemirror_mode": {
    "name": "ipython",
    "version": 3
   },
   "file_extension": ".py",
   "mimetype": "text/x-python",
   "name": "python",
   "nbconvert_exporter": "python",
   "pygments_lexer": "ipython3",
   "version": "3.7.10"
  },
  "papermill": {
   "default_parameters": {},
   "duration": 17.859734,
   "end_time": "2021-11-14T17:40:36.980778",
   "environment_variables": {},
   "exception": true,
   "input_path": "__notebook__.ipynb",
   "output_path": "__notebook__.ipynb",
   "parameters": {},
   "start_time": "2021-11-14T17:40:19.121044",
   "version": "2.3.3"
  }
 },
 "nbformat": 4,
 "nbformat_minor": 5
}
