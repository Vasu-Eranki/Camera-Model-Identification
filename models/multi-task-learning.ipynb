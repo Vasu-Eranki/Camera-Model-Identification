{
 "cells": [
  {
   "cell_type": "code",
   "execution_count": null,
   "id": "b520fa75",
   "metadata": {
    "execution": {
     "iopub.execute_input": "2021-12-10T21:13:22.199798Z",
     "iopub.status.busy": "2021-12-10T21:13:22.198172Z",
     "iopub.status.idle": "2021-12-10T21:13:28.284302Z",
     "shell.execute_reply": "2021-12-10T21:13:28.283683Z",
     "shell.execute_reply.started": "2021-12-10T21:04:44.503721Z"
    },
    "papermill": {
     "duration": 6.122369,
     "end_time": "2021-12-10T21:13:28.284487",
     "exception": false,
     "start_time": "2021-12-10T21:13:22.162118",
     "status": "completed"
    },
    "tags": []
   },
   "outputs": [],
   "source": [
    "#Importing the python libraries \n",
    "import numpy as np \n",
    "import pandas as pd \n",
    "import matplotlib.pyplot as plt \n",
    "import tensorflow as tf \n",
    "import sklearn as sk \n",
    "import os \n",
    "import cv2\n",
    "import albumentations as A\n",
    "from PIL import Image \n",
    "from tensorflow import keras \n",
    "from sklearn.model_selection import train_test_split\n",
    "from sklearn.metrics import confusion_matrix \n",
    "\n",
    "#Setting the training and testing paths to extract the files \n",
    "training_path = \"/kaggle/input/sp-society-camera-model-identification/train/train/\"\n",
    "testing_path = \"/kaggle/input/sp-society-camera-model-identification/test/test/\"\n",
    "_,training_classes,_=next(os.walk(training_path))\n",
    "#print(training_classes)\n"
   ]
  },
  {
   "cell_type": "code",
   "execution_count": null,
   "id": "9878ad0c",
   "metadata": {
    "execution": {
     "iopub.execute_input": "2021-12-10T21:13:28.349986Z",
     "iopub.status.busy": "2021-12-10T21:13:28.349122Z",
     "iopub.status.idle": "2021-12-10T21:13:28.351702Z",
     "shell.execute_reply": "2021-12-10T21:13:28.351242Z",
     "shell.execute_reply.started": "2021-12-10T21:04:50.703607Z"
    },
    "papermill": {
     "duration": 0.036059,
     "end_time": "2021-12-10T21:13:28.351821",
     "exception": false,
     "start_time": "2021-12-10T21:13:28.315762",
     "status": "completed"
    },
    "tags": []
   },
   "outputs": [],
   "source": [
    "#Setting the hyperparameters for the deep learning model\n",
    "batch_size = 8\n",
    "epochs = 40\n",
    "learning_rate = 1e-4"
   ]
  },
  {
   "cell_type": "code",
   "execution_count": null,
   "id": "418723a4",
   "metadata": {
    "execution": {
     "iopub.execute_input": "2021-12-10T21:13:28.414496Z",
     "iopub.status.busy": "2021-12-10T21:13:28.413881Z",
     "iopub.status.idle": "2021-12-10T21:13:31.782272Z",
     "shell.execute_reply": "2021-12-10T21:13:31.781751Z",
     "shell.execute_reply.started": "2021-12-10T21:04:50.711259Z"
    },
    "papermill": {
     "duration": 3.401034,
     "end_time": "2021-12-10T21:13:31.782445",
     "exception": false,
     "start_time": "2021-12-10T21:13:28.381411",
     "status": "completed"
    },
    "tags": []
   },
   "outputs": [],
   "source": [
    "#testing_files \n",
    "_,_,testing_files = next(os.walk(testing_path))\n"
   ]
  },
  {
   "cell_type": "code",
   "execution_count": null,
   "id": "64e02524",
   "metadata": {
    "execution": {
     "iopub.execute_input": "2021-12-10T21:13:31.849843Z",
     "iopub.status.busy": "2021-12-10T21:13:31.849190Z",
     "iopub.status.idle": "2021-12-10T21:13:33.032802Z",
     "shell.execute_reply": "2021-12-10T21:13:33.032232Z",
     "shell.execute_reply.started": "2021-12-10T21:04:51.570111Z"
    },
    "papermill": {
     "duration": 1.219224,
     "end_time": "2021-12-10T21:13:33.032935",
     "exception": false,
     "start_time": "2021-12-10T21:13:31.813711",
     "status": "completed"
    },
    "tags": []
   },
   "outputs": [],
   "source": [
    "#Creating the training dataset by iterating over the directory \n",
    "#Appending the training paths to the list and extracting the classes from the directory\n",
    "training_paths = [] \n",
    "labels = [] \n",
    "for i in training_classes:\n",
    "    _,_,filenames = next(os.walk(training_path+i))\n",
    "    for j in filenames:\n",
    "        training_paths.append(training_path+i+'/'+j)\n",
    "        labels.append(i)"
   ]
  },
  {
   "cell_type": "code",
   "execution_count": null,
   "id": "ea5d753f",
   "metadata": {
    "execution": {
     "iopub.execute_input": "2021-12-10T21:13:33.099762Z",
     "iopub.status.busy": "2021-12-10T21:13:33.098871Z",
     "iopub.status.idle": "2021-12-10T21:13:33.100826Z",
     "shell.execute_reply": "2021-12-10T21:13:33.101272Z",
     "shell.execute_reply.started": "2021-12-10T21:04:51.874925Z"
    },
    "papermill": {
     "duration": 0.036751,
     "end_time": "2021-12-10T21:13:33.101542",
     "exception": false,
     "start_time": "2021-12-10T21:13:33.064791",
     "status": "completed"
    },
    "tags": []
   },
   "outputs": [],
   "source": [
    "#Ensure that the training size and the class labels are the same\n",
    "assert len(training_paths)==len(labels)"
   ]
  },
  {
   "cell_type": "code",
   "execution_count": null,
   "id": "722c35c7",
   "metadata": {
    "execution": {
     "iopub.execute_input": "2021-12-10T21:13:33.167751Z",
     "iopub.status.busy": "2021-12-10T21:13:33.166826Z",
     "iopub.status.idle": "2021-12-10T21:13:33.168721Z",
     "shell.execute_reply": "2021-12-10T21:13:33.169248Z",
     "shell.execute_reply.started": "2021-12-10T21:04:51.883098Z"
    },
    "papermill": {
     "duration": 0.037613,
     "end_time": "2021-12-10T21:13:33.169393",
     "exception": false,
     "start_time": "2021-12-10T21:13:33.131780",
     "status": "completed"
    },
    "tags": []
   },
   "outputs": [],
   "source": [
    "#Setting the random seed to 33 for reproducible results\n",
    "seed = 33"
   ]
  },
  {
   "cell_type": "code",
   "execution_count": null,
   "id": "8e2b2095",
   "metadata": {
    "execution": {
     "iopub.execute_input": "2021-12-10T21:13:33.309387Z",
     "iopub.status.busy": "2021-12-10T21:13:33.308777Z",
     "iopub.status.idle": "2021-12-10T21:13:33.315969Z",
     "shell.execute_reply": "2021-12-10T21:13:33.315522Z",
     "shell.execute_reply.started": "2021-12-10T21:04:51.893132Z"
    },
    "papermill": {
     "duration": 0.05461,
     "end_time": "2021-12-10T21:13:33.316089",
     "exception": false,
     "start_time": "2021-12-10T21:13:33.261479",
     "status": "completed"
    },
    "tags": []
   },
   "outputs": [],
   "source": [
    "#Moving the training paths to an pandas DataFrame for easy indexing and one-hot encoding the class labels\n",
    "training_data = pd.DataFrame(training_paths,columns=['Training Image Path'])\n",
    "classes = pd.DataFrame(labels)\n",
    "classes = pd.get_dummies(classes)\n",
    "classes.columns=np.unique(labels)# One Hot Encode the class variables"
   ]
  },
  {
   "cell_type": "code",
   "execution_count": null,
   "id": "2c67c1ff",
   "metadata": {
    "execution": {
     "iopub.execute_input": "2021-12-10T21:13:33.388908Z",
     "iopub.status.busy": "2021-12-10T21:13:33.388191Z",
     "iopub.status.idle": "2021-12-10T21:13:33.391587Z",
     "shell.execute_reply": "2021-12-10T21:13:33.392025Z",
     "shell.execute_reply.started": "2021-12-10T21:04:51.922286Z"
    },
    "papermill": {
     "duration": 0.046111,
     "end_time": "2021-12-10T21:13:33.392159",
     "exception": false,
     "start_time": "2021-12-10T21:13:33.346048",
     "status": "completed"
    },
    "tags": []
   },
   "outputs": [],
   "source": [
    "#Binary encoding the classes for the second learning task in the neural network\n",
    "binary_classification =  []\n",
    "for i in labels:\n",
    "    if(i=='Sony-NEX-7'):\n",
    "        binary_classification.append('DSLR')\n",
    "    else:\n",
    "        binary_classification.append('Mobile')\n",
    "        \n",
    "set(binary_classification)\n",
    "\n",
    "binary_classification = pd.DataFrame(binary_classification)\n",
    "print(binary_classification[0].value_counts())\n",
    "binary_classification.loc[binary_classification[0]=='Mobile']=0\n",
    "binary_classification.loc[binary_classification[0]=='DSLR']=1\n",
    "print(binary_classification[0].value_counts())"
   ]
  },
  {
   "cell_type": "code",
   "execution_count": null,
   "id": "2ac5ca3a",
   "metadata": {
    "execution": {
     "iopub.execute_input": "2021-12-10T21:13:33.468768Z",
     "iopub.status.busy": "2021-12-10T21:13:33.467860Z",
     "iopub.status.idle": "2021-12-10T21:13:33.478513Z",
     "shell.execute_reply": "2021-12-10T21:13:33.479064Z",
     "shell.execute_reply.started": "2021-12-10T21:04:51.941000Z"
    },
    "papermill": {
     "duration": 0.05401,
     "end_time": "2021-12-10T21:13:33.479205",
     "exception": false,
     "start_time": "2021-12-10T21:13:33.425195",
     "status": "completed"
    },
    "tags": []
   },
   "outputs": [],
   "source": [
    "#print the training data\n",
    "training_data"
   ]
  },
  {
   "cell_type": "code",
   "execution_count": null,
   "id": "362f9a5a",
   "metadata": {
    "execution": {
     "iopub.execute_input": "2021-12-10T21:13:33.562722Z",
     "iopub.status.busy": "2021-12-10T21:13:33.554170Z",
     "iopub.status.idle": "2021-12-10T21:13:33.565471Z",
     "shell.execute_reply": "2021-12-10T21:13:33.565984Z",
     "shell.execute_reply.started": "2021-12-10T21:04:51.965954Z"
    },
    "papermill": {
     "duration": 0.05114,
     "end_time": "2021-12-10T21:13:33.566201",
     "exception": false,
     "start_time": "2021-12-10T21:13:33.515061",
     "status": "completed"
    },
    "tags": []
   },
   "outputs": [],
   "source": [
    "#printing the one-hot encoded class variable\n",
    "classes.head()"
   ]
  },
  {
   "cell_type": "code",
   "execution_count": null,
   "id": "d2c927a6",
   "metadata": {
    "execution": {
     "iopub.execute_input": "2021-12-10T21:13:33.667431Z",
     "iopub.status.busy": "2021-12-10T21:13:33.665729Z",
     "iopub.status.idle": "2021-12-10T21:13:33.668320Z",
     "shell.execute_reply": "2021-12-10T21:13:33.666556Z",
     "shell.execute_reply.started": "2021-12-10T21:04:51.982181Z"
    },
    "papermill": {
     "duration": 0.067042,
     "end_time": "2021-12-10T21:13:33.668516",
     "exception": false,
     "start_time": "2021-12-10T21:13:33.601474",
     "status": "completed"
    },
    "tags": []
   },
   "outputs": [],
   "source": [
    "#Creating the class dictionary for converting the one-hot encoded variables\n",
    "classes_dict = {'0':'HTC-1-M7',\n",
    "                '1':'LG-Nexus-5x',\n",
    "                '2':'Motorola-Droid-Maxx',\n",
    "                '3':'Motorola-Nexus-6',\n",
    "                '4':'Motorola-X',\n",
    "                '5':'Samsung-Galaxy-Note3',\n",
    "                '6':'Samsung-Galaxy-S4',\n",
    "                '7':'Sony-NEX-7',\n",
    "                '8':'iPhone-4s',\n",
    "                '9':'iPhone-6'}"
   ]
  },
  {
   "cell_type": "code",
   "execution_count": null,
   "id": "705632ce",
   "metadata": {
    "execution": {
     "iopub.execute_input": "2021-12-10T21:13:33.805852Z",
     "iopub.status.busy": "2021-12-10T21:13:33.805004Z",
     "iopub.status.idle": "2021-12-10T21:13:33.812248Z",
     "shell.execute_reply": "2021-12-10T21:13:33.813637Z",
     "shell.execute_reply.started": "2021-12-10T21:04:51.990628Z"
    },
    "papermill": {
     "duration": 0.081764,
     "end_time": "2021-12-10T21:13:33.814077",
     "exception": false,
     "start_time": "2021-12-10T21:13:33.732313",
     "status": "completed"
    },
    "tags": []
   },
   "outputs": [],
   "source": [
    "#Creating the testing DataFrame for easy indexing\n",
    "testing_data = pd.DataFrame(testing_files,columns=['Testing Image Path'])\n",
    "testing_data"
   ]
  },
  {
   "cell_type": "code",
   "execution_count": null,
   "id": "b088b9f2",
   "metadata": {
    "execution": {
     "iopub.execute_input": "2021-12-10T21:13:33.929175Z",
     "iopub.status.busy": "2021-12-10T21:13:33.928347Z",
     "iopub.status.idle": "2021-12-10T21:13:33.931194Z",
     "shell.execute_reply": "2021-12-10T21:13:33.931978Z",
     "shell.execute_reply.started": "2021-12-10T21:04:52.010949Z"
    },
    "papermill": {
     "duration": 0.060871,
     "end_time": "2021-12-10T21:13:33.932174",
     "exception": false,
     "start_time": "2021-12-10T21:13:33.871303",
     "status": "completed"
    },
    "tags": []
   },
   "outputs": [],
   "source": [
    "#Reading images form the disk to memory and converting from BGR to RGB\n",
    "def read_img(path):\n",
    "    temp = cv2.imread(path)\n",
    "    temp = cv2.cvtColor(temp, cv2.COLOR_BGR2RGB)\n",
    "    return np.array(temp)"
   ]
  },
  {
   "cell_type": "code",
   "execution_count": null,
   "id": "f9c8b455",
   "metadata": {
    "execution": {
     "iopub.execute_input": "2021-12-10T21:13:34.045746Z",
     "iopub.status.busy": "2021-12-10T21:13:34.044897Z",
     "iopub.status.idle": "2021-12-10T21:13:34.052410Z",
     "shell.execute_reply": "2021-12-10T21:13:34.053110Z",
     "shell.execute_reply.started": "2021-12-10T21:04:52.021583Z"
    },
    "papermill": {
     "duration": 0.067605,
     "end_time": "2021-12-10T21:13:34.053288",
     "exception": false,
     "start_time": "2021-12-10T21:13:33.985683",
     "status": "completed"
    },
    "tags": []
   },
   "outputs": [],
   "source": [
    "#Defining the training and testing augmentations\n",
    "length = 512 #Defining the length used for each image \n",
    "training_transforms = A.Compose([A.RandomCrop(height=length,width=length),\n",
    "                                A.RandomGamma(gamma_limit=(80,120),p=0.9),\n",
    "                                A.JpegCompression(quality_lower=70,quality_upper=90,p=0.9),\n",
    "                                A.GridDistortion(interpolation=cv2.INTER_CUBIC)])\n",
    "    \n",
    "\n",
    "                                \n",
    "testing_augmentation = A.Compose([\n",
    "                                  A.CenterCrop(height=length,width=length)])"
   ]
  },
  {
   "cell_type": "code",
   "execution_count": null,
   "id": "6bbe7bfa",
   "metadata": {
    "execution": {
     "iopub.execute_input": "2021-12-10T21:13:34.167986Z",
     "iopub.status.busy": "2021-12-10T21:13:34.167065Z",
     "iopub.status.idle": "2021-12-10T21:13:35.092877Z",
     "shell.execute_reply": "2021-12-10T21:13:35.091738Z",
     "shell.execute_reply.started": "2021-12-10T21:04:52.035242Z"
    },
    "papermill": {
     "duration": 0.989465,
     "end_time": "2021-12-10T21:13:35.093030",
     "exception": false,
     "start_time": "2021-12-10T21:13:34.103565",
     "status": "completed"
    },
    "tags": []
   },
   "outputs": [],
   "source": [
    "#Creating a custom keras dataset to create mini-batch arrays that are fed to the neural network\n",
    "class Dataset(keras.utils.Sequence):\n",
    "    def __init__(self,x,y,y_binary,batch_size,augmentations,test):\n",
    "        self.x = x\n",
    "        self.y = y\n",
    "        self.y_binary = y_binary\n",
    "        self.batch_size = batch_size\n",
    "        self.augmentations = augmentations \n",
    "        self.test = test \n",
    "    def __len__(self):\n",
    "        return int(len(self.x)/self.batch_size)\n",
    "    def __getitem__(self,index):\n",
    "        batched_x = self.x.iloc[index*self.batch_size:(index+1)*self.batch_size].to_numpy()\n",
    "        if(self.test):\n",
    "            images = [(self.augmentations(image=read_img(i))['image']) for i in batched_x]\n",
    "            \n",
    "        else:\n",
    "            batched_y = self.y.iloc[index*self.batch_size : (index+1)*self.batch_size,:]\n",
    "            batched_y_binary = self.y_binary.iloc[index*self.batch_size : (index+1)*self.batch_size]\n",
    "            images = [(self.augmentations(image=read_img(i[0]))['image']) for i in batched_x]\n",
    "        return np.array(images)if self.test else (np.array(images),[np.array(batched_y.values),np.array(batched_y_binary.values)])"
   ]
  },
  {
   "cell_type": "code",
   "execution_count": null,
   "id": "cfaeddb6",
   "metadata": {
    "execution": {
     "iopub.execute_input": "2021-12-10T21:13:35.163433Z",
     "iopub.status.busy": "2021-12-10T21:13:35.162555Z",
     "iopub.status.idle": "2021-12-10T21:13:35.164764Z",
     "shell.execute_reply": "2021-12-10T21:13:35.165189Z",
     "shell.execute_reply.started": "2021-12-10T21:04:52.889003Z"
    },
    "papermill": {
     "duration": 0.039602,
     "end_time": "2021-12-10T21:13:35.165373",
     "exception": false,
     "start_time": "2021-12-10T21:13:35.125771",
     "status": "completed"
    },
    "tags": []
   },
   "outputs": [],
   "source": [
    "#Creating a dummy datast to test the functionality\n",
    "dummy_dataset = Dataset(training_data,classes,binary_classification,batch_size=batch_size,augmentations=training_transforms,test=False)"
   ]
  },
  {
   "cell_type": "code",
   "execution_count": null,
   "id": "a37f61ae",
   "metadata": {
    "execution": {
     "iopub.execute_input": "2021-12-10T21:13:35.237381Z",
     "iopub.status.busy": "2021-12-10T21:13:35.236695Z",
     "iopub.status.idle": "2021-12-10T21:13:37.390199Z",
     "shell.execute_reply": "2021-12-10T21:13:37.389729Z",
     "shell.execute_reply.started": "2021-12-10T21:04:52.894234Z"
    },
    "papermill": {
     "duration": 2.191904,
     "end_time": "2021-12-10T21:13:37.390334",
     "exception": false,
     "start_time": "2021-12-10T21:13:35.198430",
     "status": "completed"
    },
    "tags": []
   },
   "outputs": [],
   "source": [
    "#Calling the dummy dataset to check the functionality \n",
    "(a,b)=dummy_dataset.__getitem__(5)\n",
    "print(a[0])\n",
    "print(a.shape)\n",
    "print(b[1])\n",
    "print(type(b[1]))\n",
    "plt.imshow(a[0])\n",
    "\n",
    "losses  = keras.losses.CategoricalCrossentropy(label_smoothing=0.1)\n",
    "losses_1 = keras.losses.BinaryCrossentropy(label_smoothing=0.1)"
   ]
  },
  {
   "cell_type": "code",
   "execution_count": null,
   "id": "692b41a1",
   "metadata": {
    "execution": {
     "iopub.execute_input": "2021-12-10T21:13:37.544535Z",
     "iopub.status.busy": "2021-12-10T21:13:37.542902Z",
     "iopub.status.idle": "2021-12-10T21:13:37.545124Z",
     "shell.execute_reply": "2021-12-10T21:13:37.545579Z",
     "shell.execute_reply.started": "2021-12-10T21:04:54.873976Z"
    },
    "papermill": {
     "duration": 0.04858,
     "end_time": "2021-12-10T21:13:37.545720",
     "exception": false,
     "start_time": "2021-12-10T21:13:37.497140",
     "status": "completed"
    },
    "tags": []
   },
   "outputs": [],
   "source": [
    "#Creating the Keras model for Multi-tasking and learning two things at once\n",
    "def keras_model(length,input_size,output_classes):\n",
    "        p=0.3\n",
    "        base_model = tf.keras.applications.EfficientNetB4(weights='imagenet', include_top=False, input_shape=[length, length, 3])\n",
    "        base_model.trainable = False\n",
    "        inputs =keras.layers.Input(shape=(length,length,3))\n",
    "        x = keras.applications.efficientnet.preprocess_input(inputs)\n",
    "        x = base_model(x, training=False)\n",
    "        x = keras.layers.BatchNormalization()(x)\n",
    "        x = keras.layers.GlobalAveragePooling2D()(x)\n",
    "        x = keras.layers.Dense(1024,activation='relu')(x)\n",
    "        x = keras.layers.Dense(256,activation='relu')(x)\n",
    "        x = keras.layers.Dense(64,activation='relu')(x)\n",
    "        outputs = keras.layers.Dense(10, activation='softmax')(x)\n",
    "        outputs1 = keras.layers.Dense(1,activation='sigmoid',kernel_regularizer=keras.regularizers.L2(0.01))(x)\n",
    "        model =keras.Model(inputs=inputs, outputs=[outputs,outputs1])\n",
    "\n",
    "        model.compile(optimizer=tf.keras.optimizers.Adam(lr=learning_rate), loss=[losses,losses_1], metrics=['accuracy',keras.metrics.Precision(),keras.metrics.Recall()])\n",
    "\n",
    "        model.summary() \n",
    "        return model"
   ]
  },
  {
   "cell_type": "code",
   "execution_count": null,
   "id": "f6d590a3",
   "metadata": {
    "execution": {
     "iopub.execute_input": "2021-12-10T21:13:37.623522Z",
     "iopub.status.busy": "2021-12-10T21:13:37.622945Z",
     "iopub.status.idle": "2021-12-10T21:13:44.955910Z",
     "shell.execute_reply": "2021-12-10T21:13:44.957199Z",
     "shell.execute_reply.started": "2021-12-10T21:04:54.885566Z"
    },
    "papermill": {
     "duration": 7.376517,
     "end_time": "2021-12-10T21:13:44.957426",
     "exception": false,
     "start_time": "2021-12-10T21:13:37.580909",
     "status": "completed"
    },
    "tags": []
   },
   "outputs": [],
   "source": [
    "#Instantiating the keras model\n",
    "training_model = keras_model(length,length*length*3,10)"
   ]
  },
  {
   "cell_type": "code",
   "execution_count": null,
   "id": "e2d848e0",
   "metadata": {
    "execution": {
     "iopub.execute_input": "2021-12-10T21:13:45.096564Z",
     "iopub.status.busy": "2021-12-10T21:13:45.095734Z",
     "iopub.status.idle": "2021-12-10T21:13:45.102595Z",
     "shell.execute_reply": "2021-12-10T21:13:45.103347Z",
     "shell.execute_reply.started": "2021-12-10T21:05:02.583838Z"
    },
    "papermill": {
     "duration": 0.079381,
     "end_time": "2021-12-10T21:13:45.103565",
     "exception": false,
     "start_time": "2021-12-10T21:13:45.024184",
     "status": "completed"
    },
    "tags": []
   },
   "outputs": [],
   "source": [
    "# Splitting the training dataset into a training and validation dataset with the validation split  = 0.1 and setting the Shuffle=True\n",
    "xtrain,xval,ytrain,yval = train_test_split(training_data,classes,test_size=0.1,shuffle=True,random_state=seed)"
   ]
  },
  {
   "cell_type": "code",
   "execution_count": null,
   "id": "0473bf17",
   "metadata": {
    "execution": {
     "iopub.execute_input": "2021-12-10T21:13:45.249754Z",
     "iopub.status.busy": "2021-12-10T21:13:45.248796Z",
     "iopub.status.idle": "2021-12-10T21:13:45.262293Z",
     "shell.execute_reply": "2021-12-10T21:13:45.261477Z",
     "shell.execute_reply.started": "2021-12-10T21:05:02.595568Z"
    },
    "papermill": {
     "duration": 0.09054,
     "end_time": "2021-12-10T21:13:45.262461",
     "exception": false,
     "start_time": "2021-12-10T21:13:45.171921",
     "status": "completed"
    },
    "tags": []
   },
   "outputs": [],
   "source": [
    "#Creating the binary label for the validation and training dataset\n",
    "ybinary_train = binary_classification.iloc[xtrain.index].astype(int)\n",
    "ybinary_val = binary_classification.iloc[xval.index].astype(int)\n",
    "assert len(ybinary_train)==len(ytrain)\n",
    "assert len(ybinary_val)==len(yval)\n",
    "\n",
    "print(ybinary_train.info())"
   ]
  },
  {
   "cell_type": "code",
   "execution_count": null,
   "id": "a795ad7f",
   "metadata": {
    "execution": {
     "iopub.execute_input": "2021-12-10T21:13:45.346703Z",
     "iopub.status.busy": "2021-12-10T21:13:45.345894Z",
     "iopub.status.idle": "2021-12-10T21:13:45.349638Z",
     "shell.execute_reply": "2021-12-10T21:13:45.350367Z",
     "shell.execute_reply.started": "2021-12-10T21:05:02.613871Z"
    },
    "papermill": {
     "duration": 0.048288,
     "end_time": "2021-12-10T21:13:45.350544",
     "exception": false,
     "start_time": "2021-12-10T21:13:45.302256",
     "status": "completed"
    },
    "tags": []
   },
   "outputs": [],
   "source": [
    "#Printing the size of each array to check that the sizes match\n",
    "print(len(xtrain),len(xval))\n",
    "print(len(ytrain),len(yval))"
   ]
  },
  {
   "cell_type": "code",
   "execution_count": null,
   "id": "3ad4e73e",
   "metadata": {
    "execution": {
     "iopub.execute_input": "2021-12-10T21:13:45.439943Z",
     "iopub.status.busy": "2021-12-10T21:13:45.438154Z",
     "iopub.status.idle": "2021-12-10T21:13:45.442113Z",
     "shell.execute_reply": "2021-12-10T21:13:45.441627Z",
     "shell.execute_reply.started": "2021-12-10T21:05:02.620709Z"
    },
    "papermill": {
     "duration": 0.051206,
     "end_time": "2021-12-10T21:13:45.442224",
     "exception": false,
     "start_time": "2021-12-10T21:13:45.391018",
     "status": "completed"
    },
    "tags": []
   },
   "outputs": [],
   "source": [
    "#Pushing the arrays into a custom keras dataset to feed to the neural networ\n",
    "training_dataset = Dataset(xtrain,ytrain,ybinary_train,batch_size=batch_size,augmentations=training_transforms,test=False)\n",
    "validation_dataset = Dataset(xval,yval,ybinary_val,batch_size=1,augmentations=training_transforms,test=False)\n",
    "\n",
    "print(len(training_dataset))\n",
    "print(len(validation_dataset))"
   ]
  },
  {
   "cell_type": "code",
   "execution_count": null,
   "id": "f58f28af",
   "metadata": {
    "execution": {
     "iopub.execute_input": "2021-12-10T21:13:45.528691Z",
     "iopub.status.busy": "2021-12-10T21:13:45.527998Z",
     "iopub.status.idle": "2021-12-10T21:13:45.531005Z",
     "shell.execute_reply": "2021-12-10T21:13:45.531426Z",
     "shell.execute_reply.started": "2021-12-10T21:05:02.632245Z"
    },
    "papermill": {
     "duration": 0.049109,
     "end_time": "2021-12-10T21:13:45.531578",
     "exception": false,
     "start_time": "2021-12-10T21:13:45.482469",
     "status": "completed"
    },
    "tags": []
   },
   "outputs": [],
   "source": [
    "#Creating a list of callbacks to add to the training model \n",
    "\n",
    "model_file = \"output/base_model_weights.hd5\" # defining the output path to save the model file\n",
    "\n",
    "checkpoint = tf.keras.callbacks.ModelCheckpoint(model_file, monitor=\"val_accuracy\", save_best_only=True, mode='max') # Save the model which has the best validation acc\n",
    "\n",
    "reduce_lr = tf.keras.callbacks.ReduceLROnPlateau(monitor=\"val_accuracy\", factor=0.9, patience=2, min_lr=1e-6, mode=\"max\", verbose=True) # reduce Lr if the validation acc does not increase\n",
    "\n",
    "early_stopping = tf.keras.callbacks.EarlyStopping(monitor=\"val_accuracy\", patience=5, mode=\"max\", verbose=True) # Stop the training if the val acc does not improve\n",
    "\n",
    "callbacks_list = [checkpoint, reduce_lr, early_stopping] # Call all of the instantiated callbacks into one variable\n"
   ]
  },
  {
   "cell_type": "code",
   "execution_count": null,
   "id": "26a80498",
   "metadata": {
    "execution": {
     "iopub.execute_input": "2021-12-10T21:13:45.621746Z",
     "iopub.status.busy": "2021-12-10T21:13:45.618242Z",
     "iopub.status.idle": "2021-12-11T04:29:22.851000Z",
     "shell.execute_reply": "2021-12-11T04:29:22.850485Z",
     "shell.execute_reply.started": "2021-12-10T21:05:31.192233Z"
    },
    "papermill": {
     "duration": 26137.281511,
     "end_time": "2021-12-11T04:29:22.852062",
     "exception": false,
     "start_time": "2021-12-10T21:13:45.570551",
     "status": "completed"
    },
    "tags": []
   },
   "outputs": [],
   "source": [
    "#training the model \n",
    "training_model.fit(training_dataset,validation_data=validation_dataset,epochs=epochs,batch_size=batch_size,callbacks=callbacks_list,verbose=1)\n"
   ]
  },
  {
   "cell_type": "code",
   "execution_count": null,
   "id": "ea7b86e6",
   "metadata": {
    "execution": {
     "iopub.execute_input": "2021-12-11T04:29:30.294258Z",
     "iopub.status.busy": "2021-12-11T04:29:30.293458Z",
     "iopub.status.idle": "2021-12-11T04:29:30.356817Z",
     "shell.execute_reply": "2021-12-11T04:29:30.357821Z",
     "shell.execute_reply.started": "2021-12-10T21:09:22.064150Z"
    },
    "papermill": {
     "duration": 4.010103,
     "end_time": "2021-12-11T04:29:30.358023",
     "exception": false,
     "start_time": "2021-12-11T04:29:26.347920",
     "status": "completed"
    },
    "tags": []
   },
   "outputs": [],
   "source": [
    "#Reading the submission file from the directory \n",
    "sample_submission = pd.read_csv('/kaggle/input/sp-society-camera-model-identification/sample_submission.csv')\n",
    "sample_submission.head() #Printing the top few rows from the submission file"
   ]
  },
  {
   "cell_type": "code",
   "execution_count": null,
   "id": "889ee052",
   "metadata": {
    "execution": {
     "iopub.execute_input": "2021-12-11T04:29:37.717598Z",
     "iopub.status.busy": "2021-12-11T04:29:37.716715Z",
     "iopub.status.idle": "2021-12-11T04:29:37.719542Z",
     "shell.execute_reply": "2021-12-11T04:29:37.719981Z",
     "shell.execute_reply.started": "2021-12-10T21:09:22.089541Z"
    },
    "papermill": {
     "duration": 3.511038,
     "end_time": "2021-12-11T04:29:37.720131",
     "exception": false,
     "start_time": "2021-12-11T04:29:34.209093",
     "status": "completed"
    },
    "tags": []
   },
   "outputs": [],
   "source": [
    "#Creating the testing dataset\n",
    "x_test = testing_path+sample_submission['fname']\n",
    "print(x_test[0])\n",
    "\n",
    "x_test = Dataset(x_test,x_test,x_test,test=True,batch_size=1,augmentations=testing_augmentation)"
   ]
  },
  {
   "cell_type": "code",
   "execution_count": null,
   "id": "43a8fe7b",
   "metadata": {
    "execution": {
     "iopub.execute_input": "2021-12-11T04:29:44.871279Z",
     "iopub.status.busy": "2021-12-11T04:29:44.870703Z",
     "iopub.status.idle": "2021-12-11T04:31:09.382012Z",
     "shell.execute_reply": "2021-12-11T04:31:09.381373Z",
     "shell.execute_reply.started": "2021-12-10T21:09:22.099674Z"
    },
    "papermill": {
     "duration": 88.210218,
     "end_time": "2021-12-11T04:31:09.382143",
     "exception": false,
     "start_time": "2021-12-11T04:29:41.171925",
     "status": "completed"
    },
    "tags": []
   },
   "outputs": [],
   "source": [
    "#generating predictions for the validation dataset\n",
    "val_predicted = training_model.predict(validation_dataset,verbose=1)"
   ]
  },
  {
   "cell_type": "code",
   "execution_count": null,
   "id": "98da2763",
   "metadata": {
    "execution": {
     "iopub.execute_input": "2021-12-11T04:31:16.592639Z",
     "iopub.status.busy": "2021-12-11T04:31:16.591976Z",
     "iopub.status.idle": "2021-12-11T04:32:47.253946Z",
     "shell.execute_reply": "2021-12-11T04:32:47.253150Z",
     "shell.execute_reply.started": "2021-12-10T21:10:39.993428Z"
    },
    "papermill": {
     "duration": 94.110582,
     "end_time": "2021-12-11T04:32:47.254100",
     "exception": false,
     "start_time": "2021-12-11T04:31:13.143518",
     "status": "completed"
    },
    "tags": []
   },
   "outputs": [],
   "source": [
    "##reading the best file from memory and generating predictions for the testing dataset\n",
    "predicted = training_model.predict(x_test,verbose=1)\n",
    "\n",
    "print(predicted)"
   ]
  },
  {
   "cell_type": "code",
   "execution_count": null,
   "id": "c9b93596",
   "metadata": {
    "execution": {
     "iopub.execute_input": "2021-12-11T04:32:55.323887Z",
     "iopub.status.busy": "2021-12-11T04:32:55.322770Z",
     "iopub.status.idle": "2021-12-11T04:32:55.324705Z",
     "shell.execute_reply": "2021-12-11T04:32:55.325128Z",
     "shell.execute_reply.started": "2021-12-10T21:12:05.416392Z"
    },
    "papermill": {
     "duration": 3.844489,
     "end_time": "2021-12-11T04:32:55.325269",
     "exception": false,
     "start_time": "2021-12-11T04:32:51.480780",
     "status": "completed"
    },
    "tags": []
   },
   "outputs": [],
   "source": [
    "#Creating a function to convert the one-hot encoded item into class labels and splitting the two predictions\n",
    "def separate_the_two(array):\n",
    "    return array[0],array[1]\n",
    "\n",
    "\n",
    "def convert_predictions_to_labels(labels):\n",
    "    temp = []\n",
    "    for item in labels.argmax(axis=1):\n",
    "        temp.append(classes_dict[str(item)])\n",
    "    return temp\n",
    "\n"
   ]
  },
  {
   "cell_type": "code",
   "execution_count": null,
   "id": "55e20ca6",
   "metadata": {
    "execution": {
     "iopub.execute_input": "2021-12-11T04:33:11.081839Z",
     "iopub.status.busy": "2021-12-11T04:33:11.080858Z",
     "iopub.status.idle": "2021-12-11T04:33:11.082675Z",
     "shell.execute_reply": "2021-12-11T04:33:11.083124Z",
     "shell.execute_reply.started": "2021-12-10T21:12:05.424906Z"
    },
    "papermill": {
     "duration": 3.941632,
     "end_time": "2021-12-11T04:33:11.083266",
     "exception": false,
     "start_time": "2021-12-11T04:33:07.141634",
     "status": "completed"
    },
    "tags": []
   },
   "outputs": [],
   "source": [
    "#Calling the function to separate the two predictions\n",
    "validation_labels,binary_val_labels=separate_the_two(val_predicted)\n",
    "test_labels,test_binary_labels=separate_the_two(predicted)"
   ]
  },
  {
   "cell_type": "code",
   "execution_count": null,
   "id": "6d4570de",
   "metadata": {
    "execution": {
     "iopub.execute_input": "2021-12-11T04:33:19.492576Z",
     "iopub.status.busy": "2021-12-11T04:33:19.491697Z",
     "iopub.status.idle": "2021-12-11T04:33:19.498852Z",
     "shell.execute_reply": "2021-12-11T04:33:19.498393Z",
     "shell.execute_reply.started": "2021-12-10T21:12:05.435332Z"
    },
    "papermill": {
     "duration": 3.864057,
     "end_time": "2021-12-11T04:33:19.498977",
     "exception": false,
     "start_time": "2021-12-11T04:33:15.634920",
     "status": "completed"
    },
    "tags": []
   },
   "outputs": [],
   "source": [
    "#Converting the one hot encoded values to labels\n",
    "test_labels = convert_predictions_to_labels(test_labels)\n",
    "\n",
    "validation_labels = convert_predictions_to_labels(validation_labels)"
   ]
  },
  {
   "cell_type": "code",
   "execution_count": null,
   "id": "9641630f",
   "metadata": {
    "execution": {
     "iopub.execute_input": "2021-12-11T04:33:27.475411Z",
     "iopub.status.busy": "2021-12-11T04:33:27.474742Z",
     "iopub.status.idle": "2021-12-11T04:33:27.477599Z",
     "shell.execute_reply": "2021-12-11T04:33:27.478006Z",
     "shell.execute_reply.started": "2021-12-10T21:12:05.451741Z"
    },
    "papermill": {
     "duration": 3.806776,
     "end_time": "2021-12-11T04:33:27.478147",
     "exception": false,
     "start_time": "2021-12-11T04:33:23.671371",
     "status": "completed"
    },
    "tags": []
   },
   "outputs": [],
   "source": [
    "#filling up the submission file with the test predictions\n",
    "sample_submission['camera'] = test_labels\n",
    "sample_submission.head()"
   ]
  },
  {
   "cell_type": "code",
   "execution_count": null,
   "id": "5981bc6c",
   "metadata": {
    "execution": {
     "iopub.execute_input": "2021-12-11T04:33:35.377121Z",
     "iopub.status.busy": "2021-12-11T04:33:35.376357Z",
     "iopub.status.idle": "2021-12-11T04:33:35.392989Z",
     "shell.execute_reply": "2021-12-11T04:33:35.392503Z",
     "shell.execute_reply.started": "2021-12-10T21:12:05.466952Z"
    },
    "papermill": {
     "duration": 4.130581,
     "end_time": "2021-12-11T04:33:35.393113",
     "exception": false,
     "start_time": "2021-12-11T04:33:31.262532",
     "status": "completed"
    },
    "tags": []
   },
   "outputs": [],
   "source": [
    "#Submitting the test predictions\n",
    "sample_submission.to_csv(\"submission.csv\", index=False)"
   ]
  },
  {
   "cell_type": "code",
   "execution_count": null,
   "id": "65d73468",
   "metadata": {
    "execution": {
     "iopub.execute_input": "2021-12-11T04:33:43.083117Z",
     "iopub.status.busy": "2021-12-11T04:33:43.082571Z",
     "iopub.status.idle": "2021-12-11T04:33:43.086429Z",
     "shell.execute_reply": "2021-12-11T04:33:43.085959Z",
     "shell.execute_reply.started": "2021-12-10T21:12:05.483400Z"
    },
    "papermill": {
     "duration": 3.812305,
     "end_time": "2021-12-11T04:33:43.086561",
     "exception": false,
     "start_time": "2021-12-11T04:33:39.274256",
     "status": "completed"
    },
    "tags": []
   },
   "outputs": [],
   "source": [
    "#Converting the validation one-hot encoded labels\n",
    "yval=yval.idxmax(axis=1)"
   ]
  },
  {
   "cell_type": "code",
   "execution_count": null,
   "id": "09702c4e",
   "metadata": {
    "execution": {
     "iopub.execute_input": "2021-12-11T04:33:51.634543Z",
     "iopub.status.busy": "2021-12-11T04:33:51.633648Z",
     "iopub.status.idle": "2021-12-11T04:33:51.644866Z",
     "shell.execute_reply": "2021-12-11T04:33:51.644426Z",
     "shell.execute_reply.started": "2021-12-10T21:12:05.490917Z"
    },
    "papermill": {
     "duration": 3.950099,
     "end_time": "2021-12-11T04:33:51.644990",
     "exception": false,
     "start_time": "2021-12-11T04:33:47.694891",
     "status": "completed"
    },
    "tags": []
   },
   "outputs": [],
   "source": [
    "#printing the confusion matrix\n",
    "con_matrix = confusion_matrix(yval,validation_labels)\n",
    "print(con_matrix)"
   ]
  },
  {
   "cell_type": "code",
   "execution_count": null,
   "id": "6548adc9",
   "metadata": {
    "execution": {
     "iopub.execute_input": "2021-12-11T04:33:59.511608Z",
     "iopub.status.busy": "2021-12-11T04:33:59.510730Z",
     "iopub.status.idle": "2021-12-11T04:33:59.513529Z",
     "shell.execute_reply": "2021-12-11T04:33:59.512939Z",
     "shell.execute_reply.started": "2021-12-10T21:12:05.505173Z"
    },
    "papermill": {
     "duration": 4.069888,
     "end_time": "2021-12-11T04:33:59.513665",
     "exception": false,
     "start_time": "2021-12-11T04:33:55.443777",
     "status": "completed"
    },
    "tags": []
   },
   "outputs": [],
   "source": [
    "#Creating a function to convert raw predictions to binary values\n",
    "def convert_from_binary(array):\n",
    "    temp = []\n",
    "    for i in array:\n",
    "        if(i>=0.5):temp.append(1)\n",
    "        else:temp.append(0)\n",
    "    return temp"
   ]
  },
  {
   "cell_type": "code",
   "execution_count": null,
   "id": "4617feaf",
   "metadata": {
    "execution": {
     "iopub.execute_input": "2021-12-11T04:34:07.437940Z",
     "iopub.status.busy": "2021-12-11T04:34:07.437056Z",
     "iopub.status.idle": "2021-12-11T04:34:07.438980Z",
     "shell.execute_reply": "2021-12-11T04:34:07.439416Z",
     "shell.execute_reply.started": "2021-12-10T21:12:05.512476Z"
    },
    "papermill": {
     "duration": 4.12455,
     "end_time": "2021-12-11T04:34:07.439564",
     "exception": false,
     "start_time": "2021-12-11T04:34:03.315014",
     "status": "completed"
    },
    "tags": []
   },
   "outputs": [],
   "source": [
    "#Calling the binary conversion function for the validation data\n",
    "binary_val_labels = convert_from_binary(binary_val_labels)"
   ]
  },
  {
   "cell_type": "code",
   "execution_count": null,
   "id": "fb573b36",
   "metadata": {
    "execution": {
     "iopub.execute_input": "2021-12-11T04:34:15.128691Z",
     "iopub.status.busy": "2021-12-11T04:34:15.126909Z",
     "iopub.status.idle": "2021-12-11T04:34:15.131341Z",
     "shell.execute_reply": "2021-12-11T04:34:15.131754Z",
     "shell.execute_reply.started": "2021-12-10T21:12:05.521644Z"
    },
    "papermill": {
     "duration": 3.845978,
     "end_time": "2021-12-11T04:34:15.131894",
     "exception": false,
     "start_time": "2021-12-11T04:34:11.285916",
     "status": "completed"
    },
    "tags": []
   },
   "outputs": [],
   "source": [
    "#printing the confusion matrix for the binary classification problem\n",
    "binary_con_matrix = confusion_matrix(ybinary_val,binary_val_labels)\n",
    "print(binary_con_matrix)"
   ]
  }
 ],
 "metadata": {
  "kernelspec": {
   "display_name": "Python 3",
   "language": "python",
   "name": "python3"
  },
  "language_info": {
   "codemirror_mode": {
    "name": "ipython",
    "version": 3
   },
   "file_extension": ".py",
   "mimetype": "text/x-python",
   "name": "python",
   "nbconvert_exporter": "python",
   "pygments_lexer": "ipython3",
   "version": "3.8.8"
  },
  "papermill": {
   "default_parameters": {},
   "duration": 26478.109562,
   "end_time": "2021-12-11T04:34:31.125622",
   "environment_variables": {},
   "exception": null,
   "input_path": "__notebook__.ipynb",
   "output_path": "__notebook__.ipynb",
   "parameters": {},
   "start_time": "2021-12-10T21:13:13.016060",
   "version": "2.3.3"
  }
 },
 "nbformat": 4,
 "nbformat_minor": 5
}
