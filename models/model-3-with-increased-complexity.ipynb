{
 "cells": [
  {
   "cell_type": "code",
   "execution_count": null,
   "metadata": {
    "execution": {
     "iopub.execute_input": "2021-12-05T12:35:53.977974Z",
     "iopub.status.busy": "2021-12-05T12:35:53.977596Z",
     "iopub.status.idle": "2021-12-05T12:36:01.98486Z",
     "shell.execute_reply": "2021-12-05T12:36:01.983967Z",
     "shell.execute_reply.started": "2021-12-05T12:35:53.977876Z"
    }
   },
   "outputs": [],
   "source": [
    "#Importing the python libraries \n",
    "import numpy as np \n",
    "import pandas as pd \n",
    "import matplotlib.pyplot as plt \n",
    "import tensorflow as tf \n",
    "import sklearn as sk \n",
    "import os \n",
    "import cv2\n",
    "import albumentations as A\n",
    "from PIL import Image \n",
    "from tensorflow import keras \n",
    "from sklearn.model_selection import train_test_split\n",
    "from sklearn.metrics import confusion_matrix \n",
    "\n",
    "#Setting the training and testing paths to extract the files \n",
    "training_path = \"/kaggle/input/sp-society-camera-model-identification/train/train/\"\n",
    "testing_path = \"/kaggle/input/sp-society-camera-model-identification/test/test/\"\n",
    "_,training_classes,_=next(os.walk(training_path))\n",
    "#print(training_classes)\n"
   ]
  },
  {
   "cell_type": "code",
   "execution_count": null,
   "metadata": {
    "execution": {
     "iopub.execute_input": "2021-12-05T12:36:01.986738Z",
     "iopub.status.busy": "2021-12-05T12:36:01.986523Z",
     "iopub.status.idle": "2021-12-05T12:36:01.990995Z",
     "shell.execute_reply": "2021-12-05T12:36:01.990116Z",
     "shell.execute_reply.started": "2021-12-05T12:36:01.986711Z"
    }
   },
   "outputs": [],
   "source": [
    "#Setting the hyperparameters for the deep learning model\n",
    "batch_size = 8\n",
    "epochs = 40\n",
    "learning_rate = 1e-4"
   ]
  },
  {
   "cell_type": "code",
   "execution_count": null,
   "metadata": {
    "execution": {
     "iopub.execute_input": "2021-12-05T12:36:01.992753Z",
     "iopub.status.busy": "2021-12-05T12:36:01.992286Z",
     "iopub.status.idle": "2021-12-05T12:36:02.766773Z",
     "shell.execute_reply": "2021-12-05T12:36:02.765942Z",
     "shell.execute_reply.started": "2021-12-05T12:36:01.992708Z"
    }
   },
   "outputs": [],
   "source": [
    "#testing_files \n",
    "_,_,testing_files = next(os.walk(testing_path))\n"
   ]
  },
  {
   "cell_type": "code",
   "execution_count": null,
   "metadata": {
    "execution": {
     "iopub.execute_input": "2021-12-05T12:36:02.771409Z",
     "iopub.status.busy": "2021-12-05T12:36:02.771152Z",
     "iopub.status.idle": "2021-12-05T12:36:03.030852Z",
     "shell.execute_reply": "2021-12-05T12:36:03.029995Z",
     "shell.execute_reply.started": "2021-12-05T12:36:02.771382Z"
    }
   },
   "outputs": [],
   "source": [
    "#Creating the training dataset by iterating over the directory \n",
    "#Appending the training paths to the list and extracting the classes from the directory\n",
    "training_paths = [] \n",
    "labels = [] \n",
    "for i in training_classes:\n",
    "    _,_,filenames = next(os.walk(training_path+i))\n",
    "    for j in filenames:\n",
    "        training_paths.append(training_path+i+'/'+j)\n",
    "        labels.append(i)"
   ]
  },
  {
   "cell_type": "code",
   "execution_count": null,
   "metadata": {
    "execution": {
     "iopub.execute_input": "2021-12-05T12:36:03.033127Z",
     "iopub.status.busy": "2021-12-05T12:36:03.032833Z",
     "iopub.status.idle": "2021-12-05T12:36:03.038184Z",
     "shell.execute_reply": "2021-12-05T12:36:03.037118Z",
     "shell.execute_reply.started": "2021-12-05T12:36:03.033094Z"
    }
   },
   "outputs": [],
   "source": [
    "#Ensure that the training size and the class labels are the same\n",
    "assert len(training_paths)==len(labels)"
   ]
  },
  {
   "cell_type": "code",
   "execution_count": null,
   "metadata": {
    "execution": {
     "iopub.execute_input": "2021-12-05T12:36:03.040157Z",
     "iopub.status.busy": "2021-12-05T12:36:03.039793Z",
     "iopub.status.idle": "2021-12-05T12:36:03.051097Z",
     "shell.execute_reply": "2021-12-05T12:36:03.049989Z",
     "shell.execute_reply.started": "2021-12-05T12:36:03.040107Z"
    }
   },
   "outputs": [],
   "source": [
    "#Setting the random seed to 33 for reproducible results\n",
    "seed = 33"
   ]
  },
  {
   "cell_type": "code",
   "execution_count": null,
   "metadata": {
    "execution": {
     "iopub.execute_input": "2021-12-05T12:36:03.053522Z",
     "iopub.status.busy": "2021-12-05T12:36:03.052841Z",
     "iopub.status.idle": "2021-12-05T12:36:03.084352Z",
     "shell.execute_reply": "2021-12-05T12:36:03.083518Z",
     "shell.execute_reply.started": "2021-12-05T12:36:03.053472Z"
    }
   },
   "outputs": [],
   "source": [
    "#Moving the training paths to an pandas DataFrame for easy indexing and one-hot encoding the class labels\n",
    "training_data = pd.DataFrame(training_paths,columns=['Training Image Path'])\n",
    "classes = pd.DataFrame(labels)\n",
    "classes = pd.get_dummies(classes)\n",
    "classes.columns=np.unique(labels)# One Hot Encode the class variables"
   ]
  },
  {
   "cell_type": "code",
   "execution_count": null,
   "metadata": {
    "execution": {
     "iopub.execute_input": "2021-12-05T12:36:03.085741Z",
     "iopub.status.busy": "2021-12-05T12:36:03.085529Z",
     "iopub.status.idle": "2021-12-05T12:36:03.103636Z",
     "shell.execute_reply": "2021-12-05T12:36:03.102465Z",
     "shell.execute_reply.started": "2021-12-05T12:36:03.085714Z"
    }
   },
   "outputs": [],
   "source": [
    "#print the training data\n",
    "training_data"
   ]
  },
  {
   "cell_type": "code",
   "execution_count": null,
   "metadata": {
    "execution": {
     "iopub.execute_input": "2021-12-05T12:36:03.105779Z",
     "iopub.status.busy": "2021-12-05T12:36:03.104986Z",
     "iopub.status.idle": "2021-12-05T12:36:03.118119Z",
     "shell.execute_reply": "2021-12-05T12:36:03.117266Z",
     "shell.execute_reply.started": "2021-12-05T12:36:03.105742Z"
    }
   },
   "outputs": [],
   "source": [
    "#printing the one-hot encoded class variable\n",
    "classes.head()"
   ]
  },
  {
   "cell_type": "code",
   "execution_count": null,
   "metadata": {
    "execution": {
     "iopub.execute_input": "2021-12-05T12:36:03.121379Z",
     "iopub.status.busy": "2021-12-05T12:36:03.121123Z",
     "iopub.status.idle": "2021-12-05T12:36:03.130116Z",
     "shell.execute_reply": "2021-12-05T12:36:03.129264Z",
     "shell.execute_reply.started": "2021-12-05T12:36:03.121348Z"
    }
   },
   "outputs": [],
   "source": [
    "#Creating the class dictionary for converting the one-hot encoded variables\n",
    "classes_dict = {'0':'HTC-1-M7',\n",
    "                '1':'LG-Nexus-5x',\n",
    "                '2':'Motorola-Droid-Maxx',\n",
    "                '3':'Motorola-Nexus-6',\n",
    "                '4':'Motorola-X',\n",
    "                '5':'Samsung-Galaxy-Note3',\n",
    "                '6':'Samsung-Galaxy-S4',\n",
    "                '7':'Sony-NEX-7',\n",
    "                '8':'iPhone-4s',\n",
    "                '9':'iPhone-6'}"
   ]
  },
  {
   "cell_type": "code",
   "execution_count": null,
   "metadata": {
    "execution": {
     "iopub.execute_input": "2021-12-05T12:36:03.131745Z",
     "iopub.status.busy": "2021-12-05T12:36:03.131514Z",
     "iopub.status.idle": "2021-12-05T12:36:03.14893Z",
     "shell.execute_reply": "2021-12-05T12:36:03.148073Z",
     "shell.execute_reply.started": "2021-12-05T12:36:03.131716Z"
    }
   },
   "outputs": [],
   "source": [
    "#Creating the testing DataFrame for easy indexing\n",
    "testing_data = pd.DataFrame(testing_files,columns=['Testing Image Path'])\n",
    "testing_data"
   ]
  },
  {
   "cell_type": "code",
   "execution_count": null,
   "metadata": {
    "execution": {
     "iopub.execute_input": "2021-12-05T12:36:03.150997Z",
     "iopub.status.busy": "2021-12-05T12:36:03.150288Z",
     "iopub.status.idle": "2021-12-05T12:36:03.159452Z",
     "shell.execute_reply": "2021-12-05T12:36:03.158565Z",
     "shell.execute_reply.started": "2021-12-05T12:36:03.150953Z"
    }
   },
   "outputs": [],
   "source": [
    "#Reading images form the disk to memory and converting from BGR to RGB\n",
    "def read_img(path):\n",
    "    temp = cv2.imread(path)\n",
    "    temp = cv2.cvtColor(temp, cv2.COLOR_BGR2RGB)\n",
    "    return np.array(temp)"
   ]
  },
  {
   "cell_type": "code",
   "execution_count": null,
   "metadata": {
    "execution": {
     "iopub.execute_input": "2021-12-05T12:36:03.161168Z",
     "iopub.status.busy": "2021-12-05T12:36:03.16054Z",
     "iopub.status.idle": "2021-12-05T12:36:03.175882Z",
     "shell.execute_reply": "2021-12-05T12:36:03.175306Z",
     "shell.execute_reply.started": "2021-12-05T12:36:03.161134Z"
    }
   },
   "outputs": [],
   "source": [
    "#Defining the training and testing augmentations\n",
    "length = 512 #Defining the length used for each image \n",
    "training_transforms = A.Compose([A.RandomCrop(height=length,width=length),\n",
    "                                A.RandomGamma(gamma_limit=(80,120),p=0.9),\n",
    "                                A.JpegCompression(quality_lower=70,quality_upper=90,p=0.9),\n",
    "                                A.GridDistortion(interpolation=cv2.INTER_CUBIC)])\n",
    "    \n",
    "\n",
    "                                \n",
    "testing_augmentation = A.Compose([\n",
    "                                  A.CenterCrop(height=length,width=length)])"
   ]
  },
  {
   "cell_type": "code",
   "execution_count": null,
   "metadata": {
    "execution": {
     "iopub.execute_input": "2021-12-05T12:36:03.177506Z",
     "iopub.status.busy": "2021-12-05T12:36:03.17716Z",
     "iopub.status.idle": "2021-12-05T12:36:04.321709Z",
     "shell.execute_reply": "2021-12-05T12:36:04.320826Z",
     "shell.execute_reply.started": "2021-12-05T12:36:03.177457Z"
    }
   },
   "outputs": [],
   "source": [
    "#Creating a custom dataset to read the images in a mini-batch format\n",
    "\n",
    "class Dataset(keras.utils.Sequence):\n",
    "    def __init__(self,x,y,batch_size,augmentations,test):\n",
    "        self.x = x\n",
    "        self.y = y\n",
    "        self.batch_size = batch_size\n",
    "        self.augmentations = augmentations \n",
    "        self.test = test \n",
    "    def __len__(self):\n",
    "        return int(len(self.x)/self.batch_size)\n",
    "    def __getitem__(self,index):\n",
    "        batched_x = self.x.iloc[index*self.batch_size:(index+1)*self.batch_size].to_numpy()\n",
    "        if(self.test):\n",
    "            images = [(self.augmentations(image=read_img(i))['image']) for i in batched_x]\n",
    "            \n",
    "        else:\n",
    "            batched_y = self.y.iloc[index*self.batch_size : (index+1)*self.batch_size,:]\n",
    "            images = [(self.augmentations(image=read_img(i[0]))['image']) for i in batched_x]\n",
    "        return np.array(images)if self.test else (np.array(images),np.array(batched_y.values))"
   ]
  },
  {
   "cell_type": "code",
   "execution_count": null,
   "metadata": {
    "execution": {
     "iopub.execute_input": "2021-12-05T12:36:04.32359Z",
     "iopub.status.busy": "2021-12-05T12:36:04.323262Z",
     "iopub.status.idle": "2021-12-05T12:36:04.332389Z",
     "shell.execute_reply": "2021-12-05T12:36:04.330088Z",
     "shell.execute_reply.started": "2021-12-05T12:36:04.323547Z"
    }
   },
   "outputs": [],
   "source": [
    "#Creating a dummy datast to test the functionality\n",
    "dummy_dataset = Dataset(training_data,classes,batch_size=batch_size,augmentations=training_transforms,test=False)"
   ]
  },
  {
   "cell_type": "code",
   "execution_count": null,
   "metadata": {
    "execution": {
     "iopub.execute_input": "2021-12-05T12:36:04.334695Z",
     "iopub.status.busy": "2021-12-05T12:36:04.333795Z",
     "iopub.status.idle": "2021-12-05T12:36:06.449777Z",
     "shell.execute_reply": "2021-12-05T12:36:06.448796Z",
     "shell.execute_reply.started": "2021-12-05T12:36:04.334649Z"
    }
   },
   "outputs": [],
   "source": [
    "#Calling the dummy dataset to check the functionality \n",
    "(a,b)=dummy_dataset.__getitem__(5)\n",
    "print(a[0])\n",
    "print(a.shape)\n",
    "print(b)\n",
    "print(b.shape)\n",
    "print(type(b))\n",
    "plt.imshow(a[0])\n",
    "\n",
    "losses  = keras.losses.CategoricalCrossentropy()\n",
    "#Instantiating the Categorial Corss Entropy loss function"
   ]
  },
  {
   "cell_type": "code",
   "execution_count": null,
   "metadata": {
    "execution": {
     "iopub.execute_input": "2021-12-05T12:36:06.451662Z",
     "iopub.status.busy": "2021-12-05T12:36:06.450993Z",
     "iopub.status.idle": "2021-12-05T12:36:06.46055Z",
     "shell.execute_reply": "2021-12-05T12:36:06.460001Z",
     "shell.execute_reply.started": "2021-12-05T12:36:06.451624Z"
    }
   },
   "outputs": [],
   "source": [
    "#Creating the Keras model for training with the EfficientNet Model being instantiated with imagenet weights\n",
    "def keras_model(length,input_size,output_classes):\n",
    "        p=0.3\n",
    "        base_model = tf.keras.applications.EfficientNetB4(weights='imagenet', include_top=False, input_shape=[length, length, 3])\n",
    "        base_model.trainable = False\n",
    "        inputs =keras.layers.Input(shape=(length,length,3))\n",
    "        x = keras.applications.efficientnet.preprocess_input(inputs)\n",
    "        x = base_model(x, training=False)\n",
    "        x = keras.layers.GlobalAveragePooling2D()(x)\n",
    "        x = keras.layers.Dense(1024,activation='relu')(x)\n",
    "        x = keras.layers.Dense(256,activation='relu')(x)\n",
    "        x = keras.layers.Dense(64,activation='relu')(x)\n",
    "        outputs = keras.layers.Dense(10, activation='softmax')(x)\n",
    "\n",
    "        model =keras.Model(inputs=inputs, outputs=outputs)\n",
    "\n",
    "        model.compile(optimizer=tf.keras.optimizers.Adam(lr=learning_rate), loss=losses, metrics=['accuracy'])\n",
    "\n",
    "        model.summary() \n",
    "        return model"
   ]
  },
  {
   "cell_type": "code",
   "execution_count": null,
   "metadata": {
    "execution": {
     "iopub.execute_input": "2021-12-05T12:36:06.462297Z",
     "iopub.status.busy": "2021-12-05T12:36:06.461425Z",
     "iopub.status.idle": "2021-12-05T12:36:12.742295Z",
     "shell.execute_reply": "2021-12-05T12:36:12.741617Z",
     "shell.execute_reply.started": "2021-12-05T12:36:06.462261Z"
    }
   },
   "outputs": [],
   "source": [
    "#Instantiating the keras model\n",
    "training_model = keras_model(length,length*length*3,10)"
   ]
  },
  {
   "cell_type": "code",
   "execution_count": null,
   "metadata": {
    "execution": {
     "iopub.execute_input": "2021-12-05T12:36:12.743968Z",
     "iopub.status.busy": "2021-12-05T12:36:12.743398Z",
     "iopub.status.idle": "2021-12-05T12:36:12.776988Z",
     "shell.execute_reply": "2021-12-05T12:36:12.776103Z",
     "shell.execute_reply.started": "2021-12-05T12:36:12.743933Z"
    }
   },
   "outputs": [],
   "source": [
    "#Printing the summary of training model \n",
    "training_model.summary()"
   ]
  },
  {
   "cell_type": "code",
   "execution_count": null,
   "metadata": {
    "execution": {
     "iopub.execute_input": "2021-12-05T12:36:12.779718Z",
     "iopub.status.busy": "2021-12-05T12:36:12.779325Z",
     "iopub.status.idle": "2021-12-05T12:36:12.788689Z",
     "shell.execute_reply": "2021-12-05T12:36:12.78797Z",
     "shell.execute_reply.started": "2021-12-05T12:36:12.779672Z"
    }
   },
   "outputs": [],
   "source": [
    "# Splitting the training dataset into a training and validation dataset with the validation split  = 0.1 and setting the Shuffle=True\n",
    "xtrain,xval,ytrain,yval = train_test_split(training_data,classes,test_size=0.1,shuffle=True,random_state=seed)"
   ]
  },
  {
   "cell_type": "code",
   "execution_count": null,
   "metadata": {
    "execution": {
     "iopub.execute_input": "2021-12-05T12:36:12.790212Z",
     "iopub.status.busy": "2021-12-05T12:36:12.789956Z",
     "iopub.status.idle": "2021-12-05T12:36:12.796687Z",
     "shell.execute_reply": "2021-12-05T12:36:12.796091Z",
     "shell.execute_reply.started": "2021-12-05T12:36:12.790184Z"
    }
   },
   "outputs": [],
   "source": [
    "#Printing the size of each array to check that the sizes match\n",
    "print(len(xtrain),len(xval))\n",
    "print(len(ytrain),len(yval))"
   ]
  },
  {
   "cell_type": "code",
   "execution_count": null,
   "metadata": {
    "execution": {
     "iopub.execute_input": "2021-12-05T12:36:12.79883Z",
     "iopub.status.busy": "2021-12-05T12:36:12.797887Z",
     "iopub.status.idle": "2021-12-05T12:36:12.808444Z",
     "shell.execute_reply": "2021-12-05T12:36:12.807412Z",
     "shell.execute_reply.started": "2021-12-05T12:36:12.798792Z"
    }
   },
   "outputs": [],
   "source": [
    "#Pushing the arrays into a custom keras dataset to feed to the neural networ\n",
    "training_dataset = Dataset(xtrain,ytrain,batch_size=batch_size,augmentations=training_transforms,test=False)\n",
    "validation_dataset = Dataset(xval,yval,batch_size=1,augmentations=training_transforms,test=False)\n",
    "\n",
    "print(len(training_dataset))\n",
    "print(len(validation_dataset))"
   ]
  },
  {
   "cell_type": "code",
   "execution_count": null,
   "metadata": {
    "execution": {
     "iopub.execute_input": "2021-12-05T12:36:12.810393Z",
     "iopub.status.busy": "2021-12-05T12:36:12.809482Z",
     "iopub.status.idle": "2021-12-05T12:36:12.82135Z",
     "shell.execute_reply": "2021-12-05T12:36:12.820615Z",
     "shell.execute_reply.started": "2021-12-05T12:36:12.81035Z"
    }
   },
   "outputs": [],
   "source": [
    "#Creating a list of callbacks to add to the training model \n",
    "\n",
    "model_file = \"output/base_model_weights.hd5\" # defining the output path to save the model file\n",
    "\n",
    "checkpoint = tf.keras.callbacks.ModelCheckpoint(model_file, monitor=\"val_accuracy\", save_best_only=True, mode='max') # Save the model which has the best validation acc\n",
    "\n",
    "reduce_lr = tf.keras.callbacks.ReduceLROnPlateau(monitor=\"val_accuracy\", factor=0.9, patience=2, min_lr=1e-6, mode=\"max\", verbose=True) # reduce Lr if the validation acc does not increase\n",
    "\n",
    "early_stopping = tf.keras.callbacks.EarlyStopping(monitor=\"val_accuracy\", patience=5, mode=\"max\", verbose=True) # Stop the training if the val acc does not improve\n",
    "\n",
    "callbacks_list = [checkpoint, reduce_lr, early_stopping] # Call all of the instantiated callbacks into one variable\n"
   ]
  },
  {
   "cell_type": "code",
   "execution_count": null,
   "metadata": {
    "execution": {
     "iopub.execute_input": "2021-12-05T12:36:12.822522Z",
     "iopub.status.busy": "2021-12-05T12:36:12.822287Z",
     "iopub.status.idle": "2021-12-05T12:36:58.021791Z",
     "shell.execute_reply": "2021-12-05T12:36:58.020107Z",
     "shell.execute_reply.started": "2021-12-05T12:36:12.822493Z"
    }
   },
   "outputs": [],
   "source": [
    "#Training the model for 10 epochs multiple times, each time the best model is read back for training \n",
    "inner_epochs = 10\n",
    "training_model.fit(training_dataset,validation_data=validation_dataset,epochs=inner_epochs,batch_size=batch_size,callbacks=callbacks_list,verbose=1)\n",
    "loops = (epochs-inner_epochs)//inner_epochs\n",
    "for i in range(0,3):\n",
    "    training_model= keras.models.load_model(model_file)\n",
    "    training_model.fit(training_dataset,validation_data=validation_dataset,epochs=inner_epochs,batch_size=batch_size,callbacks=callbacks_list,verbose=1)\n",
    "\n"
   ]
  },
  {
   "cell_type": "code",
   "execution_count": null,
   "metadata": {
    "execution": {
     "iopub.status.busy": "2021-12-05T12:36:58.02283Z",
     "iopub.status.idle": "2021-12-05T12:36:58.02349Z",
     "shell.execute_reply": "2021-12-05T12:36:58.023266Z",
     "shell.execute_reply.started": "2021-12-05T12:36:58.023226Z"
    }
   },
   "outputs": [],
   "source": [
    "#After training a part of the model for a set number of epochs, the entire model is trained for another few more epochs\n",
    "for layer in training_model.layers:\n",
    "    layer.traning=True    \n",
    "training_model.compile(optimizer=tf.keras.optimizers.Adam(lr=1e-3), loss=losses, metrics=['accuracy'])\n",
    "\n",
    "training_model.fit(training_dataset,validation_data=validation_dataset,epochs=5,batch_size=batch_size,callbacks=callbacks_list,verbose=1)"
   ]
  },
  {
   "cell_type": "code",
   "execution_count": null,
   "metadata": {
    "execution": {
     "iopub.execute_input": "2021-12-05T12:37:23.95704Z",
     "iopub.status.busy": "2021-12-05T12:37:23.956503Z",
     "iopub.status.idle": "2021-12-05T12:37:23.986203Z",
     "shell.execute_reply": "2021-12-05T12:37:23.985251Z",
     "shell.execute_reply.started": "2021-12-05T12:37:23.957Z"
    }
   },
   "outputs": [],
   "source": [
    "#Reading the submission file from the directory \n",
    "sample_submission = pd.read_csv('/kaggle/input/sp-society-camera-model-identification/sample_submission.csv')\n",
    "sample_submission.head() #Printing the top few rows from the submission file"
   ]
  },
  {
   "cell_type": "code",
   "execution_count": null,
   "metadata": {
    "execution": {
     "iopub.execute_input": "2021-12-05T12:37:33.393824Z",
     "iopub.status.busy": "2021-12-05T12:37:33.39297Z",
     "iopub.status.idle": "2021-12-05T12:37:33.401205Z",
     "shell.execute_reply": "2021-12-05T12:37:33.399916Z",
     "shell.execute_reply.started": "2021-12-05T12:37:33.393781Z"
    }
   },
   "outputs": [],
   "source": [
    "#Creating a testing dataset with the filepaths from the submission file\n",
    "\n",
    "\n",
    "x_test = testing_path+sample_submission['fname']\n",
    "#x_test = x_test.to_numpy()\n",
    "print(x_test[0])\n",
    "\n",
    "#training_model.load_model(model_file)\n",
    "x_test = Dataset(x_test,x_test,test=True,batch_size=1,augmentations=testing_augmentation)"
   ]
  },
  {
   "cell_type": "code",
   "execution_count": null,
   "metadata": {
    "execution": {
     "iopub.status.busy": "2021-12-05T12:36:58.029613Z",
     "iopub.status.idle": "2021-12-05T12:36:58.030441Z",
     "shell.execute_reply": "2021-12-05T12:36:58.030176Z",
     "shell.execute_reply.started": "2021-12-05T12:36:58.030145Z"
    }
   },
   "outputs": [],
   "source": [
    "#generating predictions for the validation dataset\n",
    "val_predicted = training_model.predict(validation_dataset)"
   ]
  },
  {
   "cell_type": "code",
   "execution_count": null,
   "metadata": {
    "execution": {
     "iopub.status.busy": "2021-12-05T12:36:58.031785Z",
     "iopub.status.idle": "2021-12-05T12:36:58.03229Z",
     "shell.execute_reply": "2021-12-05T12:36:58.032059Z",
     "shell.execute_reply.started": "2021-12-05T12:36:58.032018Z"
    }
   },
   "outputs": [],
   "source": [
    "#reading the best file from memory and generating predictions for the testing dataset\n",
    "training_model = tf.keras.models.load_model(model_file)\n",
    "predicted = training_model.predict(x_test)\n",
    "\n",
    "print(predicted)"
   ]
  },
  {
   "cell_type": "code",
   "execution_count": null,
   "metadata": {
    "execution": {
     "iopub.status.busy": "2021-12-05T12:36:58.0339Z",
     "iopub.status.idle": "2021-12-05T12:36:58.034299Z",
     "shell.execute_reply": "2021-12-05T12:36:58.034114Z",
     "shell.execute_reply.started": "2021-12-05T12:36:58.034091Z"
    }
   },
   "outputs": [],
   "source": [
    "#Creating a function to convert the one-hot encoded item into class labels\n",
    "def convert_predictions_to_labels(labels):\n",
    "    temp = []\n",
    "    for item in labels.argmax(axis=1):\n",
    "        temp.append(classes_dict[str(item)])\n",
    "    return temp"
   ]
  },
  {
   "cell_type": "code",
   "execution_count": null,
   "metadata": {
    "execution": {
     "iopub.status.busy": "2021-12-05T12:36:58.035954Z",
     "iopub.status.idle": "2021-12-05T12:36:58.036309Z",
     "shell.execute_reply": "2021-12-05T12:36:58.036157Z",
     "shell.execute_reply.started": "2021-12-05T12:36:58.036139Z"
    }
   },
   "outputs": [],
   "source": [
    "#converting the test and validation predictions to their class labels\n",
    "test_labels = convert_predictions_to_labels(predicted)\n",
    "\n",
    "validation_labels = convert_predictions_to_labels(val_predicted)"
   ]
  },
  {
   "cell_type": "code",
   "execution_count": null,
   "metadata": {
    "execution": {
     "iopub.status.busy": "2021-12-05T12:36:58.037385Z",
     "iopub.status.idle": "2021-12-05T12:36:58.037694Z",
     "shell.execute_reply": "2021-12-05T12:36:58.037545Z",
     "shell.execute_reply.started": "2021-12-05T12:36:58.03753Z"
    }
   },
   "outputs": [],
   "source": [
    "#filling up the submission file with the test predictions\n",
    "sample_submission['camera'] = test_labels\n",
    "sample_submission.head()"
   ]
  },
  {
   "cell_type": "code",
   "execution_count": null,
   "metadata": {
    "execution": {
     "iopub.status.busy": "2021-12-05T12:36:58.038819Z",
     "iopub.status.idle": "2021-12-05T12:36:58.039894Z",
     "shell.execute_reply": "2021-12-05T12:36:58.039718Z",
     "shell.execute_reply.started": "2021-12-05T12:36:58.039697Z"
    }
   },
   "outputs": [],
   "source": [
    "#Submitting the test predictions\n",
    "sample_submission.to_csv(\"submission.csv\", index=False)"
   ]
  },
  {
   "cell_type": "code",
   "execution_count": null,
   "metadata": {
    "execution": {
     "iopub.status.busy": "2021-12-05T12:36:58.04089Z",
     "iopub.status.idle": "2021-12-05T12:36:58.041695Z",
     "shell.execute_reply": "2021-12-05T12:36:58.04151Z",
     "shell.execute_reply.started": "2021-12-05T12:36:58.041487Z"
    }
   },
   "outputs": [],
   "source": [
    "#Converting the validation one-hot encoded labels\n",
    "yval=yval.idxmax(axis=1)"
   ]
  },
  {
   "cell_type": "code",
   "execution_count": null,
   "metadata": {
    "execution": {
     "iopub.status.busy": "2021-12-05T12:36:58.042673Z",
     "iopub.status.idle": "2021-12-05T12:36:58.043483Z",
     "shell.execute_reply": "2021-12-05T12:36:58.043274Z",
     "shell.execute_reply.started": "2021-12-05T12:36:58.043251Z"
    }
   },
   "outputs": [],
   "source": [
    "#printing the confusion matrix\n",
    "con_matrix = confusion_matrix(yval,validation_labels)\n",
    "print(con_matrix)"
   ]
  },
  {
   "cell_type": "code",
   "execution_count": null,
   "metadata": {},
   "outputs": [],
   "source": []
  }
 ],
 "metadata": {
  "kernelspec": {
   "display_name": "Python 3",
   "language": "python",
   "name": "python3"
  },
  "language_info": {
   "codemirror_mode": {
    "name": "ipython",
    "version": 3
   },
   "file_extension": ".py",
   "mimetype": "text/x-python",
   "name": "python",
   "nbconvert_exporter": "python",
   "pygments_lexer": "ipython3",
   "version": "3.8.8"
  }
 },
 "nbformat": 4,
 "nbformat_minor": 4
}
