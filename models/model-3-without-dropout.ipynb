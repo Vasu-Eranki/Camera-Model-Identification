{
 "cells": [
  {
   "cell_type": "code",
   "execution_count": null,
   "metadata": {
    "execution": {
     "iopub.execute_input": "2021-12-04T15:59:18.535659Z",
     "iopub.status.busy": "2021-12-04T15:59:18.535114Z",
     "iopub.status.idle": "2021-12-04T15:59:24.218023Z",
     "shell.execute_reply": "2021-12-04T15:59:24.217259Z",
     "shell.execute_reply.started": "2021-12-04T15:59:18.535565Z"
    }
   },
   "outputs": [],
   "source": [
    "#Importing the python libraries \n",
    "import numpy as np \n",
    "import pandas as pd \n",
    "import matplotlib.pyplot as plt \n",
    "import tensorflow as tf \n",
    "import sklearn as sk \n",
    "import os \n",
    "import cv2\n",
    "import albumentations as A\n",
    "from PIL import Image \n",
    "from tensorflow import keras \n",
    "from sklearn.model_selection import train_test_split\n",
    "from sklearn.metrics import confusion_matrix \n",
    "\n",
    "#Setting the training and testing paths to extract the files \n",
    "training_path = \"/kaggle/input/sp-society-camera-model-identification/train/train/\"\n",
    "testing_path = \"/kaggle/input/sp-society-camera-model-identification/test/test/\"\n",
    "_,training_classes,_=next(os.walk(training_path))\n",
    "#print(training_classes)\n"
   ]
  },
  {
   "cell_type": "code",
   "execution_count": null,
   "metadata": {
    "execution": {
     "iopub.execute_input": "2021-12-04T14:46:57.711243Z",
     "iopub.status.busy": "2021-12-04T14:46:57.710679Z",
     "iopub.status.idle": "2021-12-04T14:46:57.715588Z",
     "shell.execute_reply": "2021-12-04T14:46:57.714292Z",
     "shell.execute_reply.started": "2021-12-04T14:46:57.711212Z"
    }
   },
   "outputs": [],
   "source": [
    "#Setting the hyperparameters for the deep learning model\n",
    "batch_size = 8\n",
    "epochs = 40\n",
    "learning_rate = 1e-4"
   ]
  },
  {
   "cell_type": "code",
   "execution_count": null,
   "metadata": {
    "execution": {
     "iopub.execute_input": "2021-12-04T14:46:57.717106Z",
     "iopub.status.busy": "2021-12-04T14:46:57.716774Z",
     "iopub.status.idle": "2021-12-04T14:46:58.451705Z",
     "shell.execute_reply": "2021-12-04T14:46:58.450958Z",
     "shell.execute_reply.started": "2021-12-04T14:46:57.71707Z"
    }
   },
   "outputs": [],
   "source": [
    "#testing_files \n",
    "_,_,testing_files = next(os.walk(testing_path))\n"
   ]
  },
  {
   "cell_type": "code",
   "execution_count": null,
   "metadata": {
    "execution": {
     "iopub.execute_input": "2021-12-04T14:46:58.45353Z",
     "iopub.status.busy": "2021-12-04T14:46:58.453066Z",
     "iopub.status.idle": "2021-12-04T14:46:58.754702Z",
     "shell.execute_reply": "2021-12-04T14:46:58.754036Z",
     "shell.execute_reply.started": "2021-12-04T14:46:58.453492Z"
    }
   },
   "outputs": [],
   "source": [
    "#Creating the training dataset by iterating over the directory \n",
    "#Appending the training paths to the list and extracting the classes from the directory\n",
    "training_paths = [] \n",
    "labels = [] \n",
    "for i in training_classes:\n",
    "    _,_,filenames = next(os.walk(training_path+i))\n",
    "    for j in filenames:\n",
    "        training_paths.append(training_path+i+'/'+j)\n",
    "        labels.append(i)"
   ]
  },
  {
   "cell_type": "code",
   "execution_count": null,
   "metadata": {
    "execution": {
     "iopub.execute_input": "2021-12-04T14:46:58.757332Z",
     "iopub.status.busy": "2021-12-04T14:46:58.757091Z",
     "iopub.status.idle": "2021-12-04T14:46:58.761567Z",
     "shell.execute_reply": "2021-12-04T14:46:58.760574Z",
     "shell.execute_reply.started": "2021-12-04T14:46:58.757299Z"
    }
   },
   "outputs": [],
   "source": [
    "#Ensure that the training size and the class labels are the same\n",
    "assert len(training_paths)==len(labels)"
   ]
  },
  {
   "cell_type": "code",
   "execution_count": null,
   "metadata": {
    "execution": {
     "iopub.execute_input": "2021-12-04T14:46:58.763941Z",
     "iopub.status.busy": "2021-12-04T14:46:58.763242Z",
     "iopub.status.idle": "2021-12-04T14:46:58.771119Z",
     "shell.execute_reply": "2021-12-04T14:46:58.770497Z",
     "shell.execute_reply.started": "2021-12-04T14:46:58.763905Z"
    }
   },
   "outputs": [],
   "source": [
    "#Setting the random seed to 33 for reproducible results\n",
    "seed = 33"
   ]
  },
  {
   "cell_type": "code",
   "execution_count": null,
   "metadata": {
    "execution": {
     "iopub.execute_input": "2021-12-04T14:46:58.773064Z",
     "iopub.status.busy": "2021-12-04T14:46:58.772564Z",
     "iopub.status.idle": "2021-12-04T14:46:58.794172Z",
     "shell.execute_reply": "2021-12-04T14:46:58.793416Z",
     "shell.execute_reply.started": "2021-12-04T14:46:58.773028Z"
    }
   },
   "outputs": [],
   "source": [
    "#Moving the training paths to an pandas DataFrame for easy indexing and one-hot encoding the class labels\n",
    "training_data = pd.DataFrame(training_paths,columns=['Training Image Path'])\n",
    "classes = pd.DataFrame(labels)\n",
    "classes = pd.get_dummies(classes)\n",
    "classes.columns=np.unique(labels)# One Hot Encode the class variables"
   ]
  },
  {
   "cell_type": "code",
   "execution_count": null,
   "metadata": {
    "execution": {
     "iopub.execute_input": "2021-12-04T14:46:58.796065Z",
     "iopub.status.busy": "2021-12-04T14:46:58.795813Z",
     "iopub.status.idle": "2021-12-04T14:46:58.811347Z",
     "shell.execute_reply": "2021-12-04T14:46:58.81052Z",
     "shell.execute_reply.started": "2021-12-04T14:46:58.796032Z"
    }
   },
   "outputs": [],
   "source": [
    "#print the training data\n",
    "training_data"
   ]
  },
  {
   "cell_type": "code",
   "execution_count": null,
   "metadata": {
    "execution": {
     "iopub.execute_input": "2021-12-04T14:46:58.812937Z",
     "iopub.status.busy": "2021-12-04T14:46:58.812685Z",
     "iopub.status.idle": "2021-12-04T14:46:58.825407Z",
     "shell.execute_reply": "2021-12-04T14:46:58.824469Z",
     "shell.execute_reply.started": "2021-12-04T14:46:58.812905Z"
    }
   },
   "outputs": [],
   "source": [
    "#printing the one-hot encoded class variable\n",
    "classes.head()"
   ]
  },
  {
   "cell_type": "code",
   "execution_count": null,
   "metadata": {
    "execution": {
     "iopub.execute_input": "2021-12-04T14:46:58.827359Z",
     "iopub.status.busy": "2021-12-04T14:46:58.826884Z",
     "iopub.status.idle": "2021-12-04T14:46:58.832499Z",
     "shell.execute_reply": "2021-12-04T14:46:58.831769Z",
     "shell.execute_reply.started": "2021-12-04T14:46:58.827323Z"
    }
   },
   "outputs": [],
   "source": [
    "#Creating the class dictionary for converting the one-hot encoded variables\n",
    "classes_dict = {'0':'HTC-1-M7',\n",
    "                '1':'LG-Nexus-5x',\n",
    "                '2':'Motorola-Droid-Maxx',\n",
    "                '3':'Motorola-Nexus-6',\n",
    "                '4':'Motorola-X',\n",
    "                '5':'Samsung-Galaxy-Note3',\n",
    "                '6':'Samsung-Galaxy-S4',\n",
    "                '7':'Sony-NEX-7',\n",
    "                '8':'iPhone-4s',\n",
    "                '9':'iPhone-6'}"
   ]
  },
  {
   "cell_type": "code",
   "execution_count": null,
   "metadata": {
    "execution": {
     "iopub.execute_input": "2021-12-04T14:46:58.834001Z",
     "iopub.status.busy": "2021-12-04T14:46:58.833721Z",
     "iopub.status.idle": "2021-12-04T14:46:58.847234Z",
     "shell.execute_reply": "2021-12-04T14:46:58.846528Z",
     "shell.execute_reply.started": "2021-12-04T14:46:58.833968Z"
    }
   },
   "outputs": [],
   "source": [
    "#Creating the testing DataFrame for easy indexing\n",
    "testing_data = pd.DataFrame(testing_files,columns=['Testing Image Path'])\n",
    "testing_data"
   ]
  },
  {
   "cell_type": "code",
   "execution_count": null,
   "metadata": {
    "execution": {
     "iopub.execute_input": "2021-12-04T14:46:58.848897Z",
     "iopub.status.busy": "2021-12-04T14:46:58.848447Z",
     "iopub.status.idle": "2021-12-04T14:46:58.855648Z",
     "shell.execute_reply": "2021-12-04T14:46:58.854976Z",
     "shell.execute_reply.started": "2021-12-04T14:46:58.848861Z"
    }
   },
   "outputs": [],
   "source": [
    "#Reading images form the disk to memory and converting from BGR to RGB\n",
    "def read_img(path):\n",
    "    temp = cv2.imread(path)\n",
    "    temp = cv2.cvtColor(temp, cv2.COLOR_BGR2RGB)\n",
    "    return np.array(temp)"
   ]
  },
  {
   "cell_type": "code",
   "execution_count": null,
   "metadata": {
    "execution": {
     "iopub.execute_input": "2021-12-04T15:17:11.992207Z",
     "iopub.status.busy": "2021-12-04T15:17:11.991946Z",
     "iopub.status.idle": "2021-12-04T15:17:11.998207Z",
     "shell.execute_reply": "2021-12-04T15:17:11.997529Z",
     "shell.execute_reply.started": "2021-12-04T15:17:11.992176Z"
    }
   },
   "outputs": [],
   "source": [
    "#Defining the training and testing augmentations\n",
    "length = 512 #Defining the length used for each image \n",
    "training_transforms = A.Compose([A.RandomCrop(height=length,width=length),\n",
    "                                A.RandomGamma(gamma_limit=(80,120),p=0.9),\n",
    "                                A.JpegCompression(quality_lower=70,quality_upper=90,p=0.9),\n",
    "                                A.GridDistortion(interpolation=cv2.INTER_CUBIC)])\n",
    "    \n",
    "\n",
    "                                \n",
    "testing_augmentation = A.Compose([\n",
    "                                  A.CenterCrop(height=length,width=length)])"
   ]
  },
  {
   "cell_type": "code",
   "execution_count": null,
   "metadata": {
    "execution": {
     "iopub.execute_input": "2021-12-04T15:17:12.000269Z",
     "iopub.status.busy": "2021-12-04T15:17:11.999875Z",
     "iopub.status.idle": "2021-12-04T15:17:12.012116Z",
     "shell.execute_reply": "2021-12-04T15:17:12.011323Z",
     "shell.execute_reply.started": "2021-12-04T15:17:12.000233Z"
    }
   },
   "outputs": [],
   "source": [
    "#Creating a custom dataset to read the images in a mini-batch format\n",
    "\n",
    "class Dataset(keras.utils.Sequence):\n",
    "    def __init__(self,x,y,batch_size,augmentations,test):\n",
    "        self.x = x\n",
    "        self.y = y\n",
    "        self.batch_size = batch_size\n",
    "        self.augmentations = augmentations \n",
    "        self.test = test \n",
    "    def __len__(self):\n",
    "        return int(len(self.x)/self.batch_size)\n",
    "    def __getitem__(self,index):\n",
    "        batched_x = self.x.iloc[index*self.batch_size:(index+1)*self.batch_size].to_numpy()\n",
    "        if(self.test):\n",
    "            images = [(self.augmentations(image=read_img(i))['image']) for i in batched_x]\n",
    "            \n",
    "        else:\n",
    "            batched_y = self.y.iloc[index*self.batch_size : (index+1)*self.batch_size,:]\n",
    "            images = [(self.augmentations(image=read_img(i[0]))['image']) for i in batched_x]\n",
    "        return np.array(images)if self.test else (np.array(images),np.array(batched_y.values))"
   ]
  },
  {
   "cell_type": "code",
   "execution_count": null,
   "metadata": {
    "execution": {
     "iopub.execute_input": "2021-12-04T15:17:12.013865Z",
     "iopub.status.busy": "2021-12-04T15:17:12.013477Z",
     "iopub.status.idle": "2021-12-04T15:17:12.021418Z",
     "shell.execute_reply": "2021-12-04T15:17:12.020614Z",
     "shell.execute_reply.started": "2021-12-04T15:17:12.013828Z"
    }
   },
   "outputs": [],
   "source": [
    "#Creating a dummy datast to test the functionality\n",
    "dummy_dataset = Dataset(training_data,classes,batch_size=batch_size,augmentations=training_transforms,test=False)"
   ]
  },
  {
   "cell_type": "code",
   "execution_count": null,
   "metadata": {
    "execution": {
     "iopub.execute_input": "2021-12-04T15:17:12.023905Z",
     "iopub.status.busy": "2021-12-04T15:17:12.023548Z",
     "iopub.status.idle": "2021-12-04T15:17:13.653888Z",
     "shell.execute_reply": "2021-12-04T15:17:13.653287Z",
     "shell.execute_reply.started": "2021-12-04T15:17:12.023841Z"
    }
   },
   "outputs": [],
   "source": [
    "#Calling the dummy dataset to check the functionality \n",
    "(a,b)=dummy_dataset.__getitem__(5)\n",
    "print(a[0])\n",
    "print(a.shape)\n",
    "print(b)\n",
    "print(b.shape)\n",
    "print(type(b))\n",
    "plt.imshow(a[0])\n",
    "\n"
   ]
  },
  {
   "cell_type": "code",
   "execution_count": null,
   "metadata": {
    "execution": {
     "iopub.execute_input": "2021-12-04T15:17:13.656719Z",
     "iopub.status.busy": "2021-12-04T15:17:13.655186Z",
     "iopub.status.idle": "2021-12-04T15:17:13.667173Z",
     "shell.execute_reply": "2021-12-04T15:17:13.665974Z",
     "shell.execute_reply.started": "2021-12-04T15:17:13.656678Z"
    }
   },
   "outputs": [],
   "source": [
    "#Creating the Keras model for training with the EfficientNet Model being instantiated with imagenet weights\n",
    "def keras_model(length,input_size,output_classes):\n",
    "        p=0.3\n",
    "        base_model = tf.keras.applications.EfficientNetB4(weights='imagenet', include_top=False, input_shape=[length, length, 3])\n",
    "        base_model.trainable = False\n",
    "        inputs =keras.layers.Input(shape=(length,length,3))\n",
    "        x = keras.applications.efficientnet.preprocess_input(inputs)\n",
    "        x = base_model(x, training=False)\n",
    "        x = keras.layers.GlobalAveragePooling2D()(x)\n",
    "        x = keras.layers.Dense(32,activation='relu')(x)\n",
    "        outputs = keras.layers.Dense(10, activation='softmax')(x)\n",
    "\n",
    "        model =keras.Model(inputs=inputs, outputs=outputs)\n",
    "\n",
    "        model.compile(optimizer=tf.keras.optimizers.Adam(lr=learning_rate), loss='categorical_crossentropy', metrics=['accuracy'])\n",
    "\n",
    "        model.summary() \n",
    "        return model"
   ]
  },
  {
   "cell_type": "code",
   "execution_count": null,
   "metadata": {
    "execution": {
     "iopub.execute_input": "2021-12-04T15:17:13.67039Z",
     "iopub.status.busy": "2021-12-04T15:17:13.670157Z",
     "iopub.status.idle": "2021-12-04T15:17:17.748518Z",
     "shell.execute_reply": "2021-12-04T15:17:17.747786Z",
     "shell.execute_reply.started": "2021-12-04T15:17:13.670359Z"
    }
   },
   "outputs": [],
   "source": [
    "#Instantiating the keras model\n",
    "training_model = keras_model(length,length*length*3,10)"
   ]
  },
  {
   "cell_type": "code",
   "execution_count": null,
   "metadata": {
    "execution": {
     "iopub.execute_input": "2021-12-04T15:17:17.750171Z",
     "iopub.status.busy": "2021-12-04T15:17:17.749923Z",
     "iopub.status.idle": "2021-12-04T15:17:17.78111Z",
     "shell.execute_reply": "2021-12-04T15:17:17.780299Z",
     "shell.execute_reply.started": "2021-12-04T15:17:17.750137Z"
    }
   },
   "outputs": [],
   "source": [
    "#Printing the summary of training model \n",
    "training_model.summary()"
   ]
  },
  {
   "cell_type": "code",
   "execution_count": null,
   "metadata": {
    "execution": {
     "iopub.execute_input": "2021-12-04T15:17:17.782654Z",
     "iopub.status.busy": "2021-12-04T15:17:17.782326Z",
     "iopub.status.idle": "2021-12-04T15:17:17.789753Z",
     "shell.execute_reply": "2021-12-04T15:17:17.788984Z",
     "shell.execute_reply.started": "2021-12-04T15:17:17.782618Z"
    }
   },
   "outputs": [],
   "source": [
    "# Splitting the training dataset into a training and validation dataset with the validation split  = 0.1 and setting the Shuffle=True\n",
    "xtrain,xval,ytrain,yval = train_test_split(training_data,classes,test_size=0.1,shuffle=True,random_state=seed)"
   ]
  },
  {
   "cell_type": "code",
   "execution_count": null,
   "metadata": {
    "execution": {
     "iopub.execute_input": "2021-12-04T15:17:17.793597Z",
     "iopub.status.busy": "2021-12-04T15:17:17.793266Z",
     "iopub.status.idle": "2021-12-04T15:17:17.799841Z",
     "shell.execute_reply": "2021-12-04T15:17:17.799103Z",
     "shell.execute_reply.started": "2021-12-04T15:17:17.793569Z"
    }
   },
   "outputs": [],
   "source": [
    "#Printing the size of each array to check that the sizes match\n",
    "print(len(xtrain),len(xval))\n",
    "print(len(ytrain),len(yval))"
   ]
  },
  {
   "cell_type": "code",
   "execution_count": null,
   "metadata": {
    "execution": {
     "iopub.execute_input": "2021-12-04T15:17:17.802069Z",
     "iopub.status.busy": "2021-12-04T15:17:17.801152Z",
     "iopub.status.idle": "2021-12-04T15:17:17.809358Z",
     "shell.execute_reply": "2021-12-04T15:17:17.808507Z",
     "shell.execute_reply.started": "2021-12-04T15:17:17.802033Z"
    }
   },
   "outputs": [],
   "source": [
    "#Pushing the arrays into a custom keras dataset to feed to the neural networ\n",
    "training_dataset = Dataset(xtrain,ytrain,batch_size=batch_size,augmentations=training_transforms,test=False)\n",
    "validation_dataset = Dataset(xval,yval,batch_size=1,augmentations=training_transforms,test=False)\n",
    "\n",
    "print(len(training_dataset))\n",
    "print(len(validation_dataset))"
   ]
  },
  {
   "cell_type": "code",
   "execution_count": null,
   "metadata": {
    "execution": {
     "iopub.execute_input": "2021-12-04T15:17:17.811015Z",
     "iopub.status.busy": "2021-12-04T15:17:17.810691Z",
     "iopub.status.idle": "2021-12-04T15:17:17.819076Z",
     "shell.execute_reply": "2021-12-04T15:17:17.818305Z",
     "shell.execute_reply.started": "2021-12-04T15:17:17.81098Z"
    }
   },
   "outputs": [],
   "source": [
    "#Creating a list of callbacks to add to the training model \n",
    "\n",
    "model_file = \"output/base_model_weights.hd5\" # defining the output path to save the model file\n",
    "\n",
    "checkpoint = tf.keras.callbacks.ModelCheckpoint(model_file, monitor=\"val_accuracy\", save_best_only=True, mode='max') # Save the model which has the best validation acc\n",
    "\n",
    "reduce_lr = tf.keras.callbacks.ReduceLROnPlateau(monitor=\"val_accuracy\", factor=0.9, patience=2, min_lr=1e-6, mode=\"max\", verbose=True) # reduce Lr if the validation acc does not increase\n",
    "\n",
    "early_stopping = tf.keras.callbacks.EarlyStopping(monitor=\"val_accuracy\", patience=5, mode=\"max\", verbose=True) # Stop the training if the val acc does not improve\n",
    "\n",
    "callbacks_list = [checkpoint, reduce_lr, early_stopping] # Call all of the instantiated callbacks into one variable\n"
   ]
  },
  {
   "cell_type": "code",
   "execution_count": null,
   "metadata": {
    "execution": {
     "iopub.execute_input": "2021-12-04T15:17:17.821218Z",
     "iopub.status.busy": "2021-12-04T15:17:17.820791Z",
     "iopub.status.idle": "2021-12-04T15:39:23.08927Z",
     "shell.execute_reply": "2021-12-04T15:39:23.086671Z",
     "shell.execute_reply.started": "2021-12-04T15:17:17.821183Z"
    }
   },
   "outputs": [],
   "source": [
    "#Training the model for 10 epochs multiple times, each time the best model is read back for training \n",
    "inner_epochs = 10\n",
    "training_model.fit(training_dataset,validation_data=validation_dataset,epochs=inner_epochs,batch_size=batch_size,callbacks=callbacks_list,verbose=1)\n",
    "loops = (epochs-inner_epochs)//inner_epochs\n",
    "for i in range(0,3):\n",
    "    training_model= keras.models.load_model(model_file)\n",
    "    training_model.fit(training_dataset,validation_data=validation_dataset,epochs=inner_epochs,batch_size=batch_size,callbacks=callbacks_list,verbose=1)\n",
    "\n"
   ]
  },
  {
   "cell_type": "code",
   "execution_count": null,
   "metadata": {
    "execution": {
     "iopub.status.busy": "2021-12-04T15:39:23.090689Z",
     "iopub.status.idle": "2021-12-04T15:39:23.091076Z",
     "shell.execute_reply": "2021-12-04T15:39:23.090892Z",
     "shell.execute_reply.started": "2021-12-04T15:39:23.090871Z"
    }
   },
   "outputs": [],
   "source": [
    "#Reading the submission file from the directory \n",
    "sample_submission = pd.read_csv('/kaggle/input/sp-society-camera-model-identification/sample_submission.csv')\n",
    "sample_submission.head() #Printing the top few rows from the submission file"
   ]
  },
  {
   "cell_type": "code",
   "execution_count": null,
   "metadata": {
    "execution": {
     "iopub.status.busy": "2021-12-04T15:39:23.092589Z",
     "iopub.status.idle": "2021-12-04T15:39:23.092997Z",
     "shell.execute_reply": "2021-12-04T15:39:23.092806Z",
     "shell.execute_reply.started": "2021-12-04T15:39:23.092781Z"
    }
   },
   "outputs": [],
   "source": [
    "#Creating a testing dataset with the filepaths from the submission file\n",
    "\n",
    "\n",
    "x_test = testing_path+sample_submission['fname']\n",
    "#x_test = x_test.to_numpy()\n",
    "print(x_test[0])\n",
    "\n",
    "#training_model.load_model(model_file)\n",
    "x_test = Dataset(x_test,x_test,test=True,batch_size=1,augmentations=testing_augmentation)"
   ]
  },
  {
   "cell_type": "code",
   "execution_count": null,
   "metadata": {
    "execution": {
     "iopub.status.busy": "2021-12-04T15:39:23.094221Z",
     "iopub.status.idle": "2021-12-04T15:39:23.094633Z",
     "shell.execute_reply": "2021-12-04T15:39:23.09442Z",
     "shell.execute_reply.started": "2021-12-04T15:39:23.094398Z"
    }
   },
   "outputs": [],
   "source": [
    "#generating predictions for the validation dataset\n",
    "val_predicted = training_model.predict(validation_dataset)"
   ]
  },
  {
   "cell_type": "code",
   "execution_count": null,
   "metadata": {
    "execution": {
     "iopub.status.busy": "2021-12-04T15:39:23.095932Z",
     "iopub.status.idle": "2021-12-04T15:39:23.096318Z",
     "shell.execute_reply": "2021-12-04T15:39:23.096128Z",
     "shell.execute_reply.started": "2021-12-04T15:39:23.096107Z"
    }
   },
   "outputs": [],
   "source": [
    "#reading the best file from memory and generating predictions for the testing dataset\n",
    "training_model = tf.keras.models.load_model(model_file)\n",
    "predicted = training_model.predict(x_test)\n",
    "\n",
    "print(predicted)"
   ]
  },
  {
   "cell_type": "code",
   "execution_count": null,
   "metadata": {
    "execution": {
     "iopub.status.busy": "2021-12-04T15:39:23.097565Z",
     "iopub.status.idle": "2021-12-04T15:39:23.097938Z",
     "shell.execute_reply": "2021-12-04T15:39:23.097761Z",
     "shell.execute_reply.started": "2021-12-04T15:39:23.097741Z"
    }
   },
   "outputs": [],
   "source": [
    "#Creating a function to convert the one-hot encoded item into class labels\n",
    "def convert_predictions_to_labels(labels):\n",
    "    temp = []\n",
    "    for item in labels.argmax(axis=1):\n",
    "        temp.append(classes_dict[str(item)])\n",
    "    return temp"
   ]
  },
  {
   "cell_type": "code",
   "execution_count": null,
   "metadata": {
    "execution": {
     "iopub.status.busy": "2021-12-04T15:39:23.099078Z",
     "iopub.status.idle": "2021-12-04T15:39:23.100785Z",
     "shell.execute_reply": "2021-12-04T15:39:23.100559Z",
     "shell.execute_reply.started": "2021-12-04T15:39:23.100533Z"
    }
   },
   "outputs": [],
   "source": [
    "#converting the test and validation predictions to their class labels\n",
    "test_labels = convert_predictions_to_labels(predicted)\n",
    "\n",
    "validation_labels = convert_predictions_to_labels(val_predicted)"
   ]
  },
  {
   "cell_type": "code",
   "execution_count": null,
   "metadata": {
    "execution": {
     "iopub.status.busy": "2021-12-04T15:39:23.101953Z",
     "iopub.status.idle": "2021-12-04T15:39:23.102571Z",
     "shell.execute_reply": "2021-12-04T15:39:23.102347Z",
     "shell.execute_reply.started": "2021-12-04T15:39:23.102324Z"
    }
   },
   "outputs": [],
   "source": [
    "#filling up the submission file with the test predictions\n",
    "sample_submission['camera'] = test_labels\n",
    "sample_submission.head()"
   ]
  },
  {
   "cell_type": "code",
   "execution_count": null,
   "metadata": {
    "execution": {
     "iopub.status.busy": "2021-12-04T15:39:23.103822Z",
     "iopub.status.idle": "2021-12-04T15:39:23.104427Z",
     "shell.execute_reply": "2021-12-04T15:39:23.104222Z",
     "shell.execute_reply.started": "2021-12-04T15:39:23.104197Z"
    }
   },
   "outputs": [],
   "source": [
    "#Submitting the test predictions\n",
    "sample_submission.to_csv(\"submission.csv\", index=False)"
   ]
  },
  {
   "cell_type": "code",
   "execution_count": null,
   "metadata": {
    "execution": {
     "iopub.status.busy": "2021-12-04T15:39:23.10562Z",
     "iopub.status.idle": "2021-12-04T15:39:23.10622Z",
     "shell.execute_reply": "2021-12-04T15:39:23.106012Z",
     "shell.execute_reply.started": "2021-12-04T15:39:23.105989Z"
    }
   },
   "outputs": [],
   "source": [
    "#Converting the validation one-hot encoded labels\n",
    "yval=yval.idxmax(axis=1)"
   ]
  },
  {
   "cell_type": "code",
   "execution_count": null,
   "metadata": {
    "execution": {
     "iopub.status.busy": "2021-12-04T15:39:23.10741Z",
     "iopub.status.idle": "2021-12-04T15:39:23.108043Z",
     "shell.execute_reply": "2021-12-04T15:39:23.107838Z",
     "shell.execute_reply.started": "2021-12-04T15:39:23.107814Z"
    }
   },
   "outputs": [],
   "source": [
    "#printing the confusion matrix\n",
    "con_matrix = confusion_matrix(yval,validation_labels)\n",
    "print(con_matrix)"
   ]
  }
 ],
 "metadata": {
  "kernelspec": {
   "display_name": "Python 3",
   "language": "python",
   "name": "python3"
  },
  "language_info": {
   "codemirror_mode": {
    "name": "ipython",
    "version": 3
   },
   "file_extension": ".py",
   "mimetype": "text/x-python",
   "name": "python",
   "nbconvert_exporter": "python",
   "pygments_lexer": "ipython3",
   "version": "3.8.8"
  }
 },
 "nbformat": 4,
 "nbformat_minor": 4
}
