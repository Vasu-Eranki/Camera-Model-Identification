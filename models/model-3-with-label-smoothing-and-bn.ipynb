{
 "cells": [
  {
   "cell_type": "code",
   "execution_count": null,
   "metadata": {
    "execution": {
     "iopub.execute_input": "2021-12-07T08:09:18.640823Z",
     "iopub.status.busy": "2021-12-07T08:09:18.639918Z",
     "iopub.status.idle": "2021-12-07T08:09:26.355384Z",
     "shell.execute_reply": "2021-12-07T08:09:26.354282Z",
     "shell.execute_reply.started": "2021-12-07T08:09:18.64071Z"
    }
   },
   "outputs": [],
   "source": [
    "#Importing the python libraries \n",
    "import numpy as np \n",
    "import pandas as pd \n",
    "import matplotlib.pyplot as plt \n",
    "import tensorflow as tf \n",
    "import sklearn as sk \n",
    "import os \n",
    "import cv2\n",
    "import albumentations as A\n",
    "from PIL import Image \n",
    "from tensorflow import keras \n",
    "from sklearn.model_selection import train_test_split\n",
    "from sklearn.metrics import confusion_matrix \n",
    "\n",
    "#Setting the training and testing paths to extract the files \n",
    "training_path = \"/kaggle/input/sp-society-camera-model-identification/train/train/\"\n",
    "testing_path = \"/kaggle/input/sp-society-camera-model-identification/test/test/\"\n",
    "_,training_classes,_=next(os.walk(training_path))\n",
    "#print(training_classes)\n"
   ]
  },
  {
   "cell_type": "code",
   "execution_count": null,
   "metadata": {
    "execution": {
     "iopub.execute_input": "2021-12-07T08:09:26.357982Z",
     "iopub.status.busy": "2021-12-07T08:09:26.357621Z",
     "iopub.status.idle": "2021-12-07T08:09:26.362403Z",
     "shell.execute_reply": "2021-12-07T08:09:26.361464Z",
     "shell.execute_reply.started": "2021-12-07T08:09:26.357952Z"
    }
   },
   "outputs": [],
   "source": [
    "#Setting the hyperparameters for the deep learning model\n",
    "batch_size = 8\n",
    "epochs = 40\n",
    "learning_rate = 1e-4"
   ]
  },
  {
   "cell_type": "code",
   "execution_count": null,
   "metadata": {
    "execution": {
     "iopub.execute_input": "2021-12-07T08:09:26.37042Z",
     "iopub.status.busy": "2021-12-07T08:09:26.369768Z",
     "iopub.status.idle": "2021-12-07T08:09:29.328828Z",
     "shell.execute_reply": "2021-12-07T08:09:29.327852Z",
     "shell.execute_reply.started": "2021-12-07T08:09:26.370365Z"
    }
   },
   "outputs": [],
   "source": [
    "#testing_files \n",
    "_,_,testing_files = next(os.walk(testing_path))\n"
   ]
  },
  {
   "cell_type": "code",
   "execution_count": null,
   "metadata": {
    "execution": {
     "iopub.execute_input": "2021-12-07T08:09:29.331008Z",
     "iopub.status.busy": "2021-12-07T08:09:29.330664Z",
     "iopub.status.idle": "2021-12-07T08:09:30.320234Z",
     "shell.execute_reply": "2021-12-07T08:09:30.319273Z",
     "shell.execute_reply.started": "2021-12-07T08:09:29.330954Z"
    }
   },
   "outputs": [],
   "source": [
    "#Creating the training dataset by iterating over the directory \n",
    "#Appending the training paths to the list and extracting the classes from the directory\n",
    "training_paths = [] \n",
    "labels = [] \n",
    "for i in training_classes:\n",
    "    _,_,filenames = next(os.walk(training_path+i))\n",
    "    for j in filenames:\n",
    "        training_paths.append(training_path+i+'/'+j)\n",
    "        labels.append(i)"
   ]
  },
  {
   "cell_type": "code",
   "execution_count": null,
   "metadata": {
    "execution": {
     "iopub.execute_input": "2021-12-07T08:09:30.326083Z",
     "iopub.status.busy": "2021-12-07T08:09:30.323374Z",
     "iopub.status.idle": "2021-12-07T08:09:30.334826Z",
     "shell.execute_reply": "2021-12-07T08:09:30.333938Z",
     "shell.execute_reply.started": "2021-12-07T08:09:30.326035Z"
    }
   },
   "outputs": [],
   "source": [
    "#Ensure that the training size and the class labels are the same\n",
    "assert len(training_paths)==len(labels)"
   ]
  },
  {
   "cell_type": "code",
   "execution_count": null,
   "metadata": {
    "execution": {
     "iopub.execute_input": "2021-12-07T08:09:30.338712Z",
     "iopub.status.busy": "2021-12-07T08:09:30.337409Z",
     "iopub.status.idle": "2021-12-07T08:09:30.348308Z",
     "shell.execute_reply": "2021-12-07T08:09:30.347019Z",
     "shell.execute_reply.started": "2021-12-07T08:09:30.33866Z"
    }
   },
   "outputs": [],
   "source": [
    "#Setting the random seed to 33 for reproducible results\n",
    "seed = 33"
   ]
  },
  {
   "cell_type": "code",
   "execution_count": null,
   "metadata": {
    "execution": {
     "iopub.execute_input": "2021-12-07T08:09:30.35163Z",
     "iopub.status.busy": "2021-12-07T08:09:30.350336Z",
     "iopub.status.idle": "2021-12-07T08:09:30.38613Z",
     "shell.execute_reply": "2021-12-07T08:09:30.385174Z",
     "shell.execute_reply.started": "2021-12-07T08:09:30.351553Z"
    }
   },
   "outputs": [],
   "source": [
    "#Moving the training paths to an pandas DataFrame for easy indexing and one-hot encoding the class labels\n",
    "training_data = pd.DataFrame(training_paths,columns=['Training Image Path'])\n",
    "classes = pd.DataFrame(labels)\n",
    "classes = pd.get_dummies(classes)\n",
    "classes.columns=np.unique(labels)# One Hot Encode the class variables"
   ]
  },
  {
   "cell_type": "code",
   "execution_count": null,
   "metadata": {
    "execution": {
     "iopub.execute_input": "2021-12-07T08:09:30.394104Z",
     "iopub.status.busy": "2021-12-07T08:09:30.391464Z",
     "iopub.status.idle": "2021-12-07T08:09:30.424337Z",
     "shell.execute_reply": "2021-12-07T08:09:30.423321Z",
     "shell.execute_reply.started": "2021-12-07T08:09:30.394051Z"
    }
   },
   "outputs": [],
   "source": [
    "#print the training data\n",
    "training_data"
   ]
  },
  {
   "cell_type": "code",
   "execution_count": null,
   "metadata": {
    "execution": {
     "iopub.execute_input": "2021-12-07T08:09:30.434705Z",
     "iopub.status.busy": "2021-12-07T08:09:30.432213Z",
     "iopub.status.idle": "2021-12-07T08:09:30.458878Z",
     "shell.execute_reply": "2021-12-07T08:09:30.456668Z",
     "shell.execute_reply.started": "2021-12-07T08:09:30.432691Z"
    }
   },
   "outputs": [],
   "source": [
    "#printing the one-hot encoded class variable\n",
    "classes.head()"
   ]
  },
  {
   "cell_type": "code",
   "execution_count": null,
   "metadata": {
    "execution": {
     "iopub.execute_input": "2021-12-07T08:09:30.469026Z",
     "iopub.status.busy": "2021-12-07T08:09:30.46849Z",
     "iopub.status.idle": "2021-12-07T08:09:30.476524Z",
     "shell.execute_reply": "2021-12-07T08:09:30.475535Z",
     "shell.execute_reply.started": "2021-12-07T08:09:30.468981Z"
    }
   },
   "outputs": [],
   "source": [
    "#Creating the class dictionary for converting the one-hot encoded variables\n",
    "classes_dict = {'0':'HTC-1-M7',\n",
    "                '1':'LG-Nexus-5x',\n",
    "                '2':'Motorola-Droid-Maxx',\n",
    "                '3':'Motorola-Nexus-6',\n",
    "                '4':'Motorola-X',\n",
    "                '5':'Samsung-Galaxy-Note3',\n",
    "                '6':'Samsung-Galaxy-S4',\n",
    "                '7':'Sony-NEX-7',\n",
    "                '8':'iPhone-4s',\n",
    "                '9':'iPhone-6'}"
   ]
  },
  {
   "cell_type": "code",
   "execution_count": null,
   "metadata": {
    "execution": {
     "iopub.execute_input": "2021-12-07T08:09:30.478868Z",
     "iopub.status.busy": "2021-12-07T08:09:30.478117Z",
     "iopub.status.idle": "2021-12-07T08:09:30.498114Z",
     "shell.execute_reply": "2021-12-07T08:09:30.496946Z",
     "shell.execute_reply.started": "2021-12-07T08:09:30.478821Z"
    }
   },
   "outputs": [],
   "source": [
    "#Creating the testing DataFrame for easy indexing\n",
    "testing_data = pd.DataFrame(testing_files,columns=['Testing Image Path'])\n",
    "testing_data"
   ]
  },
  {
   "cell_type": "code",
   "execution_count": null,
   "metadata": {
    "execution": {
     "iopub.execute_input": "2021-12-07T08:09:30.500531Z",
     "iopub.status.busy": "2021-12-07T08:09:30.500024Z",
     "iopub.status.idle": "2021-12-07T08:09:30.507491Z",
     "shell.execute_reply": "2021-12-07T08:09:30.506482Z",
     "shell.execute_reply.started": "2021-12-07T08:09:30.500485Z"
    }
   },
   "outputs": [],
   "source": [
    "#Reading images form the disk to memory and converting from BGR to RGB\n",
    "def read_img(path):\n",
    "    temp = cv2.imread(path)\n",
    "    temp = cv2.cvtColor(temp, cv2.COLOR_BGR2RGB)\n",
    "    return np.array(temp)"
   ]
  },
  {
   "cell_type": "code",
   "execution_count": null,
   "metadata": {
    "execution": {
     "iopub.execute_input": "2021-12-07T08:09:30.510076Z",
     "iopub.status.busy": "2021-12-07T08:09:30.509085Z",
     "iopub.status.idle": "2021-12-07T08:09:30.522394Z",
     "shell.execute_reply": "2021-12-07T08:09:30.521247Z",
     "shell.execute_reply.started": "2021-12-07T08:09:30.510031Z"
    }
   },
   "outputs": [],
   "source": [
    "#Defining the training and testing augmentations\n",
    "length = 512 #Defining the length used for each image \n",
    "training_transforms = A.Compose([A.RandomCrop(height=length,width=length),\n",
    "                                A.RandomGamma(gamma_limit=(80,120),p=0.9),\n",
    "                                A.JpegCompression(quality_lower=70,quality_upper=90,p=0.9),\n",
    "                                A.GridDistortion(interpolation=cv2.INTER_CUBIC)])\n",
    "    \n",
    "\n",
    "                                \n",
    "testing_augmentation = A.Compose([\n",
    "                                  A.CenterCrop(height=length,width=length)])"
   ]
  },
  {
   "cell_type": "code",
   "execution_count": null,
   "metadata": {
    "execution": {
     "iopub.execute_input": "2021-12-07T08:09:30.52499Z",
     "iopub.status.busy": "2021-12-07T08:09:30.524366Z",
     "iopub.status.idle": "2021-12-07T08:09:31.504985Z",
     "shell.execute_reply": "2021-12-07T08:09:31.504103Z",
     "shell.execute_reply.started": "2021-12-07T08:09:30.524891Z"
    }
   },
   "outputs": [],
   "source": [
    "#Creating a custom dataset to read the images in a mini-batch format\n",
    "\n",
    "class Dataset(keras.utils.Sequence):\n",
    "    def __init__(self,x,y,batch_size,augmentations,test):\n",
    "        self.x = x\n",
    "        self.y = y\n",
    "        self.batch_size = batch_size\n",
    "        self.augmentations = augmentations \n",
    "        self.test = test \n",
    "    def __len__(self):\n",
    "        return int(len(self.x)/self.batch_size)\n",
    "    def __getitem__(self,index):\n",
    "        batched_x = self.x.iloc[index*self.batch_size:(index+1)*self.batch_size].to_numpy()\n",
    "        if(self.test):\n",
    "            images = [(self.augmentations(image=read_img(i))['image']) for i in batched_x]\n",
    "            \n",
    "        else:\n",
    "            batched_y = self.y.iloc[index*self.batch_size : (index+1)*self.batch_size,:]\n",
    "            images = [(self.augmentations(image=read_img(i[0]))['image']) for i in batched_x]\n",
    "        return np.array(images)if self.test else (np.array(images),np.array(batched_y.values))"
   ]
  },
  {
   "cell_type": "code",
   "execution_count": null,
   "metadata": {
    "execution": {
     "iopub.execute_input": "2021-12-07T08:09:31.506845Z",
     "iopub.status.busy": "2021-12-07T08:09:31.506544Z",
     "iopub.status.idle": "2021-12-07T08:09:31.515683Z",
     "shell.execute_reply": "2021-12-07T08:09:31.514693Z",
     "shell.execute_reply.started": "2021-12-07T08:09:31.506806Z"
    }
   },
   "outputs": [],
   "source": [
    "#Creating a dummy datast to test the functionality\n",
    "dummy_dataset = Dataset(training_data,classes,batch_size=batch_size,augmentations=training_transforms,test=False)"
   ]
  },
  {
   "cell_type": "code",
   "execution_count": null,
   "metadata": {
    "execution": {
     "iopub.execute_input": "2021-12-07T08:09:31.517508Z",
     "iopub.status.busy": "2021-12-07T08:09:31.51707Z",
     "iopub.status.idle": "2021-12-07T08:09:34.042217Z",
     "shell.execute_reply": "2021-12-07T08:09:34.04125Z",
     "shell.execute_reply.started": "2021-12-07T08:09:31.517466Z"
    }
   },
   "outputs": [],
   "source": [
    "#Calling the dummy dataset to check the functionality \n",
    "(a,b)=dummy_dataset.__getitem__(5)\n",
    "print(a[0])\n",
    "print(a.shape)\n",
    "print(b)\n",
    "print(b.shape)\n",
    "print(type(b))\n",
    "plt.imshow(a[0])\n",
    "\n",
    "losses  = keras.losses.CategoricalCrossentropy(label_smoothing=0.1)\n",
    "#Instantiating the Categorial Corss Entropy loss function with label smoothing"
   ]
  },
  {
   "cell_type": "code",
   "execution_count": null,
   "metadata": {
    "execution": {
     "iopub.execute_input": "2021-12-07T08:09:34.043724Z",
     "iopub.status.busy": "2021-12-07T08:09:34.043426Z",
     "iopub.status.idle": "2021-12-07T08:09:34.056892Z",
     "shell.execute_reply": "2021-12-07T08:09:34.055762Z",
     "shell.execute_reply.started": "2021-12-07T08:09:34.043682Z"
    }
   },
   "outputs": [],
   "source": [
    "#Creating the Keras model for training with the EfficientNet Model being instantiated with imagenet weights\n",
    "def keras_model(length,input_size,output_classes):\n",
    "        p=0.3\n",
    "        base_model = tf.keras.applications.EfficientNetB4(weights='imagenet', include_top=False, input_shape=[length, length, 3])\n",
    "        base_model.trainable = False\n",
    "        inputs =keras.layers.Input(shape=(length,length,3))\n",
    "        x = keras.applications.efficientnet.preprocess_input(inputs)\n",
    "        x = base_model(x, training=False)\n",
    "        x = keras.layers.BatchNormalization()(x)\n",
    "        x = keras.layers.GlobalAveragePooling2D()(x)\n",
    "        x = keras.layers.Dense(1024,activation='relu')(x)\n",
    "        x = keras.layers.Dense(256,activation='relu')(x)\n",
    "        x = keras.layers.Dense(64,activation='relu')(x)\n",
    "        outputs = keras.layers.Dense(10, activation='softmax')(x)\n",
    "\n",
    "        model =keras.Model(inputs=inputs, outputs=outputs)\n",
    "\n",
    "        model.compile(optimizer=tf.keras.optimizers.Adam(lr=learning_rate), loss=losses, metrics=['accuracy'])\n",
    "\n",
    "        model.summary() \n",
    "        return model"
   ]
  },
  {
   "cell_type": "code",
   "execution_count": null,
   "metadata": {
    "execution": {
     "iopub.execute_input": "2021-12-07T08:09:34.059356Z",
     "iopub.status.busy": "2021-12-07T08:09:34.058773Z",
     "iopub.status.idle": "2021-12-07T08:09:45.324454Z",
     "shell.execute_reply": "2021-12-07T08:09:45.323329Z",
     "shell.execute_reply.started": "2021-12-07T08:09:34.05931Z"
    }
   },
   "outputs": [],
   "source": [
    "#Instantiating the keras model\n",
    "training_model = keras_model(length,length*length*3,10)"
   ]
  },
  {
   "cell_type": "code",
   "execution_count": null,
   "metadata": {
    "execution": {
     "iopub.execute_input": "2021-12-07T08:09:45.326758Z",
     "iopub.status.busy": "2021-12-07T08:09:45.326406Z",
     "iopub.status.idle": "2021-12-07T08:09:45.370363Z",
     "shell.execute_reply": "2021-12-07T08:09:45.369217Z",
     "shell.execute_reply.started": "2021-12-07T08:09:45.326714Z"
    }
   },
   "outputs": [],
   "source": [
    "#Printing the summary of training model \n",
    "training_model.summary()"
   ]
  },
  {
   "cell_type": "code",
   "execution_count": null,
   "metadata": {
    "execution": {
     "iopub.execute_input": "2021-12-07T08:09:45.372647Z",
     "iopub.status.busy": "2021-12-07T08:09:45.372097Z",
     "iopub.status.idle": "2021-12-07T08:09:45.385369Z",
     "shell.execute_reply": "2021-12-07T08:09:45.383998Z",
     "shell.execute_reply.started": "2021-12-07T08:09:45.372578Z"
    }
   },
   "outputs": [],
   "source": [
    "# Splitting the training dataset into a training and validation dataset with the validation split  = 0.1 and setting the Shuffle=True\n",
    "xtrain,xval,ytrain,yval = train_test_split(training_data,classes,test_size=0.1,shuffle=True,random_state=seed)"
   ]
  },
  {
   "cell_type": "code",
   "execution_count": null,
   "metadata": {
    "execution": {
     "iopub.execute_input": "2021-12-07T08:09:45.387956Z",
     "iopub.status.busy": "2021-12-07T08:09:45.387616Z",
     "iopub.status.idle": "2021-12-07T08:09:45.396653Z",
     "shell.execute_reply": "2021-12-07T08:09:45.395446Z",
     "shell.execute_reply.started": "2021-12-07T08:09:45.387909Z"
    }
   },
   "outputs": [],
   "source": [
    "#Printing the size of each array to check that the sizes match\n",
    "print(len(xtrain),len(xval))\n",
    "print(len(ytrain),len(yval))"
   ]
  },
  {
   "cell_type": "code",
   "execution_count": null,
   "metadata": {
    "execution": {
     "iopub.execute_input": "2021-12-07T08:09:45.399652Z",
     "iopub.status.busy": "2021-12-07T08:09:45.39856Z",
     "iopub.status.idle": "2021-12-07T08:09:45.408713Z",
     "shell.execute_reply": "2021-12-07T08:09:45.407486Z",
     "shell.execute_reply.started": "2021-12-07T08:09:45.399585Z"
    }
   },
   "outputs": [],
   "source": [
    "#Pushing the arrays into a custom keras dataset to feed to the neural networ\n",
    "training_dataset = Dataset(xtrain,ytrain,batch_size=batch_size,augmentations=training_transforms,test=False)\n",
    "validation_dataset = Dataset(xval,yval,batch_size=1,augmentations=training_transforms,test=False)\n",
    "\n",
    "print(len(training_dataset))\n",
    "print(len(validation_dataset))"
   ]
  },
  {
   "cell_type": "code",
   "execution_count": null,
   "metadata": {
    "execution": {
     "iopub.execute_input": "2021-12-07T08:09:45.410968Z",
     "iopub.status.busy": "2021-12-07T08:09:45.410337Z",
     "iopub.status.idle": "2021-12-07T08:09:45.421673Z",
     "shell.execute_reply": "2021-12-07T08:09:45.420618Z",
     "shell.execute_reply.started": "2021-12-07T08:09:45.410922Z"
    }
   },
   "outputs": [],
   "source": [
    "#Creating a list of callbacks to add to the training model \n",
    "\n",
    "model_file = \"output/base_model_weights.hd5\" # defining the output path to save the model file\n",
    "\n",
    "checkpoint = tf.keras.callbacks.ModelCheckpoint(model_file, monitor=\"val_accuracy\", save_best_only=True, mode='max') # Save the model which has the best validation acc\n",
    "\n",
    "reduce_lr = tf.keras.callbacks.ReduceLROnPlateau(monitor=\"val_accuracy\", factor=0.9, patience=2, min_lr=1e-6, mode=\"max\", verbose=True) # reduce Lr if the validation acc does not increase\n",
    "\n",
    "early_stopping = tf.keras.callbacks.EarlyStopping(monitor=\"val_accuracy\", patience=5, mode=\"max\", verbose=True) # Stop the training if the val acc does not improve\n",
    "\n",
    "callbacks_list = [checkpoint, reduce_lr, early_stopping] # Call all of the instantiated callbacks into one variable\n"
   ]
  },
  {
   "cell_type": "code",
   "execution_count": null,
   "metadata": {
    "execution": {
     "iopub.execute_input": "2021-12-07T08:09:45.423482Z",
     "iopub.status.busy": "2021-12-07T08:09:45.4231Z",
     "iopub.status.idle": "2021-12-07T08:12:53.734059Z",
     "shell.execute_reply": "2021-12-07T08:12:53.731473Z",
     "shell.execute_reply.started": "2021-12-07T08:09:45.423439Z"
    }
   },
   "outputs": [],
   "source": [
    "#Training the model for 10 epochs multiple times, each time the best model is read back for training \n",
    "inner_epochs = 10\n",
    "training_model.fit(training_dataset,validation_data=validation_dataset,epochs=inner_epochs,batch_size=batch_size,callbacks=callbacks_list,verbose=1)\n",
    "loops = (epochs-inner_epochs)//inner_epochs\n",
    "for i in range(0,3):\n",
    "    training_model= keras.models.load_model(model_file)\n",
    "    training_model.fit(training_dataset,validation_data=validation_dataset,epochs=inner_epochs,batch_size=batch_size,callbacks=callbacks_list,verbose=1)\n",
    "\n"
   ]
  },
  {
   "cell_type": "code",
   "execution_count": null,
   "metadata": {
    "execution": {
     "iopub.status.busy": "2021-12-07T08:12:53.735905Z",
     "iopub.status.idle": "2021-12-07T08:12:53.736823Z",
     "shell.execute_reply": "2021-12-07T08:12:53.736513Z",
     "shell.execute_reply.started": "2021-12-07T08:12:53.736481Z"
    }
   },
   "outputs": [],
   "source": [
    "#After training a part of the model for a set number of epochs, the entire model is trained for another few more epochs\n",
    "for layer in training_model.layers:\n",
    "    layer.traning=True    \n",
    "training_model.compile(optimizer=tf.keras.optimizers.Adam(lr=1e-3), loss=losses, metrics=['accuracy'])\n",
    "\n",
    "training_model.fit(training_dataset,validation_data=validation_dataset,epochs=5,batch_size=batch_size,callbacks=callbacks_list,verbose=1)"
   ]
  },
  {
   "cell_type": "code",
   "execution_count": null,
   "metadata": {
    "execution": {
     "iopub.status.busy": "2021-12-07T08:12:53.738508Z",
     "iopub.status.idle": "2021-12-07T08:12:53.73948Z",
     "shell.execute_reply": "2021-12-07T08:12:53.739188Z",
     "shell.execute_reply.started": "2021-12-07T08:12:53.739094Z"
    }
   },
   "outputs": [],
   "source": [
    "#Reading the submission file from the directory \n",
    "sample_submission = pd.read_csv('/kaggle/input/sp-society-camera-model-identification/sample_submission.csv')\n",
    "sample_submission.head() #Printing the top few rows from the submission file"
   ]
  },
  {
   "cell_type": "code",
   "execution_count": null,
   "metadata": {
    "execution": {
     "iopub.status.busy": "2021-12-07T08:12:53.741291Z",
     "iopub.status.idle": "2021-12-07T08:12:53.742178Z",
     "shell.execute_reply": "2021-12-07T08:12:53.741882Z",
     "shell.execute_reply.started": "2021-12-07T08:12:53.741848Z"
    }
   },
   "outputs": [],
   "source": [
    "#Creating a testing dataset with the filepaths from the submission file\n",
    "\n",
    "\n",
    "x_test = testing_path+sample_submission['fname']\n",
    "#x_test = x_test.to_numpy()\n",
    "print(x_test[0])\n",
    "\n",
    "#training_model.load_model(model_file)\n",
    "x_test = Dataset(x_test,x_test,test=True,batch_size=1,augmentations=testing_augmentation)"
   ]
  },
  {
   "cell_type": "code",
   "execution_count": null,
   "metadata": {
    "execution": {
     "iopub.status.busy": "2021-12-07T08:12:53.743759Z",
     "iopub.status.idle": "2021-12-07T08:12:53.744593Z",
     "shell.execute_reply": "2021-12-07T08:12:53.744329Z",
     "shell.execute_reply.started": "2021-12-07T08:12:53.744298Z"
    }
   },
   "outputs": [],
   "source": [
    "#generating predictions for the validation dataset\n",
    "val_predicted = training_model.predict(validation_dataset)"
   ]
  },
  {
   "cell_type": "code",
   "execution_count": null,
   "metadata": {
    "execution": {
     "iopub.status.busy": "2021-12-07T08:12:53.746786Z",
     "iopub.status.idle": "2021-12-07T08:12:53.748099Z",
     "shell.execute_reply": "2021-12-07T08:12:53.747701Z",
     "shell.execute_reply.started": "2021-12-07T08:12:53.747598Z"
    }
   },
   "outputs": [],
   "source": [
    "#reading the best file from memory and generating predictions for the testing dataset\n",
    "training_model = tf.keras.models.load_model(model_file)\n",
    "predicted = training_model.predict(x_test)\n",
    "\n",
    "print(predicted)"
   ]
  },
  {
   "cell_type": "code",
   "execution_count": null,
   "metadata": {
    "execution": {
     "iopub.status.busy": "2021-12-07T08:12:53.749798Z",
     "iopub.status.idle": "2021-12-07T08:12:53.750616Z",
     "shell.execute_reply": "2021-12-07T08:12:53.750326Z",
     "shell.execute_reply.started": "2021-12-07T08:12:53.750294Z"
    }
   },
   "outputs": [],
   "source": [
    "#Creating a function to convert the one-hot encoded item into class labels\n",
    "def convert_predictions_to_labels(labels):\n",
    "    temp = []\n",
    "    for item in labels.argmax(axis=1):\n",
    "        temp.append(classes_dict[str(item)])\n",
    "    return temp"
   ]
  },
  {
   "cell_type": "code",
   "execution_count": null,
   "metadata": {
    "execution": {
     "iopub.status.busy": "2021-12-07T08:12:53.752568Z",
     "iopub.status.idle": "2021-12-07T08:12:53.753355Z",
     "shell.execute_reply": "2021-12-07T08:12:53.753094Z",
     "shell.execute_reply.started": "2021-12-07T08:12:53.753066Z"
    }
   },
   "outputs": [],
   "source": [
    "#converting the test and validation predictions to their class labels\n",
    "test_labels = convert_predictions_to_labels(predicted)\n",
    "\n",
    "validation_labels = convert_predictions_to_labels(val_predicted)"
   ]
  },
  {
   "cell_type": "code",
   "execution_count": null,
   "metadata": {
    "execution": {
     "iopub.status.busy": "2021-12-07T08:12:53.754835Z",
     "iopub.status.idle": "2021-12-07T08:12:53.755586Z",
     "shell.execute_reply": "2021-12-07T08:12:53.75533Z",
     "shell.execute_reply.started": "2021-12-07T08:12:53.755301Z"
    }
   },
   "outputs": [],
   "source": [
    "#filling up the submission file with the test predictions\n",
    "sample_submission['camera'] = test_labels\n",
    "sample_submission.head()"
   ]
  },
  {
   "cell_type": "code",
   "execution_count": null,
   "metadata": {
    "execution": {
     "iopub.status.busy": "2021-12-07T08:12:53.75719Z",
     "iopub.status.idle": "2021-12-07T08:12:53.758013Z",
     "shell.execute_reply": "2021-12-07T08:12:53.757735Z",
     "shell.execute_reply.started": "2021-12-07T08:12:53.757704Z"
    }
   },
   "outputs": [],
   "source": [
    "#Submitting the test predictions\n",
    "sample_submission.to_csv(\"submission.csv\", index=False)"
   ]
  },
  {
   "cell_type": "code",
   "execution_count": null,
   "metadata": {
    "execution": {
     "iopub.status.busy": "2021-12-07T08:12:53.759577Z",
     "iopub.status.idle": "2021-12-07T08:12:53.760426Z",
     "shell.execute_reply": "2021-12-07T08:12:53.760148Z",
     "shell.execute_reply.started": "2021-12-07T08:12:53.760116Z"
    }
   },
   "outputs": [],
   "source": [
    "#Converting the validation one-hot encoded labels\n",
    "yval=yval.idxmax(axis=1)"
   ]
  },
  {
   "cell_type": "code",
   "execution_count": null,
   "metadata": {
    "execution": {
     "iopub.status.busy": "2021-12-07T08:12:53.761972Z",
     "iopub.status.idle": "2021-12-07T08:12:53.762765Z",
     "shell.execute_reply": "2021-12-07T08:12:53.762468Z",
     "shell.execute_reply.started": "2021-12-07T08:12:53.762437Z"
    }
   },
   "outputs": [],
   "source": [
    "#printing the confusion matrix\n",
    "con_matrix = confusion_matrix(yval,validation_labels)\n",
    "print(con_matrix)"
   ]
  }
 ],
 "metadata": {
  "kernelspec": {
   "display_name": "Python 3",
   "language": "python",
   "name": "python3"
  },
  "language_info": {
   "codemirror_mode": {
    "name": "ipython",
    "version": 3
   },
   "file_extension": ".py",
   "mimetype": "text/x-python",
   "name": "python",
   "nbconvert_exporter": "python",
   "pygments_lexer": "ipython3",
   "version": "3.8.8"
  }
 },
 "nbformat": 4,
 "nbformat_minor": 4
}
