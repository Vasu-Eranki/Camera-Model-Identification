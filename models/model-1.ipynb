{
 "cells": [
  {
   "cell_type": "code",
   "execution_count": null,
   "metadata": {
    "execution": {
     "iopub.execute_input": "2021-12-04T05:13:01.536015Z",
     "iopub.status.busy": "2021-12-04T05:13:01.535475Z",
     "iopub.status.idle": "2021-12-04T05:13:07.351781Z",
     "shell.execute_reply": "2021-12-04T05:13:07.351033Z",
     "shell.execute_reply.started": "2021-12-04T05:13:01.535894Z"
    }
   },
   "outputs": [],
   "source": [
    "#Importing the python libraries \n",
    "import numpy as np \n",
    "import pandas as pd \n",
    "import matplotlib.pyplot as plt \n",
    "import tensorflow as tf \n",
    "import sklearn as sk \n",
    "import os \n",
    "import cv2\n",
    "import albumentations as A\n",
    "from PIL import Image \n",
    "from tensorflow import keras \n",
    "from sklearn.model_selection import train_test_split\n",
    "from sklearn.metrics import confusion_matrix \n",
    "\n",
    "#Setting the training and testing paths to extract the files \n",
    "training_path = \"/kaggle/input/sp-society-camera-model-identification/train/train/\"\n",
    "testing_path = \"/kaggle/input/sp-society-camera-model-identification/test/test/\"\n",
    "_,training_classes,_=next(os.walk(training_path))\n",
    "#print(training_classes)\n"
   ]
  },
  {
   "cell_type": "code",
   "execution_count": null,
   "metadata": {
    "execution": {
     "iopub.execute_input": "2021-12-04T05:13:07.369522Z",
     "iopub.status.busy": "2021-12-04T05:13:07.368964Z",
     "iopub.status.idle": "2021-12-04T05:13:07.374723Z",
     "shell.execute_reply": "2021-12-04T05:13:07.374028Z",
     "shell.execute_reply.started": "2021-12-04T05:13:07.369481Z"
    }
   },
   "outputs": [],
   "source": [
    "#Setting the hyperparameters for the deep learning model\n",
    "batch_size = 8\n",
    "epochs = 40\n",
    "learning_rate = 1e-4"
   ]
  },
  {
   "cell_type": "code",
   "execution_count": null,
   "metadata": {
    "execution": {
     "iopub.execute_input": "2021-12-04T05:13:07.376431Z",
     "iopub.status.busy": "2021-12-04T05:13:07.375958Z",
     "iopub.status.idle": "2021-12-04T05:13:08.619038Z",
     "shell.execute_reply": "2021-12-04T05:13:08.618069Z",
     "shell.execute_reply.started": "2021-12-04T05:13:07.376396Z"
    }
   },
   "outputs": [],
   "source": [
    "#testing_files \n",
    "_,_,testing_files = next(os.walk(testing_path))\n"
   ]
  },
  {
   "cell_type": "code",
   "execution_count": null,
   "metadata": {
    "execution": {
     "iopub.execute_input": "2021-12-04T05:13:08.622156Z",
     "iopub.status.busy": "2021-12-04T05:13:08.621651Z",
     "iopub.status.idle": "2021-12-04T05:13:09.047722Z",
     "shell.execute_reply": "2021-12-04T05:13:09.046912Z",
     "shell.execute_reply.started": "2021-12-04T05:13:08.622113Z"
    }
   },
   "outputs": [],
   "source": [
    "#Creating the training dataset by iterating over the directory \n",
    "#Appending the training paths to the list and extracting the classes from the directory\n",
    "training_paths = [] \n",
    "labels = [] \n",
    "for i in training_classes:\n",
    "    _,_,filenames = next(os.walk(training_path+i))\n",
    "    for j in filenames:\n",
    "        training_paths.append(training_path+i+'/'+j)\n",
    "        labels.append(i)"
   ]
  },
  {
   "cell_type": "code",
   "execution_count": null,
   "metadata": {
    "execution": {
     "iopub.execute_input": "2021-12-04T05:13:09.049697Z",
     "iopub.status.busy": "2021-12-04T05:13:09.049219Z",
     "iopub.status.idle": "2021-12-04T05:13:09.054975Z",
     "shell.execute_reply": "2021-12-04T05:13:09.053779Z",
     "shell.execute_reply.started": "2021-12-04T05:13:09.04966Z"
    }
   },
   "outputs": [],
   "source": [
    "#Ensure that the training size and the class labels are the same\n",
    "assert len(training_paths)==len(labels)"
   ]
  },
  {
   "cell_type": "code",
   "execution_count": null,
   "metadata": {
    "execution": {
     "iopub.execute_input": "2021-12-04T05:13:09.057102Z",
     "iopub.status.busy": "2021-12-04T05:13:09.056629Z",
     "iopub.status.idle": "2021-12-04T05:13:09.064305Z",
     "shell.execute_reply": "2021-12-04T05:13:09.063562Z",
     "shell.execute_reply.started": "2021-12-04T05:13:09.057066Z"
    }
   },
   "outputs": [],
   "source": [
    "#Setting the random seed to 33 for reproducible results\n",
    "seed = 33"
   ]
  },
  {
   "cell_type": "code",
   "execution_count": null,
   "metadata": {
    "execution": {
     "iopub.execute_input": "2021-12-04T05:13:09.065935Z",
     "iopub.status.busy": "2021-12-04T05:13:09.065398Z",
     "iopub.status.idle": "2021-12-04T05:13:09.087234Z",
     "shell.execute_reply": "2021-12-04T05:13:09.086491Z",
     "shell.execute_reply.started": "2021-12-04T05:13:09.065896Z"
    }
   },
   "outputs": [],
   "source": [
    "#Moving the training paths to an pandas DataFrame for easy indexing and one-hot encoding the class labels\n",
    "training_data = pd.DataFrame(training_paths,columns=['Training Image Path'])\n",
    "classes = pd.DataFrame(labels)\n",
    "classes = pd.get_dummies(classes)\n",
    "classes.columns=np.unique(labels)# One Hot Encode the class variables"
   ]
  },
  {
   "cell_type": "code",
   "execution_count": null,
   "metadata": {
    "execution": {
     "iopub.execute_input": "2021-12-04T05:13:09.08925Z",
     "iopub.status.busy": "2021-12-04T05:13:09.08873Z",
     "iopub.status.idle": "2021-12-04T05:13:09.106647Z",
     "shell.execute_reply": "2021-12-04T05:13:09.105723Z",
     "shell.execute_reply.started": "2021-12-04T05:13:09.089207Z"
    }
   },
   "outputs": [],
   "source": [
    "#print the training data\n",
    "training_data"
   ]
  },
  {
   "cell_type": "code",
   "execution_count": null,
   "metadata": {
    "execution": {
     "iopub.execute_input": "2021-12-04T05:13:09.108291Z",
     "iopub.status.busy": "2021-12-04T05:13:09.107859Z",
     "iopub.status.idle": "2021-12-04T05:13:09.120712Z",
     "shell.execute_reply": "2021-12-04T05:13:09.120017Z",
     "shell.execute_reply.started": "2021-12-04T05:13:09.108254Z"
    }
   },
   "outputs": [],
   "source": [
    "#printing the one-hot encoded class variable\n",
    "classes.head()"
   ]
  },
  {
   "cell_type": "code",
   "execution_count": null,
   "metadata": {
    "execution": {
     "iopub.execute_input": "2021-12-04T05:13:09.122416Z",
     "iopub.status.busy": "2021-12-04T05:13:09.122004Z",
     "iopub.status.idle": "2021-12-04T05:13:09.12716Z",
     "shell.execute_reply": "2021-12-04T05:13:09.126394Z",
     "shell.execute_reply.started": "2021-12-04T05:13:09.122383Z"
    }
   },
   "outputs": [],
   "source": [
    "#Creating the class dictionary for converting the one-hot encoded variables\n",
    "classes_dict = {'0':'HTC-1-M7',\n",
    "                '1':'LG-Nexus-5x',\n",
    "                '2':'Motorola-Droid-Maxx',\n",
    "                '3':'Motorola-Nexus-6',\n",
    "                '4':'Motorola-X',\n",
    "                '5':'Samsung-Galaxy-Note3',\n",
    "                '6':'Samsung-Galaxy-S4',\n",
    "                '7':'Sony-NEX-7',\n",
    "                '8':'iPhone-4s',\n",
    "                '9':'iPhone-6'}"
   ]
  },
  {
   "cell_type": "code",
   "execution_count": null,
   "metadata": {
    "execution": {
     "iopub.execute_input": "2021-12-04T05:13:09.128982Z",
     "iopub.status.busy": "2021-12-04T05:13:09.128702Z",
     "iopub.status.idle": "2021-12-04T05:13:09.142054Z",
     "shell.execute_reply": "2021-12-04T05:13:09.141336Z",
     "shell.execute_reply.started": "2021-12-04T05:13:09.128922Z"
    }
   },
   "outputs": [],
   "source": [
    "#Creating the testing DataFrame for easy indexing\n",
    "testing_data = pd.DataFrame(testing_files,columns=['Testing Image Path'])\n",
    "testing_data"
   ]
  },
  {
   "cell_type": "code",
   "execution_count": null,
   "metadata": {
    "execution": {
     "iopub.execute_input": "2021-12-04T05:13:09.145344Z",
     "iopub.status.busy": "2021-12-04T05:13:09.144903Z",
     "iopub.status.idle": "2021-12-04T05:13:09.150883Z",
     "shell.execute_reply": "2021-12-04T05:13:09.150104Z",
     "shell.execute_reply.started": "2021-12-04T05:13:09.145309Z"
    }
   },
   "outputs": [],
   "source": [
    "#Reading images form the disk to memory and converting from BGR to RGB\n",
    "def read_img(path):\n",
    "    temp = cv2.imread(path)\n",
    "    temp = cv2.cvtColor(temp, cv2.COLOR_BGR2RGB)\n",
    "    return np.array(temp)"
   ]
  },
  {
   "cell_type": "code",
   "execution_count": null,
   "metadata": {
    "execution": {
     "iopub.execute_input": "2021-12-04T05:13:09.155799Z",
     "iopub.status.busy": "2021-12-04T05:13:09.154987Z",
     "iopub.status.idle": "2021-12-04T05:13:09.165533Z",
     "shell.execute_reply": "2021-12-04T05:13:09.164029Z",
     "shell.execute_reply.started": "2021-12-04T05:13:09.15576Z"
    }
   },
   "outputs": [],
   "source": [
    "#Defining the training and testing augmentations\n",
    "length = 512 #Defining the length used for each image \n",
    "training_transforms = A.Compose([A.RandomCrop(height=length,width=length),\n",
    "                                A.RandomGamma(gamma_limit=(80,120),p=0.9),\n",
    "                                A.JpegCompression(quality_lower=70,quality_upper=90,p=0.9),\n",
    "                                A.GridDistortion(interpolation=cv2.INTER_CUBIC)])\n",
    "    \n",
    "\n",
    "                                \n",
    "testing_augmentation = A.Compose([\n",
    "                                  A.CenterCrop(height=length,width=length)])"
   ]
  },
  {
   "cell_type": "code",
   "execution_count": null,
   "metadata": {
    "execution": {
     "iopub.execute_input": "2021-12-04T05:13:09.168092Z",
     "iopub.status.busy": "2021-12-04T05:13:09.167697Z",
     "iopub.status.idle": "2021-12-04T05:13:10.008129Z",
     "shell.execute_reply": "2021-12-04T05:13:10.007413Z",
     "shell.execute_reply.started": "2021-12-04T05:13:09.168058Z"
    }
   },
   "outputs": [],
   "source": [
    "#Creating a custom dataset to read the images in a mini-batch format\n",
    "\n",
    "class Dataset(keras.utils.Sequence):\n",
    "    def __init__(self,x,y,batch_size,augmentations,test):\n",
    "        self.x = x\n",
    "        self.y = y\n",
    "        self.batch_size = batch_size\n",
    "        self.augmentations = augmentations \n",
    "        self.test = test \n",
    "    def __len__(self):\n",
    "        return int(len(self.x)/self.batch_size)\n",
    "    def __getitem__(self,index):\n",
    "        batched_x = self.x.iloc[index*self.batch_size:(index+1)*self.batch_size].to_numpy()\n",
    "        if(self.test):\n",
    "            images = [(self.augmentations(image=read_img(i))['image']) for i in batched_x]\n",
    "            \n",
    "        else:\n",
    "            batched_y = self.y.iloc[index*self.batch_size : (index+1)*self.batch_size,:]\n",
    "            images = [(self.augmentations(image=read_img(i[0]))['image']) for i in batched_x]\n",
    "        return np.array(images)if self.test else (np.array(images),np.array(batched_y.values))"
   ]
  },
  {
   "cell_type": "code",
   "execution_count": null,
   "metadata": {
    "execution": {
     "iopub.execute_input": "2021-12-04T05:13:10.010647Z",
     "iopub.status.busy": "2021-12-04T05:13:10.0102Z",
     "iopub.status.idle": "2021-12-04T05:13:10.014612Z",
     "shell.execute_reply": "2021-12-04T05:13:10.014024Z",
     "shell.execute_reply.started": "2021-12-04T05:13:10.010605Z"
    }
   },
   "outputs": [],
   "source": [
    "#Creating a dummy datast to test the functionality\n",
    "dummy_dataset = Dataset(training_data,classes,batch_size=batch_size,augmentations=training_transforms,test=False)"
   ]
  },
  {
   "cell_type": "code",
   "execution_count": null,
   "metadata": {
    "execution": {
     "iopub.execute_input": "2021-12-04T05:13:10.016053Z",
     "iopub.status.busy": "2021-12-04T05:13:10.015686Z",
     "iopub.status.idle": "2021-12-04T05:13:11.181749Z",
     "shell.execute_reply": "2021-12-04T05:13:11.181056Z",
     "shell.execute_reply.started": "2021-12-04T05:13:10.016017Z"
    }
   },
   "outputs": [],
   "source": [
    "#Calling the dummy dataset to check the functionality \n",
    "(a,b)=dummy_dataset.__getitem__(5)\n",
    "print(a[0])\n",
    "print(a.shape)\n",
    "print(b)\n",
    "print(b.shape)\n",
    "print(type(b))\n",
    "plt.imshow(a[0])\n"
   ]
  },
  {
   "cell_type": "code",
   "execution_count": null,
   "metadata": {
    "execution": {
     "iopub.execute_input": "2021-12-04T05:13:11.183024Z",
     "iopub.status.busy": "2021-12-04T05:13:11.182751Z",
     "iopub.status.idle": "2021-12-04T05:13:11.19567Z",
     "shell.execute_reply": "2021-12-04T05:13:11.1949Z",
     "shell.execute_reply.started": "2021-12-04T05:13:11.182988Z"
    }
   },
   "outputs": [],
   "source": [
    "#Creating the Keras model for training with the custom CNN model \n",
    "def keras_model(length,input_size,output_classes):\n",
    "    ipt_layer = keras.Input(shape=(length,length,3))\n",
    "    conv1 = keras.layers.Conv2D(filters=512,kernel_size=7,activation='relu',strides=1)(ipt_layer)\n",
    "    pool1 = keras.layers.MaxPool2D()(conv1)\n",
    "    conv2 = keras.layers.Conv2D(filters=256,kernel_size=5,activation='relu',strides=1)(pool1)\n",
    "    pool2 = keras.layers.MaxPool2D()(conv2)\n",
    "    conv3 = keras.layers.Conv2D(filters=128,kernel_size=3,activation='relu',strides=1)(pool2)\n",
    "    pool3 = keras.layers.MaxPool2D()(conv3)\n",
    "    conv4 = keras.layers.Conv2D(filters=64,kernel_size=3,activation='relu',strides=1)(pool3)\n",
    "    pool4 = keras.layers.MaxPool2D()(conv4)\n",
    "    conv5 = keras.layers.Conv2D(filters=32,kernel_size=1,activation='relu',strides=1)(pool4)\n",
    "    flatten = keras.layers.Flatten()(conv5)\n",
    "    dense_1 = keras.layers.Dense(200,activation='tanh')(flatten)\n",
    "    op_layer = keras.layers.Dense(output_classes,activation='softmax')(dense_1)\n",
    "    optimiser = keras.optimizers.Adam(learning_rate =learning_rate)\n",
    "    losses = keras.losses.CategoricalCrossentropy()\n",
    "    metrics = keras.metrics.Accuracy()\n",
    "    model = keras.Model(inputs = ipt_layer,outputs = op_layer)\n",
    "    model.compile(optimizer=optimiser,loss=losses,metrics=metrics)\n",
    "    return model"
   ]
  },
  {
   "cell_type": "code",
   "execution_count": null,
   "metadata": {
    "execution": {
     "iopub.execute_input": "2021-12-04T05:13:11.197402Z",
     "iopub.status.busy": "2021-12-04T05:13:11.197065Z",
     "iopub.status.idle": "2021-12-04T05:13:13.609478Z",
     "shell.execute_reply": "2021-12-04T05:13:13.608752Z",
     "shell.execute_reply.started": "2021-12-04T05:13:11.19735Z"
    }
   },
   "outputs": [],
   "source": [
    "#Instantiating the keras model\n",
    "training_model = keras_model(length,length*length*3,10)"
   ]
  },
  {
   "cell_type": "code",
   "execution_count": null,
   "metadata": {
    "execution": {
     "iopub.execute_input": "2021-12-04T05:13:13.611357Z",
     "iopub.status.busy": "2021-12-04T05:13:13.610545Z",
     "iopub.status.idle": "2021-12-04T05:13:13.6238Z",
     "shell.execute_reply": "2021-12-04T05:13:13.622936Z",
     "shell.execute_reply.started": "2021-12-04T05:13:13.611319Z"
    }
   },
   "outputs": [],
   "source": [
    "#Printing the summary of training model \n",
    "training_model.summary()"
   ]
  },
  {
   "cell_type": "code",
   "execution_count": null,
   "metadata": {
    "execution": {
     "iopub.execute_input": "2021-12-04T05:13:13.62545Z",
     "iopub.status.busy": "2021-12-04T05:13:13.625174Z",
     "iopub.status.idle": "2021-12-04T05:13:13.633503Z",
     "shell.execute_reply": "2021-12-04T05:13:13.632761Z",
     "shell.execute_reply.started": "2021-12-04T05:13:13.625414Z"
    }
   },
   "outputs": [],
   "source": [
    "# Splitting the training dataset into a training and validation dataset with the validation split  = 0.1 and setting the Shuffle=True\n",
    "xtrain,xval,ytrain,yval = train_test_split(training_data,classes,test_size=0.1,shuffle=True,random_state=seed)"
   ]
  },
  {
   "cell_type": "code",
   "execution_count": null,
   "metadata": {
    "execution": {
     "iopub.execute_input": "2021-12-04T05:13:13.63535Z",
     "iopub.status.busy": "2021-12-04T05:13:13.635079Z",
     "iopub.status.idle": "2021-12-04T05:13:13.641401Z",
     "shell.execute_reply": "2021-12-04T05:13:13.640582Z",
     "shell.execute_reply.started": "2021-12-04T05:13:13.635316Z"
    }
   },
   "outputs": [],
   "source": [
    "#Printing the size of each array to check that the sizes match\n",
    "print(len(xtrain),len(xval))\n",
    "print(len(ytrain),len(yval))"
   ]
  },
  {
   "cell_type": "code",
   "execution_count": null,
   "metadata": {
    "execution": {
     "iopub.execute_input": "2021-12-04T05:13:13.643658Z",
     "iopub.status.busy": "2021-12-04T05:13:13.642984Z",
     "iopub.status.idle": "2021-12-04T05:13:13.650488Z",
     "shell.execute_reply": "2021-12-04T05:13:13.649695Z",
     "shell.execute_reply.started": "2021-12-04T05:13:13.643619Z"
    }
   },
   "outputs": [],
   "source": [
    "#Pushing the arrays into a custom keras dataset to feed to the neural networ\n",
    "training_dataset = Dataset(xtrain,ytrain,batch_size=batch_size,augmentations=training_transforms,test=False)\n",
    "validation_dataset = Dataset(xval,yval,batch_size=1,augmentations=training_transforms,test=False)\n",
    "\n",
    "print(len(training_dataset))\n",
    "print(len(validation_dataset))"
   ]
  },
  {
   "cell_type": "code",
   "execution_count": null,
   "metadata": {
    "execution": {
     "iopub.execute_input": "2021-12-04T05:13:13.65267Z",
     "iopub.status.busy": "2021-12-04T05:13:13.652039Z",
     "iopub.status.idle": "2021-12-04T05:13:13.659345Z",
     "shell.execute_reply": "2021-12-04T05:13:13.65866Z",
     "shell.execute_reply.started": "2021-12-04T05:13:13.652632Z"
    }
   },
   "outputs": [],
   "source": [
    "#Creating a list of callbacks to add to the training model \n",
    "\n",
    "model_file = \"output/base_model_weights.hd5\" # defining the output path to save the model file\n",
    "\n",
    "checkpoint = tf.keras.callbacks.ModelCheckpoint(model_file, monitor=\"val_accuracy\", save_best_only=True, mode='max') # Save the model which has the best validation acc\n",
    "\n",
    "reduce_lr = tf.keras.callbacks.ReduceLROnPlateau(monitor=\"val_accuracy\", factor=0.9, patience=2, min_lr=1e-6, mode=\"max\", verbose=True) # reduce Lr if the validation acc does not increase\n",
    "\n",
    "early_stopping = tf.keras.callbacks.EarlyStopping(monitor=\"val_accuracy\", patience=5, mode=\"max\", verbose=True) # Stop the training if the val acc does not improve\n",
    "\n",
    "callbacks_list = [checkpoint, reduce_lr, early_stopping] # Call all of the instantiated callbacks into one variable\n"
   ]
  },
  {
   "cell_type": "code",
   "execution_count": null,
   "metadata": {
    "execution": {
     "iopub.execute_input": "2021-12-04T05:13:13.661648Z",
     "iopub.status.busy": "2021-12-04T05:13:13.661431Z",
     "iopub.status.idle": "2021-12-04T05:15:11.188475Z",
     "shell.execute_reply": "2021-12-04T05:15:11.187049Z",
     "shell.execute_reply.started": "2021-12-04T05:13:13.661623Z"
    }
   },
   "outputs": [],
   "source": [
    "#Training the model for 10 epochs multiple times, each time the best model is read back for training \n",
    "training_model.fit(training_dataset,validation_data=validation_dataset,epochs=epochs,batch_size=batch_size,callbacks=callbacks_list,verbose=1)"
   ]
  },
  {
   "cell_type": "code",
   "execution_count": null,
   "metadata": {
    "execution": {
     "iopub.execute_input": "2021-12-04T05:15:19.355743Z",
     "iopub.status.busy": "2021-12-04T05:15:19.355042Z",
     "iopub.status.idle": "2021-12-04T05:15:19.377644Z",
     "shell.execute_reply": "2021-12-04T05:15:19.376844Z",
     "shell.execute_reply.started": "2021-12-04T05:15:19.355697Z"
    }
   },
   "outputs": [],
   "source": [
    "#Reading the submission file from the directory \n",
    "sample_submission = pd.read_csv('/kaggle/input/sp-society-camera-model-identification/sample_submission.csv')\n",
    "sample_submission.head() #Printing the top few rows from the submission file"
   ]
  },
  {
   "cell_type": "code",
   "execution_count": null,
   "metadata": {
    "execution": {
     "iopub.execute_input": "2021-12-04T05:15:23.017425Z",
     "iopub.status.busy": "2021-12-04T05:15:23.016612Z",
     "iopub.status.idle": "2021-12-04T05:15:23.026333Z",
     "shell.execute_reply": "2021-12-04T05:15:23.025406Z",
     "shell.execute_reply.started": "2021-12-04T05:15:23.017374Z"
    }
   },
   "outputs": [],
   "source": [
    "#Creating a testing dataset with the filepaths from the submission file\n",
    "\n",
    "\n",
    "x_test = testing_path+sample_submission['fname']\n",
    "#x_test = x_test.to_numpy()\n",
    "print(x_test[0])\n",
    "\n",
    "#training_model.load_model(model_file)\n",
    "x_test = Dataset(x_test,x_test,test=True,batch_size=1,augmentations=testing_augmentation)"
   ]
  },
  {
   "cell_type": "code",
   "execution_count": null,
   "metadata": {
    "execution": {
     "iopub.execute_input": "2021-12-04T05:15:32.812757Z",
     "iopub.status.busy": "2021-12-04T05:15:32.812132Z"
    }
   },
   "outputs": [],
   "source": [
    "#generating predictions for the testing dataset\n",
    "predicted = training_model.predict(x_test)"
   ]
  },
  {
   "cell_type": "code",
   "execution_count": null,
   "metadata": {},
   "outputs": [],
   "source": [
    "print(predicted)"
   ]
  },
  {
   "cell_type": "code",
   "execution_count": null,
   "metadata": {
    "execution": {
     "iopub.status.busy": "2021-12-04T05:15:11.19725Z",
     "iopub.status.idle": "2021-12-04T05:15:11.198003Z",
     "shell.execute_reply": "2021-12-04T05:15:11.197789Z",
     "shell.execute_reply.started": "2021-12-04T05:15:11.197761Z"
    }
   },
   "outputs": [],
   "source": [
    "# converting the one-hot encoded item into class labels\n",
    "test_labels = []\n",
    "for item in predicted.argmax(axis=1):\n",
    "    test_labels.append(classes_dict[str(item)])"
   ]
  },
  {
   "cell_type": "code",
   "execution_count": null,
   "metadata": {
    "execution": {
     "iopub.status.busy": "2021-12-04T05:15:11.200962Z",
     "iopub.status.idle": "2021-12-04T05:15:11.201849Z",
     "shell.execute_reply": "2021-12-04T05:15:11.201619Z",
     "shell.execute_reply.started": "2021-12-04T05:15:11.201594Z"
    }
   },
   "outputs": [],
   "source": [
    "#filling up the submission file with the test predictions\n",
    "sample_submission['camera'] = test_labels\n",
    "sample_submission.head()"
   ]
  },
  {
   "cell_type": "code",
   "execution_count": null,
   "metadata": {
    "execution": {
     "iopub.status.busy": "2021-12-04T05:15:11.202882Z",
     "iopub.status.idle": "2021-12-04T05:15:11.203764Z",
     "shell.execute_reply": "2021-12-04T05:15:11.203544Z",
     "shell.execute_reply.started": "2021-12-04T05:15:11.203519Z"
    }
   },
   "outputs": [],
   "source": [
    "#Submitting the test predictions\n",
    "sample_submission.to_csv(\"submission.csv\", index=False)"
   ]
  }
 ],
 "metadata": {
  "kernelspec": {
   "display_name": "Python 3",
   "language": "python",
   "name": "python3"
  },
  "language_info": {
   "codemirror_mode": {
    "name": "ipython",
    "version": 3
   },
   "file_extension": ".py",
   "mimetype": "text/x-python",
   "name": "python",
   "nbconvert_exporter": "python",
   "pygments_lexer": "ipython3",
   "version": "3.8.8"
  }
 },
 "nbformat": 4,
 "nbformat_minor": 4
}
