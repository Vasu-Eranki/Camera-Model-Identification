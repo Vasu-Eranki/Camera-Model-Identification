{
 "cells": [
  {
   "cell_type": "code",
   "execution_count": 1,
   "id": "701319b7",
   "metadata": {
    "execution": {
     "iopub.execute_input": "2021-12-03T08:26:07.283956Z",
     "iopub.status.busy": "2021-12-03T08:26:07.282457Z",
     "iopub.status.idle": "2021-12-03T08:26:13.113920Z",
     "shell.execute_reply": "2021-12-03T08:26:13.113334Z",
     "shell.execute_reply.started": "2021-12-03T08:20:52.343780Z"
    },
    "papermill": {
     "duration": 5.861088,
     "end_time": "2021-12-03T08:26:13.114063",
     "exception": false,
     "start_time": "2021-12-03T08:26:07.252975",
     "status": "completed"
    },
    "tags": []
   },
   "outputs": [],
   "source": [
    "import numpy as np \n",
    "import pandas as pd \n",
    "import matplotlib.pyplot as plt \n",
    "import tensorflow as tf \n",
    "import sklearn as sk \n",
    "import os \n",
    "import cv2\n",
    "import albumentations as A\n",
    "from PIL import Image \n",
    "from tensorflow import keras \n",
    "from sklearn.model_selection import train_test_split"
   ]
  },
  {
   "cell_type": "code",
   "execution_count": 2,
   "id": "2a97ce54",
   "metadata": {
    "execution": {
     "iopub.execute_input": "2021-12-03T08:26:13.163768Z",
     "iopub.status.busy": "2021-12-03T08:26:13.163123Z",
     "iopub.status.idle": "2021-12-03T08:26:13.172590Z",
     "shell.execute_reply": "2021-12-03T08:26:13.172144Z",
     "shell.execute_reply.started": "2021-12-03T08:20:58.279104Z"
    },
    "papermill": {
     "duration": 0.034355,
     "end_time": "2021-12-03T08:26:13.172702",
     "exception": false,
     "start_time": "2021-12-03T08:26:13.138347",
     "status": "completed"
    },
    "tags": []
   },
   "outputs": [],
   "source": [
    "training_path = \"/kaggle/input/sp-society-camera-model-identification/train/train/\"\n",
    "testing_path = \"/kaggle/input/sp-society-camera-model-identification/test/test/\"\n",
    "_,training_classes,_=next(os.walk(training_path))\n",
    "#print(training_classes)\n"
   ]
  },
  {
   "cell_type": "code",
   "execution_count": 3,
   "id": "297b666e",
   "metadata": {
    "execution": {
     "iopub.execute_input": "2021-12-03T08:26:13.219514Z",
     "iopub.status.busy": "2021-12-03T08:26:13.218788Z",
     "iopub.status.idle": "2021-12-03T08:26:13.221175Z",
     "shell.execute_reply": "2021-12-03T08:26:13.220696Z",
     "shell.execute_reply.started": "2021-12-03T08:22:01.932431Z"
    },
    "papermill": {
     "duration": 0.027281,
     "end_time": "2021-12-03T08:26:13.221302",
     "exception": false,
     "start_time": "2021-12-03T08:26:13.194021",
     "status": "completed"
    },
    "tags": []
   },
   "outputs": [],
   "source": [
    "batch_size = 4\n",
    "epochs = 50\n",
    "learning_rate = 1e-3"
   ]
  },
  {
   "cell_type": "code",
   "execution_count": 4,
   "id": "919a88d4",
   "metadata": {
    "execution": {
     "iopub.execute_input": "2021-12-03T08:26:13.267703Z",
     "iopub.status.busy": "2021-12-03T08:26:13.267097Z",
     "iopub.status.idle": "2021-12-03T08:26:14.127069Z",
     "shell.execute_reply": "2021-12-03T08:26:14.126557Z",
     "shell.execute_reply.started": "2021-12-03T08:22:01.940174Z"
    },
    "papermill": {
     "duration": 0.88408,
     "end_time": "2021-12-03T08:26:14.127187",
     "exception": false,
     "start_time": "2021-12-03T08:26:13.243107",
     "status": "completed"
    },
    "tags": []
   },
   "outputs": [],
   "source": [
    "_,_,testing_files = next(os.walk(testing_path))\n",
    "#testing_files"
   ]
  },
  {
   "cell_type": "code",
   "execution_count": 5,
   "id": "552da9a8",
   "metadata": {
    "execution": {
     "iopub.execute_input": "2021-12-03T08:26:14.175737Z",
     "iopub.status.busy": "2021-12-03T08:26:14.175145Z",
     "iopub.status.idle": "2021-12-03T08:26:14.486719Z",
     "shell.execute_reply": "2021-12-03T08:26:14.486187Z",
     "shell.execute_reply.started": "2021-12-03T08:22:02.172883Z"
    },
    "papermill": {
     "duration": 0.337416,
     "end_time": "2021-12-03T08:26:14.486852",
     "exception": false,
     "start_time": "2021-12-03T08:26:14.149436",
     "status": "completed"
    },
    "tags": []
   },
   "outputs": [],
   "source": [
    "training_paths = [] \n",
    "labels = [] \n",
    "for i in training_classes:\n",
    "    _,_,filenames = next(os.walk(training_path+i))\n",
    "    for j in filenames:\n",
    "        training_paths.append(training_path+i+'/'+j)\n",
    "        labels.append(i)"
   ]
  },
  {
   "cell_type": "code",
   "execution_count": 6,
   "id": "98fc8189",
   "metadata": {
    "execution": {
     "iopub.execute_input": "2021-12-03T08:26:14.535094Z",
     "iopub.status.busy": "2021-12-03T08:26:14.534330Z",
     "iopub.status.idle": "2021-12-03T08:26:14.536645Z",
     "shell.execute_reply": "2021-12-03T08:26:14.536238Z",
     "shell.execute_reply.started": "2021-12-03T08:22:02.193078Z"
    },
    "papermill": {
     "duration": 0.027875,
     "end_time": "2021-12-03T08:26:14.536750",
     "exception": false,
     "start_time": "2021-12-03T08:26:14.508875",
     "status": "completed"
    },
    "tags": []
   },
   "outputs": [],
   "source": [
    "assert len(training_paths)==len(labels)"
   ]
  },
  {
   "cell_type": "code",
   "execution_count": 7,
   "id": "a1ce3b35",
   "metadata": {
    "execution": {
     "iopub.execute_input": "2021-12-03T08:26:14.582864Z",
     "iopub.status.busy": "2021-12-03T08:26:14.582227Z",
     "iopub.status.idle": "2021-12-03T08:26:14.584284Z",
     "shell.execute_reply": "2021-12-03T08:26:14.584772Z",
     "shell.execute_reply.started": "2021-12-03T08:22:02.199273Z"
    },
    "papermill": {
     "duration": 0.026998,
     "end_time": "2021-12-03T08:26:14.584886",
     "exception": false,
     "start_time": "2021-12-03T08:26:14.557888",
     "status": "completed"
    },
    "tags": []
   },
   "outputs": [],
   "source": [
    "seed = 33"
   ]
  },
  {
   "cell_type": "code",
   "execution_count": 8,
   "id": "fcc988ba",
   "metadata": {
    "execution": {
     "iopub.execute_input": "2021-12-03T08:26:14.644600Z",
     "iopub.status.busy": "2021-12-03T08:26:14.644036Z",
     "iopub.status.idle": "2021-12-03T08:26:14.648840Z",
     "shell.execute_reply": "2021-12-03T08:26:14.648421Z",
     "shell.execute_reply.started": "2021-12-03T08:22:02.207114Z"
    },
    "papermill": {
     "duration": 0.0428,
     "end_time": "2021-12-03T08:26:14.648938",
     "exception": false,
     "start_time": "2021-12-03T08:26:14.606138",
     "status": "completed"
    },
    "tags": []
   },
   "outputs": [],
   "source": [
    "training_data = pd.DataFrame(training_paths,columns=['Training Image Path'])\n",
    "classes = pd.DataFrame(labels)\n",
    "classes = pd.get_dummies(classes) # One Hot Encode the class variables"
   ]
  },
  {
   "cell_type": "code",
   "execution_count": 9,
   "id": "84673ee9",
   "metadata": {
    "execution": {
     "iopub.execute_input": "2021-12-03T08:26:14.697534Z",
     "iopub.status.busy": "2021-12-03T08:26:14.696792Z",
     "iopub.status.idle": "2021-12-03T08:26:14.707578Z",
     "shell.execute_reply": "2021-12-03T08:26:14.707980Z",
     "shell.execute_reply.started": "2021-12-03T08:22:02.219705Z"
    },
    "papermill": {
     "duration": 0.037997,
     "end_time": "2021-12-03T08:26:14.708107",
     "exception": false,
     "start_time": "2021-12-03T08:26:14.670110",
     "status": "completed"
    },
    "tags": []
   },
   "outputs": [
    {
     "data": {
      "text/html": [
       "<div>\n",
       "<style scoped>\n",
       "    .dataframe tbody tr th:only-of-type {\n",
       "        vertical-align: middle;\n",
       "    }\n",
       "\n",
       "    .dataframe tbody tr th {\n",
       "        vertical-align: top;\n",
       "    }\n",
       "\n",
       "    .dataframe thead th {\n",
       "        text-align: right;\n",
       "    }\n",
       "</style>\n",
       "<table border=\"1\" class=\"dataframe\">\n",
       "  <thead>\n",
       "    <tr style=\"text-align: right;\">\n",
       "      <th></th>\n",
       "      <th>Training Image Path</th>\n",
       "    </tr>\n",
       "  </thead>\n",
       "  <tbody>\n",
       "    <tr>\n",
       "      <th>0</th>\n",
       "      <td>/kaggle/input/sp-society-camera-model-identifi...</td>\n",
       "    </tr>\n",
       "    <tr>\n",
       "      <th>1</th>\n",
       "      <td>/kaggle/input/sp-society-camera-model-identifi...</td>\n",
       "    </tr>\n",
       "    <tr>\n",
       "      <th>2</th>\n",
       "      <td>/kaggle/input/sp-society-camera-model-identifi...</td>\n",
       "    </tr>\n",
       "    <tr>\n",
       "      <th>3</th>\n",
       "      <td>/kaggle/input/sp-society-camera-model-identifi...</td>\n",
       "    </tr>\n",
       "    <tr>\n",
       "      <th>4</th>\n",
       "      <td>/kaggle/input/sp-society-camera-model-identifi...</td>\n",
       "    </tr>\n",
       "    <tr>\n",
       "      <th>...</th>\n",
       "      <td>...</td>\n",
       "    </tr>\n",
       "    <tr>\n",
       "      <th>2745</th>\n",
       "      <td>/kaggle/input/sp-society-camera-model-identifi...</td>\n",
       "    </tr>\n",
       "    <tr>\n",
       "      <th>2746</th>\n",
       "      <td>/kaggle/input/sp-society-camera-model-identifi...</td>\n",
       "    </tr>\n",
       "    <tr>\n",
       "      <th>2747</th>\n",
       "      <td>/kaggle/input/sp-society-camera-model-identifi...</td>\n",
       "    </tr>\n",
       "    <tr>\n",
       "      <th>2748</th>\n",
       "      <td>/kaggle/input/sp-society-camera-model-identifi...</td>\n",
       "    </tr>\n",
       "    <tr>\n",
       "      <th>2749</th>\n",
       "      <td>/kaggle/input/sp-society-camera-model-identifi...</td>\n",
       "    </tr>\n",
       "  </tbody>\n",
       "</table>\n",
       "<p>2750 rows × 1 columns</p>\n",
       "</div>"
      ],
      "text/plain": [
       "                                    Training Image Path\n",
       "0     /kaggle/input/sp-society-camera-model-identifi...\n",
       "1     /kaggle/input/sp-society-camera-model-identifi...\n",
       "2     /kaggle/input/sp-society-camera-model-identifi...\n",
       "3     /kaggle/input/sp-society-camera-model-identifi...\n",
       "4     /kaggle/input/sp-society-camera-model-identifi...\n",
       "...                                                 ...\n",
       "2745  /kaggle/input/sp-society-camera-model-identifi...\n",
       "2746  /kaggle/input/sp-society-camera-model-identifi...\n",
       "2747  /kaggle/input/sp-society-camera-model-identifi...\n",
       "2748  /kaggle/input/sp-society-camera-model-identifi...\n",
       "2749  /kaggle/input/sp-society-camera-model-identifi...\n",
       "\n",
       "[2750 rows x 1 columns]"
      ]
     },
     "execution_count": 9,
     "metadata": {},
     "output_type": "execute_result"
    }
   ],
   "source": [
    "training_data"
   ]
  },
  {
   "cell_type": "code",
   "execution_count": 10,
   "id": "a5c5e83d",
   "metadata": {
    "execution": {
     "iopub.execute_input": "2021-12-03T08:26:14.762745Z",
     "iopub.status.busy": "2021-12-03T08:26:14.757092Z",
     "iopub.status.idle": "2021-12-03T08:26:14.765731Z",
     "shell.execute_reply": "2021-12-03T08:26:14.766179Z",
     "shell.execute_reply.started": "2021-12-03T08:22:02.232387Z"
    },
    "papermill": {
     "duration": 0.036276,
     "end_time": "2021-12-03T08:26:14.766339",
     "exception": false,
     "start_time": "2021-12-03T08:26:14.730063",
     "status": "completed"
    },
    "tags": []
   },
   "outputs": [
    {
     "data": {
      "text/html": [
       "<div>\n",
       "<style scoped>\n",
       "    .dataframe tbody tr th:only-of-type {\n",
       "        vertical-align: middle;\n",
       "    }\n",
       "\n",
       "    .dataframe tbody tr th {\n",
       "        vertical-align: top;\n",
       "    }\n",
       "\n",
       "    .dataframe thead th {\n",
       "        text-align: right;\n",
       "    }\n",
       "</style>\n",
       "<table border=\"1\" class=\"dataframe\">\n",
       "  <thead>\n",
       "    <tr style=\"text-align: right;\">\n",
       "      <th></th>\n",
       "      <th>0_HTC-1-M7</th>\n",
       "      <th>0_LG-Nexus-5x</th>\n",
       "      <th>0_Motorola-Droid-Maxx</th>\n",
       "      <th>0_Motorola-Nexus-6</th>\n",
       "      <th>0_Motorola-X</th>\n",
       "      <th>0_Samsung-Galaxy-Note3</th>\n",
       "      <th>0_Samsung-Galaxy-S4</th>\n",
       "      <th>0_Sony-NEX-7</th>\n",
       "      <th>0_iPhone-4s</th>\n",
       "      <th>0_iPhone-6</th>\n",
       "    </tr>\n",
       "  </thead>\n",
       "  <tbody>\n",
       "    <tr>\n",
       "      <th>0</th>\n",
       "      <td>0</td>\n",
       "      <td>0</td>\n",
       "      <td>0</td>\n",
       "      <td>0</td>\n",
       "      <td>0</td>\n",
       "      <td>0</td>\n",
       "      <td>1</td>\n",
       "      <td>0</td>\n",
       "      <td>0</td>\n",
       "      <td>0</td>\n",
       "    </tr>\n",
       "    <tr>\n",
       "      <th>1</th>\n",
       "      <td>0</td>\n",
       "      <td>0</td>\n",
       "      <td>0</td>\n",
       "      <td>0</td>\n",
       "      <td>0</td>\n",
       "      <td>0</td>\n",
       "      <td>1</td>\n",
       "      <td>0</td>\n",
       "      <td>0</td>\n",
       "      <td>0</td>\n",
       "    </tr>\n",
       "    <tr>\n",
       "      <th>2</th>\n",
       "      <td>0</td>\n",
       "      <td>0</td>\n",
       "      <td>0</td>\n",
       "      <td>0</td>\n",
       "      <td>0</td>\n",
       "      <td>0</td>\n",
       "      <td>1</td>\n",
       "      <td>0</td>\n",
       "      <td>0</td>\n",
       "      <td>0</td>\n",
       "    </tr>\n",
       "    <tr>\n",
       "      <th>3</th>\n",
       "      <td>0</td>\n",
       "      <td>0</td>\n",
       "      <td>0</td>\n",
       "      <td>0</td>\n",
       "      <td>0</td>\n",
       "      <td>0</td>\n",
       "      <td>1</td>\n",
       "      <td>0</td>\n",
       "      <td>0</td>\n",
       "      <td>0</td>\n",
       "    </tr>\n",
       "    <tr>\n",
       "      <th>4</th>\n",
       "      <td>0</td>\n",
       "      <td>0</td>\n",
       "      <td>0</td>\n",
       "      <td>0</td>\n",
       "      <td>0</td>\n",
       "      <td>0</td>\n",
       "      <td>1</td>\n",
       "      <td>0</td>\n",
       "      <td>0</td>\n",
       "      <td>0</td>\n",
       "    </tr>\n",
       "  </tbody>\n",
       "</table>\n",
       "</div>"
      ],
      "text/plain": [
       "   0_HTC-1-M7  0_LG-Nexus-5x  0_Motorola-Droid-Maxx  0_Motorola-Nexus-6  \\\n",
       "0           0              0                      0                   0   \n",
       "1           0              0                      0                   0   \n",
       "2           0              0                      0                   0   \n",
       "3           0              0                      0                   0   \n",
       "4           0              0                      0                   0   \n",
       "\n",
       "   0_Motorola-X  0_Samsung-Galaxy-Note3  0_Samsung-Galaxy-S4  0_Sony-NEX-7  \\\n",
       "0             0                       0                    1             0   \n",
       "1             0                       0                    1             0   \n",
       "2             0                       0                    1             0   \n",
       "3             0                       0                    1             0   \n",
       "4             0                       0                    1             0   \n",
       "\n",
       "   0_iPhone-4s  0_iPhone-6  \n",
       "0            0           0  \n",
       "1            0           0  \n",
       "2            0           0  \n",
       "3            0           0  \n",
       "4            0           0  "
      ]
     },
     "execution_count": 10,
     "metadata": {},
     "output_type": "execute_result"
    }
   ],
   "source": [
    "classes.head()"
   ]
  },
  {
   "cell_type": "code",
   "execution_count": 11,
   "id": "908166ed",
   "metadata": {
    "execution": {
     "iopub.execute_input": "2021-12-03T08:26:14.816496Z",
     "iopub.status.busy": "2021-12-03T08:26:14.815732Z",
     "iopub.status.idle": "2021-12-03T08:26:14.817699Z",
     "shell.execute_reply": "2021-12-03T08:26:14.818123Z",
     "shell.execute_reply.started": "2021-12-03T08:22:02.247008Z"
    },
    "papermill": {
     "duration": 0.029263,
     "end_time": "2021-12-03T08:26:14.818257",
     "exception": false,
     "start_time": "2021-12-03T08:26:14.788994",
     "status": "completed"
    },
    "tags": []
   },
   "outputs": [],
   "source": [
    "classes_dict = {'0':'HTC-1-M7',\n",
    "                '1':'LG-Nexus-5x',\n",
    "                '2':'Motorola-Droid-Maxx',\n",
    "                '3':'Motorola-Nexus-6',\n",
    "                '4':'Motorola-X',\n",
    "                '5':'Samsung-Galaxy-Note3',\n",
    "                '6':'Samsung-Galaxy-S4',\n",
    "                '7':'Sony-NEX-7',\n",
    "                '8':'iPhone-4s',\n",
    "                '9':'iPhone-6'}"
   ]
  },
  {
   "cell_type": "code",
   "execution_count": 12,
   "id": "96f1577d",
   "metadata": {
    "execution": {
     "iopub.execute_input": "2021-12-03T08:26:14.872666Z",
     "iopub.status.busy": "2021-12-03T08:26:14.872000Z",
     "iopub.status.idle": "2021-12-03T08:26:14.874550Z",
     "shell.execute_reply": "2021-12-03T08:26:14.875019Z",
     "shell.execute_reply.started": "2021-12-03T08:22:02.256934Z"
    },
    "papermill": {
     "duration": 0.034098,
     "end_time": "2021-12-03T08:26:14.875137",
     "exception": false,
     "start_time": "2021-12-03T08:26:14.841039",
     "status": "completed"
    },
    "tags": []
   },
   "outputs": [
    {
     "data": {
      "text/html": [
       "<div>\n",
       "<style scoped>\n",
       "    .dataframe tbody tr th:only-of-type {\n",
       "        vertical-align: middle;\n",
       "    }\n",
       "\n",
       "    .dataframe tbody tr th {\n",
       "        vertical-align: top;\n",
       "    }\n",
       "\n",
       "    .dataframe thead th {\n",
       "        text-align: right;\n",
       "    }\n",
       "</style>\n",
       "<table border=\"1\" class=\"dataframe\">\n",
       "  <thead>\n",
       "    <tr style=\"text-align: right;\">\n",
       "      <th></th>\n",
       "      <th>Testing Image Path</th>\n",
       "    </tr>\n",
       "  </thead>\n",
       "  <tbody>\n",
       "    <tr>\n",
       "      <th>0</th>\n",
       "      <td>img_b551817_manip.tif</td>\n",
       "    </tr>\n",
       "    <tr>\n",
       "      <th>1</th>\n",
       "      <td>img_90bf577_unalt.tif</td>\n",
       "    </tr>\n",
       "    <tr>\n",
       "      <th>2</th>\n",
       "      <td>img_44c7044_unalt.tif</td>\n",
       "    </tr>\n",
       "    <tr>\n",
       "      <th>3</th>\n",
       "      <td>img_6481076_unalt.tif</td>\n",
       "    </tr>\n",
       "    <tr>\n",
       "      <th>4</th>\n",
       "      <td>img_6f87d1f_manip.tif</td>\n",
       "    </tr>\n",
       "    <tr>\n",
       "      <th>...</th>\n",
       "      <td>...</td>\n",
       "    </tr>\n",
       "    <tr>\n",
       "      <th>2635</th>\n",
       "      <td>img_f5c6b8e_unalt.tif</td>\n",
       "    </tr>\n",
       "    <tr>\n",
       "      <th>2636</th>\n",
       "      <td>img_a9da818_manip.tif</td>\n",
       "    </tr>\n",
       "    <tr>\n",
       "      <th>2637</th>\n",
       "      <td>img_53bbd9f_unalt.tif</td>\n",
       "    </tr>\n",
       "    <tr>\n",
       "      <th>2638</th>\n",
       "      <td>img_db8cb11_unalt.tif</td>\n",
       "    </tr>\n",
       "    <tr>\n",
       "      <th>2639</th>\n",
       "      <td>img_aa16ead_manip.tif</td>\n",
       "    </tr>\n",
       "  </tbody>\n",
       "</table>\n",
       "<p>2640 rows × 1 columns</p>\n",
       "</div>"
      ],
      "text/plain": [
       "         Testing Image Path\n",
       "0     img_b551817_manip.tif\n",
       "1     img_90bf577_unalt.tif\n",
       "2     img_44c7044_unalt.tif\n",
       "3     img_6481076_unalt.tif\n",
       "4     img_6f87d1f_manip.tif\n",
       "...                     ...\n",
       "2635  img_f5c6b8e_unalt.tif\n",
       "2636  img_a9da818_manip.tif\n",
       "2637  img_53bbd9f_unalt.tif\n",
       "2638  img_db8cb11_unalt.tif\n",
       "2639  img_aa16ead_manip.tif\n",
       "\n",
       "[2640 rows x 1 columns]"
      ]
     },
     "execution_count": 12,
     "metadata": {},
     "output_type": "execute_result"
    }
   ],
   "source": [
    "testing_data = pd.DataFrame(testing_files,columns=['Testing Image Path'])\n",
    "testing_data"
   ]
  },
  {
   "cell_type": "code",
   "execution_count": 13,
   "id": "ddebbb33",
   "metadata": {
    "execution": {
     "iopub.execute_input": "2021-12-03T08:26:14.926056Z",
     "iopub.status.busy": "2021-12-03T08:26:14.925469Z",
     "iopub.status.idle": "2021-12-03T08:26:14.928348Z",
     "shell.execute_reply": "2021-12-03T08:26:14.927883Z",
     "shell.execute_reply.started": "2021-12-03T08:22:02.270365Z"
    },
    "papermill": {
     "duration": 0.030784,
     "end_time": "2021-12-03T08:26:14.928480",
     "exception": false,
     "start_time": "2021-12-03T08:26:14.897696",
     "status": "completed"
    },
    "tags": []
   },
   "outputs": [],
   "source": [
    "def read_img(path):\n",
    "    temp = cv2.imread(path)\n",
    "    temp = cv2.cvtColor(temp, cv2.COLOR_BGR2RGB)\n",
    "    return np.array(temp)"
   ]
  },
  {
   "cell_type": "code",
   "execution_count": 14,
   "id": "6fe6e13e",
   "metadata": {
    "execution": {
     "iopub.execute_input": "2021-12-03T08:26:14.979825Z",
     "iopub.status.busy": "2021-12-03T08:26:14.979178Z",
     "iopub.status.idle": "2021-12-03T08:26:14.985029Z",
     "shell.execute_reply": "2021-12-03T08:26:14.984595Z",
     "shell.execute_reply.started": "2021-12-03T08:22:02.276694Z"
    },
    "papermill": {
     "duration": 0.033444,
     "end_time": "2021-12-03T08:26:14.985132",
     "exception": false,
     "start_time": "2021-12-03T08:26:14.951688",
     "status": "completed"
    },
    "tags": []
   },
   "outputs": [
    {
     "name": "stderr",
     "output_type": "stream",
     "text": [
      "/opt/conda/lib/python3.7/site-packages/albumentations/augmentations/transforms.py:967: FutureWarning: This class has been deprecated. Please use ImageCompression\n",
      "  FutureWarning,\n"
     ]
    }
   ],
   "source": [
    "length = 512\n",
    "training_transforms = A.Compose([A.RandomCrop(height=length,width=length),\n",
    "                                A.RandomGamma(gamma_limit=(80,120),p=0.5),\n",
    "                                A.JpegCompression(quality_lower=70,quality_upper=90,p=0.5),\n",
    "                                A.GridDistortion(interpolation=cv2.INTER_CUBIC),\n",
    "                                A.HorizontalFlip(p=0.3),\n",
    "                                A.VerticalFlip(p=0.5)])\n",
    "    \n",
    "\n",
    "                                \n",
    "testing_augmentation = A.Compose([\n",
    "                                  A.CenterCrop(height=length,width=length)])"
   ]
  },
  {
   "cell_type": "code",
   "execution_count": 15,
   "id": "712b09fe",
   "metadata": {
    "execution": {
     "iopub.execute_input": "2021-12-03T08:26:15.039790Z",
     "iopub.status.busy": "2021-12-03T08:26:15.039163Z",
     "iopub.status.idle": "2021-12-03T08:26:15.870327Z",
     "shell.execute_reply": "2021-12-03T08:26:15.869777Z",
     "shell.execute_reply.started": "2021-12-03T08:22:02.288045Z"
    },
    "papermill": {
     "duration": 0.862181,
     "end_time": "2021-12-03T08:26:15.870456",
     "exception": false,
     "start_time": "2021-12-03T08:26:15.008275",
     "status": "completed"
    },
    "tags": []
   },
   "outputs": [],
   "source": [
    "class Dataset(keras.utils.Sequence):\n",
    "    def __init__(self,x,y,batch_size,augmentations,test):\n",
    "        self.x = x\n",
    "        self.y = y\n",
    "        self.batch_size = batch_size\n",
    "        self.augmentations = augmentations \n",
    "        self.test = test \n",
    "    def __len__(self):\n",
    "        return int(len(self.x)/self.batch_size)\n",
    "    def __getitem__(self,index):\n",
    "        batched_x = self.x.iloc[index*self.batch_size:(index+1)*self.batch_size].to_numpy()\n",
    "        if(self.test):\n",
    "            images = [(self.augmentations(image=read_img(i))['image']) for i in batched_x]\n",
    "            \n",
    "        else:\n",
    "            batched_y = self.y.iloc[index*self.batch_size : (index+1)*self.batch_size,:]\n",
    "            images = [(self.augmentations(image=read_img(i[0]))['image']) for i in batched_x]\n",
    "        return np.array(images)if self.test else (np.array(images),batched_y.values)"
   ]
  },
  {
   "cell_type": "code",
   "execution_count": 16,
   "id": "54c574d5",
   "metadata": {
    "execution": {
     "iopub.execute_input": "2021-12-03T08:26:15.921935Z",
     "iopub.status.busy": "2021-12-03T08:26:15.919542Z",
     "iopub.status.idle": "2021-12-03T08:26:15.924321Z",
     "shell.execute_reply": "2021-12-03T08:26:15.923895Z",
     "shell.execute_reply.started": "2021-12-03T08:22:02.299581Z"
    },
    "papermill": {
     "duration": 0.029831,
     "end_time": "2021-12-03T08:26:15.924434",
     "exception": false,
     "start_time": "2021-12-03T08:26:15.894603",
     "status": "completed"
    },
    "tags": []
   },
   "outputs": [],
   "source": [
    "dummy_dataset = Dataset(training_data,classes,batch_size=batch_size,augmentations=training_transforms,test=False)"
   ]
  },
  {
   "cell_type": "code",
   "execution_count": 17,
   "id": "767e0de9",
   "metadata": {
    "execution": {
     "iopub.execute_input": "2021-12-03T08:26:15.975460Z",
     "iopub.status.busy": "2021-12-03T08:26:15.974856Z",
     "iopub.status.idle": "2021-12-03T08:26:17.242559Z",
     "shell.execute_reply": "2021-12-03T08:26:17.243150Z",
     "shell.execute_reply.started": "2021-12-03T08:22:02.308758Z"
    },
    "papermill": {
     "duration": 1.295577,
     "end_time": "2021-12-03T08:26:17.243362",
     "exception": false,
     "start_time": "2021-12-03T08:26:15.947785",
     "status": "completed"
    },
    "tags": []
   },
   "outputs": [
    {
     "name": "stdout",
     "output_type": "stream",
     "text": [
      "(4, 512, 512, 3)\n",
      "(4, 10)\n"
     ]
    },
    {
     "data": {
      "text/plain": [
       "<matplotlib.image.AxesImage at 0x7f1a57bd1910>"
      ]
     },
     "execution_count": 17,
     "metadata": {},
     "output_type": "execute_result"
    },
    {
     "data": {
      "image/png": "[encoded data removed]",
      "text/plain": [
       "<Figure size 432x288 with 1 Axes>"
      ]
     },
     "metadata": {
      "needs_background": "light"
     },
     "output_type": "display_data"
    }
   ],
   "source": [
    "(a,b)=dummy_dataset.__getitem__(5)\n",
    "#print(a[0])\n",
    "print(a.shape)\n",
    "#print(b)\n",
    "print(b.shape)\n",
    "plt.imshow(a[0])\n",
    "\n"
   ]
  },
  {
   "cell_type": "code",
   "execution_count": 18,
   "id": "93c02df3",
   "metadata": {
    "execution": {
     "iopub.execute_input": "2021-12-03T08:26:17.313828Z",
     "iopub.status.busy": "2021-12-03T08:26:17.313076Z",
     "iopub.status.idle": "2021-12-03T08:26:17.315533Z",
     "shell.execute_reply": "2021-12-03T08:26:17.315097Z",
     "shell.execute_reply.started": "2021-12-03T08:22:03.736848Z"
    },
    "papermill": {
     "duration": 0.040082,
     "end_time": "2021-12-03T08:26:17.315649",
     "exception": false,
     "start_time": "2021-12-03T08:26:17.275567",
     "status": "completed"
    },
    "tags": []
   },
   "outputs": [],
   "source": [
    "def keras_model(length,input_size,output_classes):\n",
    "    ipt_layer = keras.Input(shape=(length,length,3))\n",
    "    conv1 = keras.layers.Conv2D(filters=512,kernel_size=7,activation='relu',strides=1)(ipt_layer)\n",
    "    pool1 = keras.layers.MaxPool2D()(conv1)\n",
    "    conv2 = keras.layers.Conv2D(filters=256,kernel_size=5,activation='relu',strides=1)(pool1)\n",
    "    pool2 = keras.layers.MaxPool2D()(conv2)\n",
    "    conv3 = keras.layers.Conv2D(filters=128,kernel_size=3,activation='relu',strides=1)(pool2)\n",
    "    pool3 = keras.layers.MaxPool2D()(conv3)\n",
    "    conv4 = keras.layers.Conv2D(filters=64,kernel_size=3,activation='relu',strides=1)(pool3)\n",
    "    pool4 = keras.layers.MaxPool2D()(conv4)\n",
    "    conv5 = keras.layers.Conv2D(filters=32,kernel_size=1,activation='relu',strides=1)(pool4)\n",
    "    flatten = keras.layers.Flatten()(conv5)\n",
    "    dense_1 = keras.layers.Dense(200,activation='tanh')(flatten)\n",
    "    op_layer = keras.layers.Dense(output_classes,activation='softmax')(dense_1)\n",
    "    optimiser = keras.optimizers.Adam(learning_rate =learning_rate)\n",
    "    losses = keras.losses.CategoricalCrossentropy()\n",
    "    metrics = keras.metrics.Accuracy()\n",
    "    model = keras.Model(inputs = ipt_layer,outputs = op_layer)\n",
    "    model.compile(optimizer=optimiser,loss=losses,metrics=metrics)\n",
    "    return model"
   ]
  },
  {
   "cell_type": "code",
   "execution_count": 19,
   "id": "fe4d1e1a",
   "metadata": {
    "execution": {
     "iopub.execute_input": "2021-12-03T08:26:17.373566Z",
     "iopub.status.busy": "2021-12-03T08:26:17.373017Z",
     "iopub.status.idle": "2021-12-03T08:26:19.741410Z",
     "shell.execute_reply": "2021-12-03T08:26:19.741836Z",
     "shell.execute_reply.started": "2021-12-03T08:22:03.749443Z"
    },
    "papermill": {
     "duration": 2.399158,
     "end_time": "2021-12-03T08:26:19.741992",
     "exception": false,
     "start_time": "2021-12-03T08:26:17.342834",
     "status": "completed"
    },
    "tags": []
   },
   "outputs": [
    {
     "name": "stderr",
     "output_type": "stream",
     "text": [
      "2021-12-03 08:26:17.446773: I tensorflow/stream_executor/cuda/cuda_gpu_executor.cc:937] successful NUMA node read from SysFS had negative value (-1), but there must be at least one NUMA node, so returning NUMA node zero\n",
      "2021-12-03 08:26:17.533991: I tensorflow/stream_executor/cuda/cuda_gpu_executor.cc:937] successful NUMA node read from SysFS had negative value (-1), but there must be at least one NUMA node, so returning NUMA node zero\n",
      "2021-12-03 08:26:17.534751: I tensorflow/stream_executor/cuda/cuda_gpu_executor.cc:937] successful NUMA node read from SysFS had negative value (-1), but there must be at least one NUMA node, so returning NUMA node zero\n",
      "2021-12-03 08:26:17.535885: I tensorflow/core/platform/cpu_feature_guard.cc:142] This TensorFlow binary is optimized with oneAPI Deep Neural Network Library (oneDNN) to use the following CPU instructions in performance-critical operations:  AVX2 AVX512F FMA\n",
      "To enable them in other operations, rebuild TensorFlow with the appropriate compiler flags.\n",
      "2021-12-03 08:26:17.536989: I tensorflow/stream_executor/cuda/cuda_gpu_executor.cc:937] successful NUMA node read from SysFS had negative value (-1), but there must be at least one NUMA node, so returning NUMA node zero\n",
      "2021-12-03 08:26:17.537702: I tensorflow/stream_executor/cuda/cuda_gpu_executor.cc:937] successful NUMA node read from SysFS had negative value (-1), but there must be at least one NUMA node, so returning NUMA node zero\n",
      "2021-12-03 08:26:17.538352: I tensorflow/stream_executor/cuda/cuda_gpu_executor.cc:937] successful NUMA node read from SysFS had negative value (-1), but there must be at least one NUMA node, so returning NUMA node zero\n",
      "2021-12-03 08:26:19.350179: I tensorflow/stream_executor/cuda/cuda_gpu_executor.cc:937] successful NUMA node read from SysFS had negative value (-1), but there must be at least one NUMA node, so returning NUMA node zero\n",
      "2021-12-03 08:26:19.351047: I tensorflow/stream_executor/cuda/cuda_gpu_executor.cc:937] successful NUMA node read from SysFS had negative value (-1), but there must be at least one NUMA node, so returning NUMA node zero\n",
      "2021-12-03 08:26:19.351760: I tensorflow/stream_executor/cuda/cuda_gpu_executor.cc:937] successful NUMA node read from SysFS had negative value (-1), but there must be at least one NUMA node, so returning NUMA node zero\n",
      "2021-12-03 08:26:19.352352: I tensorflow/core/common_runtime/gpu/gpu_device.cc:1510] Created device /job:localhost/replica:0/task:0/device:GPU:0 with 15403 MB memory:  -> device: 0, name: Tesla P100-PCIE-16GB, pci bus id: 0000:00:04.0, compute capability: 6.0\n"
     ]
    }
   ],
   "source": [
    "training_model = keras_model(length,length*length*3,10)"
   ]
  },
  {
   "cell_type": "code",
   "execution_count": 20,
   "id": "6bcec4da",
   "metadata": {
    "execution": {
     "iopub.execute_input": "2021-12-03T08:26:19.805271Z",
     "iopub.status.busy": "2021-12-03T08:26:19.802680Z",
     "iopub.status.idle": "2021-12-03T08:26:19.811369Z",
     "shell.execute_reply": "2021-12-03T08:26:19.810744Z",
     "shell.execute_reply.started": "2021-12-03T08:22:03.826559Z"
    },
    "papermill": {
     "duration": 0.041436,
     "end_time": "2021-12-03T08:26:19.811494",
     "exception": false,
     "start_time": "2021-12-03T08:26:19.770058",
     "status": "completed"
    },
    "tags": []
   },
   "outputs": [
    {
     "name": "stdout",
     "output_type": "stream",
     "text": [
      "Model: \"model\"\n",
      "_________________________________________________________________\n",
      "Layer (type)                 Output Shape              Param #   \n",
      "=================================================================\n",
      "input_1 (InputLayer)         [(None, 512, 512, 3)]     0         \n",
      "_________________________________________________________________\n",
      "conv2d (Conv2D)              (None, 506, 506, 512)     75776     \n",
      "_________________________________________________________________\n",
      "max_pooling2d (MaxPooling2D) (None, 253, 253, 512)     0         \n",
      "_________________________________________________________________\n",
      "conv2d_1 (Conv2D)            (None, 249, 249, 256)     3277056   \n",
      "_________________________________________________________________\n",
      "max_pooling2d_1 (MaxPooling2 (None, 124, 124, 256)     0         \n",
      "_________________________________________________________________\n",
      "conv2d_2 (Conv2D)            (None, 122, 122, 128)     295040    \n",
      "_________________________________________________________________\n",
      "max_pooling2d_2 (MaxPooling2 (None, 61, 61, 128)       0         \n",
      "_________________________________________________________________\n",
      "conv2d_3 (Conv2D)            (None, 59, 59, 64)        73792     \n",
      "_________________________________________________________________\n",
      "max_pooling2d_3 (MaxPooling2 (None, 29, 29, 64)        0         \n",
      "_________________________________________________________________\n",
      "conv2d_4 (Conv2D)            (None, 29, 29, 32)        2080      \n",
      "_________________________________________________________________\n",
      "flatten (Flatten)            (None, 26912)             0         \n",
      "_________________________________________________________________\n",
      "dense (Dense)                (None, 200)               5382600   \n",
      "_________________________________________________________________\n",
      "dense_1 (Dense)              (None, 10)                2010      \n",
      "=================================================================\n",
      "Total params: 9,108,354\n",
      "Trainable params: 9,108,354\n",
      "Non-trainable params: 0\n",
      "_________________________________________________________________\n"
     ]
    }
   ],
   "source": [
    "training_model.summary()"
   ]
  },
  {
   "cell_type": "code",
   "execution_count": 21,
   "id": "f789d42f",
   "metadata": {
    "execution": {
     "iopub.execute_input": "2021-12-03T08:26:19.893479Z",
     "iopub.status.busy": "2021-12-03T08:26:19.892665Z",
     "iopub.status.idle": "2021-12-03T08:26:19.898301Z",
     "shell.execute_reply": "2021-12-03T08:26:19.898906Z",
     "shell.execute_reply.started": "2021-12-03T08:22:03.841288Z"
    },
    "papermill": {
     "duration": 0.059541,
     "end_time": "2021-12-03T08:26:19.899106",
     "exception": false,
     "start_time": "2021-12-03T08:26:19.839565",
     "status": "completed"
    },
    "tags": []
   },
   "outputs": [],
   "source": [
    "xtrain,xval,ytrain,yval = train_test_split(training_data,classes,test_size=0.1,shuffle=True,random_state=seed)"
   ]
  },
  {
   "cell_type": "code",
   "execution_count": 22,
   "id": "200dcb96",
   "metadata": {
    "execution": {
     "iopub.execute_input": "2021-12-03T08:26:20.005136Z",
     "iopub.status.busy": "2021-12-03T08:26:20.004287Z",
     "iopub.status.idle": "2021-12-03T08:26:20.009532Z",
     "shell.execute_reply": "2021-12-03T08:26:20.010532Z",
     "shell.execute_reply.started": "2021-12-03T08:22:03.850344Z"
    },
    "papermill": {
     "duration": 0.057159,
     "end_time": "2021-12-03T08:26:20.010834",
     "exception": false,
     "start_time": "2021-12-03T08:26:19.953675",
     "status": "completed"
    },
    "tags": []
   },
   "outputs": [
    {
     "name": "stdout",
     "output_type": "stream",
     "text": [
      "2475 275\n",
      "2475 275\n"
     ]
    }
   ],
   "source": [
    "print(len(xtrain),len(xval))\n",
    "print(len(ytrain),len(yval))"
   ]
  },
  {
   "cell_type": "code",
   "execution_count": 23,
   "id": "fe9a337f",
   "metadata": {
    "execution": {
     "iopub.execute_input": "2021-12-03T08:26:20.114926Z",
     "iopub.status.busy": "2021-12-03T08:26:20.114063Z",
     "iopub.status.idle": "2021-12-03T08:26:20.117953Z",
     "shell.execute_reply": "2021-12-03T08:26:20.115635Z",
     "shell.execute_reply.started": "2021-12-03T08:22:03.859146Z"
    },
    "papermill": {
     "duration": 0.059072,
     "end_time": "2021-12-03T08:26:20.118189",
     "exception": false,
     "start_time": "2021-12-03T08:26:20.059117",
     "status": "completed"
    },
    "tags": []
   },
   "outputs": [
    {
     "name": "stdout",
     "output_type": "stream",
     "text": [
      "618\n",
      "68\n"
     ]
    }
   ],
   "source": [
    "training_dataset = Dataset(xtrain,ytrain,batch_size=batch_size,augmentations=training_transforms,test=False)\n",
    "validation_dataset = Dataset(xval,yval,batch_size=batch_size,augmentations=training_transforms,test=False)\n",
    "\n",
    "print(len(training_dataset))\n",
    "print(len(validation_dataset))"
   ]
  },
  {
   "cell_type": "code",
   "execution_count": 24,
   "id": "5f92ece5",
   "metadata": {
    "execution": {
     "iopub.execute_input": "2021-12-03T08:26:20.222641Z",
     "iopub.status.busy": "2021-12-03T08:26:20.221893Z",
     "iopub.status.idle": "2021-12-03T08:26:20.224831Z",
     "shell.execute_reply": "2021-12-03T08:26:20.225399Z",
     "shell.execute_reply.started": "2021-12-03T08:22:03.868756Z"
    },
    "papermill": {
     "duration": 0.057964,
     "end_time": "2021-12-03T08:26:20.225575",
     "exception": false,
     "start_time": "2021-12-03T08:26:20.167611",
     "status": "completed"
    },
    "tags": []
   },
   "outputs": [],
   "source": [
    "model_file = \"output/base_model_weights.hd5\"\n",
    "\n",
    "checkpoint = tf.keras.callbacks.ModelCheckpoint(model_file, monitor=\"val_accuracy\", save_best_only=True, mode='max')\n",
    "\n",
    "reduce_lr = tf.keras.callbacks.ReduceLROnPlateau(monitor=\"val_accuracy\", factor=0.9, patience=2, min_lr=1e-6, mode=\"max\", verbose=True)\n",
    "\n",
    "early_stopping = tf.keras.callbacks.EarlyStopping(monitor=\"val_accuracy\", patience=5, mode=\"max\", verbose=True)\n",
    "\n",
    "callbacks_list = [checkpoint, reduce_lr, early_stopping]\n"
   ]
  },
  {
   "cell_type": "code",
   "execution_count": 25,
   "id": "1530f8a3",
   "metadata": {
    "execution": {
     "iopub.execute_input": "2021-12-03T08:26:20.329788Z",
     "iopub.status.busy": "2021-12-03T08:26:20.329025Z",
     "iopub.status.idle": "2021-12-03T09:39:31.983903Z",
     "shell.execute_reply": "2021-12-03T09:39:31.982085Z",
     "shell.execute_reply.started": "2021-12-03T08:22:24.087040Z"
    },
    "papermill": {
     "duration": 4391.711193,
     "end_time": "2021-12-03T09:39:31.984145",
     "exception": false,
     "start_time": "2021-12-03T08:26:20.272952",
     "status": "completed"
    },
    "tags": []
   },
   "outputs": [
    {
     "name": "stderr",
     "output_type": "stream",
     "text": [
      "2021-12-03 08:26:21.151563: I tensorflow/compiler/mlir/mlir_graph_optimization_pass.cc:185] None of the MLIR Optimization Passes are enabled (registered 2)\n"
     ]
    },
    {
     "name": "stdout",
     "output_type": "stream",
     "text": [
      "Epoch 1/50\n"
     ]
    },
    {
     "name": "stderr",
     "output_type": "stream",
     "text": [
      "2021-12-03 08:26:23.928970: I tensorflow/stream_executor/cuda/cuda_dnn.cc:369] Loaded cuDNN version 8005\n"
     ]
    },
    {
     "name": "stdout",
     "output_type": "stream",
     "text": [
      "618/618 [==============================] - 740s 1s/step - loss: 2.4759 - accuracy: 0.0000e+00 - val_loss: 2.3799 - val_accuracy: 0.0000e+00\n"
     ]
    },
    {
     "name": "stderr",
     "output_type": "stream",
     "text": [
      "2021-12-03 08:38:42.125271: W tensorflow/python/util/util.cc:348] Sets are not currently considered sequences, but this may change in the future, so consider avoiding using them.\n"
     ]
    },
    {
     "name": "stdout",
     "output_type": "stream",
     "text": [
      "Epoch 2/50\n",
      "618/618 [==============================] - 751s 1s/step - loss: 2.3754 - accuracy: 0.0000e+00 - val_loss: 2.3993 - val_accuracy: 0.0000e+00\n",
      "Epoch 3/50\n",
      "618/618 [==============================] - 730s 1s/step - loss: 2.3937 - accuracy: 0.0000e+00 - val_loss: 2.3388 - val_accuracy: 0.0000e+00\n",
      "\n",
      "Epoch 00003: ReduceLROnPlateau reducing learning rate to 0.0009000000427477062.\n",
      "Epoch 4/50\n",
      "618/618 [==============================] - 720s 1s/step - loss: 2.3677 - accuracy: 0.0000e+00 - val_loss: 2.3459 - val_accuracy: 0.0000e+00\n",
      "Epoch 5/50\n",
      "618/618 [==============================] - 715s 1s/step - loss: 2.3669 - accuracy: 0.0000e+00 - val_loss: 2.4109 - val_accuracy: 0.0000e+00\n",
      "\n",
      "Epoch 00005: ReduceLROnPlateau reducing learning rate to 0.0008100000384729356.\n",
      "Epoch 6/50\n",
      "618/618 [==============================] - 698s 1s/step - loss: 2.3685 - accuracy: 0.0000e+00 - val_loss: 2.3597 - val_accuracy: 0.0000e+00\n",
      "Epoch 00006: early stopping\n"
     ]
    },
    {
     "data": {
      "text/plain": [
       "<keras.callbacks.History at 0x7f1a57a74c50>"
      ]
     },
     "execution_count": 25,
     "metadata": {},
     "output_type": "execute_result"
    }
   ],
   "source": [
    "training_model.fit(training_dataset,validation_data=validation_dataset,epochs=epochs,batch_size=batch_size,callbacks=callbacks_list,verbose=1)"
   ]
  },
  {
   "cell_type": "code",
   "execution_count": 26,
   "id": "7b710d02",
   "metadata": {
    "execution": {
     "iopub.execute_input": "2021-12-03T09:39:33.941180Z",
     "iopub.status.busy": "2021-12-03T09:39:33.940659Z",
     "iopub.status.idle": "2021-12-03T09:39:33.977669Z",
     "shell.execute_reply": "2021-12-03T09:39:33.978075Z",
     "shell.execute_reply.started": "2021-12-03T08:24:53.436857Z"
    },
    "papermill": {
     "duration": 1.022769,
     "end_time": "2021-12-03T09:39:33.978233",
     "exception": false,
     "start_time": "2021-12-03T09:39:32.955464",
     "status": "completed"
    },
    "tags": []
   },
   "outputs": [
    {
     "data": {
      "text/html": [
       "<div>\n",
       "<style scoped>\n",
       "    .dataframe tbody tr th:only-of-type {\n",
       "        vertical-align: middle;\n",
       "    }\n",
       "\n",
       "    .dataframe tbody tr th {\n",
       "        vertical-align: top;\n",
       "    }\n",
       "\n",
       "    .dataframe thead th {\n",
       "        text-align: right;\n",
       "    }\n",
       "</style>\n",
       "<table border=\"1\" class=\"dataframe\">\n",
       "  <thead>\n",
       "    <tr style=\"text-align: right;\">\n",
       "      <th></th>\n",
       "      <th>fname</th>\n",
       "      <th>camera</th>\n",
       "    </tr>\n",
       "  </thead>\n",
       "  <tbody>\n",
       "    <tr>\n",
       "      <th>0</th>\n",
       "      <td>img_0002a04_manip.tif</td>\n",
       "      <td>iPhone-6</td>\n",
       "    </tr>\n",
       "    <tr>\n",
       "      <th>1</th>\n",
       "      <td>img_001e31c_unalt.tif</td>\n",
       "      <td>iPhone-6</td>\n",
       "    </tr>\n",
       "    <tr>\n",
       "      <th>2</th>\n",
       "      <td>img_00275cf_manip.tif</td>\n",
       "      <td>iPhone-6</td>\n",
       "    </tr>\n",
       "    <tr>\n",
       "      <th>3</th>\n",
       "      <td>img_0034113_unalt.tif</td>\n",
       "      <td>iPhone-6</td>\n",
       "    </tr>\n",
       "    <tr>\n",
       "      <th>4</th>\n",
       "      <td>img_00344b7_unalt.tif</td>\n",
       "      <td>iPhone-6</td>\n",
       "    </tr>\n",
       "  </tbody>\n",
       "</table>\n",
       "</div>"
      ],
      "text/plain": [
       "                   fname    camera\n",
       "0  img_0002a04_manip.tif  iPhone-6\n",
       "1  img_001e31c_unalt.tif  iPhone-6\n",
       "2  img_00275cf_manip.tif  iPhone-6\n",
       "3  img_0034113_unalt.tif  iPhone-6\n",
       "4  img_00344b7_unalt.tif  iPhone-6"
      ]
     },
     "execution_count": 26,
     "metadata": {},
     "output_type": "execute_result"
    }
   ],
   "source": [
    "sample_submission = pd.read_csv('/kaggle/input/sp-society-camera-model-identification/sample_submission.csv')\n",
    "sample_submission.head()"
   ]
  },
  {
   "cell_type": "code",
   "execution_count": 27,
   "id": "15992c6a",
   "metadata": {
    "execution": {
     "iopub.execute_input": "2021-12-03T09:39:35.964846Z",
     "iopub.status.busy": "2021-12-03T09:39:35.964120Z",
     "iopub.status.idle": "2021-12-03T09:39:35.966946Z",
     "shell.execute_reply": "2021-12-03T09:39:35.967542Z",
     "shell.execute_reply.started": "2021-12-03T08:24:53.439124Z"
    },
    "papermill": {
     "duration": 0.974313,
     "end_time": "2021-12-03T09:39:35.967714",
     "exception": false,
     "start_time": "2021-12-03T09:39:34.993401",
     "status": "completed"
    },
    "tags": []
   },
   "outputs": [
    {
     "name": "stdout",
     "output_type": "stream",
     "text": [
      "/kaggle/input/sp-society-camera-model-identification/test/test/img_0002a04_manip.tif\n"
     ]
    }
   ],
   "source": [
    "x_test = testing_path+sample_submission['fname']\n",
    "#x_test = x_test.to_numpy()\n",
    "print(x_test[0])\n",
    "\n",
    "#training_model.load_model(model_file)\n",
    "x_test = Dataset(x_test,x_test,test=True,batch_size=1,augmentations=testing_augmentation)"
   ]
  },
  {
   "cell_type": "code",
   "execution_count": 28,
   "id": "d1cd0f93",
   "metadata": {
    "execution": {
     "iopub.execute_input": "2021-12-03T09:39:37.977422Z",
     "iopub.status.busy": "2021-12-03T09:39:37.976629Z",
     "iopub.status.idle": "2021-12-03T09:42:47.284817Z",
     "shell.execute_reply": "2021-12-03T09:42:47.285997Z",
     "shell.execute_reply.started": "2021-12-03T08:24:53.441083Z"
    },
    "papermill": {
     "duration": 190.343993,
     "end_time": "2021-12-03T09:42:47.286237",
     "exception": false,
     "start_time": "2021-12-03T09:39:36.942244",
     "status": "completed"
    },
    "tags": []
   },
   "outputs": [],
   "source": [
    "training_model = tf.keras.models.load_model(model_file)\n",
    "predicted = training_model.predict(x_test)"
   ]
  },
  {
   "cell_type": "code",
   "execution_count": 29,
   "id": "7d129cb1",
   "metadata": {
    "execution": {
     "iopub.execute_input": "2021-12-03T09:42:49.297946Z",
     "iopub.status.busy": "2021-12-03T09:42:49.297095Z",
     "iopub.status.idle": "2021-12-03T09:42:49.300272Z",
     "shell.execute_reply": "2021-12-03T09:42:49.300675Z",
     "shell.execute_reply.started": "2021-12-03T08:24:53.450457Z"
    },
    "papermill": {
     "duration": 0.976935,
     "end_time": "2021-12-03T09:42:49.300816",
     "exception": false,
     "start_time": "2021-12-03T09:42:48.323881",
     "status": "completed"
    },
    "tags": []
   },
   "outputs": [
    {
     "name": "stdout",
     "output_type": "stream",
     "text": [
      "[[0.06095015 0.10891831 0.0576061  ... 0.11436604 0.16059357 0.09988847]\n",
      " [0.06095015 0.10891831 0.0576061  ... 0.11436604 0.16059357 0.09988847]\n",
      " [0.05908068 0.09871521 0.06887452 ... 0.12860693 0.15605588 0.14055265]\n",
      " ...\n",
      " [0.06095015 0.10891831 0.0576061  ... 0.11436604 0.16059357 0.09988847]\n",
      " [0.06095015 0.10891831 0.0576061  ... 0.11436604 0.16059357 0.09988847]\n",
      " [0.06095015 0.10891831 0.0576061  ... 0.11436604 0.16059357 0.09988847]]\n"
     ]
    }
   ],
   "source": [
    "print(predicted)"
   ]
  },
  {
   "cell_type": "code",
   "execution_count": 30,
   "id": "92e6db23",
   "metadata": {
    "execution": {
     "iopub.execute_input": "2021-12-03T09:42:51.285362Z",
     "iopub.status.busy": "2021-12-03T09:42:51.284588Z",
     "iopub.status.idle": "2021-12-03T09:42:51.291385Z",
     "shell.execute_reply": "2021-12-03T09:42:51.290922Z",
     "shell.execute_reply.started": "2021-12-03T08:24:53.452729Z"
    },
    "papermill": {
     "duration": 0.982762,
     "end_time": "2021-12-03T09:42:51.291526",
     "exception": false,
     "start_time": "2021-12-03T09:42:50.308764",
     "status": "completed"
    },
    "tags": []
   },
   "outputs": [],
   "source": [
    "test_labels = []\n",
    "for item in predicted.argmax(axis=1):\n",
    "    test_labels.append(classes_dict[str(item)])"
   ]
  },
  {
   "cell_type": "code",
   "execution_count": 31,
   "id": "58ad22af",
   "metadata": {
    "execution": {
     "iopub.execute_input": "2021-12-03T09:42:53.312469Z",
     "iopub.status.busy": "2021-12-03T09:42:53.311744Z",
     "iopub.status.idle": "2021-12-03T09:42:53.316290Z",
     "shell.execute_reply": "2021-12-03T09:42:53.316697Z",
     "shell.execute_reply.started": "2021-12-03T08:24:53.458262Z"
    },
    "papermill": {
     "duration": 1.053326,
     "end_time": "2021-12-03T09:42:53.316826",
     "exception": false,
     "start_time": "2021-12-03T09:42:52.263500",
     "status": "completed"
    },
    "tags": []
   },
   "outputs": [
    {
     "data": {
      "text/html": [
       "<div>\n",
       "<style scoped>\n",
       "    .dataframe tbody tr th:only-of-type {\n",
       "        vertical-align: middle;\n",
       "    }\n",
       "\n",
       "    .dataframe tbody tr th {\n",
       "        vertical-align: top;\n",
       "    }\n",
       "\n",
       "    .dataframe thead th {\n",
       "        text-align: right;\n",
       "    }\n",
       "</style>\n",
       "<table border=\"1\" class=\"dataframe\">\n",
       "  <thead>\n",
       "    <tr style=\"text-align: right;\">\n",
       "      <th></th>\n",
       "      <th>fname</th>\n",
       "      <th>camera</th>\n",
       "    </tr>\n",
       "  </thead>\n",
       "  <tbody>\n",
       "    <tr>\n",
       "      <th>0</th>\n",
       "      <td>img_0002a04_manip.tif</td>\n",
       "      <td>iPhone-4s</td>\n",
       "    </tr>\n",
       "    <tr>\n",
       "      <th>1</th>\n",
       "      <td>img_001e31c_unalt.tif</td>\n",
       "      <td>iPhone-4s</td>\n",
       "    </tr>\n",
       "    <tr>\n",
       "      <th>2</th>\n",
       "      <td>img_00275cf_manip.tif</td>\n",
       "      <td>iPhone-4s</td>\n",
       "    </tr>\n",
       "    <tr>\n",
       "      <th>3</th>\n",
       "      <td>img_0034113_unalt.tif</td>\n",
       "      <td>iPhone-4s</td>\n",
       "    </tr>\n",
       "    <tr>\n",
       "      <th>4</th>\n",
       "      <td>img_00344b7_unalt.tif</td>\n",
       "      <td>iPhone-4s</td>\n",
       "    </tr>\n",
       "  </tbody>\n",
       "</table>\n",
       "</div>"
      ],
      "text/plain": [
       "                   fname     camera\n",
       "0  img_0002a04_manip.tif  iPhone-4s\n",
       "1  img_001e31c_unalt.tif  iPhone-4s\n",
       "2  img_00275cf_manip.tif  iPhone-4s\n",
       "3  img_0034113_unalt.tif  iPhone-4s\n",
       "4  img_00344b7_unalt.tif  iPhone-4s"
      ]
     },
     "execution_count": 31,
     "metadata": {},
     "output_type": "execute_result"
    }
   ],
   "source": [
    "sample_submission['camera'] = test_labels\n",
    "sample_submission.head()"
   ]
  },
  {
   "cell_type": "code",
   "execution_count": 32,
   "id": "6e4eb562",
   "metadata": {
    "execution": {
     "iopub.execute_input": "2021-12-03T09:42:55.264054Z",
     "iopub.status.busy": "2021-12-03T09:42:55.263260Z",
     "iopub.status.idle": "2021-12-03T09:42:55.280262Z",
     "shell.execute_reply": "2021-12-03T09:42:55.280713Z",
     "shell.execute_reply.started": "2021-12-03T08:24:53.460021Z"
    },
    "papermill": {
     "duration": 0.989362,
     "end_time": "2021-12-03T09:42:55.280868",
     "exception": false,
     "start_time": "2021-12-03T09:42:54.291506",
     "status": "completed"
    },
    "tags": []
   },
   "outputs": [],
   "source": [
    "sample_submission.to_csv(\"submission.csv\", index=False)"
   ]
  }
 ],
 "metadata": {
  "kernelspec": {
   "display_name": "Python 3",
   "language": "python",
   "name": "python3"
  },
  "language_info": {
   "codemirror_mode": {
    "name": "ipython",
    "version": 3
   },
   "file_extension": ".py",
   "mimetype": "text/x-python",
   "name": "python",
   "nbconvert_exporter": "python",
   "pygments_lexer": "ipython3",
   "version": "3.7.12"
  },
  "papermill": {
   "default_parameters": {},
   "duration": 4620.350982,
   "end_time": "2021-12-03T09:42:59.563410",
   "environment_variables": {},
   "exception": null,
   "input_path": "__notebook__.ipynb",
   "output_path": "__notebook__.ipynb",
   "parameters": {},
   "start_time": "2021-12-03T08:25:59.212428",
   "version": "2.3.3"
  }
 },
 "nbformat": 4,
 "nbformat_minor": 5
}
