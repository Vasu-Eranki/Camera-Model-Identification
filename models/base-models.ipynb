{
 "cells": [
  {
   "cell_type": "code",
   "execution_count": 1,
   "id": "c2709ce3",
   "metadata": {
    "_cell_guid": "b1076dfc-b9ad-4769-8c92-a6c4dae69d19",
    "_uuid": "8f2839f25d086af736a60e9eeb907d3b93b6e0e5",
    "execution": {
     "iopub.execute_input": "2021-11-29T07:23:22.355347Z",
     "iopub.status.busy": "2021-11-29T07:23:22.354077Z",
     "iopub.status.idle": "2021-11-29T07:23:30.093772Z",
     "shell.execute_reply": "2021-11-29T07:23:30.092862Z",
     "shell.execute_reply.started": "2021-11-29T07:04:24.956837Z"
    },
    "papermill": {
     "duration": 7.776474,
     "end_time": "2021-11-29T07:23:30.094027",
     "exception": false,
     "start_time": "2021-11-29T07:23:22.317553",
     "status": "completed"
    },
    "tags": []
   },
   "outputs": [],
   "source": [
    "import numpy as np \n",
    "import pandas as pd \n",
    "import matplotlib.pyplot as plt \n",
    "import tensorflow as tf \n",
    "import sklearn as sk \n",
    "import os \n",
    "import cv2\n",
    "import albumentations as A\n",
    "from PIL import Image \n",
    "from tensorflow import keras \n",
    "from sklearn.metrics import classification_report, confusion_matrix\n",
    "from sklearn.model_selection import train_test_split"
   ]
  },
  {
   "cell_type": "code",
   "execution_count": 2,
   "id": "ffc0bb8c",
   "metadata": {
    "execution": {
     "iopub.execute_input": "2021-11-29T07:23:30.159527Z",
     "iopub.status.busy": "2021-11-29T07:23:30.158639Z",
     "iopub.status.idle": "2021-11-29T07:23:30.168609Z",
     "shell.execute_reply": "2021-11-29T07:23:30.169189Z",
     "shell.execute_reply.started": "2021-11-29T07:04:33.060703Z"
    },
    "papermill": {
     "duration": 0.044576,
     "end_time": "2021-11-29T07:23:30.169431",
     "exception": false,
     "start_time": "2021-11-29T07:23:30.124855",
     "status": "completed"
    },
    "tags": []
   },
   "outputs": [],
   "source": [
    "training_path = \"/kaggle/input/sp-society-camera-model-identification/train/train/\"\n",
    "testing_path = \"/kaggle/input/sp-society-camera-model-identification/test/test/\"\n",
    "_,training_classes,_=next(os.walk(training_path))\n",
    "#print(training_classes)\n"
   ]
  },
  {
   "cell_type": "code",
   "execution_count": 3,
   "id": "2c68f1a3",
   "metadata": {
    "execution": {
     "iopub.execute_input": "2021-11-29T07:23:30.231499Z",
     "iopub.status.busy": "2021-11-29T07:23:30.230710Z",
     "iopub.status.idle": "2021-11-29T07:23:30.233780Z",
     "shell.execute_reply": "2021-11-29T07:23:30.234289Z",
     "shell.execute_reply.started": "2021-11-29T07:04:33.078672Z"
    },
    "papermill": {
     "duration": 0.035409,
     "end_time": "2021-11-29T07:23:30.234511",
     "exception": false,
     "start_time": "2021-11-29T07:23:30.199102",
     "status": "completed"
    },
    "tags": []
   },
   "outputs": [],
   "source": [
    "batch_size = 32\n",
    "epochs = 1\n",
    "learning_rate = 1e-3"
   ]
  },
  {
   "cell_type": "code",
   "execution_count": 4,
   "id": "8372937c",
   "metadata": {
    "execution": {
     "iopub.execute_input": "2021-11-29T07:23:30.296738Z",
     "iopub.status.busy": "2021-11-29T07:23:30.295882Z",
     "iopub.status.idle": "2021-11-29T07:23:31.093606Z",
     "shell.execute_reply": "2021-11-29T07:23:31.094174Z",
     "shell.execute_reply.started": "2021-11-29T07:04:33.084261Z"
    },
    "papermill": {
     "duration": 0.831291,
     "end_time": "2021-11-29T07:23:31.094424",
     "exception": false,
     "start_time": "2021-11-29T07:23:30.263133",
     "status": "completed"
    },
    "tags": []
   },
   "outputs": [],
   "source": [
    "_,_,testing_files = next(os.walk(testing_path))\n",
    "#testing_files"
   ]
  },
  {
   "cell_type": "code",
   "execution_count": 5,
   "id": "03ba8d71",
   "metadata": {
    "execution": {
     "iopub.execute_input": "2021-11-29T07:23:31.155724Z",
     "iopub.status.busy": "2021-11-29T07:23:31.154887Z",
     "iopub.status.idle": "2021-11-29T07:23:31.487251Z",
     "shell.execute_reply": "2021-11-29T07:23:31.487802Z",
     "shell.execute_reply.started": "2021-11-29T07:04:35.865444Z"
    },
    "papermill": {
     "duration": 0.364501,
     "end_time": "2021-11-29T07:23:31.488009",
     "exception": false,
     "start_time": "2021-11-29T07:23:31.123508",
     "status": "completed"
    },
    "tags": []
   },
   "outputs": [],
   "source": [
    "training_paths = [] \n",
    "labels = [] \n",
    "for i in training_classes:\n",
    "    _,_,filenames = next(os.walk(training_path+i))\n",
    "    for j in filenames:\n",
    "        training_paths.append(training_path+i+'/'+j)\n",
    "        labels.append(i)"
   ]
  },
  {
   "cell_type": "code",
   "execution_count": 6,
   "id": "2c072ff7",
   "metadata": {
    "execution": {
     "iopub.execute_input": "2021-11-29T07:23:31.551070Z",
     "iopub.status.busy": "2021-11-29T07:23:31.550384Z",
     "iopub.status.idle": "2021-11-29T07:23:31.553010Z",
     "shell.execute_reply": "2021-11-29T07:23:31.552505Z",
     "shell.execute_reply.started": "2021-11-29T07:04:36.699371Z"
    },
    "papermill": {
     "duration": 0.036673,
     "end_time": "2021-11-29T07:23:31.553153",
     "exception": false,
     "start_time": "2021-11-29T07:23:31.516480",
     "status": "completed"
    },
    "tags": []
   },
   "outputs": [],
   "source": [
    "assert len(training_paths)==len(labels)"
   ]
  },
  {
   "cell_type": "code",
   "execution_count": 7,
   "id": "3a90f654",
   "metadata": {
    "execution": {
     "iopub.execute_input": "2021-11-29T07:23:31.612671Z",
     "iopub.status.busy": "2021-11-29T07:23:31.612008Z",
     "iopub.status.idle": "2021-11-29T07:23:31.615911Z",
     "shell.execute_reply": "2021-11-29T07:23:31.616538Z",
     "shell.execute_reply.started": "2021-11-29T07:04:36.705726Z"
    },
    "papermill": {
     "duration": 0.035796,
     "end_time": "2021-11-29T07:23:31.616717",
     "exception": false,
     "start_time": "2021-11-29T07:23:31.580921",
     "status": "completed"
    },
    "tags": []
   },
   "outputs": [],
   "source": [
    "seed = 33"
   ]
  },
  {
   "cell_type": "code",
   "execution_count": 8,
   "id": "9ef815be",
   "metadata": {
    "execution": {
     "iopub.execute_input": "2021-11-29T07:23:31.677992Z",
     "iopub.status.busy": "2021-11-29T07:23:31.677291Z",
     "iopub.status.idle": "2021-11-29T07:23:31.699900Z",
     "shell.execute_reply": "2021-11-29T07:23:31.700538Z",
     "shell.execute_reply.started": "2021-11-29T07:04:36.719531Z"
    },
    "papermill": {
     "duration": 0.054978,
     "end_time": "2021-11-29T07:23:31.700717",
     "exception": false,
     "start_time": "2021-11-29T07:23:31.645739",
     "status": "completed"
    },
    "tags": []
   },
   "outputs": [],
   "source": [
    "training_data = pd.DataFrame(training_paths,columns=['Training Image Path'])\n",
    "classes = pd.DataFrame(labels)\n",
    "classes = pd.get_dummies(classes) # One Hot Encode the class variables"
   ]
  },
  {
   "cell_type": "code",
   "execution_count": 9,
   "id": "ff774268",
   "metadata": {
    "execution": {
     "iopub.execute_input": "2021-11-29T07:23:31.765613Z",
     "iopub.status.busy": "2021-11-29T07:23:31.760071Z",
     "iopub.status.idle": "2021-11-29T07:23:31.777853Z",
     "shell.execute_reply": "2021-11-29T07:23:31.778499Z",
     "shell.execute_reply.started": "2021-11-29T07:04:36.753688Z"
    },
    "papermill": {
     "duration": 0.050055,
     "end_time": "2021-11-29T07:23:31.778680",
     "exception": false,
     "start_time": "2021-11-29T07:23:31.728625",
     "status": "completed"
    },
    "tags": []
   },
   "outputs": [
    {
     "data": {
      "text/html": [
       "<div>\n",
       "<style scoped>\n",
       "    .dataframe tbody tr th:only-of-type {\n",
       "        vertical-align: middle;\n",
       "    }\n",
       "\n",
       "    .dataframe tbody tr th {\n",
       "        vertical-align: top;\n",
       "    }\n",
       "\n",
       "    .dataframe thead th {\n",
       "        text-align: right;\n",
       "    }\n",
       "</style>\n",
       "<table border=\"1\" class=\"dataframe\">\n",
       "  <thead>\n",
       "    <tr style=\"text-align: right;\">\n",
       "      <th></th>\n",
       "      <th>Training Image Path</th>\n",
       "    </tr>\n",
       "  </thead>\n",
       "  <tbody>\n",
       "    <tr>\n",
       "      <th>0</th>\n",
       "      <td>/kaggle/input/sp-society-camera-model-identifi...</td>\n",
       "    </tr>\n",
       "    <tr>\n",
       "      <th>1</th>\n",
       "      <td>/kaggle/input/sp-society-camera-model-identifi...</td>\n",
       "    </tr>\n",
       "    <tr>\n",
       "      <th>2</th>\n",
       "      <td>/kaggle/input/sp-society-camera-model-identifi...</td>\n",
       "    </tr>\n",
       "    <tr>\n",
       "      <th>3</th>\n",
       "      <td>/kaggle/input/sp-society-camera-model-identifi...</td>\n",
       "    </tr>\n",
       "    <tr>\n",
       "      <th>4</th>\n",
       "      <td>/kaggle/input/sp-society-camera-model-identifi...</td>\n",
       "    </tr>\n",
       "    <tr>\n",
       "      <th>...</th>\n",
       "      <td>...</td>\n",
       "    </tr>\n",
       "    <tr>\n",
       "      <th>2745</th>\n",
       "      <td>/kaggle/input/sp-society-camera-model-identifi...</td>\n",
       "    </tr>\n",
       "    <tr>\n",
       "      <th>2746</th>\n",
       "      <td>/kaggle/input/sp-society-camera-model-identifi...</td>\n",
       "    </tr>\n",
       "    <tr>\n",
       "      <th>2747</th>\n",
       "      <td>/kaggle/input/sp-society-camera-model-identifi...</td>\n",
       "    </tr>\n",
       "    <tr>\n",
       "      <th>2748</th>\n",
       "      <td>/kaggle/input/sp-society-camera-model-identifi...</td>\n",
       "    </tr>\n",
       "    <tr>\n",
       "      <th>2749</th>\n",
       "      <td>/kaggle/input/sp-society-camera-model-identifi...</td>\n",
       "    </tr>\n",
       "  </tbody>\n",
       "</table>\n",
       "<p>2750 rows × 1 columns</p>\n",
       "</div>"
      ],
      "text/plain": [
       "                                    Training Image Path\n",
       "0     /kaggle/input/sp-society-camera-model-identifi...\n",
       "1     /kaggle/input/sp-society-camera-model-identifi...\n",
       "2     /kaggle/input/sp-society-camera-model-identifi...\n",
       "3     /kaggle/input/sp-society-camera-model-identifi...\n",
       "4     /kaggle/input/sp-society-camera-model-identifi...\n",
       "...                                                 ...\n",
       "2745  /kaggle/input/sp-society-camera-model-identifi...\n",
       "2746  /kaggle/input/sp-society-camera-model-identifi...\n",
       "2747  /kaggle/input/sp-society-camera-model-identifi...\n",
       "2748  /kaggle/input/sp-society-camera-model-identifi...\n",
       "2749  /kaggle/input/sp-society-camera-model-identifi...\n",
       "\n",
       "[2750 rows x 1 columns]"
      ]
     },
     "execution_count": 9,
     "metadata": {},
     "output_type": "execute_result"
    }
   ],
   "source": [
    "training_data"
   ]
  },
  {
   "cell_type": "code",
   "execution_count": 10,
   "id": "50adc926",
   "metadata": {
    "execution": {
     "iopub.execute_input": "2021-11-29T07:23:31.849970Z",
     "iopub.status.busy": "2021-11-29T07:23:31.839440Z",
     "iopub.status.idle": "2021-11-29T07:23:31.852545Z",
     "shell.execute_reply": "2021-11-29T07:23:31.853081Z",
     "shell.execute_reply.started": "2021-11-29T07:04:36.783852Z"
    },
    "papermill": {
     "duration": 0.045572,
     "end_time": "2021-11-29T07:23:31.853270",
     "exception": false,
     "start_time": "2021-11-29T07:23:31.807698",
     "status": "completed"
    },
    "tags": []
   },
   "outputs": [
    {
     "data": {
      "text/html": [
       "<div>\n",
       "<style scoped>\n",
       "    .dataframe tbody tr th:only-of-type {\n",
       "        vertical-align: middle;\n",
       "    }\n",
       "\n",
       "    .dataframe tbody tr th {\n",
       "        vertical-align: top;\n",
       "    }\n",
       "\n",
       "    .dataframe thead th {\n",
       "        text-align: right;\n",
       "    }\n",
       "</style>\n",
       "<table border=\"1\" class=\"dataframe\">\n",
       "  <thead>\n",
       "    <tr style=\"text-align: right;\">\n",
       "      <th></th>\n",
       "      <th>0_HTC-1-M7</th>\n",
       "      <th>0_LG-Nexus-5x</th>\n",
       "      <th>0_Motorola-Droid-Maxx</th>\n",
       "      <th>0_Motorola-Nexus-6</th>\n",
       "      <th>0_Motorola-X</th>\n",
       "      <th>0_Samsung-Galaxy-Note3</th>\n",
       "      <th>0_Samsung-Galaxy-S4</th>\n",
       "      <th>0_Sony-NEX-7</th>\n",
       "      <th>0_iPhone-4s</th>\n",
       "      <th>0_iPhone-6</th>\n",
       "    </tr>\n",
       "  </thead>\n",
       "  <tbody>\n",
       "    <tr>\n",
       "      <th>0</th>\n",
       "      <td>0</td>\n",
       "      <td>0</td>\n",
       "      <td>0</td>\n",
       "      <td>0</td>\n",
       "      <td>0</td>\n",
       "      <td>0</td>\n",
       "      <td>1</td>\n",
       "      <td>0</td>\n",
       "      <td>0</td>\n",
       "      <td>0</td>\n",
       "    </tr>\n",
       "    <tr>\n",
       "      <th>1</th>\n",
       "      <td>0</td>\n",
       "      <td>0</td>\n",
       "      <td>0</td>\n",
       "      <td>0</td>\n",
       "      <td>0</td>\n",
       "      <td>0</td>\n",
       "      <td>1</td>\n",
       "      <td>0</td>\n",
       "      <td>0</td>\n",
       "      <td>0</td>\n",
       "    </tr>\n",
       "    <tr>\n",
       "      <th>2</th>\n",
       "      <td>0</td>\n",
       "      <td>0</td>\n",
       "      <td>0</td>\n",
       "      <td>0</td>\n",
       "      <td>0</td>\n",
       "      <td>0</td>\n",
       "      <td>1</td>\n",
       "      <td>0</td>\n",
       "      <td>0</td>\n",
       "      <td>0</td>\n",
       "    </tr>\n",
       "    <tr>\n",
       "      <th>3</th>\n",
       "      <td>0</td>\n",
       "      <td>0</td>\n",
       "      <td>0</td>\n",
       "      <td>0</td>\n",
       "      <td>0</td>\n",
       "      <td>0</td>\n",
       "      <td>1</td>\n",
       "      <td>0</td>\n",
       "      <td>0</td>\n",
       "      <td>0</td>\n",
       "    </tr>\n",
       "    <tr>\n",
       "      <th>4</th>\n",
       "      <td>0</td>\n",
       "      <td>0</td>\n",
       "      <td>0</td>\n",
       "      <td>0</td>\n",
       "      <td>0</td>\n",
       "      <td>0</td>\n",
       "      <td>1</td>\n",
       "      <td>0</td>\n",
       "      <td>0</td>\n",
       "      <td>0</td>\n",
       "    </tr>\n",
       "  </tbody>\n",
       "</table>\n",
       "</div>"
      ],
      "text/plain": [
       "   0_HTC-1-M7  0_LG-Nexus-5x  0_Motorola-Droid-Maxx  0_Motorola-Nexus-6  \\\n",
       "0           0              0                      0                   0   \n",
       "1           0              0                      0                   0   \n",
       "2           0              0                      0                   0   \n",
       "3           0              0                      0                   0   \n",
       "4           0              0                      0                   0   \n",
       "\n",
       "   0_Motorola-X  0_Samsung-Galaxy-Note3  0_Samsung-Galaxy-S4  0_Sony-NEX-7  \\\n",
       "0             0                       0                    1             0   \n",
       "1             0                       0                    1             0   \n",
       "2             0                       0                    1             0   \n",
       "3             0                       0                    1             0   \n",
       "4             0                       0                    1             0   \n",
       "\n",
       "   0_iPhone-4s  0_iPhone-6  \n",
       "0            0           0  \n",
       "1            0           0  \n",
       "2            0           0  \n",
       "3            0           0  \n",
       "4            0           0  "
      ]
     },
     "execution_count": 10,
     "metadata": {},
     "output_type": "execute_result"
    }
   ],
   "source": [
    "classes.head()"
   ]
  },
  {
   "cell_type": "code",
   "execution_count": 11,
   "id": "b2d5f1fc",
   "metadata": {
    "execution": {
     "iopub.execute_input": "2021-11-29T07:23:31.915065Z",
     "iopub.status.busy": "2021-11-29T07:23:31.914389Z",
     "iopub.status.idle": "2021-11-29T07:23:31.918798Z",
     "shell.execute_reply": "2021-11-29T07:23:31.919329Z",
     "shell.execute_reply.started": "2021-11-29T07:04:36.799486Z"
    },
    "papermill": {
     "duration": 0.037386,
     "end_time": "2021-11-29T07:23:31.919520",
     "exception": false,
     "start_time": "2021-11-29T07:23:31.882134",
     "status": "completed"
    },
    "tags": []
   },
   "outputs": [],
   "source": [
    "classes_dict = {'0':'HTC-1-M7',\n",
    "                '1':'LG-Nexus-5x',\n",
    "                '2':'Motorola-Droid-Maxx',\n",
    "                '3':'Motorola-Nexus-6',\n",
    "                '4':'Motorola-X',\n",
    "                '5':'Samsung-Galaxy-Note3',\n",
    "                '6':'Samsung-Galaxy-S4',\n",
    "                '7':'Sony-NEX-7',\n",
    "                '8':'iPhone-4s',\n",
    "                '9':'iPhone-6'}"
   ]
  },
  {
   "cell_type": "code",
   "execution_count": 12,
   "id": "7bd57155",
   "metadata": {
    "execution": {
     "iopub.execute_input": "2021-11-29T07:23:31.982617Z",
     "iopub.status.busy": "2021-11-29T07:23:31.981883Z",
     "iopub.status.idle": "2021-11-29T07:23:31.992912Z",
     "shell.execute_reply": "2021-11-29T07:23:31.993548Z",
     "shell.execute_reply.started": "2021-11-29T07:04:36.808562Z"
    },
    "papermill": {
     "duration": 0.044102,
     "end_time": "2021-11-29T07:23:31.993735",
     "exception": false,
     "start_time": "2021-11-29T07:23:31.949633",
     "status": "completed"
    },
    "tags": []
   },
   "outputs": [
    {
     "data": {
      "text/html": [
       "<div>\n",
       "<style scoped>\n",
       "    .dataframe tbody tr th:only-of-type {\n",
       "        vertical-align: middle;\n",
       "    }\n",
       "\n",
       "    .dataframe tbody tr th {\n",
       "        vertical-align: top;\n",
       "    }\n",
       "\n",
       "    .dataframe thead th {\n",
       "        text-align: right;\n",
       "    }\n",
       "</style>\n",
       "<table border=\"1\" class=\"dataframe\">\n",
       "  <thead>\n",
       "    <tr style=\"text-align: right;\">\n",
       "      <th></th>\n",
       "      <th>Testing Image Path</th>\n",
       "    </tr>\n",
       "  </thead>\n",
       "  <tbody>\n",
       "    <tr>\n",
       "      <th>0</th>\n",
       "      <td>img_b551817_manip.tif</td>\n",
       "    </tr>\n",
       "    <tr>\n",
       "      <th>1</th>\n",
       "      <td>img_90bf577_unalt.tif</td>\n",
       "    </tr>\n",
       "    <tr>\n",
       "      <th>2</th>\n",
       "      <td>img_44c7044_unalt.tif</td>\n",
       "    </tr>\n",
       "    <tr>\n",
       "      <th>3</th>\n",
       "      <td>img_6481076_unalt.tif</td>\n",
       "    </tr>\n",
       "    <tr>\n",
       "      <th>4</th>\n",
       "      <td>img_6f87d1f_manip.tif</td>\n",
       "    </tr>\n",
       "    <tr>\n",
       "      <th>...</th>\n",
       "      <td>...</td>\n",
       "    </tr>\n",
       "    <tr>\n",
       "      <th>2635</th>\n",
       "      <td>img_f5c6b8e_unalt.tif</td>\n",
       "    </tr>\n",
       "    <tr>\n",
       "      <th>2636</th>\n",
       "      <td>img_a9da818_manip.tif</td>\n",
       "    </tr>\n",
       "    <tr>\n",
       "      <th>2637</th>\n",
       "      <td>img_53bbd9f_unalt.tif</td>\n",
       "    </tr>\n",
       "    <tr>\n",
       "      <th>2638</th>\n",
       "      <td>img_db8cb11_unalt.tif</td>\n",
       "    </tr>\n",
       "    <tr>\n",
       "      <th>2639</th>\n",
       "      <td>img_aa16ead_manip.tif</td>\n",
       "    </tr>\n",
       "  </tbody>\n",
       "</table>\n",
       "<p>2640 rows × 1 columns</p>\n",
       "</div>"
      ],
      "text/plain": [
       "         Testing Image Path\n",
       "0     img_b551817_manip.tif\n",
       "1     img_90bf577_unalt.tif\n",
       "2     img_44c7044_unalt.tif\n",
       "3     img_6481076_unalt.tif\n",
       "4     img_6f87d1f_manip.tif\n",
       "...                     ...\n",
       "2635  img_f5c6b8e_unalt.tif\n",
       "2636  img_a9da818_manip.tif\n",
       "2637  img_53bbd9f_unalt.tif\n",
       "2638  img_db8cb11_unalt.tif\n",
       "2639  img_aa16ead_manip.tif\n",
       "\n",
       "[2640 rows x 1 columns]"
      ]
     },
     "execution_count": 12,
     "metadata": {},
     "output_type": "execute_result"
    }
   ],
   "source": [
    "testing_data = pd.DataFrame(testing_files,columns=['Testing Image Path'])\n",
    "testing_data"
   ]
  },
  {
   "cell_type": "markdown",
   "id": "344ca618",
   "metadata": {
    "papermill": {
     "duration": 0.030727,
     "end_time": "2021-11-29T07:23:32.054605",
     "exception": false,
     "start_time": "2021-11-29T07:23:32.023878",
     "status": "completed"
    },
    "tags": []
   },
   "source": [
    "Shuffling the dataset before sending it to the Tensorflow Pipeline"
   ]
  },
  {
   "cell_type": "code",
   "execution_count": 13,
   "id": "6d4f3dc9",
   "metadata": {
    "execution": {
     "iopub.execute_input": "2021-11-29T07:23:32.118157Z",
     "iopub.status.busy": "2021-11-29T07:23:32.117474Z",
     "iopub.status.idle": "2021-11-29T07:23:32.121390Z",
     "shell.execute_reply": "2021-11-29T07:23:32.121904Z",
     "shell.execute_reply.started": "2021-11-29T07:04:36.830385Z"
    },
    "papermill": {
     "duration": 0.037631,
     "end_time": "2021-11-29T07:23:32.122089",
     "exception": false,
     "start_time": "2021-11-29T07:23:32.084458",
     "status": "completed"
    },
    "tags": []
   },
   "outputs": [],
   "source": [
    "def read_img(path):\n",
    "    return np.array(Image.open(path))"
   ]
  },
  {
   "cell_type": "code",
   "execution_count": 14,
   "id": "34a6f179",
   "metadata": {
    "execution": {
     "iopub.execute_input": "2021-11-29T07:23:32.190253Z",
     "iopub.status.busy": "2021-11-29T07:23:32.189505Z",
     "iopub.status.idle": "2021-11-29T07:23:32.195719Z",
     "shell.execute_reply": "2021-11-29T07:23:32.196552Z",
     "shell.execute_reply.started": "2021-11-29T07:04:36.836373Z"
    },
    "papermill": {
     "duration": 0.044437,
     "end_time": "2021-11-29T07:23:32.196815",
     "exception": false,
     "start_time": "2021-11-29T07:23:32.152378",
     "status": "completed"
    },
    "tags": []
   },
   "outputs": [
    {
     "name": "stderr",
     "output_type": "stream",
     "text": [
      "/opt/conda/lib/python3.7/site-packages/albumentations/augmentations/transforms.py:967: FutureWarning: This class has been deprecated. Please use ImageCompression\n",
      "  FutureWarning,\n"
     ]
    }
   ],
   "source": [
    "length = 512\n",
    "training_transforms = A.Compose([A.RandomCrop(height=length,width=length),\n",
    "                                #A.RandomGamma(gamma_limit=(80,120),p=0.5),\n",
    "                                A.JpegCompression(quality_lower=70,quality_upper=90,p=0.5),\n",
    "                                A.GridDistortion(interpolation=cv2.INTER_CUBIC),\n",
    "                                A.HorizontalFlip(p=0.3),\n",
    "                                A.VerticalFlip(p=0.5)])\n",
    "    \n",
    "\n",
    "                                \n",
    "testing_augmentation = A.Compose([\n",
    "                                  A.CenterCrop(height=length,width=length)])"
   ]
  },
  {
   "cell_type": "code",
   "execution_count": 15,
   "id": "dc7c65c0",
   "metadata": {
    "execution": {
     "iopub.execute_input": "2021-11-29T07:23:32.261825Z",
     "iopub.status.busy": "2021-11-29T07:23:32.261097Z",
     "iopub.status.idle": "2021-11-29T07:23:33.528185Z",
     "shell.execute_reply": "2021-11-29T07:23:33.528774Z",
     "shell.execute_reply.started": "2021-11-29T07:04:36.855310Z"
    },
    "papermill": {
     "duration": 1.30121,
     "end_time": "2021-11-29T07:23:33.529005",
     "exception": false,
     "start_time": "2021-11-29T07:23:32.227795",
     "status": "completed"
    },
    "tags": []
   },
   "outputs": [],
   "source": [
    "class Dataset(keras.utils.Sequence):\n",
    "    def __init__(self,x,y,batch_size,augmentations,test):\n",
    "        self.x = x\n",
    "        self.y = y\n",
    "        self.batch_size = batch_size\n",
    "        self.augmentations = augmentations \n",
    "        self.test = test \n",
    "    def __len__(self):\n",
    "        return int(len(self.x)/self.batch_size)\n",
    "    def __getitem__(self,index):\n",
    "        batched_x = self.x.iloc[index*self.batch_size:(index+1)*self.batch_size].to_numpy()\n",
    "        if( not self.test):\n",
    "            batched_y = self.y.iloc[index*self.batch_size : (index+1)*self.batch_size,:]\n",
    "            images = [(self.augmentations(image=read_img(i[0]))['image']) for i in batched_x]\n",
    "        else:\n",
    "            images = [(self.augmentations(image=read_img(i))['image']) for i in batched_x]\n",
    "        return np.array(images)if self.test else (np.array(images),batched_y.values)"
   ]
  },
  {
   "cell_type": "code",
   "execution_count": 16,
   "id": "788d7d25",
   "metadata": {
    "execution": {
     "iopub.execute_input": "2021-11-29T07:23:33.595996Z",
     "iopub.status.busy": "2021-11-29T07:23:33.595278Z",
     "iopub.status.idle": "2021-11-29T07:23:33.597017Z",
     "shell.execute_reply": "2021-11-29T07:23:33.597763Z",
     "shell.execute_reply.started": "2021-11-29T07:04:38.003443Z"
    },
    "papermill": {
     "duration": 0.038407,
     "end_time": "2021-11-29T07:23:33.597996",
     "exception": false,
     "start_time": "2021-11-29T07:23:33.559589",
     "status": "completed"
    },
    "tags": []
   },
   "outputs": [],
   "source": [
    "dummy_dataset = Dataset(training_data,classes,batch_size=batch_size,augmentations=training_transforms,test=False)"
   ]
  },
  {
   "cell_type": "code",
   "execution_count": 17,
   "id": "e23ad057",
   "metadata": {
    "execution": {
     "iopub.execute_input": "2021-11-29T07:23:33.670115Z",
     "iopub.status.busy": "2021-11-29T07:23:33.668919Z",
     "iopub.status.idle": "2021-11-29T07:23:44.903714Z",
     "shell.execute_reply": "2021-11-29T07:23:44.904282Z",
     "shell.execute_reply.started": "2021-11-29T07:04:38.009019Z"
    },
    "papermill": {
     "duration": 11.275453,
     "end_time": "2021-11-29T07:23:44.904495",
     "exception": false,
     "start_time": "2021-11-29T07:23:33.629042",
     "status": "completed"
    },
    "tags": []
   },
   "outputs": [
    {
     "name": "stdout",
     "output_type": "stream",
     "text": [
      "(32, 512, 512, 3)\n",
      "(32, 10)\n"
     ]
    },
    {
     "data": {
      "image/png": "[encoded data removed]",
      "text/plain": [
       "<Figure size 432x288 with 1 Axes>"
      ]
     },
     "metadata": {
      "needs_background": "light"
     },
     "output_type": "display_data"
    }
   ],
   "source": [
    "a,b=dummy_dataset.__getitem__(5)\n",
    "#print(a[0])\n",
    "print(a.shape)\n",
    "#print(b)\n",
    "print(b.shape)\n",
    "plt.imshow(a[0])\n",
    "\n",
    "del dummy_dataset"
   ]
  },
  {
   "cell_type": "markdown",
   "id": "cc32c95b",
   "metadata": {
    "papermill": {
     "duration": 0.03397,
     "end_time": "2021-11-29T07:23:44.971727",
     "exception": false,
     "start_time": "2021-11-29T07:23:44.937757",
     "status": "completed"
    },
    "tags": []
   },
   "source": [
    "**Creating a baseline model using only an ANN **"
   ]
  },
  {
   "cell_type": "code",
   "execution_count": 18,
   "id": "dc5944e9",
   "metadata": {
    "execution": {
     "iopub.execute_input": "2021-11-29T07:23:45.047914Z",
     "iopub.status.busy": "2021-11-29T07:23:45.047085Z",
     "iopub.status.idle": "2021-11-29T07:23:45.050503Z",
     "shell.execute_reply": "2021-11-29T07:23:45.049841Z",
     "shell.execute_reply.started": "2021-11-29T07:05:44.681164Z"
    },
    "papermill": {
     "duration": 0.045454,
     "end_time": "2021-11-29T07:23:45.050648",
     "exception": false,
     "start_time": "2021-11-29T07:23:45.005194",
     "status": "completed"
    },
    "tags": []
   },
   "outputs": [],
   "source": [
    "def base_model(length,input_size,output_classes):\n",
    "    ipt_layer = keras.Input(shape=(length,length,3))\n",
    "    flatten = keras.layers.Flatten()(ipt_layer)\n",
    "    dense_1 = keras.layers.Dense(input_size//(512*128),activation='relu')(flatten)\n",
    "    op_layer = keras.layers.Dense(output_classes,activation='softmax')(dense_1)\n",
    "    optimiser = keras.optimizers.SGD(learning_rate =learning_rate)\n",
    "    losses = keras.losses.CategoricalCrossentropy()\n",
    "    metrics = keras.metrics.Accuracy()\n",
    "    model = keras.Model(inputs = ipt_layer,outputs = op_layer)\n",
    "    model.compile(optimizer=optimiser,loss=losses,metrics=metrics)\n",
    "    return model"
   ]
  },
  {
   "cell_type": "code",
   "execution_count": 19,
   "id": "5530a478",
   "metadata": {
    "execution": {
     "iopub.execute_input": "2021-11-29T07:23:45.125245Z",
     "iopub.status.busy": "2021-11-29T07:23:45.124422Z",
     "iopub.status.idle": "2021-11-29T07:23:45.325034Z",
     "shell.execute_reply": "2021-11-29T07:23:45.325653Z",
     "shell.execute_reply.started": "2021-11-29T07:05:47.607015Z"
    },
    "papermill": {
     "duration": 0.240783,
     "end_time": "2021-11-29T07:23:45.325841",
     "exception": false,
     "start_time": "2021-11-29T07:23:45.085058",
     "status": "completed"
    },
    "tags": []
   },
   "outputs": [
    {
     "name": "stderr",
     "output_type": "stream",
     "text": [
      "\n",
      "User settings:\n",
      "\n",
      "   KMP_AFFINITY=granularity=fine,verbose,compact,1,0\n",
      "   KMP_BLOCKTIME=0\n",
      "   KMP_DUPLICATE_LIB_OK=True\n",
      "   KMP_INIT_AT_FORK=FALSE\n",
      "   KMP_SETTINGS=1\n",
      "   KMP_WARNINGS=0\n",
      "\n",
      "Effective settings:\n",
      "\n",
      "   KMP_ABORT_DELAY=0\n",
      "   KMP_ADAPTIVE_LOCK_PROPS='1,1024'\n",
      "   KMP_ALIGN_ALLOC=64\n",
      "   KMP_ALL_THREADPRIVATE=128\n",
      "   KMP_ATOMIC_MODE=2\n",
      "   KMP_BLOCKTIME=0\n",
      "   KMP_CPUINFO_FILE: value is not defined\n",
      "   KMP_DETERMINISTIC_REDUCTION=false\n",
      "   KMP_DEVICE_THREAD_LIMIT=2147483647\n",
      "   KMP_DISP_NUM_BUFFERS=7\n",
      "   KMP_DUPLICATE_LIB_OK=true\n",
      "   KMP_ENABLE_TASK_THROTTLING=true\n",
      "   KMP_FORCE_REDUCTION: value is not defined\n",
      "   KMP_FOREIGN_THREADS_THREADPRIVATE=true\n",
      "   KMP_FORKJOIN_BARRIER='2,2'\n",
      "   KMP_FORKJOIN_BARRIER_PATTERN='hyper,hyper'\n",
      "   KMP_GTID_MODE=3\n",
      "   KMP_HANDLE_SIGNALS=false\n",
      "   KMP_HOT_TEAMS_MAX_LEVEL=1\n",
      "   KMP_HOT_TEAMS_MODE=0\n",
      "   KMP_INIT_AT_FORK=true\n",
      "   KMP_LIBRARY=throughput\n",
      "   KMP_LOCK_KIND=queuing\n",
      "   KMP_MALLOC_POOL_INCR=1M\n",
      "   KMP_NUM_LOCKS_IN_BLOCK=1\n",
      "   KMP_PLAIN_BARRIER='2,2'\n",
      "   KMP_PLAIN_BARRIER_PATTERN='hyper,hyper'\n",
      "   KMP_REDUCTION_BARRIER='1,1'\n",
      "   KMP_REDUCTION_BARRIER_PATTERN='hyper,hyper'\n",
      "   KMP_SCHEDULE='static,balanced;guided,iterative'\n",
      "   KMP_SETTINGS=true\n",
      "   KMP_SPIN_BACKOFF_PARAMS='4096,100'\n",
      "   KMP_STACKOFFSET=64\n",
      "   KMP_STACKPAD=0\n",
      "   KMP_STACKSIZE=8M\n",
      "   KMP_STORAGE_MAP=false\n",
      "   KMP_TASKING=2\n",
      "   KMP_TASKLOOP_MIN_TASKS=0\n",
      "   KMP_TASK_STEALING_CONSTRAINT=1\n",
      "   KMP_TEAMS_THREAD_LIMIT=4\n",
      "   KMP_TOPOLOGY_METHOD=all\n",
      "   KMP_USE_YIELD=1\n",
      "   KMP_VERSION=false\n",
      "   KMP_WARNINGS=false\n",
      "   OMP_AFFINITY_FORMAT='OMP: pid %P tid %i thread %n bound to OS proc set {%A}'\n",
      "   OMP_ALLOCATOR=omp_default_mem_alloc\n",
      "   OMP_CANCELLATION=false\n",
      "   OMP_DEFAULT_DEVICE=0\n",
      "   OMP_DISPLAY_AFFINITY=false\n",
      "   OMP_DISPLAY_ENV=false\n",
      "   OMP_DYNAMIC=false\n",
      "   OMP_MAX_ACTIVE_LEVELS=1\n",
      "   OMP_MAX_TASK_PRIORITY=0\n",
      "   OMP_NESTED: deprecated; max-active-levels-var=1\n",
      "   OMP_NUM_THREADS: value is not defined\n",
      "   OMP_PLACES: value is not defined\n",
      "   OMP_PROC_BIND='intel'\n",
      "   OMP_SCHEDULE='static'\n",
      "   OMP_STACKSIZE=8M\n",
      "   OMP_TARGET_OFFLOAD=DEFAULT\n",
      "   OMP_THREAD_LIMIT=2147483647\n",
      "   OMP_WAIT_POLICY=PASSIVE\n",
      "   KMP_AFFINITY='verbose,warnings,respect,granularity=fine,compact,1,0'\n",
      "\n",
      "2021-11-29 07:23:45.184174: I tensorflow/core/common_runtime/process_util.cc:146] Creating new thread pool with default inter op setting: 2. Tune using inter_op_parallelism_threads for best performance.\n"
     ]
    }
   ],
   "source": [
    "training_model = base_model(length,length*length*3,10)"
   ]
  },
  {
   "cell_type": "code",
   "execution_count": 20,
   "id": "734335b5",
   "metadata": {
    "execution": {
     "iopub.execute_input": "2021-11-29T07:23:45.401082Z",
     "iopub.status.busy": "2021-11-29T07:23:45.399712Z",
     "iopub.status.idle": "2021-11-29T07:23:45.407765Z",
     "shell.execute_reply": "2021-11-29T07:23:45.408364Z",
     "shell.execute_reply.started": "2021-11-29T07:05:49.627463Z"
    },
    "papermill": {
     "duration": 0.048203,
     "end_time": "2021-11-29T07:23:45.408587",
     "exception": false,
     "start_time": "2021-11-29T07:23:45.360384",
     "status": "completed"
    },
    "tags": []
   },
   "outputs": [
    {
     "name": "stdout",
     "output_type": "stream",
     "text": [
      "Model: \"model\"\n",
      "_________________________________________________________________\n",
      "Layer (type)                 Output Shape              Param #   \n",
      "=================================================================\n",
      "input_1 (InputLayer)         [(None, 512, 512, 3)]     0         \n",
      "_________________________________________________________________\n",
      "flatten (Flatten)            (None, 786432)            0         \n",
      "_________________________________________________________________\n",
      "dense (Dense)                (None, 12)                9437196   \n",
      "_________________________________________________________________\n",
      "dense_1 (Dense)              (None, 10)                130       \n",
      "=================================================================\n",
      "Total params: 9,437,326\n",
      "Trainable params: 9,437,326\n",
      "Non-trainable params: 0\n",
      "_________________________________________________________________\n"
     ]
    }
   ],
   "source": [
    "training_model.summary()"
   ]
  },
  {
   "cell_type": "code",
   "execution_count": 21,
   "id": "277f5eeb",
   "metadata": {
    "execution": {
     "iopub.execute_input": "2021-11-29T07:23:45.484082Z",
     "iopub.status.busy": "2021-11-29T07:23:45.483295Z",
     "iopub.status.idle": "2021-11-29T07:23:45.491485Z",
     "shell.execute_reply": "2021-11-29T07:23:45.492067Z",
     "shell.execute_reply.started": "2021-11-29T07:06:28.249024Z"
    },
    "papermill": {
     "duration": 0.048746,
     "end_time": "2021-11-29T07:23:45.492316",
     "exception": false,
     "start_time": "2021-11-29T07:23:45.443570",
     "status": "completed"
    },
    "tags": []
   },
   "outputs": [],
   "source": [
    "xtrain,xval,ytrain,yval = train_test_split(training_data,classes,test_size=0.1,shuffle=True,random_state=seed)"
   ]
  },
  {
   "cell_type": "code",
   "execution_count": 22,
   "id": "d776d2e8",
   "metadata": {
    "execution": {
     "iopub.execute_input": "2021-11-29T07:23:45.569337Z",
     "iopub.status.busy": "2021-11-29T07:23:45.568268Z",
     "iopub.status.idle": "2021-11-29T07:23:45.573994Z",
     "shell.execute_reply": "2021-11-29T07:23:45.573387Z",
     "shell.execute_reply.started": "2021-11-29T07:06:28.262123Z"
    },
    "papermill": {
     "duration": 0.046672,
     "end_time": "2021-11-29T07:23:45.574210",
     "exception": false,
     "start_time": "2021-11-29T07:23:45.527538",
     "status": "completed"
    },
    "tags": []
   },
   "outputs": [
    {
     "name": "stdout",
     "output_type": "stream",
     "text": [
      "2475 275\n",
      "2475 275\n"
     ]
    }
   ],
   "source": [
    "print(len(xtrain),len(xval))\n",
    "print(len(ytrain),len(yval))"
   ]
  },
  {
   "cell_type": "code",
   "execution_count": 23,
   "id": "3614e5a7",
   "metadata": {
    "execution": {
     "iopub.execute_input": "2021-11-29T07:23:45.649978Z",
     "iopub.status.busy": "2021-11-29T07:23:45.649246Z",
     "iopub.status.idle": "2021-11-29T07:23:45.656263Z",
     "shell.execute_reply": "2021-11-29T07:23:45.656949Z",
     "shell.execute_reply.started": "2021-11-29T07:06:28.272551Z"
    },
    "papermill": {
     "duration": 0.047846,
     "end_time": "2021-11-29T07:23:45.657357",
     "exception": false,
     "start_time": "2021-11-29T07:23:45.609511",
     "status": "completed"
    },
    "tags": []
   },
   "outputs": [
    {
     "name": "stdout",
     "output_type": "stream",
     "text": [
      "77\n",
      "8\n"
     ]
    }
   ],
   "source": [
    "training_dataset = Dataset(xtrain,ytrain,batch_size=batch_size,augmentations=training_transforms,test=False)\n",
    "validation_dataset = Dataset(xval,yval,batch_size=batch_size,augmentations=training_transforms,test=False)\n",
    "\n",
    "print(len(training_dataset))\n",
    "print(len(validation_dataset))"
   ]
  },
  {
   "cell_type": "code",
   "execution_count": 24,
   "id": "80eb623e",
   "metadata": {
    "execution": {
     "iopub.execute_input": "2021-11-29T07:23:45.739363Z",
     "iopub.status.busy": "2021-11-29T07:23:45.738434Z",
     "iopub.status.idle": "2021-11-29T07:23:45.741955Z",
     "shell.execute_reply": "2021-11-29T07:23:45.741249Z",
     "shell.execute_reply.started": "2021-11-29T07:06:28.286913Z"
    },
    "papermill": {
     "duration": 0.047451,
     "end_time": "2021-11-29T07:23:45.742131",
     "exception": false,
     "start_time": "2021-11-29T07:23:45.694680",
     "status": "completed"
    },
    "tags": []
   },
   "outputs": [],
   "source": [
    "model_file = \"output/base_model_weights.hd5\"\n",
    "\n",
    "checkpoint = tf.keras.callbacks.ModelCheckpoint(model_file, monitor=\"val_accuracy\", save_best_only=True, mode='max')\n",
    "\n",
    "reduce_lr = tf.keras.callbacks.ReduceLROnPlateau(monitor=\"val_accuracy\", factor=0.9, patience=2, min_lr=1e-6, mode=\"max\", verbose=True)\n",
    "\n",
    "early_stopping = tf.keras.callbacks.EarlyStopping(monitor=\"val_accuracy\", patience=5, mode=\"max\", verbose=True)\n",
    "\n",
    "callbacks_list = [checkpoint, reduce_lr, early_stopping]\n"
   ]
  },
  {
   "cell_type": "code",
   "execution_count": 25,
   "id": "31941253",
   "metadata": {
    "execution": {
     "iopub.execute_input": "2021-11-29T07:23:45.818970Z",
     "iopub.status.busy": "2021-11-29T07:23:45.818335Z",
     "iopub.status.idle": "2021-11-29T07:38:01.789250Z",
     "shell.execute_reply": "2021-11-29T07:38:01.788377Z",
     "shell.execute_reply.started": "2021-11-29T07:06:28.299531Z"
    },
    "papermill": {
     "duration": 856.009857,
     "end_time": "2021-11-29T07:38:01.789626",
     "exception": false,
     "start_time": "2021-11-29T07:23:45.779769",
     "status": "completed"
    },
    "tags": []
   },
   "outputs": [
    {
     "name": "stderr",
     "output_type": "stream",
     "text": [
      "2021-11-29 07:23:54.693151: I tensorflow/compiler/mlir/mlir_graph_optimization_pass.cc:185] None of the MLIR Optimization Passes are enabled (registered 2)\n"
     ]
    },
    {
     "name": "stdout",
     "output_type": "stream",
     "text": [
      "77/77 [==============================] - 846s 11s/step - loss: 6794.3389 - accuracy: 0.0391 - val_loss: 2.3026 - val_accuracy: 0.0000e+00\n"
     ]
    },
    {
     "name": "stderr",
     "output_type": "stream",
     "text": [
      "2021-11-29 07:38:01.188656: W tensorflow/python/util/util.cc:348] Sets are not currently considered sequences, but this may change in the future, so consider avoiding using them.\n"
     ]
    },
    {
     "data": {
      "text/plain": [
       "<keras.callbacks.History at 0x7f7436c73610>"
      ]
     },
     "execution_count": 25,
     "metadata": {},
     "output_type": "execute_result"
    }
   ],
   "source": [
    "training_model.fit(training_dataset,validation_data=validation_dataset,epochs=1,batch_size=batch_size,callbacks=callbacks_list,verbose=1)"
   ]
  },
  {
   "cell_type": "code",
   "execution_count": 26,
   "id": "aa26fcc9",
   "metadata": {
    "execution": {
     "iopub.execute_input": "2021-11-29T07:38:01.922941Z",
     "iopub.status.busy": "2021-11-29T07:38:01.922211Z",
     "iopub.status.idle": "2021-11-29T07:38:01.953177Z",
     "shell.execute_reply": "2021-11-29T07:38:01.953828Z",
     "shell.execute_reply.started": "2021-11-29T07:21:19.943856Z"
    },
    "papermill": {
     "duration": 0.097253,
     "end_time": "2021-11-29T07:38:01.954031",
     "exception": false,
     "start_time": "2021-11-29T07:38:01.856778",
     "status": "completed"
    },
    "tags": []
   },
   "outputs": [
    {
     "data": {
      "text/html": [
       "<div>\n",
       "<style scoped>\n",
       "    .dataframe tbody tr th:only-of-type {\n",
       "        vertical-align: middle;\n",
       "    }\n",
       "\n",
       "    .dataframe tbody tr th {\n",
       "        vertical-align: top;\n",
       "    }\n",
       "\n",
       "    .dataframe thead th {\n",
       "        text-align: right;\n",
       "    }\n",
       "</style>\n",
       "<table border=\"1\" class=\"dataframe\">\n",
       "  <thead>\n",
       "    <tr style=\"text-align: right;\">\n",
       "      <th></th>\n",
       "      <th>fname</th>\n",
       "      <th>camera</th>\n",
       "    </tr>\n",
       "  </thead>\n",
       "  <tbody>\n",
       "    <tr>\n",
       "      <th>0</th>\n",
       "      <td>img_0002a04_manip.tif</td>\n",
       "      <td>iPhone-6</td>\n",
       "    </tr>\n",
       "    <tr>\n",
       "      <th>1</th>\n",
       "      <td>img_001e31c_unalt.tif</td>\n",
       "      <td>iPhone-6</td>\n",
       "    </tr>\n",
       "    <tr>\n",
       "      <th>2</th>\n",
       "      <td>img_00275cf_manip.tif</td>\n",
       "      <td>iPhone-6</td>\n",
       "    </tr>\n",
       "    <tr>\n",
       "      <th>3</th>\n",
       "      <td>img_0034113_unalt.tif</td>\n",
       "      <td>iPhone-6</td>\n",
       "    </tr>\n",
       "    <tr>\n",
       "      <th>4</th>\n",
       "      <td>img_00344b7_unalt.tif</td>\n",
       "      <td>iPhone-6</td>\n",
       "    </tr>\n",
       "  </tbody>\n",
       "</table>\n",
       "</div>"
      ],
      "text/plain": [
       "                   fname    camera\n",
       "0  img_0002a04_manip.tif  iPhone-6\n",
       "1  img_001e31c_unalt.tif  iPhone-6\n",
       "2  img_00275cf_manip.tif  iPhone-6\n",
       "3  img_0034113_unalt.tif  iPhone-6\n",
       "4  img_00344b7_unalt.tif  iPhone-6"
      ]
     },
     "execution_count": 26,
     "metadata": {},
     "output_type": "execute_result"
    }
   ],
   "source": [
    "sample_submission = pd.read_csv('/kaggle/input/sp-society-camera-model-identification/sample_submission.csv')\n",
    "sample_submission.head()"
   ]
  },
  {
   "cell_type": "code",
   "execution_count": 27,
   "id": "82a9e153",
   "metadata": {
    "execution": {
     "iopub.execute_input": "2021-11-29T07:38:02.088066Z",
     "iopub.status.busy": "2021-11-29T07:38:02.083796Z",
     "iopub.status.idle": "2021-11-29T07:38:02.094138Z",
     "shell.execute_reply": "2021-11-29T07:38:02.094746Z",
     "shell.execute_reply.started": "2021-11-29T07:21:19.982381Z"
    },
    "papermill": {
     "duration": 0.078678,
     "end_time": "2021-11-29T07:38:02.094966",
     "exception": false,
     "start_time": "2021-11-29T07:38:02.016288",
     "status": "completed"
    },
    "tags": []
   },
   "outputs": [
    {
     "name": "stdout",
     "output_type": "stream",
     "text": [
      "/kaggle/input/sp-society-camera-model-identification/test/test/img_0002a04_manip.tif\n"
     ]
    }
   ],
   "source": [
    "x_test = testing_path+sample_submission['fname']\n",
    "#x_test = x_test.to_numpy()\n",
    "print(x_test[0])\n",
    "\n",
    "#training_model.load_model(model_file)\n",
    "x_test = Dataset(x_test,x_test,test=True,batch_size=1,augmentations=testing_augmentation)"
   ]
  },
  {
   "cell_type": "code",
   "execution_count": 28,
   "id": "3eb31e8b",
   "metadata": {
    "execution": {
     "iopub.execute_input": "2021-11-29T07:38:02.228812Z",
     "iopub.status.busy": "2021-11-29T07:38:02.228028Z",
     "iopub.status.idle": "2021-11-29T07:38:02.229910Z",
     "shell.execute_reply": "2021-11-29T07:38:02.230592Z",
     "shell.execute_reply.started": "2021-11-29T07:21:19.993771Z"
    },
    "papermill": {
     "duration": 0.07287,
     "end_time": "2021-11-29T07:38:02.230811",
     "exception": false,
     "start_time": "2021-11-29T07:38:02.157941",
     "status": "completed"
    },
    "tags": []
   },
   "outputs": [],
   "source": [
    "def read_and_array(filepath):\n",
    "    im_array = np.array(Image.open(filepath))\n",
    "    pil_im = Image.fromarray(im_array)\n",
    "    new_array = np.array(pil_im)\n",
    "    return new_array"
   ]
  },
  {
   "cell_type": "code",
   "execution_count": null,
   "id": "02829020",
   "metadata": {
    "execution": {
     "iopub.execute_input": "2021-11-29T07:21:20.006712Z",
     "iopub.status.busy": "2021-11-29T07:21:20.006480Z",
     "iopub.status.idle": "2021-11-29T07:21:20.130233Z",
     "shell.execute_reply": "2021-11-29T07:21:20.128587Z",
     "shell.execute_reply.started": "2021-11-29T07:21:20.006685Z"
    },
    "papermill": {
     "duration": 0.063837,
     "end_time": "2021-11-29T07:38:02.358946",
     "exception": false,
     "start_time": "2021-11-29T07:38:02.295109",
     "status": "completed"
    },
    "tags": []
   },
   "outputs": [],
   "source": []
  },
  {
   "cell_type": "code",
   "execution_count": 29,
   "id": "54b5e965",
   "metadata": {
    "execution": {
     "iopub.execute_input": "2021-11-29T07:38:02.494821Z",
     "iopub.status.busy": "2021-11-29T07:38:02.493794Z",
     "iopub.status.idle": "2021-11-29T07:39:23.973544Z",
     "shell.execute_reply": "2021-11-29T07:39:23.972680Z"
    },
    "papermill": {
     "duration": 81.548659,
     "end_time": "2021-11-29T07:39:23.973844",
     "exception": false,
     "start_time": "2021-11-29T07:38:02.425185",
     "status": "completed"
    },
    "tags": []
   },
   "outputs": [],
   "source": [
    "training_model = tf.keras.models.load_model(model_file)\n",
    "predicted = training_model.predict(x_test)"
   ]
  },
  {
   "cell_type": "code",
   "execution_count": 30,
   "id": "29b5d7c1",
   "metadata": {
    "execution": {
     "iopub.execute_input": "2021-11-29T07:39:24.105587Z",
     "iopub.status.busy": "2021-11-29T07:39:24.103026Z",
     "iopub.status.idle": "2021-11-29T07:39:24.110893Z",
     "shell.execute_reply": "2021-11-29T07:39:24.111885Z"
    },
    "papermill": {
     "duration": 0.073444,
     "end_time": "2021-11-29T07:39:24.112161",
     "exception": false,
     "start_time": "2021-11-29T07:39:24.038717",
     "status": "completed"
    },
    "tags": []
   },
   "outputs": [
    {
     "name": "stdout",
     "output_type": "stream",
     "text": [
      "[[0.09994376 0.09997302 0.09992698 ... 0.10001792 0.09993017 0.10004804]\n",
      " [0.09994376 0.09997302 0.09992698 ... 0.10001792 0.09993017 0.10004804]\n",
      " [0.09994376 0.09997302 0.09992698 ... 0.10001792 0.09993017 0.10004804]\n",
      " ...\n",
      " [0.09994376 0.09997302 0.09992698 ... 0.10001792 0.09993017 0.10004804]\n",
      " [0.09994376 0.09997302 0.09992698 ... 0.10001792 0.09993017 0.10004804]\n",
      " [0.09994376 0.09997302 0.09992698 ... 0.10001792 0.09993017 0.10004804]]\n"
     ]
    }
   ],
   "source": [
    "print(predicted)"
   ]
  },
  {
   "cell_type": "code",
   "execution_count": 31,
   "id": "8dfd8cf9",
   "metadata": {
    "execution": {
     "iopub.execute_input": "2021-11-29T07:39:24.238581Z",
     "iopub.status.busy": "2021-11-29T07:39:24.237864Z",
     "iopub.status.idle": "2021-11-29T07:39:24.246981Z",
     "shell.execute_reply": "2021-11-29T07:39:24.247486Z"
    },
    "papermill": {
     "duration": 0.073524,
     "end_time": "2021-11-29T07:39:24.247677",
     "exception": false,
     "start_time": "2021-11-29T07:39:24.174153",
     "status": "completed"
    },
    "tags": []
   },
   "outputs": [],
   "source": [
    "test_labels = []\n",
    "for item in predicted.argmax(axis=1):\n",
    "    test_labels.append(classes_dict[str(item)])"
   ]
  },
  {
   "cell_type": "code",
   "execution_count": 32,
   "id": "97efa94e",
   "metadata": {
    "execution": {
     "iopub.execute_input": "2021-11-29T07:39:24.379154Z",
     "iopub.status.busy": "2021-11-29T07:39:24.378482Z",
     "iopub.status.idle": "2021-11-29T07:39:24.384849Z",
     "shell.execute_reply": "2021-11-29T07:39:24.385376Z"
    },
    "papermill": {
     "duration": 0.076841,
     "end_time": "2021-11-29T07:39:24.385556",
     "exception": false,
     "start_time": "2021-11-29T07:39:24.308715",
     "status": "completed"
    },
    "tags": []
   },
   "outputs": [
    {
     "data": {
      "text/html": [
       "<div>\n",
       "<style scoped>\n",
       "    .dataframe tbody tr th:only-of-type {\n",
       "        vertical-align: middle;\n",
       "    }\n",
       "\n",
       "    .dataframe tbody tr th {\n",
       "        vertical-align: top;\n",
       "    }\n",
       "\n",
       "    .dataframe thead th {\n",
       "        text-align: right;\n",
       "    }\n",
       "</style>\n",
       "<table border=\"1\" class=\"dataframe\">\n",
       "  <thead>\n",
       "    <tr style=\"text-align: right;\">\n",
       "      <th></th>\n",
       "      <th>fname</th>\n",
       "      <th>camera</th>\n",
       "    </tr>\n",
       "  </thead>\n",
       "  <tbody>\n",
       "    <tr>\n",
       "      <th>0</th>\n",
       "      <td>img_0002a04_manip.tif</td>\n",
       "      <td>Samsung-Galaxy-Note3</td>\n",
       "    </tr>\n",
       "    <tr>\n",
       "      <th>1</th>\n",
       "      <td>img_001e31c_unalt.tif</td>\n",
       "      <td>Samsung-Galaxy-Note3</td>\n",
       "    </tr>\n",
       "    <tr>\n",
       "      <th>2</th>\n",
       "      <td>img_00275cf_manip.tif</td>\n",
       "      <td>Samsung-Galaxy-Note3</td>\n",
       "    </tr>\n",
       "    <tr>\n",
       "      <th>3</th>\n",
       "      <td>img_0034113_unalt.tif</td>\n",
       "      <td>Samsung-Galaxy-Note3</td>\n",
       "    </tr>\n",
       "    <tr>\n",
       "      <th>4</th>\n",
       "      <td>img_00344b7_unalt.tif</td>\n",
       "      <td>Samsung-Galaxy-Note3</td>\n",
       "    </tr>\n",
       "  </tbody>\n",
       "</table>\n",
       "</div>"
      ],
      "text/plain": [
       "                   fname                camera\n",
       "0  img_0002a04_manip.tif  Samsung-Galaxy-Note3\n",
       "1  img_001e31c_unalt.tif  Samsung-Galaxy-Note3\n",
       "2  img_00275cf_manip.tif  Samsung-Galaxy-Note3\n",
       "3  img_0034113_unalt.tif  Samsung-Galaxy-Note3\n",
       "4  img_00344b7_unalt.tif  Samsung-Galaxy-Note3"
      ]
     },
     "execution_count": 32,
     "metadata": {},
     "output_type": "execute_result"
    }
   ],
   "source": [
    "sample_submission['camera'] = test_labels\n",
    "sample_submission.head()"
   ]
  },
  {
   "cell_type": "code",
   "execution_count": 33,
   "id": "3b05960b",
   "metadata": {
    "execution": {
     "iopub.execute_input": "2021-11-29T07:39:24.512562Z",
     "iopub.status.busy": "2021-11-29T07:39:24.511886Z",
     "iopub.status.idle": "2021-11-29T07:39:24.532361Z",
     "shell.execute_reply": "2021-11-29T07:39:24.531636Z"
    },
    "papermill": {
     "duration": 0.085045,
     "end_time": "2021-11-29T07:39:24.532526",
     "exception": false,
     "start_time": "2021-11-29T07:39:24.447481",
     "status": "completed"
    },
    "tags": []
   },
   "outputs": [],
   "source": [
    "sample_submission.to_csv(\"submission.csv\", index=False)"
   ]
  }
 ],
 "metadata": {
  "kernelspec": {
   "display_name": "Python 3",
   "language": "python",
   "name": "python3"
  },
  "language_info": {
   "codemirror_mode": {
    "name": "ipython",
    "version": 3
   },
   "file_extension": ".py",
   "mimetype": "text/x-python",
   "name": "python",
   "nbconvert_exporter": "python",
   "pygments_lexer": "ipython3",
   "version": "3.7.10"
  },
  "papermill": {
   "default_parameters": {},
   "duration": 975.231205,
   "end_time": "2021-11-29T07:39:27.449423",
   "environment_variables": {},
   "exception": null,
   "input_path": "__notebook__.ipynb",
   "output_path": "__notebook__.ipynb",
   "parameters": {},
   "start_time": "2021-11-29T07:23:12.218218",
   "version": "2.3.3"
  }
 },
 "nbformat": 4,
 "nbformat_minor": 5
}
