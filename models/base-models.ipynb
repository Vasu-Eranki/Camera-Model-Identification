{
 "cells": [
  {
   "cell_type": "code",
   "execution_count": null,
   "metadata": {
    "_cell_guid": "b1076dfc-b9ad-4769-8c92-a6c4dae69d19",
    "_uuid": "8f2839f25d086af736a60e9eeb907d3b93b6e0e5",
    "execution": {
     "iopub.execute_input": "2021-12-11T16:57:54.753935Z",
     "iopub.status.busy": "2021-12-11T16:57:54.753595Z",
     "iopub.status.idle": "2021-12-11T16:57:54.759219Z",
     "shell.execute_reply": "2021-12-11T16:57:54.758303Z",
     "shell.execute_reply.started": "2021-12-11T16:57:54.753894Z"
    }
   },
   "outputs": [],
   "source": [
    "#importing the python libraries \n",
    "import numpy as np \n",
    "import pandas as pd \n",
    "import matplotlib.pyplot as plt \n",
    "import tensorflow as tf \n",
    "import sklearn as sk \n",
    "import os \n",
    "import cv2\n",
    "import albumentations as A\n",
    "from PIL import Image \n",
    "from tensorflow import keras \n",
    "from sklearn.metrics import classification_report, confusion_matrix\n",
    "from sklearn.model_selection import train_test_split"
   ]
  },
  {
   "cell_type": "code",
   "execution_count": null,
   "metadata": {
    "execution": {
     "iopub.execute_input": "2021-12-11T16:57:54.761424Z",
     "iopub.status.busy": "2021-12-11T16:57:54.760987Z",
     "iopub.status.idle": "2021-12-11T16:57:54.777507Z",
     "shell.execute_reply": "2021-12-11T16:57:54.776363Z",
     "shell.execute_reply.started": "2021-12-11T16:57:54.761386Z"
    }
   },
   "outputs": [],
   "source": [
    "#setting the training and testing variables to store the two directories\n",
    "training_path = \"/kaggle/input/sp-society-camera-model-identification/train/train/\"\n",
    "testing_path = \"/kaggle/input/sp-society-camera-model-identification/test/test/\"\n",
    "_,training_classes,_=next(os.walk(training_path))\n",
    "#print(training_classes)\n"
   ]
  },
  {
   "cell_type": "code",
   "execution_count": null,
   "metadata": {
    "execution": {
     "iopub.execute_input": "2021-12-11T17:10:14.937591Z",
     "iopub.status.busy": "2021-12-11T17:10:14.937226Z",
     "iopub.status.idle": "2021-12-11T17:10:14.942048Z",
     "shell.execute_reply": "2021-12-11T17:10:14.941057Z",
     "shell.execute_reply.started": "2021-12-11T17:10:14.937546Z"
    }
   },
   "outputs": [],
   "source": [
    "#Setting the hyperparameters forthe neural network\n",
    "batch_size = 8\n",
    "learning_rate = 1e-3"
   ]
  },
  {
   "cell_type": "code",
   "execution_count": null,
   "metadata": {
    "execution": {
     "iopub.execute_input": "2021-12-11T17:10:14.94423Z",
     "iopub.status.busy": "2021-12-11T17:10:14.94357Z",
     "iopub.status.idle": "2021-12-11T17:10:15.244791Z",
     "shell.execute_reply": "2021-12-11T17:10:15.244051Z",
     "shell.execute_reply.started": "2021-12-11T17:10:14.944189Z"
    }
   },
   "outputs": [],
   "source": [
    "#Extracting the testing files directories into a variable\n",
    "_,_,testing_files = next(os.walk(testing_path))\n"
   ]
  },
  {
   "cell_type": "code",
   "execution_count": null,
   "metadata": {
    "execution": {
     "iopub.execute_input": "2021-12-11T17:10:15.246601Z",
     "iopub.status.busy": "2021-12-11T17:10:15.246353Z",
     "iopub.status.idle": "2021-12-11T17:10:15.266724Z",
     "shell.execute_reply": "2021-12-11T17:10:15.265958Z",
     "shell.execute_reply.started": "2021-12-11T17:10:15.246567Z"
    }
   },
   "outputs": [],
   "source": [
    "# Writing the training directories into a variable by iterating over the directories \n",
    "# Extracting the classes from directory labels \n",
    "training_paths = [] \n",
    "labels = [] \n",
    "for i in training_classes:\n",
    "    _,_,filenames = next(os.walk(training_path+i))\n",
    "    for j in filenames:\n",
    "        training_paths.append(training_path+i+'/'+j)\n",
    "        labels.append(i)"
   ]
  },
  {
   "cell_type": "code",
   "execution_count": null,
   "metadata": {
    "execution": {
     "iopub.execute_input": "2021-12-11T17:10:15.269509Z",
     "iopub.status.busy": "2021-12-11T17:10:15.269221Z",
     "iopub.status.idle": "2021-12-11T17:10:15.274533Z",
     "shell.execute_reply": "2021-12-11T17:10:15.27377Z",
     "shell.execute_reply.started": "2021-12-11T17:10:15.269472Z"
    }
   },
   "outputs": [],
   "source": [
    "#Ensure that the training directories and the class labels are of the same length\n",
    "assert len(training_paths)==len(labels)"
   ]
  },
  {
   "cell_type": "code",
   "execution_count": null,
   "metadata": {
    "execution": {
     "iopub.execute_input": "2021-12-11T17:10:15.276134Z",
     "iopub.status.busy": "2021-12-11T17:10:15.275668Z",
     "iopub.status.idle": "2021-12-11T17:10:15.282356Z",
     "shell.execute_reply": "2021-12-11T17:10:15.28156Z",
     "shell.execute_reply.started": "2021-12-11T17:10:15.276069Z"
    }
   },
   "outputs": [],
   "source": [
    "#Fixing the seed to a fixed value for reproducible results\n",
    "seed = 33"
   ]
  },
  {
   "cell_type": "code",
   "execution_count": null,
   "metadata": {
    "execution": {
     "iopub.execute_input": "2021-12-11T17:10:15.284296Z",
     "iopub.status.busy": "2021-12-11T17:10:15.2834Z",
     "iopub.status.idle": "2021-12-11T17:10:15.298863Z",
     "shell.execute_reply": "2021-12-11T17:10:15.298176Z",
     "shell.execute_reply.started": "2021-12-11T17:10:15.284257Z"
    }
   },
   "outputs": [],
   "source": [
    "# Convert the training data to a Dataframe for easy indexing \n",
    "#Take the labels and one-hot encode them\n",
    "training_data = pd.DataFrame(training_paths,columns=['Training Image Path'])\n",
    "classes = pd.DataFrame(labels)\n",
    "classes = pd.get_dummies(classes) # One Hot Encode the class variables"
   ]
  },
  {
   "cell_type": "code",
   "execution_count": null,
   "metadata": {
    "execution": {
     "iopub.execute_input": "2021-12-11T17:10:15.300606Z",
     "iopub.status.busy": "2021-12-11T17:10:15.299891Z",
     "iopub.status.idle": "2021-12-11T17:10:15.313028Z",
     "shell.execute_reply": "2021-12-11T17:10:15.312336Z",
     "shell.execute_reply.started": "2021-12-11T17:10:15.300566Z"
    }
   },
   "outputs": [],
   "source": [
    "#print the training data\n",
    "training_data"
   ]
  },
  {
   "cell_type": "code",
   "execution_count": null,
   "metadata": {
    "execution": {
     "iopub.execute_input": "2021-12-11T17:10:15.31487Z",
     "iopub.status.busy": "2021-12-11T17:10:15.31405Z",
     "iopub.status.idle": "2021-12-11T17:10:15.329944Z",
     "shell.execute_reply": "2021-12-11T17:10:15.329196Z",
     "shell.execute_reply.started": "2021-12-11T17:10:15.314822Z"
    }
   },
   "outputs": [],
   "source": [
    "#print the first few rows of the one-hot encoded variable\n",
    "classes.head()"
   ]
  },
  {
   "cell_type": "code",
   "execution_count": null,
   "metadata": {
    "execution": {
     "iopub.execute_input": "2021-12-11T17:10:15.331636Z",
     "iopub.status.busy": "2021-12-11T17:10:15.330947Z",
     "iopub.status.idle": "2021-12-11T17:10:15.336596Z",
     "shell.execute_reply": "2021-12-11T17:10:15.335779Z",
     "shell.execute_reply.started": "2021-12-11T17:10:15.331596Z"
    }
   },
   "outputs": [],
   "source": [
    "#Defining a class that stores the label and the number attached to it\n",
    "classes_dict = {'0':'HTC-1-M7',\n",
    "                '1':'LG-Nexus-5x',\n",
    "                '2':'Motorola-Droid-Maxx',\n",
    "                '3':'Motorola-Nexus-6',\n",
    "                '4':'Motorola-X',\n",
    "                '5':'Samsung-Galaxy-Note3',\n",
    "                '6':'Samsung-Galaxy-S4',\n",
    "                '7':'Sony-NEX-7',\n",
    "                '8':'iPhone-4s',\n",
    "                '9':'iPhone-6'}"
   ]
  },
  {
   "cell_type": "code",
   "execution_count": null,
   "metadata": {
    "execution": {
     "iopub.execute_input": "2021-12-11T17:10:15.341483Z",
     "iopub.status.busy": "2021-12-11T17:10:15.340935Z",
     "iopub.status.idle": "2021-12-11T17:10:15.35486Z",
     "shell.execute_reply": "2021-12-11T17:10:15.35418Z",
     "shell.execute_reply.started": "2021-12-11T17:10:15.341442Z"
    }
   },
   "outputs": [],
   "source": [
    "# Create a testing DataFrame for easy indexing\n",
    "testing_data = pd.DataFrame(testing_files,columns=['Testing Image Path'])\n",
    "testing_data"
   ]
  },
  {
   "cell_type": "markdown",
   "metadata": {},
   "source": [
    "Shuffling the dataset before sending it to the Tensorflow Pipeline"
   ]
  },
  {
   "cell_type": "code",
   "execution_count": null,
   "metadata": {
    "execution": {
     "iopub.execute_input": "2021-12-11T17:10:15.356599Z",
     "iopub.status.busy": "2021-12-11T17:10:15.355883Z",
     "iopub.status.idle": "2021-12-11T17:10:15.36048Z",
     "shell.execute_reply": "2021-12-11T17:10:15.359741Z",
     "shell.execute_reply.started": "2021-12-11T17:10:15.356559Z"
    }
   },
   "outputs": [],
   "source": [
    "#Read Images from the disk to memory\n",
    "\n",
    "def read_img(path):\n",
    "    return np.array(Image.open(path))"
   ]
  },
  {
   "cell_type": "code",
   "execution_count": null,
   "metadata": {
    "execution": {
     "iopub.execute_input": "2021-12-11T17:10:15.362323Z",
     "iopub.status.busy": "2021-12-11T17:10:15.361571Z",
     "iopub.status.idle": "2021-12-11T17:10:15.373398Z",
     "shell.execute_reply": "2021-12-11T17:10:15.372243Z",
     "shell.execute_reply.started": "2021-12-11T17:10:15.362284Z"
    }
   },
   "outputs": [],
   "source": [
    "#Defining the training and testing augmentations to apply on the images\n",
    "\n",
    "length = 512 #Defining the lenght needed for each crop\n",
    "training_transforms = A.Compose([A.RandomCrop(height=length,width=length),\n",
    "                                A.RandomGamma(gamma_limit=(80,120),p=0.9),\n",
    "                                A.JpegCompression(quality_lower=70,quality_upper=90,p=0.9),\n",
    "                                A.GridDistortion(interpolation=cv2.INTER_CUBIC)])\n",
    "    \n",
    "\n",
    "                                \n",
    "testing_augmentation = A.Compose([\n",
    "                                  A.CenterCrop(height=length,width=length)])"
   ]
  },
  {
   "cell_type": "code",
   "execution_count": null,
   "metadata": {
    "execution": {
     "iopub.execute_input": "2021-12-11T17:10:15.376006Z",
     "iopub.status.busy": "2021-12-11T17:10:15.375253Z",
     "iopub.status.idle": "2021-12-11T17:10:15.388145Z",
     "shell.execute_reply": "2021-12-11T17:10:15.387175Z",
     "shell.execute_reply.started": "2021-12-11T17:10:15.375968Z"
    }
   },
   "outputs": [],
   "source": [
    "#Creating a custom keras dataset to feed the neural network \n",
    "class Dataset(keras.utils.Sequence):\n",
    "    def __init__(self,x,y,batch_size,augmentations,test):\n",
    "        self.x = x\n",
    "        self.y = y\n",
    "        self.batch_size = batch_size\n",
    "        self.augmentations = augmentations \n",
    "        self.test = test \n",
    "    def __len__(self):\n",
    "        return int(len(self.x)/self.batch_size)\n",
    "    def __getitem__(self,index):\n",
    "        batched_x = self.x.iloc[index*self.batch_size:(index+1)*self.batch_size].to_numpy()\n",
    "        if( not self.test):\n",
    "            batched_y = self.y.iloc[index*self.batch_size : (index+1)*self.batch_size,:]\n",
    "            images = [(self.augmentations(image=read_img(i[0]))['image']) for i in batched_x]\n",
    "        else:\n",
    "            images = [(self.augmentations(image=read_img(i))['image']) for i in batched_x]\n",
    "        return np.array(images)if self.test else (np.array(images),batched_y.values)"
   ]
  },
  {
   "cell_type": "code",
   "execution_count": null,
   "metadata": {
    "execution": {
     "iopub.execute_input": "2021-12-11T17:10:15.390788Z",
     "iopub.status.busy": "2021-12-11T17:10:15.389971Z",
     "iopub.status.idle": "2021-12-11T17:10:15.396615Z",
     "shell.execute_reply": "2021-12-11T17:10:15.395784Z",
     "shell.execute_reply.started": "2021-12-11T17:10:15.390748Z"
    }
   },
   "outputs": [],
   "source": [
    "#Instantiating a dummy dataset to check the custom dataset's functionality\n",
    "dummy_dataset = Dataset(training_data,classes,batch_size=batch_size,augmentations=training_transforms,test=False)"
   ]
  },
  {
   "cell_type": "code",
   "execution_count": null,
   "metadata": {
    "execution": {
     "iopub.execute_input": "2021-12-11T17:10:15.399526Z",
     "iopub.status.busy": "2021-12-11T17:10:15.398738Z",
     "iopub.status.idle": "2021-12-11T17:10:17.085889Z",
     "shell.execute_reply": "2021-12-11T17:10:17.085031Z",
     "shell.execute_reply.started": "2021-12-11T17:10:15.399485Z"
    }
   },
   "outputs": [],
   "source": [
    "#Calling the variables from the dummy dataset to check for functionality\n",
    "a,b=dummy_dataset.__getitem__(5)\n",
    "#print(a[0])\n",
    "print(a.shape)\n",
    "#print(b)\n",
    "print(b.shape)\n",
    "plt.imshow(a[0])\n",
    "\n",
    "del dummy_dataset"
   ]
  },
  {
   "cell_type": "markdown",
   "metadata": {},
   "source": [
    "**Creating a baseline model using only an ANN **"
   ]
  },
  {
   "cell_type": "code",
   "execution_count": null,
   "metadata": {
    "execution": {
     "iopub.execute_input": "2021-12-11T17:10:17.087817Z",
     "iopub.status.busy": "2021-12-11T17:10:17.087476Z",
     "iopub.status.idle": "2021-12-11T17:10:17.096315Z",
     "shell.execute_reply": "2021-12-11T17:10:17.095665Z",
     "shell.execute_reply.started": "2021-12-11T17:10:17.087774Z"
    }
   },
   "outputs": [],
   "source": [
    "#Creating the keras model for training \n",
    "\n",
    "def base_model(length,input_size,output_classes):\n",
    "    ipt_layer = keras.Input(shape=(length,length,3))\n",
    "    flatten = keras.layers.Flatten()(ipt_layer)\n",
    "    dense_1 = keras.layers.Dense(input_size//(512*128),activation='relu')(flatten)\n",
    "    op_layer = keras.layers.Dense(output_classes,activation='softmax')(dense_1)\n",
    "    optimiser = keras.optimizers.SGD(learning_rate =learning_rate)\n",
    "    losses = keras.losses.CategoricalCrossentropy()\n",
    "    metrics = keras.metrics.Accuracy()\n",
    "    model = keras.Model(inputs = ipt_layer,outputs = op_layer)\n",
    "    model.compile(optimizer=optimiser,loss=losses,metrics=metrics)\n",
    "    return model"
   ]
  },
  {
   "cell_type": "code",
   "execution_count": null,
   "metadata": {
    "execution": {
     "iopub.execute_input": "2021-12-11T17:10:17.098009Z",
     "iopub.status.busy": "2021-12-11T17:10:17.097574Z",
     "iopub.status.idle": "2021-12-11T17:10:17.140949Z",
     "shell.execute_reply": "2021-12-11T17:10:17.140296Z",
     "shell.execute_reply.started": "2021-12-11T17:10:17.097969Z"
    }
   },
   "outputs": [],
   "source": [
    "#instantiating the training model\n",
    "training_model = base_model(length,length*length*3,10)"
   ]
  },
  {
   "cell_type": "code",
   "execution_count": null,
   "metadata": {
    "execution": {
     "iopub.execute_input": "2021-12-11T17:10:17.143617Z",
     "iopub.status.busy": "2021-12-11T17:10:17.143052Z",
     "iopub.status.idle": "2021-12-11T17:10:17.153869Z",
     "shell.execute_reply": "2021-12-11T17:10:17.153175Z",
     "shell.execute_reply.started": "2021-12-11T17:10:17.143576Z"
    }
   },
   "outputs": [],
   "source": [
    "#printing the training model summary\n",
    "training_model.summary()"
   ]
  },
  {
   "cell_type": "code",
   "execution_count": null,
   "metadata": {
    "execution": {
     "iopub.execute_input": "2021-12-11T17:10:17.155869Z",
     "iopub.status.busy": "2021-12-11T17:10:17.155259Z",
     "iopub.status.idle": "2021-12-11T17:10:17.164506Z",
     "shell.execute_reply": "2021-12-11T17:10:17.16348Z",
     "shell.execute_reply.started": "2021-12-11T17:10:17.155829Z"
    }
   },
   "outputs": [],
   "source": [
    "#Creating a training-validation split with the validation size being equal to 0.1 \n",
    "\n",
    "xtrain,xval,ytrain,yval = train_test_split(training_data,classes,test_size=0.1,shuffle=True,random_state=seed)"
   ]
  },
  {
   "cell_type": "code",
   "execution_count": null,
   "metadata": {
    "execution": {
     "iopub.execute_input": "2021-12-11T17:10:17.16668Z",
     "iopub.status.busy": "2021-12-11T17:10:17.166165Z",
     "iopub.status.idle": "2021-12-11T17:10:17.173091Z",
     "shell.execute_reply": "2021-12-11T17:10:17.172147Z",
     "shell.execute_reply.started": "2021-12-11T17:10:17.166642Z"
    }
   },
   "outputs": [],
   "source": [
    "#Printing the length of the training and validation dataset\n",
    "print(len(xtrain),len(xval))\n",
    "print(len(ytrain),len(yval))"
   ]
  },
  {
   "cell_type": "code",
   "execution_count": null,
   "metadata": {
    "execution": {
     "iopub.execute_input": "2021-12-11T17:10:17.175389Z",
     "iopub.status.busy": "2021-12-11T17:10:17.174793Z",
     "iopub.status.idle": "2021-12-11T17:10:17.182456Z",
     "shell.execute_reply": "2021-12-11T17:10:17.181628Z",
     "shell.execute_reply.started": "2021-12-11T17:10:17.175351Z"
    }
   },
   "outputs": [],
   "source": [
    "#Instantiating the training and validation datasets from the custom keras datasets\n",
    "training_dataset = Dataset(xtrain,ytrain,batch_size=batch_size,augmentations=training_transforms,test=False)\n",
    "validation_dataset = Dataset(xval,yval,batch_size=batch_size,augmentations=training_transforms,test=False)\n",
    "\n",
    "print(len(training_dataset))\n",
    "print(len(validation_dataset))"
   ]
  },
  {
   "cell_type": "code",
   "execution_count": null,
   "metadata": {
    "execution": {
     "iopub.execute_input": "2021-12-11T17:10:17.184626Z",
     "iopub.status.busy": "2021-12-11T17:10:17.184025Z",
     "iopub.status.idle": "2021-12-11T17:10:17.191472Z",
     "shell.execute_reply": "2021-12-11T17:10:17.190687Z",
     "shell.execute_reply.started": "2021-12-11T17:10:17.184588Z"
    }
   },
   "outputs": [],
   "source": [
    "model_file = \"output/base_model_weights.hd5\" # Setting the paths to save the directory where the keras models are stored\n",
    "\n",
    "checkpoint = tf.keras.callbacks.ModelCheckpoint(model_file, monitor=\"val_accuracy\", save_best_only=True, mode='max') # Save the deep learning model which has the best val acc\n",
    "\n",
    "reduce_lr = tf.keras.callbacks.ReduceLROnPlateau(monitor=\"val_accuracy\", factor=0.9, patience=2, min_lr=1e-6, mode=\"max\", verbose=True) # Reducing the LR by 10% if the val acc does not improve\n",
    "\n",
    "early_stopping = tf.keras.callbacks.EarlyStopping(monitor=\"val_accuracy\", patience=5, mode=\"max\", verbose=True) # Stop training the model if the val acc does not improve\n",
    "\n",
    "callbacks_list = [checkpoint, reduce_lr, early_stopping] # Creating a list of every callback into one variable\n"
   ]
  },
  {
   "cell_type": "code",
   "execution_count": null,
   "metadata": {
    "execution": {
     "iopub.execute_input": "2021-12-11T17:10:17.193558Z",
     "iopub.status.busy": "2021-12-11T17:10:17.192978Z",
     "iopub.status.idle": "2021-12-11T17:21:40.793679Z",
     "shell.execute_reply": "2021-12-11T17:21:40.792935Z",
     "shell.execute_reply.started": "2021-12-11T17:10:17.193522Z"
    }
   },
   "outputs": [],
   "source": [
    "#training the model\n",
    "training_model.fit(training_dataset,validation_data=validation_dataset,epochs=40,batch_size=batch_size,callbacks=callbacks_list,verbose=1)"
   ]
  },
  {
   "cell_type": "code",
   "execution_count": null,
   "metadata": {
    "execution": {
     "iopub.execute_input": "2021-12-11T17:21:40.796004Z",
     "iopub.status.busy": "2021-12-11T17:21:40.795142Z",
     "iopub.status.idle": "2021-12-11T17:21:40.818484Z",
     "shell.execute_reply": "2021-12-11T17:21:40.817624Z",
     "shell.execute_reply.started": "2021-12-11T17:21:40.79596Z"
    }
   },
   "outputs": [],
   "source": [
    "#reading the submission file from the disk\n",
    "sample_submission = pd.read_csv('/kaggle/input/sp-society-camera-model-identification/sample_submission.csv')\n",
    "sample_submission.head()"
   ]
  },
  {
   "cell_type": "code",
   "execution_count": null,
   "metadata": {
    "execution": {
     "iopub.execute_input": "2021-12-11T17:21:40.820317Z",
     "iopub.status.busy": "2021-12-11T17:21:40.820038Z",
     "iopub.status.idle": "2021-12-11T17:21:40.827333Z",
     "shell.execute_reply": "2021-12-11T17:21:40.826467Z",
     "shell.execute_reply.started": "2021-12-11T17:21:40.820282Z"
    }
   },
   "outputs": [],
   "source": [
    "#Reading the submission files into a testing dataframe and instantiating a testing dataset\n",
    "\n",
    "x_test = testing_path+sample_submission['fname']\n",
    "#x_test = x_test.to_numpy()\n",
    "print(x_test[0])\n",
    "\n",
    "#training_model.load_model(model_file)\n",
    "x_test = Dataset(x_test,x_test,test=True,batch_size=1,augmentations=testing_augmentation)"
   ]
  },
  {
   "cell_type": "code",
   "execution_count": null,
   "metadata": {
    "execution": {
     "iopub.execute_input": "2021-12-11T17:21:40.830383Z",
     "iopub.status.busy": "2021-12-11T17:21:40.830171Z",
     "iopub.status.idle": "2021-12-11T17:21:40.839811Z",
     "shell.execute_reply": "2021-12-11T17:21:40.838871Z",
     "shell.execute_reply.started": "2021-12-11T17:21:40.830358Z"
    }
   },
   "outputs": [],
   "source": [
    "#alternative function to read the images from disk\n",
    "def read_and_array(filepath):\n",
    "    im_array = np.array(Image.open(filepath))\n",
    "    return new_array"
   ]
  },
  {
   "cell_type": "code",
   "execution_count": null,
   "metadata": {
    "execution": {
     "iopub.execute_input": "2021-12-11T17:21:40.841804Z",
     "iopub.status.busy": "2021-12-11T17:21:40.841184Z",
     "iopub.status.idle": "2021-12-11T17:22:17.968081Z",
     "shell.execute_reply": "2021-12-11T17:22:17.967339Z",
     "shell.execute_reply.started": "2021-12-11T17:21:40.841748Z"
    }
   },
   "outputs": [],
   "source": [
    "#Read the best model into memory and make predictions for the test dataset\n",
    "#training_model = tf.keras.models.load_model(model_file)\n",
    "predicted = training_model.predict(x_test)"
   ]
  },
  {
   "cell_type": "code",
   "execution_count": null,
   "metadata": {
    "execution": {
     "iopub.execute_input": "2021-12-11T17:22:17.972739Z",
     "iopub.status.busy": "2021-12-11T17:22:17.972306Z",
     "iopub.status.idle": "2021-12-11T17:22:17.978483Z",
     "shell.execute_reply": "2021-12-11T17:22:17.97756Z",
     "shell.execute_reply.started": "2021-12-11T17:22:17.972698Z"
    }
   },
   "outputs": [],
   "source": [
    "#print the predictions for the test\n",
    "print(predicted)"
   ]
  },
  {
   "cell_type": "code",
   "execution_count": null,
   "metadata": {
    "execution": {
     "iopub.execute_input": "2021-12-11T17:22:17.980979Z",
     "iopub.status.busy": "2021-12-11T17:22:17.979681Z",
     "iopub.status.idle": "2021-12-11T17:22:17.997021Z",
     "shell.execute_reply": "2021-12-11T17:22:17.996264Z",
     "shell.execute_reply.started": "2021-12-11T17:22:17.980939Z"
    }
   },
   "outputs": [],
   "source": [
    "#convert the test predictions from one-hot encoding to labels\n",
    "\n",
    "\n",
    "test_labels = []\n",
    "for item in predicted.argmax(axis=1):\n",
    "    test_labels.append(classes_dict[str(item)])"
   ]
  },
  {
   "cell_type": "code",
   "execution_count": null,
   "metadata": {
    "execution": {
     "iopub.execute_input": "2021-12-11T17:22:17.998974Z",
     "iopub.status.busy": "2021-12-11T17:22:17.998366Z",
     "iopub.status.idle": "2021-12-11T17:22:18.013199Z",
     "shell.execute_reply": "2021-12-11T17:22:18.012349Z",
     "shell.execute_reply.started": "2021-12-11T17:22:17.998931Z"
    }
   },
   "outputs": [],
   "source": [
    "#enter the test predictions into a submission file \n",
    "\n",
    "sample_submission['camera'] = test_labels\n",
    "sample_submission.head()"
   ]
  },
  {
   "cell_type": "code",
   "execution_count": null,
   "metadata": {
    "execution": {
     "iopub.execute_input": "2021-12-11T17:22:18.01488Z",
     "iopub.status.busy": "2021-12-11T17:22:18.014545Z",
     "iopub.status.idle": "2021-12-11T17:22:18.032934Z",
     "shell.execute_reply": "2021-12-11T17:22:18.032057Z",
     "shell.execute_reply.started": "2021-12-11T17:22:18.014843Z"
    }
   },
   "outputs": [],
   "source": [
    "#Write the submissions into a .csv file\n",
    "sample_submission.to_csv(\"submission.csv\", index=False)"
   ]
  }
 ],
 "metadata": {
  "kernelspec": {
   "display_name": "Python 3",
   "language": "python",
   "name": "python3"
  },
  "language_info": {
   "codemirror_mode": {
    "name": "ipython",
    "version": 3
   },
   "file_extension": ".py",
   "mimetype": "text/x-python",
   "name": "python",
   "nbconvert_exporter": "python",
   "pygments_lexer": "ipython3",
   "version": "3.8.8"
  }
 },
 "nbformat": 4,
 "nbformat_minor": 4
}
