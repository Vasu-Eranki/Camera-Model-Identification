{
 "cells": [
  {
   "cell_type": "code",
   "execution_count": null,
   "metadata": {
    "execution": {
     "iopub.execute_input": "2021-12-04T04:42:28.147594Z",
     "iopub.status.busy": "2021-12-04T04:42:28.147320Z",
     "iopub.status.idle": "2021-12-04T04:42:29.273863Z",
     "shell.execute_reply": "2021-12-04T04:42:29.273147Z",
     "shell.execute_reply.started": "2021-12-04T04:42:28.147565Z"
    }
   },
   "outputs": [],
   "source": [
    "#Importing the python libraries \n",
    "import numpy as np \n",
    "import pandas as pd \n",
    "import matplotlib.pyplot as plt \n",
    "import tensorflow as tf \n",
    "import sklearn as sk \n",
    "import os \n",
    "import cv2\n",
    "import albumentations as A\n",
    "from PIL import Image \n",
    "from tensorflow import keras \n",
    "from sklearn.model_selection import train_test_split\n",
    "from sklearn.metrics import confusion_matrix \n",
    "\n",
    "#Setting the training and testing paths to extract the files \n",
    "training_path = \"/kaggle/input/sp-society-camera-model-identification/train/train/\"\n",
    "testing_path = \"/kaggle/input/sp-society-camera-model-identification/test/test/\"\n",
    "_,training_classes,_=next(os.walk(training_path))\n",
    "#print(training_classes)\n"
   ]
  },
  {
   "cell_type": "code",
   "execution_count": null,
   "metadata": {
    "execution": {
     "iopub.execute_input": "2021-12-04T04:42:29.275621Z",
     "iopub.status.busy": "2021-12-04T04:42:29.275379Z",
     "iopub.status.idle": "2021-12-04T04:42:29.280574Z",
     "shell.execute_reply": "2021-12-04T04:42:29.279844Z",
     "shell.execute_reply.started": "2021-12-04T04:42:29.275589Z"
    }
   },
   "outputs": [],
   "source": [
    "#Setting the hyperparameters for the deep learning model\n",
    "batch_size = 8\n",
    "epochs = 40\n",
    "learning_rate = 1e-4"
   ]
  },
  {
   "cell_type": "code",
   "execution_count": null,
   "metadata": {
    "execution": {
     "iopub.execute_input": "2021-12-04T04:42:29.282277Z",
     "iopub.status.busy": "2021-12-04T04:42:29.281895Z",
     "iopub.status.idle": "2021-12-04T04:42:30.831420Z",
     "shell.execute_reply": "2021-12-04T04:42:30.830558Z",
     "shell.execute_reply.started": "2021-12-04T04:42:29.282242Z"
    }
   },
   "outputs": [],
   "source": [
    "#testing_files \n",
    "_,_,testing_files = next(os.walk(testing_path))\n"
   ]
  },
  {
   "cell_type": "code",
   "execution_count": null,
   "metadata": {
    "execution": {
     "iopub.execute_input": "2021-12-04T04:42:30.833850Z",
     "iopub.status.busy": "2021-12-04T04:42:30.833606Z",
     "iopub.status.idle": "2021-12-04T04:42:31.279455Z",
     "shell.execute_reply": "2021-12-04T04:42:31.278739Z",
     "shell.execute_reply.started": "2021-12-04T04:42:30.833825Z"
    }
   },
   "outputs": [],
   "source": [
    "#Creating the training dataset by iterating over the directory \n",
    "#Appending the training paths to the list and extracting the classes from the directory\n",
    "training_paths = [] \n",
    "labels = [] \n",
    "for i in training_classes:\n",
    "    _,_,filenames = next(os.walk(training_path+i))\n",
    "    for j in filenames:\n",
    "        training_paths.append(training_path+i+'/'+j)\n",
    "        labels.append(i)"
   ]
  },
  {
   "cell_type": "code",
   "execution_count": null,
   "metadata": {
    "execution": {
     "iopub.execute_input": "2021-12-04T04:42:31.281769Z",
     "iopub.status.busy": "2021-12-04T04:42:31.281168Z",
     "iopub.status.idle": "2021-12-04T04:42:31.286361Z",
     "shell.execute_reply": "2021-12-04T04:42:31.285415Z",
     "shell.execute_reply.started": "2021-12-04T04:42:31.281712Z"
    }
   },
   "outputs": [],
   "source": [
    "#Ensure that the training size and the class labels are the same\n",
    "assert len(training_paths)==len(labels)"
   ]
  },
  {
   "cell_type": "code",
   "execution_count": null,
   "metadata": {
    "execution": {
     "iopub.execute_input": "2021-12-04T04:42:31.289057Z",
     "iopub.status.busy": "2021-12-04T04:42:31.288799Z",
     "iopub.status.idle": "2021-12-04T04:42:31.295368Z",
     "shell.execute_reply": "2021-12-04T04:42:31.294676Z",
     "shell.execute_reply.started": "2021-12-04T04:42:31.289022Z"
    }
   },
   "outputs": [],
   "source": [
    "#Setting the random seed to 33 for reproducible results\n",
    "seed = 33"
   ]
  },
  {
   "cell_type": "code",
   "execution_count": null,
   "metadata": {
    "execution": {
     "iopub.execute_input": "2021-12-04T04:42:31.297087Z",
     "iopub.status.busy": "2021-12-04T04:42:31.296689Z",
     "iopub.status.idle": "2021-12-04T04:42:31.309335Z",
     "shell.execute_reply": "2021-12-04T04:42:31.308500Z",
     "shell.execute_reply.started": "2021-12-04T04:42:31.297049Z"
    }
   },
   "outputs": [],
   "source": [
    "np.unique(labels)"
   ]
  },
  {
   "cell_type": "code",
   "execution_count": null,
   "metadata": {
    "execution": {
     "iopub.execute_input": "2021-12-04T04:42:31.311494Z",
     "iopub.status.busy": "2021-12-04T04:42:31.310936Z",
     "iopub.status.idle": "2021-12-04T04:42:31.336693Z",
     "shell.execute_reply": "2021-12-04T04:42:31.335916Z",
     "shell.execute_reply.started": "2021-12-04T04:42:31.311455Z"
    }
   },
   "outputs": [],
   "source": [
    "#Moving the training paths to an pandas DataFrame for easy indexing and one-hot encoding the class labels\n",
    "training_data = pd.DataFrame(training_paths,columns=['Training Image Path'])\n",
    "classes = pd.DataFrame(labels)\n",
    "classes = pd.get_dummies(classes)\n",
    "classes.columns=np.unique(labels)# One Hot Encode the class variables"
   ]
  },
  {
   "cell_type": "code",
   "execution_count": null,
   "metadata": {
    "execution": {
     "iopub.execute_input": "2021-12-04T04:42:31.337755Z",
     "iopub.status.busy": "2021-12-04T04:42:31.337550Z",
     "iopub.status.idle": "2021-12-04T04:42:31.349507Z",
     "shell.execute_reply": "2021-12-04T04:42:31.348619Z",
     "shell.execute_reply.started": "2021-12-04T04:42:31.337713Z"
    }
   },
   "outputs": [],
   "source": [
    "#print the training data\n",
    "training_data"
   ]
  },
  {
   "cell_type": "code",
   "execution_count": null,
   "metadata": {
    "execution": {
     "iopub.execute_input": "2021-12-04T04:42:31.353630Z",
     "iopub.status.busy": "2021-12-04T04:42:31.353430Z",
     "iopub.status.idle": "2021-12-04T04:42:31.363341Z",
     "shell.execute_reply": "2021-12-04T04:42:31.362577Z",
     "shell.execute_reply.started": "2021-12-04T04:42:31.353605Z"
    }
   },
   "outputs": [],
   "source": [
    "#printing the one-hot encoded class variable\n",
    "classes.head()"
   ]
  },
  {
   "cell_type": "code",
   "execution_count": null,
   "metadata": {
    "execution": {
     "iopub.execute_input": "2021-12-04T04:42:31.365385Z",
     "iopub.status.busy": "2021-12-04T04:42:31.364764Z",
     "iopub.status.idle": "2021-12-04T04:42:31.372291Z",
     "shell.execute_reply": "2021-12-04T04:42:31.371490Z",
     "shell.execute_reply.started": "2021-12-04T04:42:31.365351Z"
    }
   },
   "outputs": [],
   "source": [
    "#Creating the class dictionary for converting the one-hot encoded variables\n",
    "classes_dict = {'0':'HTC-1-M7',\n",
    "                '1':'LG-Nexus-5x',\n",
    "                '2':'Motorola-Droid-Maxx',\n",
    "                '3':'Motorola-Nexus-6',\n",
    "                '4':'Motorola-X',\n",
    "                '5':'Samsung-Galaxy-Note3',\n",
    "                '6':'Samsung-Galaxy-S4',\n",
    "                '7':'Sony-NEX-7',\n",
    "                '8':'iPhone-4s',\n",
    "                '9':'iPhone-6'}"
   ]
  },
  {
   "cell_type": "code",
   "execution_count": null,
   "metadata": {
    "execution": {
     "iopub.execute_input": "2021-12-04T04:42:31.375319Z",
     "iopub.status.busy": "2021-12-04T04:42:31.374426Z",
     "iopub.status.idle": "2021-12-04T04:42:31.387571Z",
     "shell.execute_reply": "2021-12-04T04:42:31.386771Z",
     "shell.execute_reply.started": "2021-12-04T04:42:31.375289Z"
    }
   },
   "outputs": [],
   "source": [
    "#Creating the testing DataFrame for easy indexing\n",
    "testing_data = pd.DataFrame(testing_files,columns=['Testing Image Path'])\n",
    "testing_data"
   ]
  },
  {
   "cell_type": "code",
   "execution_count": null,
   "metadata": {
    "execution": {
     "iopub.execute_input": "2021-12-04T04:42:31.389403Z",
     "iopub.status.busy": "2021-12-04T04:42:31.388785Z",
     "iopub.status.idle": "2021-12-04T04:42:31.395712Z",
     "shell.execute_reply": "2021-12-04T04:42:31.395018Z",
     "shell.execute_reply.started": "2021-12-04T04:42:31.389368Z"
    }
   },
   "outputs": [],
   "source": [
    "#Reading images form the disk to memory and converting from BGR to RGB\n",
    "def read_img(path):\n",
    "    temp = cv2.imread(path)\n",
    "    temp = cv2.cvtColor(temp, cv2.COLOR_BGR2RGB)\n",
    "    return np.array(temp)"
   ]
  },
  {
   "cell_type": "code",
   "execution_count": null,
   "metadata": {
    "execution": {
     "iopub.execute_input": "2021-12-04T04:42:31.398938Z",
     "iopub.status.busy": "2021-12-04T04:42:31.398145Z",
     "iopub.status.idle": "2021-12-04T04:42:31.407950Z",
     "shell.execute_reply": "2021-12-04T04:42:31.407187Z",
     "shell.execute_reply.started": "2021-12-04T04:42:31.398900Z"
    }
   },
   "outputs": [],
   "source": [
    "#Defining the training and testing augmentations\n",
    "length = 512 #Defining the length used for each image \n",
    "training_transforms = A.Compose([A.RandomCrop(height=length,width=length),\n",
    "                                A.RandomGamma(gamma_limit=(80,120),p=0.9),\n",
    "                                A.JpegCompression(quality_lower=70,quality_upper=90,p=0.9),\n",
    "                                A.GridDistortion(interpolation=cv2.INTER_CUBIC)])\n",
    "    \n",
    "\n",
    "                                \n",
    "testing_augmentation = A.Compose([\n",
    "                                  A.CenterCrop(height=length,width=length)])"
   ]
  },
  {
   "cell_type": "code",
   "execution_count": null,
   "metadata": {
    "execution": {
     "iopub.execute_input": "2021-12-04T04:42:31.409692Z",
     "iopub.status.busy": "2021-12-04T04:42:31.409149Z",
     "iopub.status.idle": "2021-12-04T04:42:32.371905Z",
     "shell.execute_reply": "2021-12-04T04:42:32.371012Z",
     "shell.execute_reply.started": "2021-12-04T04:42:31.409573Z"
    }
   },
   "outputs": [],
   "source": [
    "#Creating a custom dataset to read the images in a mini-batch format\n",
    "\n",
    "class Dataset(keras.utils.Sequence):\n",
    "    def __init__(self,x,y,batch_size,augmentations,test):\n",
    "        self.x = x\n",
    "        self.y = y\n",
    "        self.batch_size = batch_size\n",
    "        self.augmentations = augmentations \n",
    "        self.test = test \n",
    "    def __len__(self):\n",
    "        return int(len(self.x)/self.batch_size)\n",
    "    def __getitem__(self,index):\n",
    "        batched_x = self.x.iloc[index*self.batch_size:(index+1)*self.batch_size].to_numpy()\n",
    "        if(self.test):\n",
    "            images = [(self.augmentations(image=read_img(i))['image']) for i in batched_x]\n",
    "            \n",
    "        else:\n",
    "            batched_y = self.y.iloc[index*self.batch_size : (index+1)*self.batch_size,:]\n",
    "            images = [(self.augmentations(image=read_img(i[0]))['image']) for i in batched_x]\n",
    "        return np.array(images)if self.test else (np.array(images),np.array(batched_y.values))"
   ]
  },
  {
   "cell_type": "code",
   "execution_count": null,
   "metadata": {
    "execution": {
     "iopub.execute_input": "2021-12-04T04:42:32.378441Z",
     "iopub.status.busy": "2021-12-04T04:42:32.376483Z",
     "iopub.status.idle": "2021-12-04T04:42:32.383881Z",
     "shell.execute_reply": "2021-12-04T04:42:32.383290Z",
     "shell.execute_reply.started": "2021-12-04T04:42:32.378401Z"
    }
   },
   "outputs": [],
   "source": [
    "#Creating a dummy datast to test the functionality\n",
    "dummy_dataset = Dataset(training_data,classes,batch_size=batch_size,augmentations=training_transforms,test=False)"
   ]
  },
  {
   "cell_type": "code",
   "execution_count": null,
   "metadata": {
    "execution": {
     "iopub.execute_input": "2021-12-04T04:42:32.394065Z",
     "iopub.status.busy": "2021-12-04T04:42:32.391231Z",
     "iopub.status.idle": "2021-12-04T04:42:34.538694Z",
     "shell.execute_reply": "2021-12-04T04:42:34.538028Z",
     "shell.execute_reply.started": "2021-12-04T04:42:32.394025Z"
    }
   },
   "outputs": [],
   "source": [
    "#Calling the dummy dataset to check the functionality \n",
    "(a,b)=dummy_dataset.__getitem__(5)\n",
    "print(a[0])\n",
    "print(a.shape)\n",
    "print(b)\n",
    "print(b.shape)\n",
    "print(type(b))\n",
    "plt.imshow(a[0])\n",
    "\n"
   ]
  },
  {
   "cell_type": "code",
   "execution_count": null,
   "metadata": {
    "execution": {
     "iopub.execute_input": "2021-12-04T04:42:34.539907Z",
     "iopub.status.busy": "2021-12-04T04:42:34.539671Z",
     "iopub.status.idle": "2021-12-04T04:42:34.548210Z",
     "shell.execute_reply": "2021-12-04T04:42:34.547584Z",
     "shell.execute_reply.started": "2021-12-04T04:42:34.539878Z"
    }
   },
   "outputs": [],
   "source": [
    "#Creating the Keras model for training with the DenseNet201 Model being instantiated with imagenet weights\n",
    "def keras_model(length,input_size,output_classes):\n",
    "        base_model = tf.keras.applications.DenseNet201(weights='imagenet', include_top=False, input_shape=[length, length, 3])\n",
    "        base_model.trainable = True\n",
    "        inputs =tf.keras.layers.Input(shape=(length,length,3))\n",
    "        x = tf.keras.applications.densenet.preprocess_input(inputs)\n",
    "        x = base_model(x, training=True)\n",
    "        x = tf.keras.layers.GlobalAveragePooling2D()(x)\n",
    "        x = tf.keras.layers.Dense(64, activation='relu')(x)\n",
    "        x = tf.keras.layers.Dense(32,activation='relu')(x)\n",
    "        outputs = tf.keras.layers.Dense(10, activation='softmax')(x)\n",
    "        model =tf.keras.Model(inputs=inputs, outputs=outputs)\n",
    "        model.compile(optimizer=tf.keras.optimizers.Adam(lr=learning_rate), loss='categorical_crossentropy', metrics=['accuracy'])\n",
    "        return model"
   ]
  },
  {
   "cell_type": "code",
   "execution_count": null,
   "metadata": {
    "execution": {
     "iopub.execute_input": "2021-12-04T04:42:34.550196Z",
     "iopub.status.busy": "2021-12-04T04:42:34.549620Z",
     "iopub.status.idle": "2021-12-04T04:42:42.825811Z",
     "shell.execute_reply": "2021-12-04T04:42:42.824235Z",
     "shell.execute_reply.started": "2021-12-04T04:42:34.550161Z"
    }
   },
   "outputs": [],
   "source": [
    "#Instantiating the keras model\n",
    "training_model = keras_model(length,length*length*3,10)"
   ]
  },
  {
   "cell_type": "code",
   "execution_count": null,
   "metadata": {
    "execution": {
     "iopub.execute_input": "2021-12-04T04:42:42.827213Z",
     "iopub.status.busy": "2021-12-04T04:42:42.826971Z",
     "iopub.status.idle": "2021-12-04T04:42:42.876603Z",
     "shell.execute_reply": "2021-12-04T04:42:42.875779Z",
     "shell.execute_reply.started": "2021-12-04T04:42:42.827178Z"
    }
   },
   "outputs": [],
   "source": [
    "#Printing the summary of training model \n",
    "training_model.summary()"
   ]
  },
  {
   "cell_type": "code",
   "execution_count": null,
   "metadata": {
    "execution": {
     "iopub.execute_input": "2021-12-04T04:42:42.878254Z",
     "iopub.status.busy": "2021-12-04T04:42:42.877933Z",
     "iopub.status.idle": "2021-12-04T04:42:42.887461Z",
     "shell.execute_reply": "2021-12-04T04:42:42.886685Z",
     "shell.execute_reply.started": "2021-12-04T04:42:42.878217Z"
    }
   },
   "outputs": [],
   "source": [
    "# Splitting the training dataset into a training and validation dataset with the validation split  = 0.1 and setting the Shuffle=True\n",
    "xtrain,xval,ytrain,yval = train_test_split(training_data,classes,test_size=0.1,shuffle=True,random_state=seed)"
   ]
  },
  {
   "cell_type": "code",
   "execution_count": null,
   "metadata": {
    "execution": {
     "iopub.execute_input": "2021-12-04T04:42:42.889222Z",
     "iopub.status.busy": "2021-12-04T04:42:42.888948Z",
     "iopub.status.idle": "2021-12-04T04:42:42.897521Z",
     "shell.execute_reply": "2021-12-04T04:42:42.896701Z",
     "shell.execute_reply.started": "2021-12-04T04:42:42.889180Z"
    }
   },
   "outputs": [],
   "source": [
    "#Printing the size of each array to check that the sizes match\n",
    "print(len(xtrain),len(xval))\n",
    "print(len(ytrain),len(yval))"
   ]
  },
  {
   "cell_type": "code",
   "execution_count": null,
   "metadata": {
    "execution": {
     "iopub.execute_input": "2021-12-04T04:42:42.899247Z",
     "iopub.status.busy": "2021-12-04T04:42:42.898902Z",
     "iopub.status.idle": "2021-12-04T04:42:42.907154Z",
     "shell.execute_reply": "2021-12-04T04:42:42.906238Z",
     "shell.execute_reply.started": "2021-12-04T04:42:42.899172Z"
    }
   },
   "outputs": [],
   "source": [
    "#Pushing the arrays into a custom keras dataset to feed to the neural networ\n",
    "training_dataset = Dataset(xtrain,ytrain,batch_size=batch_size,augmentations=training_transforms,test=False)\n",
    "validation_dataset = Dataset(xval,yval,batch_size=1,augmentations=training_transforms,test=False)\n",
    "\n",
    "print(len(training_dataset))\n",
    "print(len(validation_dataset))"
   ]
  },
  {
   "cell_type": "code",
   "execution_count": null,
   "metadata": {
    "execution": {
     "iopub.execute_input": "2021-12-04T04:42:42.908522Z",
     "iopub.status.busy": "2021-12-04T04:42:42.908241Z",
     "iopub.status.idle": "2021-12-04T04:42:42.915386Z",
     "shell.execute_reply": "2021-12-04T04:42:42.914455Z",
     "shell.execute_reply.started": "2021-12-04T04:42:42.908486Z"
    }
   },
   "outputs": [],
   "source": [
    "#Creating a list of callbacks to add to the training model \n",
    "\n",
    "model_file = \"output/base_model_weights.hd5\" # defining the output path to save the model file\n",
    "\n",
    "checkpoint = tf.keras.callbacks.ModelCheckpoint(model_file, monitor=\"val_accuracy\", save_best_only=True, mode='max') # Save the model which has the best validation acc\n",
    "\n",
    "reduce_lr = tf.keras.callbacks.ReduceLROnPlateau(monitor=\"val_accuracy\", factor=0.9, patience=2, min_lr=1e-6, mode=\"max\", verbose=True) # reduce Lr if the validation acc does not increase\n",
    "\n",
    "early_stopping = tf.keras.callbacks.EarlyStopping(monitor=\"val_accuracy\", patience=5, mode=\"max\", verbose=True) # Stop the training if the val acc does not improve\n",
    "\n",
    "callbacks_list = [checkpoint, reduce_lr, early_stopping] # Call all of the instantiated callbacks into one variable\n"
   ]
  },
  {
   "cell_type": "code",
   "execution_count": null,
   "metadata": {
    "execution": {
     "iopub.execute_input": "2021-12-04T04:42:42.917146Z",
     "iopub.status.busy": "2021-12-04T04:42:42.916879Z"
    }
   },
   "outputs": [],
   "source": [
    "#Training the model for 10 epochs multiple times, each time the best model is read back for training \n",
    "inner_epochs = 10\n",
    "training_model.fit(training_dataset,validation_data=validation_dataset,epochs=inner_epochs,batch_size=batch_size,callbacks=callbacks_list,verbose=1)\n",
    "loops = (epochs-inner_epochs)//inner_epochs\n",
    "for i in range(0,3):\n",
    "    training_model= keras.models.load_model(model_file)\n",
    "    training_model.fit(training_dataset,validation_data=validation_dataset,epochs=inner_epochs,batch_size=batch_size,callbacks=callbacks_list,verbose=1)\n",
    "\n"
   ]
  },
  {
   "cell_type": "code",
   "execution_count": null,
   "metadata": {},
   "outputs": [],
   "source": [
    "#Reading the submission file from the directory \n",
    "sample_submission = pd.read_csv('/kaggle/input/sp-society-camera-model-identification/sample_submission.csv')\n",
    "sample_submission.head() #Printing the top few rows from the submission file"
   ]
  },
  {
   "cell_type": "code",
   "execution_count": null,
   "metadata": {},
   "outputs": [],
   "source": [
    "#Creating a testing dataset with the filepaths from the submission file\n",
    "\n",
    "\n",
    "x_test = testing_path+sample_submission['fname']\n",
    "#x_test = x_test.to_numpy()\n",
    "print(x_test[0])\n",
    "\n",
    "#training_model.load_model(model_file)\n",
    "x_test = Dataset(x_test,x_test,test=True,batch_size=1,augmentations=testing_augmentation)"
   ]
  },
  {
   "cell_type": "code",
   "execution_count": null,
   "metadata": {},
   "outputs": [],
   "source": [
    "#generating predictions for the validation dataset\n",
    "val_predicted = training_model.predict(validation_dataset)"
   ]
  },
  {
   "cell_type": "code",
   "execution_count": null,
   "metadata": {},
   "outputs": [],
   "source": [
    "#reading the best file from memory and generating predictions for the testing dataset\n",
    "training_model = tf.keras.models.load_model(model_file)\n",
    "predicted = training_model.predict(x_test)\n",
    "\n",
    "print(predicted)"
   ]
  },
  {
   "cell_type": "code",
   "execution_count": null,
   "metadata": {},
   "outputs": [],
   "source": [
    "#Creating a function to convert the one-hot encoded item into class labels\n",
    "def convert_predictions_to_labels(labels):\n",
    "    temp = []\n",
    "    for item in labels.argmax(axis=1):\n",
    "        temp.append(classes_dict[str(item)])\n",
    "    return temp"
   ]
  },
  {
   "cell_type": "code",
   "execution_count": null,
   "metadata": {},
   "outputs": [],
   "source": [
    "#converting the test and validation predictions to their class labels\n",
    "test_labels = convert_predictions_to_labels(predicted)\n",
    "\n",
    "validation_labels = convert_predictions_to_labels(val_predicted)"
   ]
  },
  {
   "cell_type": "code",
   "execution_count": null,
   "metadata": {},
   "outputs": [],
   "source": [
    "#filling up the submission file with the test predictions\n",
    "sample_submission['camera'] = test_labels\n",
    "sample_submission.head()"
   ]
  },
  {
   "cell_type": "code",
   "execution_count": null,
   "metadata": {},
   "outputs": [],
   "source": [
    "#Submitting the test predictions\n",
    "sample_submission.to_csv(\"submission.csv\", index=False)"
   ]
  },
  {
   "cell_type": "code",
   "execution_count": null,
   "metadata": {},
   "outputs": [],
   "source": [
    "#Converting the validation one-hot encoded labels\n",
    "yval=yval.idxmax(axis=1)"
   ]
  },
  {
   "cell_type": "code",
   "execution_count": null,
   "metadata": {},
   "outputs": [],
   "source": [
    "#printing the confusion matrix\n",
    "con_matrix = confusion_matrix(yval,validation_labels)\n",
    "print(con_matrix)"
   ]
  }
 ],
 "metadata": {
  "kernelspec": {
   "display_name": "Python 3",
   "language": "python",
   "name": "python3"
  },
  "language_info": {
   "codemirror_mode": {
    "name": "ipython",
    "version": 3
   },
   "file_extension": ".py",
   "mimetype": "text/x-python",
   "name": "python",
   "nbconvert_exporter": "python",
   "pygments_lexer": "ipython3",
   "version": "3.8.8"
  }
 },
 "nbformat": 4,
 "nbformat_minor": 4
}
